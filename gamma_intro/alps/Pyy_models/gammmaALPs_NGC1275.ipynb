{
 "cells": [
  {
   "cell_type": "markdown",
   "id": "90add450",
   "metadata": {},
   "source": [
    "# Calculation of the photon survival probability"
   ]
  },
  {
   "cell_type": "markdown",
   "id": "fd5ca91f",
   "metadata": {},
   "source": [
    "## NGC1275 in the center of the Perseus galaxy cluster"
   ]
  },
  {
   "cell_type": "markdown",
   "id": "b3ad7581",
   "metadata": {},
   "source": [
    "Having in mind that the NGC1275 is located in a rich galaxy cluster, we will take into account the magnetic field in the galaxy cluster, attenuation of photons in extragalactic space and possible re-conversion in the galactic magnetic field. "
   ]
  },
  {
   "cell_type": "code",
   "execution_count": 1,
   "id": "fb54bf39",
   "metadata": {},
   "outputs": [],
   "source": [
    "import sys\n",
    "import matplotlib.pyplot as plt\n",
    "import matplotlib as mpl\n",
    "plt.rc('xtick', labelsize=20)   \n",
    "plt.rc('ytick', labelsize=20)\n",
    "plt.rcParams['axes.linewidth'] = 2.5\n",
    "plt.rc('text', usetex=True)\n",
    "plt.rc('font', family='serif',size=25)"
   ]
  },
  {
   "cell_type": "code",
   "execution_count": 2,
   "id": "e45e503e",
   "metadata": {},
   "outputs": [],
   "source": [
    "import numpy as np\n",
    "import astropy.units as u\n",
    "from pathlib import Path\n",
    "import glob\n",
    "from astropy.io import fits\n",
    "from astropy.coordinates import SkyCoord, Angle\n",
    "from regions import CircleSkyRegion\n",
    "import pickle"
   ]
  },
  {
   "cell_type": "code",
   "execution_count": 3,
   "id": "02a95ac8",
   "metadata": {},
   "outputs": [],
   "source": [
    "from scipy.stats import chi2\n",
    "from functools import partial\n",
    "import scipy.special as scipys\n",
    "\n",
    "from gammaALPs.core import Source, ALP, ModuleList\n",
    "from gammaALPs.base import environs, transfer"
   ]
  },
  {
   "cell_type": "markdown",
   "id": "f54d0668",
   "metadata": {},
   "source": [
    "### Define a function to calculate the photon survival probability"
   ]
  },
  {
   "cell_type": "code",
   "execution_count": 4,
   "id": "6b146b39",
   "metadata": {},
   "outputs": [],
   "source": [
    "def compute_ALP_absorption(modulelist, axion_mass, coupling, emin, emax, bins):\n",
    "    ''' Input:\n",
    "            -  modulelist:     ModuleList object assuming a given source\n",
    "            -  axion_mass:     axion mass / 1 neV\n",
    "            -  coupling  :     axion-gamma coupling / 1e-11 GeV^-1\n",
    "            -  emin      :     min energy / GeV\n",
    "            -  emin      :     max energy / GeV\n",
    "            -  bins      :     number of points in energy log-sperated\n",
    "        Output:\n",
    "            -  energy points\n",
    "            -  gamma absorption for the above energy points\n",
    "\n",
    "    '''\n",
    "    ebins            = np.logspace(np.log10(emin),np.log10(emax),bins)\n",
    "    \n",
    "    # unit conversion\n",
    "    axion_mass       = axion_mass.to(u.neV)\n",
    "    coupling         = coupling.to(1e-11/u.GeV)\n",
    "    # passing m and g to the gammaALPs modulelist object\n",
    "    modulelist.alp.m = axion_mass.value\n",
    "    modulelist.alp.g = coupling.value\n",
    "    modulelist.EGeV  = ebins\n",
    "\n",
    "    px,  py,  pa     = modulelist.run(multiprocess=2)\n",
    "    pgg              = px + py\n",
    "    \n",
    "    return modulelist.EGeV, pgg"
   ]
  },
  {
   "cell_type": "code",
   "execution_count": 12,
   "id": "b0a1ccb9",
   "metadata": {},
   "outputs": [
    {
     "name": "stderr",
     "output_type": "stream",
     "text": [
      "\u001b[0;36menvirons.py:\u001b[0;35m 431\u001b[0;0m --- \u001b[1;36m\u001b[1;36mINFO\u001b[1;0m\u001b[1;0m: Using inputted chi\n",
      "\u001b[0;36menvirons.py:\u001b[0;35m1039\u001b[0;0m --- \u001b[1;36m\u001b[1;36mINFO\u001b[1;0m\u001b[1;0m: Using inputted chi\n"
     ]
    }
   ],
   "source": [
    "source     = Source(z = 0.017559, ra = '03h19m48.1s', dec = '+41d30m42s') # this is for ngc1275\n",
    "\n",
    "pin        = np.diag((1.,1.,0.)) * 0.5\n",
    "alp        = ALP(0,0) \n",
    "modulelist = ModuleList(alp, source, pin = pin)\n",
    "modulelist.add_propagation(\"ICMGaussTurb\", \n",
    "          0, # position of module counted from the source. \n",
    "          nsim = 10, # number of random B-field realizations\n",
    "          B0 = 25.,  # rms of B field\n",
    "          n0 = 39.,  # normalization of electron density\n",
    "          n2 = 4.05, # second normalization of electron density, see Churazov et al. 2003, Eq. 4\n",
    "          r_abell = 500., # extension of the cluster\n",
    "          r_core = 80.,   # electron density parameter, see Churazov et al. 2003, Eq. 4\n",
    "          r_core2 = 280., # electron density parameter, see Churazov et al. 2003, Eq. 4\n",
    "          beta = 1.2,  # electron density parameter, see Churazov et al. 2003, Eq. 4\n",
    "          beta2= 0.58, # electron density parameter, see Churazov et al. 2003, Eq. 4\n",
    "          eta = 0.5, # scaling of B-field with electron denstiy\n",
    "          kL = 0.18, # maximum turbulence scale in kpc^-1, taken from A2199 cool-core cluster, see Vacca et al. 2012 \n",
    "          kH = 9.,  # minimum turbulence scale, taken from A2199 cool-core cluster, see Vacca et al. 2012\n",
    "          q = -2.80, # turbulence spectral index, taken from A2199 cool-core cluster, see Vacca et al. 2012\n",
    "          seed=0 # random seed for reproducability, set to None for random seed.\n",
    "         )\n",
    "modulelist.add_propagation(\"EBL\",1, model = 'dominguez') # EBL attenuation comes second, after beam has left cluster\n",
    "modulelist.add_propagation(\"GMF\",2, model = 'jansson12', model_sum = 'ASS') # finally, the beam enters the Milky Way Field"
   ]
  },
  {
   "cell_type": "markdown",
   "id": "98b725b3",
   "metadata": {},
   "source": [
    "### Define the range of ALPs masses that we want to study "
   ]
  },
  {
   "cell_type": "markdown",
   "id": "a9febd1f",
   "metadata": {},
   "source": [
    "#### Exercise: Define the numpy array of masses being 5 logarithmically scaled values from 1 neV to 1000 neV."
   ]
  },
  {
   "cell_type": "code",
   "execution_count": null,
   "id": "01382e78",
   "metadata": {},
   "outputs": [],
   "source": []
  },
  {
   "cell_type": "markdown",
   "id": "b9b3088a",
   "metadata": {},
   "source": [
    "#### Solution"
   ]
  },
  {
   "cell_type": "code",
   "execution_count": null,
   "id": "b69f2bff",
   "metadata": {},
   "outputs": [],
   "source": [
    "%load ./Solutions/m_array.py"
   ]
  },
  {
   "cell_type": "markdown",
   "id": "b010e201",
   "metadata": {},
   "source": [
    "### Define the range of ALPs couplings to photons that we want to study"
   ]
  },
  {
   "cell_type": "markdown",
   "id": "48475992",
   "metadata": {},
   "source": [
    "#### Exercise: Define the numpy array of couplings being 4 logarithmically scaled values from 8**e-10 GeV-1 to 5**e-10 GeV-1."
   ]
  },
  {
   "cell_type": "code",
   "execution_count": null,
   "id": "c2468038",
   "metadata": {},
   "outputs": [],
   "source": []
  },
  {
   "cell_type": "markdown",
   "id": "85b673e3",
   "metadata": {},
   "source": [
    "#### Solution"
   ]
  },
  {
   "cell_type": "code",
   "execution_count": null,
   "id": "e39c8d30",
   "metadata": {},
   "outputs": [],
   "source": [
    "%load ./Solutions/g_array.py"
   ]
  },
  {
   "cell_type": "markdown",
   "id": "8fe23f46",
   "metadata": {},
   "source": [
    "Let's compute the photon survival probability for the range of masses and couplings that we have just defined. \n",
    "Save the npy tables in \"\" "
   ]
  },
  {
   "cell_type": "code",
   "execution_count": 17,
   "id": "c51b5084",
   "metadata": {},
   "outputs": [
    {
     "name": "stderr",
     "output_type": "stream",
     "text": [
      "\u001b[0;36m   core.py:\u001b[0;35m 644\u001b[0;0m --- \u001b[1;36m\u001b[1;36mINFO\u001b[1;0m\u001b[1;0m: Running Module 0: <class 'gammaALPs.base.environs.MixICMGaussTurb'>\n",
      "\u001b[0;36m   core.py:\u001b[0;35m 644\u001b[0;0m --- \u001b[1;36m\u001b[1;36mINFO\u001b[1;0m\u001b[1;0m: Running Module 2: <class 'gammaALPs.base.environs.MixGMF'>\n",
      "\u001b[0;36m   core.py:\u001b[0;35m 644\u001b[0;0m --- \u001b[1;36m\u001b[1;36mINFO\u001b[1;0m\u001b[1;0m: Running Module 0: <class 'gammaALPs.base.environs.MixICMGaussTurb'>\n",
      "\u001b[0;36m   core.py:\u001b[0;35m 644\u001b[0;0m --- \u001b[1;36m\u001b[1;36mINFO\u001b[1;0m\u001b[1;0m: Running Module 2: <class 'gammaALPs.base.environs.MixGMF'>\n",
      "\u001b[0;36m   core.py:\u001b[0;35m 644\u001b[0;0m --- \u001b[1;36m\u001b[1;36mINFO\u001b[1;0m\u001b[1;0m: Running Module 0: <class 'gammaALPs.base.environs.MixICMGaussTurb'>\n",
      "\u001b[0;36m   core.py:\u001b[0;35m 644\u001b[0;0m --- \u001b[1;36m\u001b[1;36mINFO\u001b[1;0m\u001b[1;0m: Running Module 2: <class 'gammaALPs.base.environs.MixGMF'>\n",
      "\u001b[0;36m   core.py:\u001b[0;35m 644\u001b[0;0m --- \u001b[1;36m\u001b[1;36mINFO\u001b[1;0m\u001b[1;0m: Running Module 0: <class 'gammaALPs.base.environs.MixICMGaussTurb'>\n",
      "\u001b[0;36m   core.py:\u001b[0;35m 644\u001b[0;0m --- \u001b[1;36m\u001b[1;36mINFO\u001b[1;0m\u001b[1;0m: Running Module 2: <class 'gammaALPs.base.environs.MixGMF'>\n",
      "\u001b[0;36m   core.py:\u001b[0;35m 644\u001b[0;0m --- \u001b[1;36m\u001b[1;36mINFO\u001b[1;0m\u001b[1;0m: Running Module 0: <class 'gammaALPs.base.environs.MixICMGaussTurb'>\n",
      "\u001b[0;36m   core.py:\u001b[0;35m 644\u001b[0;0m --- \u001b[1;36m\u001b[1;36mINFO\u001b[1;0m\u001b[1;0m: Running Module 2: <class 'gammaALPs.base.environs.MixGMF'>\n",
      "\u001b[0;36m   core.py:\u001b[0;35m 644\u001b[0;0m --- \u001b[1;36m\u001b[1;36mINFO\u001b[1;0m\u001b[1;0m: Running Module 0: <class 'gammaALPs.base.environs.MixICMGaussTurb'>\n",
      "\u001b[0;36m   core.py:\u001b[0;35m 644\u001b[0;0m --- \u001b[1;36m\u001b[1;36mINFO\u001b[1;0m\u001b[1;0m: Running Module 2: <class 'gammaALPs.base.environs.MixGMF'>\n",
      "\u001b[0;36m   core.py:\u001b[0;35m 644\u001b[0;0m --- \u001b[1;36m\u001b[1;36mINFO\u001b[1;0m\u001b[1;0m: Running Module 0: <class 'gammaALPs.base.environs.MixICMGaussTurb'>\n",
      "\u001b[0;36m   core.py:\u001b[0;35m 644\u001b[0;0m --- \u001b[1;36m\u001b[1;36mINFO\u001b[1;0m\u001b[1;0m: Running Module 2: <class 'gammaALPs.base.environs.MixGMF'>\n",
      "\u001b[0;36m   core.py:\u001b[0;35m 644\u001b[0;0m --- \u001b[1;36m\u001b[1;36mINFO\u001b[1;0m\u001b[1;0m: Running Module 0: <class 'gammaALPs.base.environs.MixICMGaussTurb'>\n",
      "\u001b[0;36m   core.py:\u001b[0;35m 644\u001b[0;0m --- \u001b[1;36m\u001b[1;36mINFO\u001b[1;0m\u001b[1;0m: Running Module 2: <class 'gammaALPs.base.environs.MixGMF'>\n",
      "\u001b[0;36m   core.py:\u001b[0;35m 644\u001b[0;0m --- \u001b[1;36m\u001b[1;36mINFO\u001b[1;0m\u001b[1;0m: Running Module 0: <class 'gammaALPs.base.environs.MixICMGaussTurb'>\n",
      "\u001b[0;36m   core.py:\u001b[0;35m 644\u001b[0;0m --- \u001b[1;36m\u001b[1;36mINFO\u001b[1;0m\u001b[1;0m: Running Module 2: <class 'gammaALPs.base.environs.MixGMF'>\n",
      "\u001b[0;36m   core.py:\u001b[0;35m 644\u001b[0;0m --- \u001b[1;36m\u001b[1;36mINFO\u001b[1;0m\u001b[1;0m: Running Module 0: <class 'gammaALPs.base.environs.MixICMGaussTurb'>\n",
      "\u001b[0;36m   core.py:\u001b[0;35m 644\u001b[0;0m --- \u001b[1;36m\u001b[1;36mINFO\u001b[1;0m\u001b[1;0m: Running Module 2: <class 'gammaALPs.base.environs.MixGMF'>\n",
      "\u001b[0;36m   core.py:\u001b[0;35m 644\u001b[0;0m --- \u001b[1;36m\u001b[1;36mINFO\u001b[1;0m\u001b[1;0m: Running Module 0: <class 'gammaALPs.base.environs.MixICMGaussTurb'>\n",
      "\u001b[0;36m   core.py:\u001b[0;35m 644\u001b[0;0m --- \u001b[1;36m\u001b[1;36mINFO\u001b[1;0m\u001b[1;0m: Running Module 2: <class 'gammaALPs.base.environs.MixGMF'>\n",
      "\u001b[0;36m   core.py:\u001b[0;35m 644\u001b[0;0m --- \u001b[1;36m\u001b[1;36mINFO\u001b[1;0m\u001b[1;0m: Running Module 0: <class 'gammaALPs.base.environs.MixICMGaussTurb'>\n",
      "\u001b[0;36m   core.py:\u001b[0;35m 644\u001b[0;0m --- \u001b[1;36m\u001b[1;36mINFO\u001b[1;0m\u001b[1;0m: Running Module 2: <class 'gammaALPs.base.environs.MixGMF'>\n",
      "\u001b[0;36m   core.py:\u001b[0;35m 644\u001b[0;0m --- \u001b[1;36m\u001b[1;36mINFO\u001b[1;0m\u001b[1;0m: Running Module 0: <class 'gammaALPs.base.environs.MixICMGaussTurb'>\n",
      "\u001b[0;36m   core.py:\u001b[0;35m 644\u001b[0;0m --- \u001b[1;36m\u001b[1;36mINFO\u001b[1;0m\u001b[1;0m: Running Module 2: <class 'gammaALPs.base.environs.MixGMF'>\n",
      "\u001b[0;36m   core.py:\u001b[0;35m 644\u001b[0;0m --- \u001b[1;36m\u001b[1;36mINFO\u001b[1;0m\u001b[1;0m: Running Module 0: <class 'gammaALPs.base.environs.MixICMGaussTurb'>\n",
      "\u001b[0;36m   core.py:\u001b[0;35m 644\u001b[0;0m --- \u001b[1;36m\u001b[1;36mINFO\u001b[1;0m\u001b[1;0m: Running Module 2: <class 'gammaALPs.base.environs.MixGMF'>\n",
      "\u001b[0;36m   core.py:\u001b[0;35m 644\u001b[0;0m --- \u001b[1;36m\u001b[1;36mINFO\u001b[1;0m\u001b[1;0m: Running Module 0: <class 'gammaALPs.base.environs.MixICMGaussTurb'>\n",
      "\u001b[0;36m   core.py:\u001b[0;35m 644\u001b[0;0m --- \u001b[1;36m\u001b[1;36mINFO\u001b[1;0m\u001b[1;0m: Running Module 2: <class 'gammaALPs.base.environs.MixGMF'>\n",
      "\u001b[0;36m   core.py:\u001b[0;35m 644\u001b[0;0m --- \u001b[1;36m\u001b[1;36mINFO\u001b[1;0m\u001b[1;0m: Running Module 0: <class 'gammaALPs.base.environs.MixICMGaussTurb'>\n",
      "\u001b[0;36m   core.py:\u001b[0;35m 644\u001b[0;0m --- \u001b[1;36m\u001b[1;36mINFO\u001b[1;0m\u001b[1;0m: Running Module 2: <class 'gammaALPs.base.environs.MixGMF'>\n",
      "\u001b[0;36m   core.py:\u001b[0;35m 644\u001b[0;0m --- \u001b[1;36m\u001b[1;36mINFO\u001b[1;0m\u001b[1;0m: Running Module 0: <class 'gammaALPs.base.environs.MixICMGaussTurb'>\n",
      "\u001b[0;36m   core.py:\u001b[0;35m 644\u001b[0;0m --- \u001b[1;36m\u001b[1;36mINFO\u001b[1;0m\u001b[1;0m: Running Module 2: <class 'gammaALPs.base.environs.MixGMF'>\n",
      "\u001b[0;36m   core.py:\u001b[0;35m 644\u001b[0;0m --- \u001b[1;36m\u001b[1;36mINFO\u001b[1;0m\u001b[1;0m: Running Module 0: <class 'gammaALPs.base.environs.MixICMGaussTurb'>\n",
      "\u001b[0;36m   core.py:\u001b[0;35m 644\u001b[0;0m --- \u001b[1;36m\u001b[1;36mINFO\u001b[1;0m\u001b[1;0m: Running Module 2: <class 'gammaALPs.base.environs.MixGMF'>\n",
      "\u001b[0;36m   core.py:\u001b[0;35m 644\u001b[0;0m --- \u001b[1;36m\u001b[1;36mINFO\u001b[1;0m\u001b[1;0m: Running Module 0: <class 'gammaALPs.base.environs.MixICMGaussTurb'>\n",
      "\u001b[0;36m   core.py:\u001b[0;35m 644\u001b[0;0m --- \u001b[1;36m\u001b[1;36mINFO\u001b[1;0m\u001b[1;0m: Running Module 2: <class 'gammaALPs.base.environs.MixGMF'>\n",
      "\u001b[0;36m   core.py:\u001b[0;35m 644\u001b[0;0m --- \u001b[1;36m\u001b[1;36mINFO\u001b[1;0m\u001b[1;0m: Running Module 0: <class 'gammaALPs.base.environs.MixICMGaussTurb'>\n",
      "\u001b[0;36m   core.py:\u001b[0;35m 644\u001b[0;0m --- \u001b[1;36m\u001b[1;36mINFO\u001b[1;0m\u001b[1;0m: Running Module 2: <class 'gammaALPs.base.environs.MixGMF'>\n"
     ]
    }
   ],
   "source": [
    "%%time\n",
    "j = 0\n",
    "for m in m_array:\n",
    "    for g in g_array:\n",
    "        ms = m.to( 1e-2 * u.neV)\n",
    "        gs = g.to( 1e-14 / u.GeV)\n",
    "\n",
    "        enpoints, pgg   = compute_ALP_absorption(\n",
    "                            modulelist = modulelist, # modulelist from gammaALP\n",
    "                            axion_mass = m, # neV\n",
    "                            coupling   = g , # 10^(-11) /GeV\n",
    "                            emin       = 50,  # Gev\n",
    "                            emax       = 2.2e4, # GeV\n",
    "                            bins       = 100) # log-bins in enrgy for which computing the ALP-absorption\n",
    "\n",
    "        arr = [enpoints] \n",
    "        for ipg in pgg:\n",
    "            arr.append(ipg )\n",
    "        arr = np.array(arr)\n",
    "        file_name = f'ngc1275_100real_m_%0.f_g_%0.f_'  % (ms.value, gs.value) \n",
    "        np.save(  f\"./Models/{file_name}.npy\", arr) \n",
    "        "
   ]
  },
  {
   "cell_type": "code",
   "execution_count": 25,
   "id": "46a39fa3",
   "metadata": {},
   "outputs": [
    {
     "data": {
      "text/plain": [
       "<Figure size 1080x720 with 0 Axes>"
      ]
     },
     "metadata": {},
     "output_type": "display_data"
    },
    {
     "data": {
      "text/plain": [
       "<Figure size 1080x720 with 0 Axes>"
      ]
     },
     "metadata": {},
     "output_type": "display_data"
    },
    {
     "data": {
      "text/plain": [
       "<Figure size 1080x720 with 0 Axes>"
      ]
     },
     "metadata": {},
     "output_type": "display_data"
    },
    {
     "data": {
      "text/plain": [
       "<Figure size 1080x720 with 0 Axes>"
      ]
     },
     "metadata": {},
     "output_type": "display_data"
    },
    {
     "data": {
      "text/plain": [
       "<Figure size 1080x720 with 0 Axes>"
      ]
     },
     "metadata": {},
     "output_type": "display_data"
    },
    {
     "data": {
      "text/plain": [
       "<Figure size 1080x720 with 0 Axes>"
      ]
     },
     "metadata": {},
     "output_type": "display_data"
    },
    {
     "data": {
      "text/plain": [
       "<Figure size 1080x720 with 0 Axes>"
      ]
     },
     "metadata": {},
     "output_type": "display_data"
    },
    {
     "data": {
      "text/plain": [
       "<Figure size 1080x720 with 0 Axes>"
      ]
     },
     "metadata": {},
     "output_type": "display_data"
    },
    {
     "data": {
      "text/plain": [
       "<Figure size 1080x720 with 0 Axes>"
      ]
     },
     "metadata": {},
     "output_type": "display_data"
    },
    {
     "data": {
      "text/plain": [
       "<Figure size 1080x720 with 0 Axes>"
      ]
     },
     "metadata": {},
     "output_type": "display_data"
    },
    {
     "data": {
      "text/plain": [
       "<Figure size 1080x720 with 0 Axes>"
      ]
     },
     "metadata": {},
     "output_type": "display_data"
    },
    {
     "data": {
      "text/plain": [
       "<Figure size 1080x720 with 0 Axes>"
      ]
     },
     "metadata": {},
     "output_type": "display_data"
    },
    {
     "data": {
      "text/plain": [
       "<Figure size 1080x720 with 0 Axes>"
      ]
     },
     "metadata": {},
     "output_type": "display_data"
    },
    {
     "data": {
      "text/plain": [
       "<Figure size 1080x720 with 0 Axes>"
      ]
     },
     "metadata": {},
     "output_type": "display_data"
    },
    {
     "data": {
      "text/plain": [
       "<Figure size 1080x720 with 0 Axes>"
      ]
     },
     "metadata": {},
     "output_type": "display_data"
    },
    {
     "data": {
      "text/plain": [
       "<Figure size 1080x720 with 0 Axes>"
      ]
     },
     "metadata": {},
     "output_type": "display_data"
    },
    {
     "data": {
      "text/plain": [
       "<Figure size 1080x720 with 0 Axes>"
      ]
     },
     "metadata": {},
     "output_type": "display_data"
    },
    {
     "data": {
      "text/plain": [
       "<Figure size 1080x720 with 0 Axes>"
      ]
     },
     "metadata": {},
     "output_type": "display_data"
    },
    {
     "data": {
      "text/plain": [
       "<Figure size 1080x720 with 0 Axes>"
      ]
     },
     "metadata": {},
     "output_type": "display_data"
    },
    {
     "data": {
      "text/plain": [
       "<Figure size 1080x720 with 0 Axes>"
      ]
     },
     "metadata": {},
     "output_type": "display_data"
    }
   ],
   "source": [
    "for m in m_array:\n",
    "        for g in g_array:\n",
    "\n",
    "            ms = m.to( 1e-2 * u.neV)\n",
    "            gs = g.to( 1e-14 / u.GeV)\n",
    "\n",
    "\n",
    "            fig, ax = plt.subplots(figsize=(15,10))\n",
    "            ax.grid(True,which='both',linewidth=0.3)\n",
    "            ax.set_ylabel('Photon survival probability', size=30)\n",
    "            ax.set_xlabel('E [GeV]',size=30)\n",
    "            ax.set_xlim([3e1,3e4])\n",
    "            ax.set_ylim([0,1.05])\n",
    "            ax.set_xscale(\"log\")\n",
    "            #ax.set_yscale(\"log\")\n",
    "            for ipg in pgg:\n",
    "                #ax.scatter(enpoints, ipg,s=1)\n",
    "                line,  =  ax.plot(enpoints, ipg)\n",
    "\n",
    "            line.set_color(\"white\")\n",
    "            mlegend = m.to( 1 * u.neV)\n",
    "            glegend = g.to( 1e-11 / u.GeV)\n",
    "\n",
    "            str_leg = f'm \\t = %0.f   {mlegend.unit}  \\n g  \\t = %0.1f   {glegend.unit}'  % (mlegend.value, glegend.value) \n",
    "            line.set_label(str_leg)\n",
    "            ax.legend(fontsize = 25, loc=\"lower left\", markerscale=1)\n",
    "\n",
    "\n",
    "            file_name = f'%0.f_ngc1275_100real_m_%0.f_g_%0.f_'  % (j,ms.value, gs.value) \n",
    "            fig.savefig(f\"./Models/png/{file_name}.png\")\n",
    "            fig.clf()\n",
    "            #plt.show()"
   ]
  },
  {
   "cell_type": "markdown",
   "id": "1edb9236",
   "metadata": {},
   "source": [
    "#### Exercise: Repeat the calculation of the photon survival probability, changing the central value of the strength of the galaxy cluster magnetic field to 15 muG and using only one magnetic field realisation. "
   ]
  },
  {
   "cell_type": "code",
   "execution_count": null,
   "id": "794d8d91",
   "metadata": {},
   "outputs": [],
   "source": []
  },
  {
   "cell_type": "markdown",
   "id": "1bdff248",
   "metadata": {},
   "source": [
    "#### Solution"
   ]
  },
  {
   "cell_type": "code",
   "execution_count": null,
   "id": "475f58dc",
   "metadata": {},
   "outputs": [],
   "source": [
    "%load ./Solutions/B_15_1real.py"
   ]
  }
 ],
 "metadata": {
  "kernelspec": {
   "display_name": "Python 3 (ipykernel)",
   "language": "python",
   "name": "python3"
  },
  "language_info": {
   "codemirror_mode": {
    "name": "ipython",
    "version": 3
   },
   "file_extension": ".py",
   "mimetype": "text/x-python",
   "name": "python",
   "nbconvert_exporter": "python",
   "pygments_lexer": "ipython3",
   "version": "3.8.13"
  }
 },
 "nbformat": 4,
 "nbformat_minor": 5
}
