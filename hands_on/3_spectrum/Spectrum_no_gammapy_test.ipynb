{
 "cells": [
  {
   "cell_type": "code",
   "execution_count": 1,
   "metadata": {},
   "outputs": [],
   "source": [
    "%matplotlib inline  \n",
    "import matplotlib.pyplot as plt"
   ]
  },
  {
   "cell_type": "code",
   "execution_count": 2,
   "metadata": {},
   "outputs": [
    {
     "name": "stdout",
     "output_type": "stream",
     "text": [
      "numpy: 1.20.3\n",
      "astropy: 4.3.1\n"
     ]
    }
   ],
   "source": [
    "import numpy as np\n",
    "import astropy\n",
    "print('numpy:', np.__version__)\n",
    "print('astropy:', astropy.__version__)"
   ]
  },
  {
   "cell_type": "code",
   "execution_count": 88,
   "metadata": {},
   "outputs": [],
   "source": [
    "from astropy.table import Table\n",
    "from astropy.coordinates import SkyCoord\n",
    "from astropy import units as u"
   ]
  },
  {
   "cell_type": "code",
   "execution_count": 86,
   "metadata": {},
   "outputs": [],
   "source": [
    "from astropy.io import fits"
   ]
  },
  {
   "cell_type": "markdown",
   "metadata": {},
   "source": [
    "To open the fits file we use `fits.open()` and just specify the filename as an argument:"
   ]
  },
  {
   "cell_type": "code",
   "execution_count": 5,
   "metadata": {},
   "outputs": [],
   "source": [
    "fits_file = fits.open('../1_read_data/data_test/run_05029747_DL3.fits')"
   ]
  },
  {
   "cell_type": "markdown",
   "metadata": {},
   "source": [
    "We can retrieve some basic information on the  header data unit (HDU) by calling `.info()`:"
   ]
  },
  {
   "cell_type": "code",
   "execution_count": 6,
   "metadata": {},
   "outputs": [
    {
     "name": "stdout",
     "output_type": "stream",
     "text": [
      "Filename: ../1_read_data/data_test/run_05029747_DL3.fits\n",
      "No.    Name      Ver    Type      Cards   Dimensions   Format\n",
      "  0  PRIMARY       1 PrimaryHDU       7   ()      \n",
      "  1  EVENTS        1 BinTableHDU     59   6310R x 5C   [1K, 1D, 1E, 1E, 1E]   \n",
      "  2  GTI           1 BinTableHDU     24   1R x 2C   [1D, 1D]   \n",
      "  3  EFFECTIVE AREA    1 BinTableHDU     37   1R x 5C   [21E, 21E, 2E, 2E, 42E]   \n",
      "  4  ENERGY DISPERSION    1 BinTableHDU     37   1R x 7C   [20E, 20E, 80E, 80E, 2E, 2E, 3200E]   \n"
     ]
    }
   ],
   "source": [
    "fits_file.info()"
   ]
  },
  {
   "cell_type": "markdown",
   "metadata": {},
   "source": [
    "### Events"
   ]
  },
  {
   "cell_type": "code",
   "execution_count": 83,
   "metadata": {},
   "outputs": [
    {
     "data": {
      "text/plain": [
       "XTENSION= 'BINTABLE'           / binary table extension                         \n",
       "BITPIX  =                    8 / 8-bit bytes                                    \n",
       "NAXIS   =                    2 / 2-dimensional binary table                     \n",
       "NAXIS1  =                   28 / width of table in bytes                        \n",
       "NAXIS2  =                 6310 / number of rows in table                        \n",
       "PCOUNT  =                    0 / size of special data area                      \n",
       "GCOUNT  =                    1 / one data group (required keyword)              \n",
       "TFIELDS =                    5 / number of fields in each row                   \n",
       "TTYPE1  = 'EVENT_ID'           / label for field   1                            \n",
       "TFORM1  = '1K      '           / data format of field: 8-byte INTEGER           \n",
       "TTYPE2  = 'TIME    '           / label for field   2                            \n",
       "TFORM2  = '1D      '           / data format of field: 8-byte DOUBLE            \n",
       "TUNIT2  = 's       '           / physical unit of field                         \n",
       "TTYPE3  = 'RA      '           / label for field   3                            \n",
       "TFORM3  = '1E      '           / data format of field: 4-byte REAL              \n",
       "TUNIT3  = 'deg     '           / physical unit of field                         \n",
       "TTYPE4  = 'DEC     '           / label for field   4                            \n",
       "TFORM4  = '1E      '           / data format of field: 4-byte REAL              \n",
       "TUNIT4  = 'deg     '           / physical unit of field                         \n",
       "TTYPE5  = 'ENERGY  '           / label for field   5                            \n",
       "TFORM5  = '1E      '           / data format of field: 4-byte REAL              \n",
       "TUNIT5  = 'TeV     '           / physical unit of field                         \n",
       "EXTNAME = 'EVENTS  '           / name of this binary table extension            \n",
       "HDUCLASS= 'GADF    '           / Signal conformance with HEASARC/OGIP convention\n",
       "HDUDOC  = 'https://github.com/open-gamma-ray-astro/gamma-astro-data-formats' / R\n",
       "HDUVERS = '0.2     '           / Version of the format                          \n",
       "HDUCLAS1= 'EVENTS  '           / Primary extension class                        \n",
       "OBS_ID  =              5029747 / Unique observation identifier                  \n",
       "TSTART  =     333778849.435217 / Start time of observation                      \n",
       "TSTOP   =     333780037.546979 / End time of observation                        \n",
       "ONTIME  =       1188.111761868 / Total run time                                 \n",
       "LIVETIME=     1180.69849663973 / Total run time, dead-time corrected            \n",
       "DEADC   =    0.993760464742293 / deadtime fraction                              \n",
       "EQUINOX = '        '           / Equinox year for coord. sys.                   \n",
       "RADECSYS= 'FK5     '           / Equatorial system type                         \n",
       "ORIGIN  = 'MAGIC Collaboration'                                                 \n",
       "TELESCOP= 'MAGIC   '                                                            \n",
       "INSTRUME= 'MAGIC stereo, post major upgrade'                                    \n",
       "CREATOR = 'magic_dl3'                                                           \n",
       "DATE-OBS= '2013-10-04'         / start date (UTC) of obs yy-mm-dd               \n",
       "TIME-OBS= '04:20:46'           / start time (UTC) of obs hh-mm-ss               \n",
       "DATE-END= '2013-10-04'         / end date (UTC) of obs yy-mm-dd                 \n",
       "TIME-END= '04:40:34'           / end time (UTC) of obs hh-mm-ss                 \n",
       "MJDREFI =                52706 / int part of reference MJD [days]               \n",
       "MJDREFF =                   0. / fractional part of reference MJD [days]        \n",
       "TIMEUNIT= 's       '           / time unit is seconds since MET start           \n",
       "TIMESYS = 'utc     '           / time scale is UTC                              \n",
       "TIMEREF = 'local   '           / local time reference                           \n",
       "OBJECT  = 'CrabNebula'         / observed object                                \n",
       "RA_PNT  =     83.9833333333333 / observation position RA [deg]                  \n",
       "DEC_PNT =     22.2438888888889 / observation position dec [deg]                 \n",
       "RA_OBJ  =     83.6333333333333 / target position RA [deg]                       \n",
       "DEC_OBJ =     22.0144444444444 / target position dec [deg]                      \n",
       "TELLIST = 'MAGIC-I,MAGIC-II'   / comma-separated list of tel IDs                \n",
       "TELLIST = '2       '           / number of telescopes in event list             \n",
       "EUNIT   = 'TeV     '           / energy unit                                    \n",
       "GEOLON  =    -17.8907013888889 / longitude of array center [deg]                \n",
       "GEOLAT  =            28.761795 / latitude of array center [deg]                 \n",
       "ALTITUDE=               2199.4 / altitude of array center [m]                   "
      ]
     },
     "execution_count": 83,
     "metadata": {},
     "output_type": "execute_result"
    }
   ],
   "source": [
    "events.header"
   ]
  },
  {
   "cell_type": "code",
   "execution_count": 8,
   "metadata": {},
   "outputs": [],
   "source": [
    "events = fits_file['EVENTS']"
   ]
  },
  {
   "cell_type": "code",
   "execution_count": 73,
   "metadata": {},
   "outputs": [
    {
     "data": {
      "text/html": [
       "<div><i>Table length=6310</i>\n",
       "<table id=\"table5950648528\" class=\"table-striped table-bordered table-condensed\">\n",
       "<thead><tr><th>EVENT_ID</th><th>TIME</th><th>RA</th><th>DEC</th><th>ENERGY</th></tr></thead>\n",
       "<thead><tr><th>int64</th><th>float64</th><th>float32</th><th>float32</th><th>float32</th></tr></thead>\n",
       "<tr><td>42</td><td>333778849.5267153</td><td>444.21463</td><td>23.44914</td><td>0.08397394</td></tr>\n",
       "<tr><td>67</td><td>333778849.61315054</td><td>443.5247</td><td>22.725792</td><td>0.10596932</td></tr>\n",
       "<tr><td>80</td><td>333778849.6690142</td><td>443.76956</td><td>22.451006</td><td>0.19733498</td></tr>\n",
       "<tr><td>116</td><td>333778849.7778549</td><td>443.71518</td><td>21.985115</td><td>1.0020943</td></tr>\n",
       "<tr><td>179</td><td>333778849.9826064</td><td>443.64136</td><td>22.041315</td><td>0.10316629</td></tr>\n",
       "<tr><td>198</td><td>333778850.0339344</td><td>444.84238</td><td>22.175398</td><td>0.118843034</td></tr>\n",
       "<tr><td>251</td><td>333778850.20117164</td><td>442.21805</td><td>21.617695</td><td>0.2293238</td></tr>\n",
       "<tr><td>299</td><td>333778850.3477573</td><td>443.1049</td><td>22.165325</td><td>0.13139088</td></tr>\n",
       "<tr><td>323</td><td>333778850.42124623</td><td>444.23206</td><td>22.624523</td><td>0.12255095</td></tr>\n",
       "<tr><td>...</td><td>...</td><td>...</td><td>...</td><td>...</td></tr>\n",
       "<tr><td>467</td><td>333780035.89050585</td><td>444.2843</td><td>22.485682</td><td>0.1434038</td></tr>\n",
       "<tr><td>497</td><td>333780035.9721074</td><td>445.15253</td><td>22.07673</td><td>0.16445196</td></tr>\n",
       "<tr><td>570</td><td>333780036.17792755</td><td>443.99866</td><td>22.431725</td><td>0.14909887</td></tr>\n",
       "<tr><td>599</td><td>333780036.2743846</td><td>444.22705</td><td>22.348415</td><td>0.19341666</td></tr>\n",
       "<tr><td>622</td><td>333780036.33778954</td><td>444.08524</td><td>22.571606</td><td>0.07879259</td></tr>\n",
       "<tr><td>660</td><td>333780036.47105366</td><td>443.41534</td><td>21.67344</td><td>0.2096362</td></tr>\n",
       "<tr><td>675</td><td>333780036.5179095</td><td>443.55164</td><td>22.772985</td><td>0.17672835</td></tr>\n",
       "<tr><td>924</td><td>333780037.3755159</td><td>444.85886</td><td>22.116222</td><td>0.123453744</td></tr>\n",
       "<tr><td>963</td><td>333780037.52476007</td><td>444.8693</td><td>21.290916</td><td>0.13630114</td></tr>\n",
       "</table></div>"
      ],
      "text/plain": [
       "<Table length=6310>\n",
       "EVENT_ID        TIME            RA       DEC       ENERGY  \n",
       " int64        float64        float32   float32    float32  \n",
       "-------- ------------------ --------- --------- -----------\n",
       "      42  333778849.5267153 444.21463  23.44914  0.08397394\n",
       "      67 333778849.61315054  443.5247 22.725792  0.10596932\n",
       "      80  333778849.6690142 443.76956 22.451006  0.19733498\n",
       "     116  333778849.7778549 443.71518 21.985115   1.0020943\n",
       "     179  333778849.9826064 443.64136 22.041315  0.10316629\n",
       "     198  333778850.0339344 444.84238 22.175398 0.118843034\n",
       "     251 333778850.20117164 442.21805 21.617695   0.2293238\n",
       "     299  333778850.3477573  443.1049 22.165325  0.13139088\n",
       "     323 333778850.42124623 444.23206 22.624523  0.12255095\n",
       "     ...                ...       ...       ...         ...\n",
       "     467 333780035.89050585  444.2843 22.485682   0.1434038\n",
       "     497  333780035.9721074 445.15253  22.07673  0.16445196\n",
       "     570 333780036.17792755 443.99866 22.431725  0.14909887\n",
       "     599  333780036.2743846 444.22705 22.348415  0.19341666\n",
       "     622 333780036.33778954 444.08524 22.571606  0.07879259\n",
       "     660 333780036.47105366 443.41534  21.67344   0.2096362\n",
       "     675  333780036.5179095 443.55164 22.772985  0.17672835\n",
       "     924  333780037.3755159 444.85886 22.116222 0.123453744\n",
       "     963 333780037.52476007  444.8693 21.290916  0.13630114"
      ]
     },
     "execution_count": 73,
     "metadata": {},
     "output_type": "execute_result"
    }
   ],
   "source": [
    "events_table = Table( events.data )\n",
    "events_table"
   ]
  },
  {
   "cell_type": "code",
   "execution_count": 108,
   "metadata": {},
   "outputs": [
    {
     "data": {
      "text/plain": [
       "<matplotlib.collections.PathCollection at 0x162b49d00>"
      ]
     },
     "execution_count": 108,
     "metadata": {},
     "output_type": "execute_result"
    },
    {
     "data": {
      "image/png": "[encoded data removed]",
      "text/plain": [
       "<Figure size 432x288 with 1 Axes>"
      ]
     },
     "metadata": {
      "needs_background": "light"
     },
     "output_type": "display_data"
    }
   ],
   "source": [
    "ra = events_table['RA']\n",
    "dec = events_table['DEC']\n",
    "plt.scatter(ra, dec, s=0.1)"
   ]
  },
  {
   "cell_type": "code",
   "execution_count": 109,
   "metadata": {},
   "outputs": [],
   "source": [
    "position_crab = SkyCoord.from_name('Crab')"
   ]
  },
  {
   "cell_type": "code",
   "execution_count": 110,
   "metadata": {},
   "outputs": [],
   "source": [
    "theta_cond = []\n",
    "for i_ra,i_dec in zip(ra,dec):\n",
    "    position_event = SkyCoord(  i_ra * u.deg, i_dec * u.deg, frame='icrs')\n",
    "\n",
    "    theta_cond.append( position_crab.separation(position_event) < 0.6 * u.deg )"
   ]
  },
  {
   "cell_type": "code",
   "execution_count": 111,
   "metadata": {},
   "outputs": [
    {
     "data": {
      "text/plain": [
       "<matplotlib.collections.PathCollection at 0x1620b1c70>"
      ]
     },
     "execution_count": 111,
     "metadata": {},
     "output_type": "execute_result"
    },
    {
     "data": {
      "image/png": "[encoded data removed]",
      "text/plain": [
       "<Figure size 432x288 with 1 Axes>"
      ]
     },
     "metadata": {
      "needs_background": "light"
     },
     "output_type": "display_data"
    }
   ],
   "source": [
    "ra = events_table['RA'][theta_cond]\n",
    "dec = events_table['DEC'][theta_cond]\n",
    "plt.scatter(ra, dec, s=0.1)"
   ]
  },
  {
   "cell_type": "markdown",
   "metadata": {},
   "source": [
    "### Effective Area"
   ]
  },
  {
   "cell_type": "code",
   "execution_count": 118,
   "metadata": {},
   "outputs": [],
   "source": [
    "effective_area = fits_file['EFFECTIVE AREA']"
   ]
  },
  {
   "cell_type": "code",
   "execution_count": 119,
   "metadata": {},
   "outputs": [
    {
     "data": {
      "text/plain": [
       "XTENSION= 'BINTABLE'           / binary table extension                         \n",
       "BITPIX  =                    8 / 8-bit bytes                                    \n",
       "NAXIS   =                    2 / 2-dimensional binary table                     \n",
       "NAXIS1  =                  352 / width of table in bytes                        \n",
       "NAXIS2  =                    1 / number of rows in table                        \n",
       "PCOUNT  =                    0 / size of special data area                      \n",
       "GCOUNT  =                    1 / one data group (required keyword)              \n",
       "TFIELDS =                    5 / number of fields in each row                   \n",
       "TTYPE1  = 'ENERG_LO'           / label for field   1                            \n",
       "TFORM1  = '21E     '           / data format of field: 4-byte REAL              \n",
       "TUNIT1  = 'TeV     '           / physical unit of field                         \n",
       "TTYPE2  = 'ENERG_HI'           / label for field   2                            \n",
       "TFORM2  = '21E     '           / data format of field: 4-byte REAL              \n",
       "TUNIT2  = 'TeV     '           / physical unit of field                         \n",
       "TTYPE3  = 'THETA_LO'           / label for field   3                            \n",
       "TFORM3  = '2E      '           / data format of field: 4-byte REAL              \n",
       "TUNIT3  = 'deg     '           / physical unit of field                         \n",
       "TTYPE4  = 'THETA_HI'           / label for field   4                            \n",
       "TFORM4  = '2E      '           / data format of field: 4-byte REAL              \n",
       "TUNIT4  = 'deg     '           / physical unit of field                         \n",
       "TTYPE5  = 'EFFAREA '           / label for field   5                            \n",
       "TFORM5  = '42E     '           / data format of field: 4-byte REAL              \n",
       "TUNIT5  = 'm^2     '           / physical unit of field                         \n",
       "EXTNAME = 'EFFECTIVE AREA'     / name of this binary table extension            \n",
       "TDIM5   = '(21,2)  '           / Dimensions of the field                        \n",
       "CREF5   = '(ENERG_LO:ENERG_HI,THETA_LO:THETA_HI)'                               \n",
       "HDUDOC  = 'See comment'        / https://github.com/open-gamma-ray-astro/gamma-a\n",
       "HDUVERS = '0.2     '           / Reference version                              \n",
       "HDUCLASS= 'GADF    '           / FITS file following the GADF data format.      \n",
       "HDUCLAS1= 'RESPONSE'           / HDU class                                      \n",
       "HDUCLAS2= 'EFF_AREA'           / HDU class                                      \n",
       "HDUCLAS3= 'POINT-LIKE'         / HDU class                                      \n",
       "HDUCLAS4= 'AEFF_2D '           / HDU class                                      \n",
       "OBS_ID  =             5029747. / Unique observation identifier                  \n",
       "LO_THRES=           0.07702737 / Low energy threshold of validity [TeV]         \n",
       "HI_THRES=                  50. / High energy threshold of validity [TeV]        \n",
       "RAD_MAX =            0.1414213 / Direction cut applied [deg]                    "
      ]
     },
     "execution_count": 119,
     "metadata": {},
     "output_type": "execute_result"
    }
   ],
   "source": [
    "effective_area.header"
   ]
  },
  {
   "cell_type": "code",
   "execution_count": 120,
   "metadata": {},
   "outputs": [],
   "source": [
    "effective_area = Table( effective_area.data)"
   ]
  },
  {
   "cell_type": "code",
   "execution_count": 121,
   "metadata": {},
   "outputs": [],
   "source": [
    "theta_low  = np.array( effective_area['THETA_LO'] )[0]\n",
    "theta_high = np.array( effective_area['THETA_HI'] )[0]\n",
    "en_low     = np.array( effective_area['ENERG_LO'] )[0]\n",
    "en_high    = np.array( effective_area['ENERG_HI'] )[0]\n",
    "eff_area   = np.array( effective_area['EFFAREA'] )[0][0]"
   ]
  },
  {
   "cell_type": "code",
   "execution_count": 122,
   "metadata": {},
   "outputs": [
    {
     "data": {
      "text/plain": [
       "array([0.6, 2. ], dtype=float32)"
      ]
     },
     "execution_count": 122,
     "metadata": {},
     "output_type": "execute_result"
    }
   ],
   "source": [
    "theta_high"
   ]
  },
  {
   "cell_type": "code",
   "execution_count": 124,
   "metadata": {},
   "outputs": [],
   "source": [
    "en_center = np.sqrt( en_low * en_high )"
   ]
  },
  {
   "cell_type": "code",
   "execution_count": 125,
   "metadata": {},
   "outputs": [
    {
     "data": {
      "image/png": "[encoded data removed]",
      "text/plain": [
       "<Figure size 432x288 with 1 Axes>"
      ]
     },
     "metadata": {
      "needs_background": "light"
     },
     "output_type": "display_data"
    }
   ],
   "source": [
    "plt.plot(en_center,  eff_area)\n",
    "plt.xscale('log')\n",
    "plt.yscale('log')"
   ]
  },
  {
   "cell_type": "code",
   "execution_count": 126,
   "metadata": {},
   "outputs": [],
   "source": [
    "# REMOVE BIN WITH EFF AREA = 0\n",
    "cond = eff_area >0\n",
    "en_center = en_center[cond]\n",
    "en_low    = en_low[cond]\n",
    "en_high   = en_high[cond]\n",
    "eff_area  = eff_area[cond]"
   ]
  },
  {
   "cell_type": "code",
   "execution_count": 127,
   "metadata": {},
   "outputs": [],
   "source": [
    "# theta2 cut\n",
    "events_table_theta_cut = events_table[theta_cond]"
   ]
  },
  {
   "cell_type": "code",
   "execution_count": 130,
   "metadata": {},
   "outputs": [],
   "source": [
    "excess = [] \n",
    "for i_en_low, i_en_high in zip( en_low, en_high):\n",
    "    cond_low  = events_table_theta_cut['ENERGY'] >= i_en_low\n",
    "    cond_high = events_table_theta_cut['ENERGY']  < i_en_high\n",
    "    excess.append(  np.sum( cond_low* cond_high) )"
   ]
  },
  {
   "cell_type": "code",
   "execution_count": 131,
   "metadata": {},
   "outputs": [
    {
     "data": {
      "text/plain": [
       "[0, 4, 505, 727, 383, 198, 153, 70, 46, 16, 12, 3, 4, 1, 0, 0]"
      ]
     },
     "execution_count": 131,
     "metadata": {},
     "output_type": "execute_result"
    }
   ],
   "source": [
    "excess"
   ]
  },
  {
   "cell_type": "code",
   "execution_count": 132,
   "metadata": {},
   "outputs": [
    {
     "data": {
      "text/plain": [
       "array([2.2460180e+01, 2.2943048e+02, 3.4086284e+03, 1.3287966e+04,\n",
       "       2.7749039e+04, 4.4158090e+04, 6.1444973e+04, 8.3793242e+04,\n",
       "       9.7357133e+04, 1.1650743e+05, 1.3111770e+05, 1.4543525e+05,\n",
       "       1.5488862e+05, 1.4494316e+05, 1.4456914e+05, 1.1876939e+05],\n",
       "      dtype=float32)"
      ]
     },
     "execution_count": 132,
     "metadata": {},
     "output_type": "execute_result"
    }
   ],
   "source": [
    "eff_area"
   ]
  },
  {
   "cell_type": "code",
   "execution_count": 133,
   "metadata": {},
   "outputs": [],
   "source": [
    "flux = excess/eff_area[0]\n",
    "flux = np.nan_to_num( flux, 0)\n",
    "\n",
    "cond = flux > 0\n",
    "en_center = en_center[cond]\n",
    "flux = flux[cond]"
   ]
  },
  {
   "cell_type": "code",
   "execution_count": 134,
   "metadata": {},
   "outputs": [
    {
     "data": {
      "text/plain": [
       "array([ 0.17809296, 22.48423626, 32.36839557, 17.05240097,  8.81560154,\n",
       "        6.81205574,  3.11662681,  2.04806905,  0.71237184,  0.53427888,\n",
       "        0.13356972,  0.17809296,  0.04452324])"
      ]
     },
     "execution_count": 134,
     "metadata": {},
     "output_type": "execute_result"
    }
   ],
   "source": [
    "flux"
   ]
  },
  {
   "cell_type": "markdown",
   "metadata": {},
   "source": [
    "## FINAL FLUX"
   ]
  },
  {
   "cell_type": "code",
   "execution_count": 136,
   "metadata": {},
   "outputs": [
    {
     "data": {
      "image/png": "[encoded data removed]",
      "text/plain": [
       "<Figure size 432x288 with 1 Axes>"
      ]
     },
     "metadata": {
      "needs_background": "light"
     },
     "output_type": "display_data"
    }
   ],
   "source": [
    "plt.scatter( en_center, flux) \n",
    "plt.xscale('log')\n",
    "plt.yscale('log')"
   ]
  },
  {
   "cell_type": "code",
   "execution_count": 137,
   "metadata": {},
   "outputs": [
    {
     "data": {
      "text/plain": [
       "XTENSION= 'BINTABLE'           / binary table extension                         \n",
       "BITPIX  =                    8 / 8-bit bytes                                    \n",
       "NAXIS   =                    2 / 2-dimensional binary table                     \n",
       "NAXIS1  =                13616 / width of table in bytes                        \n",
       "NAXIS2  =                    1 / number of rows in table                        \n",
       "PCOUNT  =                    0 / size of special data area                      \n",
       "GCOUNT  =                    1 / one data group (required keyword)              \n",
       "TFIELDS =                    7 / number of fields in each row                   \n",
       "TTYPE1  = 'ENERG_LO'           / label for field   1                            \n",
       "TFORM1  = '20E     '           / data format of field: 4-byte REAL              \n",
       "TUNIT1  = 'TeV     '           / physical unit of field                         \n",
       "TTYPE2  = 'ENERG_HI'           / label for field   2                            \n",
       "TFORM2  = '20E     '           / data format of field: 4-byte REAL              \n",
       "TUNIT2  = 'TeV     '           / physical unit of field                         \n",
       "TTYPE3  = 'MIGRA_LO'           / label for field   3                            \n",
       "TFORM3  = '80E     '           / data format of field: 4-byte REAL              \n",
       "TTYPE4  = 'MIGRA_HI'           / label for field   4                            \n",
       "TFORM4  = '80E     '           / data format of field: 4-byte REAL              \n",
       "TTYPE5  = 'THETA_LO'           / label for field   5                            \n",
       "TFORM5  = '2E      '           / data format of field: 4-byte REAL              \n",
       "TUNIT5  = 'deg     '           / physical unit of field                         \n",
       "TTYPE6  = 'THETA_HI'           / label for field   6                            \n",
       "TFORM6  = '2E      '           / data format of field: 4-byte REAL              \n",
       "TUNIT6  = 'deg     '           / physical unit of field                         \n",
       "TTYPE7  = 'MATRIX  '           / label for field   7                            \n",
       "TFORM7  = '3200E   '           / data format of field: 4-byte REAL              \n",
       "EXTNAME = 'ENERGY DISPERSION'  / name of this binary table extension            \n",
       "TDIM7   = '(20,80,2)'          / Dimensions of the field                        \n",
       "CREF7   = '(ENERG_LO:ENERG_HI,MIGRA_LO:MIGRA_HI,THETA_LO:THETA_HI)'             \n",
       "HDUDOC  = 'See comment'        / https://github.com/open-gamma-ray-astro/gamma-a\n",
       "HDUVERS = '0.2     '           / Reference version                              \n",
       "HDUCLASS= 'GADF    '           / FITS file following the GADF data format.      \n",
       "HDUCLAS1= 'RESPONSE'           / HDU class                                      \n",
       "HDUCLAS2= 'EDISP   '           / HDU class                                      \n",
       "HDUCLAS3= 'POINT-LIKE'         / HDU class                                      \n",
       "HDUCLAS4= 'EDISP_2D'           / HDU class                                      \n",
       "RAD_MAX =            0.1414213 / Direction cut applied [deg]                    "
      ]
     },
     "execution_count": 137,
     "metadata": {},
     "output_type": "execute_result"
    }
   ],
   "source": [
    "en_disp.header"
   ]
  },
  {
   "cell_type": "code",
   "execution_count": 138,
   "metadata": {},
   "outputs": [
    {
     "data": {
      "text/html": [
       "<div><i>Table length=1</i>\n",
       "<table id=\"table140333501156512\" class=\"table-striped table-bordered table-condensed\">\n",
       "<thead><tr><th>ENERG_LO [20]</th><th>ENERG_HI [20]</th><th>MIGRA_LO [80]</th><th>MIGRA_HI [80]</th><th>THETA_LO [2]</th><th>THETA_HI [2]</th><th>MATRIX [2,80,20]</th></tr></thead>\n",
       "<thead><tr><th>float32</th><th>float32</th><th>float32</th><th>float32</th><th>float32</th><th>float32</th><th>float32</th></tr></thead>\n",
       "<tr><td>0.025 .. 24.364733</td><td>0.035912562 .. 35.0</td><td>0.0 .. 2.9625</td><td>0.0375 .. 3.0</td><td>0.0 .. 0.6</td><td>0.6 .. 2.0</td><td>0.0 .. 0.0</td></tr>\n",
       "</table></div>"
      ],
      "text/plain": [
       "<Table length=1>\n",
       "  ENERG_LO [20]       ENERG_HI [20]    MIGRA_LO [80] ... THETA_LO [2] THETA_HI [2] MATRIX [2,80,20]\n",
       "     float32             float32          float32    ...   float32      float32        float32     \n",
       "------------------ ------------------- ------------- ... ------------ ------------ ----------------\n",
       "0.025 .. 24.364733 0.035912562 .. 35.0 0.0 .. 2.9625 ...   0.0 .. 0.6   0.6 .. 2.0       0.0 .. 0.0"
      ]
     },
     "execution_count": 138,
     "metadata": {},
     "output_type": "execute_result"
    }
   ],
   "source": [
    "Table( en_disp.data )"
   ]
  }
 ],
 "metadata": {
  "kernelspec": {
   "display_name": "Python 3 (ipykernel)",
   "language": "python",
   "name": "python3"
  },
  "language_info": {
   "codemirror_mode": {
    "name": "ipython",
    "version": 3
   },
   "file_extension": ".py",
   "mimetype": "text/x-python",
   "name": "python",
   "nbconvert_exporter": "python",
   "pygments_lexer": "ipython3",
   "version": "3.9.9"
  }
 },
 "nbformat": 4,
 "nbformat_minor": 4
}
