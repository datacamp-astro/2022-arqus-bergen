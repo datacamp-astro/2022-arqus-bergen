{
 "cells": [
  {
   "cell_type": "markdown",
   "metadata": {},
   "source": [
    "# Hands on Spectrum analysis"
   ]
  },
  {
   "cell_type": "code",
   "execution_count": null,
   "metadata": {},
   "outputs": [],
   "source": [
    "%matplotlib inline  \n",
    "import matplotlib.pyplot as plt"
   ]
  },
  {
   "cell_type": "code",
   "execution_count": null,
   "metadata": {},
   "outputs": [],
   "source": [
    "import numpy as np\n",
    "import astropy\n",
    "print('numpy:', np.__version__)\n",
    "print('astropy:', astropy.__version__)"
   ]
  },
  {
   "cell_type": "code",
   "execution_count": null,
   "metadata": {},
   "outputs": [],
   "source": [
    "from astropy.table import Table\n",
    "from astropy.coordinates import SkyCoord, Angle\n",
    "from astropy import units as u\n",
    "from astropy.io import fits\n",
    "\n",
    "import glob"
   ]
  },
  {
   "cell_type": "markdown",
   "metadata": {},
   "source": [
    "To open the fits file we use `fits.open()` and just specify the filename as an argument:"
   ]
  },
  {
   "cell_type": "code",
   "execution_count": null,
   "metadata": {},
   "outputs": [],
   "source": [
    "fits_file = fits.open('../1_read_data/data_test/run_05029747_DL3.fits')"
   ]
  },
  {
   "cell_type": "markdown",
   "metadata": {},
   "source": [
    "We can retrieve some basic information on the  header data unit (HDU) by calling `.info()`:"
   ]
  },
  {
   "cell_type": "code",
   "execution_count": null,
   "metadata": {},
   "outputs": [],
   "source": [
    "fits_file.info()"
   ]
  },
  {
   "cell_type": "markdown",
   "metadata": {},
   "source": [
    "### Events"
   ]
  },
  {
   "cell_type": "code",
   "execution_count": null,
   "metadata": {},
   "outputs": [],
   "source": [
    "events = fits_file['EVENTS']"
   ]
  },
  {
   "cell_type": "code",
   "execution_count": null,
   "metadata": {},
   "outputs": [],
   "source": [
    "events.header"
   ]
  },
  {
   "cell_type": "markdown",
   "metadata": {},
   "source": [
    "### PLOT SOURCE, POINTING and ON and OFF REGIONS"
   ]
  },
  {
   "cell_type": "code",
   "execution_count": null,
   "metadata": {},
   "outputs": [],
   "source": [
    "from astropy.visualization.wcsaxes import SphericalCircle\n",
    "from astropy.wcs import WCS"
   ]
  },
  {
   "cell_type": "markdown",
   "metadata": {},
   "source": [
    "First we get the pointing postion of the telescope"
   ]
  },
  {
   "cell_type": "code",
   "execution_count": null,
   "metadata": {},
   "outputs": [],
   "source": [
    "pointing_pos =  SkyCoord( events.header.get('RA_PNT') *u.deg,   events.header.get('DEC_PNT') *u.deg )\n",
    "pointing_pos"
   ]
  },
  {
   "cell_type": "markdown",
   "metadata": {},
   "source": [
    "Then the postion of the source on the sky"
   ]
  },
  {
   "cell_type": "code",
   "execution_count": null,
   "metadata": {},
   "outputs": [],
   "source": [
    "source_name = events.header.get('OBJECT')\n",
    "print(source_name)\n",
    "source_pos   =  SkyCoord.from_name(events.header.get('OBJECT'))\n",
    "source_pos"
   ]
  },
  {
   "cell_type": "markdown",
   "metadata": {},
   "source": [
    "As you can see the 2 position are not the same (Why?) \n",
    "\n",
    "let's compute the offset"
   ]
  },
  {
   "cell_type": "code",
   "execution_count": null,
   "metadata": {},
   "outputs": [],
   "source": [
    "offset = source_pos.separation(pointing_pos)\n",
    "offset.to( u.deg).value"
   ]
  },
  {
   "cell_type": "markdown",
   "metadata": {},
   "source": [
    "We now compute the angle between the source and the pointing position.\n",
    "\n",
    "If for instance the two are aligned along a meridian, the angle would be of 0 or 180 degrees, depending on which position one uses as a reference\n",
    "\n",
    "Let's see it in detail:"
   ]
  },
  {
   "cell_type": "code",
   "execution_count": null,
   "metadata": {},
   "outputs": [],
   "source": [
    "A =  SkyCoord( ra= 10 *u.deg,   dec = 10 *u.deg )\n",
    "B =  SkyCoord( ra= 10 *u.deg,   dec = 20 *u.deg )\n",
    "\n",
    "fig, ax =  plt.subplots(figsize=(3,3))\n",
    "\n",
    "ax = plt.subplot()\n",
    "ax.scatter(A.ra.value, A.dec.value, marker='o', s=100, c='blue', label ='A'  ) \n",
    "ax.scatter(B.ra.value, B.dec.value, marker='o', s=100, c='black', label ='B'  ) \n",
    "ax.set_xlabel('Right ascension')\n",
    "ax.set_ylabel('Declination')\n",
    "ax.legend();"
   ]
  },
  {
   "cell_type": "code",
   "execution_count": null,
   "metadata": {},
   "outputs": [],
   "source": [
    "A.position_angle(B).to(u.degree)"
   ]
  },
  {
   "cell_type": "markdown",
   "metadata": {},
   "source": [
    "The angle between A and B is zero!"
   ]
  },
  {
   "cell_type": "code",
   "execution_count": null,
   "metadata": {},
   "outputs": [],
   "source": [
    "B.position_angle(A).to(u.degree)"
   ]
  },
  {
   "cell_type": "markdown",
   "metadata": {},
   "source": [
    "The angle between A and B is instead 180"
   ]
  },
  {
   "cell_type": "markdown",
   "metadata": {},
   "source": [
    "Excercise:\n",
    "- Try different position for A and B and get the angle"
   ]
  },
  {
   "cell_type": "markdown",
   "metadata": {},
   "source": [
    "Let's do this now for the source and pointing position"
   ]
  },
  {
   "cell_type": "code",
   "execution_count": null,
   "metadata": {},
   "outputs": [],
   "source": [
    "source_angle = pointing_pos.position_angle(source_pos).to(u.degree)\n",
    "source_angle"
   ]
  },
  {
   "cell_type": "markdown",
   "metadata": {},
   "source": [
    "The angle is approximately 180+45 degree, meaning that the source is located on the 'left-bottom' part of the sky, relative to the pointing"
   ]
  },
  {
   "cell_type": "markdown",
   "metadata": {},
   "source": [
    "Indeed:"
   ]
  },
  {
   "cell_type": "code",
   "execution_count": null,
   "metadata": {},
   "outputs": [],
   "source": [
    "fig, ax =  plt.subplots(figsize=(3,3))\n",
    "\n",
    "ax = plt.subplot()\n",
    "ax.scatter(pointing_pos.ra.value, pointing_pos.dec.value, marker='x', s=100, c='black', label ='Pointing'  ) \n",
    "ax.scatter(source_pos.ra.value, source_pos.dec.value, marker='*', s=100, c='red', label ='Source'  ) \n",
    "ax.set_xlabel('Right ascension')\n",
    "ax.set_ylabel('Declination')\n",
    "ax.legend();"
   ]
  },
  {
   "cell_type": "markdown",
   "metadata": {},
   "source": [
    "Let's now compute the angles for the off positions"
   ]
  },
  {
   "cell_type": "code",
   "execution_count": null,
   "metadata": {},
   "outputs": [],
   "source": [
    "off1_angle   = source_angle + 90*u.deg\n",
    "off2_angle   = off1_angle   + 90*u.deg\n",
    "off3_angle   = off2_angle   + 90*u.deg"
   ]
  },
  {
   "cell_type": "markdown",
   "metadata": {},
   "source": [
    "Given the above angles, we now put the off positions on the same offset from the pointing that was used for the source"
   ]
  },
  {
   "cell_type": "code",
   "execution_count": null,
   "metadata": {},
   "outputs": [],
   "source": [
    "off1_pos = pointing_pos.directional_offset_by(position_angle=off1_angle, separation=offset)  \n",
    "off2_pos = pointing_pos.directional_offset_by(position_angle=off2_angle, separation=offset)  \n",
    "off3_pos = pointing_pos.directional_offset_by(position_angle=off3_angle, separation=offset) "
   ]
  },
  {
   "cell_type": "markdown",
   "metadata": {},
   "source": [
    "We can now see the results"
   ]
  },
  {
   "cell_type": "code",
   "execution_count": null,
   "metadata": {},
   "outputs": [],
   "source": [
    "fig, ax =  plt.subplots(figsize=(9,9))\n",
    "\n",
    "ax = plt.subplot()\n",
    "\n",
    "\n",
    "field_of_view = SphericalCircle( (pointing_pos.ra, pointing_pos.dec),\n",
    "                    3.5 * u.deg,   edgecolor='black', facecolor='none')\n",
    "\n",
    "ax.add_patch(field_of_view)\n",
    "\n",
    "ax.scatter(pointing_pos.ra.value, pointing_pos.dec.value, marker='x', s=100, c='black', label ='Pointing'  ) \n",
    "ax.scatter(source_pos.ra.value, source_pos.dec.value, marker='*', s=100, c='red', label ='Source'  ) \n",
    "ax.scatter(off1_pos.ra.value, off1_pos.dec.value, marker='o', s=20, c='blue', label ='OFF 1'  ) \n",
    "ax.scatter(off2_pos.ra.value, off2_pos.dec.value, marker='o', s=20, c='orange', label ='OFF 2'  ) \n",
    "ax.scatter(off3_pos.ra.value, off3_pos.dec.value, marker='o', s=20, c='green', label ='OFF 3'  ) \n",
    "ax.legend(loc='upper right');"
   ]
  },
  {
   "cell_type": "markdown",
   "metadata": {},
   "source": [
    "Or even better we can plot the On and Off regions"
   ]
  },
  {
   "cell_type": "code",
   "execution_count": null,
   "metadata": {},
   "outputs": [],
   "source": [
    "fig, ax =  plt.subplots(figsize=(9,9))\n",
    "\n",
    "ax = plt.subplot()\n",
    "\n",
    "\n",
    "\n",
    "\n",
    "field_of_view = SphericalCircle( (pointing_pos.ra, pointing_pos.dec),\n",
    "                    3.5 * u.deg,   edgecolor='black', facecolor='none')\n",
    "\n",
    "radius = 0.1414213*u.deg\n",
    "\n",
    "on  = SphericalCircle( (source_pos.ra, source_pos.dec),\n",
    "                    radius,   edgecolor='black', facecolor='none')\n",
    "\n",
    "off1 = SphericalCircle( (off1_pos.ra, off1_pos.dec),\n",
    "                    radius,   edgecolor='black', facecolor='none')\n",
    "off2 = SphericalCircle( (off2_pos.ra, off2_pos.dec),\n",
    "                    radius,   edgecolor='black', facecolor='none')\n",
    "off3 = SphericalCircle( (off3_pos.ra, off3_pos.dec),\n",
    "                    radius,   edgecolor='black', facecolor='none')\n",
    "\n",
    "\n",
    "ax.scatter(pointing_pos.ra.value, pointing_pos.dec.value, marker='x', s=100, c='black', label ='Pointing'  ) \n",
    "ax.scatter(source_pos.ra.value, source_pos.dec.value, marker='*', s=100, c='red', label ='Source'  ) \n",
    "\n",
    "ax.add_patch(field_of_view)\n",
    "\n",
    "ax.add_patch(on)\n",
    "ax.add_patch(off1)\n",
    "ax.add_patch(off2)\n",
    "ax.add_patch(off3)\n",
    "\n",
    "\n",
    "ax.legend();"
   ]
  },
  {
   "cell_type": "markdown",
   "metadata": {
    "tags": []
   },
   "source": [
    "### PLOT AZIMUTH AND ALTITUDE DURING THE OBSERVATION"
   ]
  },
  {
   "cell_type": "markdown",
   "metadata": {},
   "source": [
    "This is not necessary for the analysis, but it is interesting to see how the altitude and azimuth of the source evolves during the observation"
   ]
  },
  {
   "cell_type": "code",
   "execution_count": null,
   "metadata": {},
   "outputs": [],
   "source": [
    "from astropy.coordinates import EarthLocation, AltAz\n",
    "from astropy.time import Time"
   ]
  },
  {
   "cell_type": "code",
   "execution_count": null,
   "metadata": {},
   "outputs": [],
   "source": [
    "ROM = EarthLocation( lat=events.header.get('GEOLAT')* u.deg, \n",
    "              lon=events.header.get('GEOLON') * u.deg, \n",
    "              height= events.header.get('ALTITUDE')*u.m)\n",
    "print(ROM)"
   ]
  },
  {
   "cell_type": "code",
   "execution_count": null,
   "metadata": {},
   "outputs": [],
   "source": [
    "start_time = Time( events.header.get('DATE-OBS') +'T'+events.header.get('TIME-OBS')) \n",
    "end_time   = Time( events.header.get('DATE-END') +'T'+events.header.get('TIME-END')) "
   ]
  },
  {
   "cell_type": "code",
   "execution_count": null,
   "metadata": {},
   "outputs": [],
   "source": [
    "dt = ( end_time - start_time ) /100\n",
    "times        = []\n",
    "source_altaz = []\n",
    "for i in range(100):\n",
    "    time        = start_time + dt*i\n",
    "    altaz        = AltAz(obstime=time, location=ROM)\n",
    "    i_source_altaz = source_pos.transform_to(altaz)\n",
    "    times.append( time )\n",
    "    source_altaz.append( i_source_altaz )\n",
    "    "
   ]
  },
  {
   "cell_type": "code",
   "execution_count": null,
   "metadata": {},
   "outputs": [],
   "source": [
    "all_alt = [  i.alt.value for i in source_altaz ]\n",
    "all_az  = [  i.az.value  for i in source_altaz ]"
   ]
  },
  {
   "cell_type": "code",
   "execution_count": null,
   "metadata": {},
   "outputs": [],
   "source": [
    "plt.plot(  all_az, all_alt)\n",
    "plt.xlabel( \"azimuth [deg.]\")\n",
    "plt.ylabel( \"altitute [deg.]\");"
   ]
  },
  {
   "cell_type": "markdown",
   "metadata": {},
   "source": [
    "## GET EVENTS"
   ]
  },
  {
   "cell_type": "markdown",
   "metadata": {},
   "source": [
    "We save the evtns as an Astropy Table"
   ]
  },
  {
   "cell_type": "code",
   "execution_count": null,
   "metadata": {},
   "outputs": [],
   "source": [
    "events_table = Table( events.data )\n",
    "events_table"
   ]
  },
  {
   "cell_type": "markdown",
   "metadata": {},
   "source": [
    "We then plot them \"on the Sky\" using the information on the RA and DEC of each single event"
   ]
  },
  {
   "cell_type": "code",
   "execution_count": null,
   "metadata": {},
   "outputs": [],
   "source": [
    "fig, ax =  plt.subplots(figsize=(9,9))\n",
    "\n",
    "ax = fig.add_subplot()\n",
    "\n",
    "ra =   -360*u.deg + events_table['RA'] * u.deg  \n",
    "\n",
    "dec = events_table['DEC']*u.deg\n",
    "\n",
    "ax.scatter(ra, dec, s=0.1)\n",
    "\n",
    "\n",
    "radius = 0.1414213*u.deg\n",
    "\n",
    "on  = SphericalCircle( (source_pos.ra, source_pos.dec),\n",
    "                    radius,   edgecolor='black', facecolor='none')\n",
    "\n",
    "off1 = SphericalCircle( (off1_pos.ra, off1_pos.dec),\n",
    "                    radius,   edgecolor='black', facecolor='none')\n",
    "off2 = SphericalCircle( (off2_pos.ra, off2_pos.dec),\n",
    "                    radius,   edgecolor='black', facecolor='none')\n",
    "off3 = SphericalCircle( (off3_pos.ra, off3_pos.dec),\n",
    "                    radius,   edgecolor='black', facecolor='none')\n",
    "\n",
    "\n",
    "ax.scatter(pointing_pos.ra.value, pointing_pos.dec.value, marker='x', s=100, c='black', label ='Pointing'  ) \n",
    "ax.scatter(source_pos.ra.value, source_pos.dec.value, marker='*', s=100, c='red', label ='Source'  ) \n",
    "\n",
    "ax.add_patch(on)\n",
    "ax.add_patch(off1)\n",
    "ax.add_patch(off2)\n",
    "ax.add_patch(off3)\n",
    "\n",
    "\n",
    "ax.legend();"
   ]
  },
  {
   "cell_type": "markdown",
   "metadata": {},
   "source": [
    "As expected we have more events near the Source!\n",
    "\n",
    "As one can see from the OFF regions, some of these events are not gamma-rays, but background\n",
    "\n",
    "Rember that in the Off region we should not expect any gamma-ray"
   ]
  },
  {
   "cell_type": "markdown",
   "metadata": {},
   "source": [
    "### EVENTS SELECTION"
   ]
  },
  {
   "cell_type": "markdown",
   "metadata": {},
   "source": [
    "We now select the events in the 4 regions: 1 ON and 3 OFF"
   ]
  },
  {
   "cell_type": "code",
   "execution_count": null,
   "metadata": {},
   "outputs": [],
   "source": [
    "ra = events_table['RA'] \n",
    "dec = events_table['DEC']\n",
    "\n",
    "radius = 0.1414213*u.deg \n",
    "\n",
    "cond_on = []\n",
    "for i_ra,i_dec in zip(ra,dec):\n",
    "    position_event = SkyCoord(  i_ra * u.deg, i_dec * u.deg, frame='icrs')\n",
    "\n",
    "    cond_on.append( source_pos.separation(position_event) <= radius )\n",
    "    \n",
    "cond_off1 = []\n",
    "for i_ra,i_dec in zip(ra,dec):\n",
    "    position_event = SkyCoord(  i_ra * u.deg, i_dec * u.deg, frame='icrs')\n",
    "\n",
    "    cond_off1.append( off1_pos.separation(position_event) <= radius )\n",
    "    \n",
    "cond_off2 = []\n",
    "for i_ra,i_dec in zip(ra,dec):\n",
    "    position_event = SkyCoord(  i_ra * u.deg, i_dec * u.deg, frame='icrs')\n",
    "\n",
    "    cond_off2.append( off2_pos.separation(position_event) <= radius )\n",
    "    \n",
    "\n",
    "cond_off3 = []\n",
    "for i_ra,i_dec in zip(ra,dec):\n",
    "    position_event = SkyCoord(  i_ra * u.deg, i_dec * u.deg, frame='icrs')\n",
    "\n",
    "    cond_off3.append( off3_pos.separation(position_event) <= radius )\n",
    "    \n",
    "    "
   ]
  },
  {
   "cell_type": "markdown",
   "metadata": {},
   "source": [
    "Let's plot the events we have selected"
   ]
  },
  {
   "cell_type": "code",
   "execution_count": null,
   "metadata": {},
   "outputs": [],
   "source": [
    "fig, ax =  plt.subplots(figsize=(9,9))\n",
    "\n",
    "ax = fig.add_subplot()\n",
    "\n",
    "ra = events_table[cond_on]['RA'] - 360\n",
    "dec = events_table[cond_on]['DEC']\n",
    "ax.scatter(ra, dec, s=0.5)\n",
    "\n",
    "ra = events_table[cond_off1]['RA'] - 360\n",
    "dec = events_table[cond_off1]['DEC']\n",
    "ax.scatter(ra, dec, s=0.5, c ='black')\n",
    "\n",
    "ra = events_table[cond_off2]['RA'] - 360\n",
    "dec = events_table[cond_off2]['DEC']\n",
    "ax.scatter(ra, dec, s=0.5,  c ='black')\n",
    "\n",
    "ra = events_table[cond_off3]['RA'] - 360\n",
    "dec = events_table[cond_off3]['DEC']\n",
    "ax.scatter(ra, dec, s=0.5,  c ='black')\n",
    "\n",
    "\n",
    "\n",
    "ax.scatter(pointing_pos.ra.value, pointing_pos.dec.value, marker='x', s=100, c='black', label ='Pointing'  ) \n",
    "ax.scatter(source_pos.ra.value, source_pos.dec.value, marker='*', s=100, c='red', label ='Source'  ) \n",
    "\n",
    "radius = 0.1414213*u.deg\n",
    "\n",
    "on  = SphericalCircle( (source_pos.ra, source_pos.dec),\n",
    "                    radius,   edgecolor='black', facecolor='none')\n",
    "\n",
    "off1 = SphericalCircle( (off1_pos.ra, off1_pos.dec),\n",
    "                    radius,   edgecolor='black', facecolor='none')\n",
    "off2 = SphericalCircle( (off2_pos.ra, off2_pos.dec),\n",
    "                    radius,   edgecolor='black', facecolor='none')\n",
    "off3 = SphericalCircle( (off3_pos.ra, off3_pos.dec),\n",
    "                    radius,   edgecolor='black', facecolor='none')\n",
    "\n",
    "\n",
    "ax.add_patch(on)\n",
    "ax.add_patch(off1)\n",
    "ax.add_patch(off2)\n",
    "ax.add_patch(off3)\n",
    "\n",
    "\n",
    "\n",
    "ax.legend();"
   ]
  },
  {
   "cell_type": "markdown",
   "metadata": {},
   "source": [
    "### Effective Area"
   ]
  },
  {
   "cell_type": "markdown",
   "metadata": {},
   "source": [
    "for computing the Flux we need the Effective Area and the exposure time"
   ]
  },
  {
   "cell_type": "code",
   "execution_count": null,
   "metadata": {},
   "outputs": [],
   "source": [
    "effective_area = fits_file['EFFECTIVE AREA']"
   ]
  },
  {
   "cell_type": "code",
   "execution_count": null,
   "metadata": {},
   "outputs": [],
   "source": [
    "effective_area.header"
   ]
  },
  {
   "cell_type": "code",
   "execution_count": null,
   "metadata": {},
   "outputs": [],
   "source": [
    "exposure_time = events.header.get('LIVETIME') * u.second \n",
    "exposure_time.to( u.minute)"
   ]
  },
  {
   "cell_type": "markdown",
   "metadata": {},
   "source": [
    "It's better to work with an Astropy table"
   ]
  },
  {
   "cell_type": "code",
   "execution_count": null,
   "metadata": {},
   "outputs": [],
   "source": [
    "effective_area = Table( effective_area.data)"
   ]
  },
  {
   "cell_type": "markdown",
   "metadata": {},
   "source": [
    "We get from the table the enrgy bins and the value ofthe Area for each bin"
   ]
  },
  {
   "cell_type": "code",
   "execution_count": null,
   "metadata": {},
   "outputs": [],
   "source": [
    "theta_low  = np.array( effective_area['THETA_LO'] )[0]\n",
    "theta_high = np.array( effective_area['THETA_HI'] )[0]\n",
    "\n",
    "en_low     = np.array( effective_area['ENERG_LO'] )[0]\n",
    "en_high    = np.array( effective_area['ENERG_HI'] )[0]\n",
    "en_center = np.sqrt( en_low * en_high )\n",
    "delta_E  = (en_high - en_low)\n",
    "\n",
    "eff_area   = np.array( effective_area['EFFAREA'] )[0][0]\n",
    "\n"
   ]
  },
  {
   "cell_type": "code",
   "execution_count": null,
   "metadata": {},
   "outputs": [],
   "source": [
    "fig, ax = plt.subplots(figsize=(10,6),nrows=1, ncols=1)\n",
    "\n",
    "ax.scatter(en_center,  eff_area)\n",
    "\n",
    "\n",
    "ax.set_xlabel( ' Energy / TeV')\n",
    "ax.set_ylabel( ' Area / m^2')\n",
    "ax.set_xscale('log')\n",
    "ax.set_yscale('log')"
   ]
  },
  {
   "cell_type": "markdown",
   "metadata": {},
   "source": [
    " WE REMOVE BIN WITH EFF AREA = 0"
   ]
  },
  {
   "cell_type": "code",
   "execution_count": null,
   "metadata": {},
   "outputs": [],
   "source": [
    "cond = eff_area >0\n",
    "en_center = en_center[cond]\n",
    "en_low    = en_low[cond]\n",
    "en_high   = en_high[cond]\n",
    "delta_E    = delta_E[cond]\n",
    "\n",
    "eff_area  = eff_area[cond]"
   ]
  },
  {
   "cell_type": "markdown",
   "metadata": {},
   "source": [
    "### COMPUTE EXCESS"
   ]
  },
  {
   "cell_type": "markdown",
   "metadata": {},
   "source": [
    "We are now ready to compute the ON counts, OFF counts and the excess in each energy bin"
   ]
  },
  {
   "cell_type": "code",
   "execution_count": null,
   "metadata": {},
   "outputs": [],
   "source": [
    "excess = [] \n",
    "err_excess = []\n",
    "\n",
    "noff_list = []\n",
    "non_list  = []\n",
    "\n",
    "for i_en_low, i_en_high in zip( en_low, en_high):\n",
    "    cond_low  = events_table['ENERGY'] >= i_en_low\n",
    "    cond_high = events_table['ENERGY']  < i_en_high\n",
    "    cond_en   = cond_low* cond_high\n",
    "    \n",
    "    non    = np.sum( cond_en*cond_on)\n",
    "    \n",
    "    noff   = np.sum( cond_en*cond_off1) +\\\n",
    "             np.sum( cond_en*cond_off2) +\\\n",
    "             np.sum( cond_en*cond_off3) \n",
    "    \n",
    "    noff_list.append(noff)\n",
    "    non_list.append(non)\n",
    "    \n",
    "    excess.append( non - noff/3 )\n",
    "    err_excess.append( np.sqrt( non + (1/3)**2*noff) )\n",
    "    \n",
    "excess     = np.array(excess)\n",
    "err_excess = np.array(err_excess)\n",
    "\n",
    "non_list   = np.array(non_list)\n",
    "noff_list   = np.array(noff_list)"
   ]
  },
  {
   "cell_type": "markdown",
   "metadata": {},
   "source": [
    "Why did I put in the loop `non - noff/3` and not another number like for instance  `non - noff/5` ?"
   ]
  },
  {
   "cell_type": "markdown",
   "metadata": {},
   "source": [
    "Total Non events in each energy bin"
   ]
  },
  {
   "cell_type": "code",
   "execution_count": null,
   "metadata": {},
   "outputs": [],
   "source": [
    "print(non_list)"
   ]
  },
  {
   "cell_type": "markdown",
   "metadata": {},
   "source": [
    "Total Noff events in each energy bin"
   ]
  },
  {
   "cell_type": "code",
   "execution_count": null,
   "metadata": {},
   "outputs": [],
   "source": [
    "print(noff_list)"
   ]
  },
  {
   "cell_type": "markdown",
   "metadata": {},
   "source": [
    "Excess in each energy bin"
   ]
  },
  {
   "cell_type": "code",
   "execution_count": null,
   "metadata": {},
   "outputs": [],
   "source": [
    "print(excess)"
   ]
  },
  {
   "cell_type": "markdown",
   "metadata": {},
   "source": [
    "Excercise\n",
    "- Compute the Li&Ma significance for each energy bin using the value of Non and Noff computed (remeber that we are also using $\\alpha$ = 1/3)"
   ]
  },
  {
   "cell_type": "code",
   "execution_count": null,
   "metadata": {},
   "outputs": [],
   "source": [
    "fig, ax = plt.subplots(figsize=(10,6),nrows=1, ncols=1)\n",
    "\n",
    "\n",
    "ax.errorbar(x=en_center, y=excess, yerr=err_excess , xerr = delta_E/2 , c='black', capsize=2, fmt='o')\n",
    "\n",
    "ax.set_xlabel( ' Energy / TeV')\n",
    "ax.set_ylabel( ' Excess evenrts')\n",
    "ax.set_xscale('log')\n",
    "ax.set_yscale('log')"
   ]
  },
  {
   "cell_type": "markdown",
   "metadata": {},
   "source": [
    "WE THE REMOVE BIN WITH NEGATIVE OR ZERO EXCESS"
   ]
  },
  {
   "cell_type": "code",
   "execution_count": null,
   "metadata": {},
   "outputs": [],
   "source": [
    "cond = excess >0\n",
    "en_center = en_center[cond]\n",
    "en_low    = en_low[cond]\n",
    "en_high   = en_high[cond]\n",
    "delta_E    = delta_E[cond]\n",
    "\n",
    "eff_area  = eff_area[cond]\n",
    "\n",
    "excess     = excess[cond]\n",
    "err_excess = err_excess[cond]\n",
    "\n",
    "noff_list = noff_list[cond]\n",
    "non_list  = non_list[cond]"
   ]
  },
  {
   "cell_type": "markdown",
   "metadata": {},
   "source": [
    "### COMPUTE FLUX"
   ]
  },
  {
   "cell_type": "markdown",
   "metadata": {},
   "source": [
    "We are now finally ready to compute the flux in each energy bin"
   ]
  },
  {
   "cell_type": "code",
   "execution_count": null,
   "metadata": {},
   "outputs": [],
   "source": [
    "flux = excess/( eff_area * u.m**2)/ exposure_time/ ( delta_E *u.TeV)\n",
    "\n",
    "flux_err = err_excess/( eff_area * u.m**2)/ exposure_time/ ( delta_E *u.TeV)\n"
   ]
  },
  {
   "cell_type": "markdown",
   "metadata": {},
   "source": [
    "We can now plot the flux in energy"
   ]
  },
  {
   "cell_type": "markdown",
   "metadata": {},
   "source": [
    "For reference we will also print the flux we should expect from the Crab Nebula"
   ]
  },
  {
   "cell_type": "code",
   "execution_count": null,
   "metadata": {},
   "outputs": [],
   "source": [
    "def log_parababola( e, f0, E0, a, b):\n",
    "    return f0* (e/E0) **( - a + b* np.log( e/E0))"
   ]
  },
  {
   "cell_type": "code",
   "execution_count": null,
   "metadata": {},
   "outputs": [],
   "source": [
    "fig, ax = plt.subplots(figsize=(10,6),nrows=1, ncols=1)\n",
    "\n",
    "\n",
    "ax.errorbar(x=en_center, \n",
    "            y=flux.to( 1/(u.TeV * u.cm**2 * u.s) ).value, \n",
    "            yerr = flux_err.to( 1/(u.TeV * u.cm**2 * u.s) ).value , \n",
    "            xerr = delta_E/2 , c='black', capsize=2, fmt='o')\n",
    "\n",
    "x = np.logspace(-2,1,1000) * u.TeV\n",
    "f0 = 3.23e-11 * 1/(u.TeV * u.cm**2 * u.s)\n",
    "E0 = 1 * u.TeV\n",
    "a  = 2.47\n",
    "b  = -0.24\n",
    "y = log_parababola(x, f0, E0, a, b)\n",
    "\n",
    "ax.plot(x,y, c='black', alpha=0.5,label='Reference flux')\n",
    "\n",
    "ax.set_ylim([1e-14, None])\n",
    "\n",
    "ax.set_xlabel( ' Energy / TeV')\n",
    "\n",
    "ax.set_ylabel( ' Flux / cm^2 s TeV')\n",
    "ax.set_xscale('log')\n",
    "ax.set_yscale('log')\n",
    "ax.legend();"
   ]
  },
  {
   "cell_type": "markdown",
   "metadata": {},
   "source": [
    "# SED WITH GAMMAPY "
   ]
  },
  {
   "cell_type": "code",
   "execution_count": null,
   "metadata": {},
   "outputs": [],
   "source": [
    "import gammapy\n",
    "import gammapy.irf as irf\n",
    "from gammapy.irf import load_cta_irfs\n",
    "from gammapy.data import Observation, Observations, DataStore\n",
    "\n",
    "from gammapy.maps import MapAxis, WcsGeom, Map, RegionGeom\n",
    "from gammapy.makers import SafeMaskMaker, MapDatasetMaker, SpectrumDatasetMaker, ReflectedRegionsBackgroundMaker, WobbleRegionsFinder\n",
    "from gammapy.estimators import FluxPointsEstimator\n",
    "\n",
    "import regions\n",
    "from regions import CircleSkyRegion, PointSkyRegion\n",
    "\n",
    "from gammapy.modeling import Fit\n",
    "from gammapy.modeling.models import (\n",
    "    Model,\n",
    "    Models,\n",
    "    SkyModel,\n",
    "    PowerLawSpectralModel,\n",
    "    PowerLawNormSpectralModel,\n",
    "    ExpCutoffPowerLawSpectralModel,\n",
    "    PointSpatialModel,\n",
    "    GaussianSpatialModel,\n",
    "    TemplateSpatialModel,\n",
    "    FoVBackgroundModel,\n",
    "    SpectralModel,\n",
    "    #Parameter, \n",
    "    TemplateSpectralModel\n",
    ")\n",
    "# dataset modules\n",
    "from gammapy.datasets import (\n",
    "    MapDataset, \n",
    "    MapDatasetOnOff, \n",
    "    MapDatasetEventSampler,\n",
    "    SpectrumDatasetOnOff,\n",
    "    SpectrumDataset, \n",
    "    Datasets,\n",
    "    FluxPointsDataset\n",
    ")\n",
    "\n",
    "from gammapy.visualization import plot_spectrum_datasets_off_regions"
   ]
  },
  {
   "cell_type": "markdown",
   "metadata": {},
   "source": [
    "For loading \n",
    "- Crab Nebula ( MAGIC , VERITAS)\n",
    "- Mrk421 (MAGIC)\n",
    "- NGC1275 (MAGIC)\n",
    "- IC310 (MAGIC)\n",
    "- PKS 2155-304 (HESS, but use second method)"
   ]
  },
  {
   "cell_type": "code",
   "execution_count": null,
   "metadata": {},
   "outputs": [],
   "source": [
    "observations_crab = Observations()\n",
    "for filename in glob.glob(f\"../../data/crab_nebula/magic/*fits\"):\n",
    "    observations_crab.append(Observation.read(filename))"
   ]
  },
  {
   "cell_type": "markdown",
   "metadata": {},
   "source": [
    "For loading \n",
    "- Crab Nebula ( FACT,  HESS, but use second method)"
   ]
  },
  {
   "cell_type": "code",
   "execution_count": null,
   "metadata": {},
   "outputs": [],
   "source": [
    "datastore = DataStore.from_dir(f\"../../data/crab_nebula/hess/\")\n",
    "\n",
    "observations_crab = datastore.get_observations(\n",
    "    required_irf=[\"aeff\", \"edisp\"]\n",
    ")\n",
    "\n",
    "#obs_ids = [5029747,5029748 ]\n",
    "#obs_ids = [54809,57993 ]\n",
    "#obs_ids = [5059487,5059488]\n",
    "#observations_crab = datastore.get_observations(obs_ids, required_irf='point-like')"
   ]
  },
  {
   "cell_type": "markdown",
   "metadata": {},
   "source": [
    "Define poston of the source target\n",
    "\n",
    "Chosse the one you are analyzing"
   ]
  },
  {
   "cell_type": "code",
   "execution_count": null,
   "metadata": {},
   "outputs": [],
   "source": [
    "target_position =SkyCoord.from_name('NGC1275')"
   ]
  },
  {
   "cell_type": "code",
   "execution_count": null,
   "metadata": {},
   "outputs": [],
   "source": [
    "target_position = SkyCoord.from_name('Mrk421')"
   ]
  },
  {
   "cell_type": "code",
   "execution_count": null,
   "metadata": {},
   "outputs": [],
   "source": [
    "target_position = SkyCoord.from_name('IC310')"
   ]
  },
  {
   "cell_type": "code",
   "execution_count": null,
   "metadata": {},
   "outputs": [],
   "source": [
    "target_position = SkyCoord.from_name('PKS 2155-304')"
   ]
  },
  {
   "cell_type": "code",
   "execution_count": null,
   "metadata": {},
   "outputs": [],
   "source": [
    "target_position = SkyCoord(ra=83.63, dec=22.0145, unit=\"deg\", frame=\"icrs\")"
   ]
  },
  {
   "cell_type": "markdown",
   "metadata": {},
   "source": [
    "Energy axes"
   ]
  },
  {
   "cell_type": "code",
   "execution_count": null,
   "metadata": {},
   "outputs": [],
   "source": [
    "energy_axis = MapAxis.from_energy_bounds(\n",
    "    0.03204001, 6.185958, nbin=12, per_decade=False, unit=\"TeV\", name=\"energy\"\n",
    ")\n",
    "energy_axis_true = MapAxis.from_energy_bounds(\n",
    "   0.01, 10, nbin=12, per_decade=False, unit=\"TeV\", name=\"energy_true\"\n",
    ")\n",
    "\n",
    "geom = RegionGeom.create(region=on_region, axes=[energy_axis])\n",
    "\n",
    "dataset_empty = SpectrumDataset.create(\n",
    "    energy_axis_true=energy_axis_true, geom=geom\n",
    ")\n"
   ]
  },
  {
   "cell_type": "markdown",
   "metadata": {},
   "source": [
    "### Dataset creation"
   ]
  },
  {
   "cell_type": "code",
   "execution_count": null,
   "metadata": {},
   "outputs": [],
   "source": [
    "#Number of off regions to be used to estimate the background\n",
    "on_center = PointSkyRegion(target_position)\n",
    "geom = RegionGeom.create(region=on_center, axes=[energy_axis])\n",
    "\n",
    "dataset_empty = SpectrumDataset.create(\n",
    "    energy_axis_true=energy_axis_true, geom=geom\n",
    ")\n",
    "\n",
    "\n",
    "n_off_regions = 3\n",
    "region_finder = WobbleRegionsFinder(n_off_regions=n_off_regions)\n",
    "bkg_maker = ReflectedRegionsBackgroundMaker(region_finder=region_finder)\n",
    "\n",
    "emin             = 80*u.GeV\n",
    "emax             = 2.1*u.TeV\n",
    "datasets = Datasets()\n",
    "for obs in observations_crab:\n",
    "    dataset = dataset_maker.run(dataset_empty.copy(name=f\"{obs.obs_id}\"), obs)\n",
    "    dataset.mask_fit = dataset.counts.geom.energy_mask(emin, emax)\n",
    "    dataset_on_off = bkg_maker.run(dataset, obs)\n",
    "    dataset_on_off.mask_fit = dataset_on_off.counts.geom.energy_mask(emin, emax)\n",
    "    datasets.append(dataset_on_off)"
   ]
  },
  {
   "cell_type": "markdown",
   "metadata": {
    "jp-MarkdownHeadingCollapsed": true,
    "tags": []
   },
   "source": [
    "### Dataset creation with second method"
   ]
  },
  {
   "cell_type": "code",
   "execution_count": null,
   "metadata": {},
   "outputs": [],
   "source": [
    "# for FACT Crab Nebula\n",
    "#theta = observations_crab[0].aeff.meta['RAD_MAX']\n",
    "#assert all(o.aeff.meta['RAD_MAX'] == theta for o in observations_crab)\n",
    "\n",
    "# for HESS PKS and Crab Nebula\n",
    "theta = 0.1\n",
    "\n",
    "on_region_radius = Angle(theta*u.deg)\n",
    "on_region = CircleSkyRegion(center=target_position, radius=on_region_radius)\n",
    "\n",
    "skydir = target_position.galactic"
   ]
  },
  {
   "cell_type": "code",
   "execution_count": null,
   "metadata": {},
   "outputs": [],
   "source": [
    "%%time\n",
    "\n",
    "dataset_maker = SpectrumDatasetMaker(\n",
    "     selection=[\"counts\", \"exposure\",\"edisp\"]\n",
    ")\n",
    "bkg_maker = ReflectedRegionsBackgroundMaker(\n",
    "                                            min_distance=\"45 deg\",\n",
    "                                            min_distance_input=\"5 deg\",\n",
    "                                           max_region_number=3)\n",
    "\n",
    "\n",
    "datasets = Datasets()\n",
    "\n",
    "#for obs_id, observation in zip(obs_ids, observations_crab):\n",
    "for observation in observations_crab:\n",
    "\n",
    "    dataset = dataset_maker.run(\n",
    "        dataset_empty.copy(name=str(observation.obs_id)), observation\n",
    "    )\n",
    "    dataset_on_off = bkg_maker.run(dataset\n",
    "                                   , observation)\n",
    "\n",
    "    datasets.append(dataset_on_off)"
   ]
  },
  {
   "cell_type": "markdown",
   "metadata": {},
   "source": [
    "### Flux computation"
   ]
  },
  {
   "cell_type": "code",
   "execution_count": null,
   "metadata": {},
   "outputs": [],
   "source": [
    "gammapy_on         = dataset_on_off.counts.data.flatten()\n",
    "gammapy_off        = dataset_on_off.counts_off.data.flatten()\n",
    "gammapy_excess     = dataset_on_off.excess.data.flatten()\n",
    "gammapy_excess_err = np.sqrt(gammapy_on + gammapy_off*(1/3)**2)"
   ]
  },
  {
   "cell_type": "markdown",
   "metadata": {},
   "source": [
    "For consistency and comparison with the previous results, we are going to use the same energy edges"
   ]
  },
  {
   "cell_type": "code",
   "execution_count": null,
   "metadata": {},
   "outputs": [],
   "source": [
    "energy_edges= np.array( [ 0.03204001, 0.04967855, 0.07702737, 0.11943215, 0.18518144,\n",
    "       0.28712675, 0.44519454, 0.69028115, 1.0702919 , 1.6595044 ,\n",
    "       2.5730877 , 3.989613 , 6.185958]) * u.TeV"
   ]
  },
  {
   "cell_type": "code",
   "execution_count": null,
   "metadata": {},
   "outputs": [],
   "source": [
    "spectral_model = ExpCutoffPowerLawSpectralModel(\n",
    "    amplitude=1e-12 * u.Unit(\"cm-2 s-1 TeV-1\"),\n",
    "    index=2,\n",
    "    lambda_=0.1 * u.Unit(\"TeV-1\"),\n",
    "    reference=1 * u.TeV,\n",
    ")\n",
    "model = SkyModel(spectral_model=spectral_model, name=\"crab\")\n",
    "\n",
    "datasets.models = [model]\n",
    "\n",
    "fit = Fit()\n",
    "result = fit.run(datasets=datasets)"
   ]
  },
  {
   "cell_type": "code",
   "execution_count": null,
   "metadata": {},
   "outputs": [],
   "source": [
    "fpe = FluxPointsEstimator(\n",
    "    energy_edges=energy_edges, source='crab', selection_optional=\"all\"\n",
    ")"
   ]
  },
  {
   "cell_type": "code",
   "execution_count": null,
   "metadata": {},
   "outputs": [],
   "source": [
    "gammapy_flux = []\n",
    "gammapy_flux_err = []\n",
    "\n",
    "for energy_min, energy_max in zip(fpe.energy_edges[:-1], fpe.energy_edges[1:]):\n",
    "    print(energy_min)\n",
    "    row = fpe.estimate_flux_point(\n",
    "        datasets,\n",
    "        energy_min=energy_min,\n",
    "        energy_max=energy_max,\n",
    "    )\n",
    "    gammapy_flux.append(row['ref_dnde'].value)"
   ]
  },
  {
   "cell_type": "markdown",
   "metadata": {
    "tags": []
   },
   "source": [
    "# COMPARISON GAMMAPY AND ASTROPY"
   ]
  },
  {
   "cell_type": "code",
   "execution_count": null,
   "metadata": {},
   "outputs": [],
   "source": [
    "\n",
    "fig, ax = plt.subplots(figsize=(10,6),nrows=1, ncols=1)\n",
    "\n",
    "ax.errorbar(x=en_center, y=excess, yerr=err_excess , xerr = delta_E/2 , c='black', capsize=2, fmt='o', label='Astropy')\n",
    "ax.errorbar(x=en_center, y=gammapy_excess, yerr=gammapy_excess_err , xerr = delta_E/2 , c='blue', capsize=2, fmt='o',alpha=0.5, label='Gammapy')\n",
    "\n",
    "ax.set_xlabel( ' Energy / TeV')\n",
    "ax.set_ylabel( ' Counts')\n",
    "ax.set_xscale('log')\n",
    "ax.set_yscale('log')\n",
    "ax.set_title('Excess ')\n",
    "ax.legend();"
   ]
  },
  {
   "cell_type": "code",
   "execution_count": null,
   "metadata": {},
   "outputs": [],
   "source": [
    "fig, ax = plt.subplots(figsize=(10,6),nrows=1, ncols=1)\n",
    "\n",
    "ax.errorbar(x=en_center, y=non_list, yerr=np.sqrt(non_list) , xerr = delta_E/2 , c='black', capsize=2, fmt='o', label='Astropy')\n",
    "ax.errorbar(x=en_center, y=gammapy_on, yerr=np.sqrt(gammapy_on) , xerr = delta_E/2 , c='blue',  alpha=0.5,capsize=2, fmt='o', label='Gammapy')\n",
    "\n",
    "ax.set_xlabel( ' Energy / TeV')\n",
    "ax.set_ylabel( ' Counts')\n",
    "ax.set_xscale('log')\n",
    "ax.set_yscale('log')\n",
    "ax.set_title('ON ')\n",
    "ax.legend();"
   ]
  },
  {
   "cell_type": "code",
   "execution_count": null,
   "metadata": {},
   "outputs": [],
   "source": [
    "fig, ax = plt.subplots(figsize=(10,6),nrows=1, ncols=1)\n",
    "\n",
    "ax.errorbar(x=en_center, y=noff_list, yerr=np.sqrt(noff_list) , xerr = delta_E/2 , c='black', capsize=2, fmt='o', label='Astropy')\n",
    "ax.errorbar(x=en_center, y=gammapy_off, yerr=np.sqrt(gammapy_off) , xerr = delta_E/2 , c='blue',  alpha=0.5,capsize=2, fmt='o', label='Gammapy')\n",
    "\n",
    "ax.set_xlabel( ' Energy / TeV')\n",
    "ax.set_ylabel( ' Counts')\n",
    "ax.set_xscale('log')\n",
    "ax.set_yscale('log')\n",
    "ax.set_title('OFF ')\n",
    "ax.legend();"
   ]
  },
  {
   "cell_type": "code",
   "execution_count": null,
   "metadata": {},
   "outputs": [],
   "source": [
    "fig, ax = plt.subplots(figsize=(10,6),nrows=1, ncols=1)\n",
    "\n",
    "\n",
    "ax.errorbar(x=en_center, \n",
    "            y=flux.to( 1/(u.TeV * u.cm**2 * u.s) ).value, \n",
    "            yerr = flux_err.to( 1/(u.TeV * u.cm**2 * u.s) ).value , \n",
    "            xerr = delta_E/2 , c='black', capsize=2, fmt='o', label='Astropy')\n",
    "\n",
    "ax.errorbar(x=en_center, \n",
    "            y=gammapy_flux, \n",
    "            yerr = 0 , \n",
    "            xerr = delta_E/2 , c='blue', capsize=2, fmt='o',label='Gammapy - Unfolded')\n",
    "\n",
    "\n",
    "x = np.logspace(-2,1,1000) * u.TeV\n",
    "f0 = 3.23e-11 * 1/(u.TeV * u.cm**2 * u.s)\n",
    "E0 = 1 * u.TeV\n",
    "a  = 2.47\n",
    "b  = -0.24\n",
    "y = log_parababola(x, f0, E0, a, b)\n",
    "\n",
    "ax.plot(x,y, c='black', alpha=0.5,label='Reference flux')\n",
    "\n",
    "ax.set_ylim([1e-13, None])\n",
    "\n",
    "ax.set_xlabel( ' Energy / TeV')\n",
    "\n",
    "ax.set_ylabel( ' Flux / cm^2 s TeV')\n",
    "ax.set_xscale('log')\n",
    "ax.set_yscale('log')\n",
    "ax.legend();"
   ]
  }
 ],
 "metadata": {
  "kernelspec": {
   "display_name": "Python 3 (ipykernel)",
   "language": "python",
   "name": "python3"
  },
  "language_info": {
   "codemirror_mode": {
    "name": "ipython",
    "version": 3
   },
   "file_extension": ".py",
   "mimetype": "text/x-python",
   "name": "python",
   "nbconvert_exporter": "python",
   "pygments_lexer": "ipython3",
   "version": "3.9.0"
  }
 },
 "nbformat": 4,
 "nbformat_minor": 4
}
