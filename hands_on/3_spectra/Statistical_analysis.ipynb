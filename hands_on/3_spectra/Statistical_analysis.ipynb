{
 "cells": [
  {
   "cell_type": "markdown",
   "id": "38bed009",
   "metadata": {},
   "source": [
    "## Load the modules"
   ]
  },
  {
   "cell_type": "code",
   "execution_count": 42,
   "id": "37bec552",
   "metadata": {},
   "outputs": [],
   "source": [
    "%matplotlib inline\n",
    "import matplotlib.pyplot as plt\n",
    "plt.rc('xtick', labelsize=20)   \n",
    "plt.rc('ytick', labelsize=20)\n",
    "plt.rc('text', usetex=True)\n",
    "plt.rc('font', family='serif',size=25)\n",
    "\n",
    "import numpy as np\n",
    "import astropy\n",
    "import astropy.units as u\n",
    "from astropy.io import fits\n",
    "from astropy.coordinates import SkyCoord, Angle\n",
    "from pathlib import Path\n",
    "import regions\n",
    "from regions import CircleSkyRegion, PointSkyRegion\n",
    "\n",
    "#import pickle\n",
    "#import glob"
   ]
  },
  {
   "cell_type": "markdown",
   "id": "665b311d",
   "metadata": {},
   "source": [
    "## Load the gammapy modules"
   ]
  },
  {
   "cell_type": "code",
   "execution_count": 55,
   "id": "672a64b2",
   "metadata": {
    "scrolled": true
   },
   "outputs": [],
   "source": [
    "import gammapy\n",
    "import gammapy.irf as irf\n",
    "from gammapy.irf import load_cta_irfs\n",
    "from gammapy.data import Observation, Observations, DataStore\n",
    "#from gammapy.utils.random import get_random_state\n",
    "from gammapy.maps import MapAxis, WcsGeom, Map, RegionGeom\n",
    "from gammapy.makers import SafeMaskMaker, MapDatasetMaker, SpectrumDatasetMaker, ReflectedRegionsBackgroundMaker, WobbleRegionsFinder\n",
    "from gammapy.estimators import FluxPointsEstimator\n",
    "\n",
    "# models modules\n",
    "from gammapy.modeling import Fit\n",
    "from gammapy.modeling.models import (\n",
    "    Model,\n",
    "    Models,\n",
    "    SkyModel,\n",
    "    PowerLawSpectralModel,\n",
    "    PowerLawNormSpectralModel,\n",
    "    ExpCutoffPowerLawSpectralModel,\n",
    "    PointSpatialModel,\n",
    "    GaussianSpatialModel,\n",
    "    TemplateSpatialModel,\n",
    "    FoVBackgroundModel,\n",
    "    SpectralModel,\n",
    "    #Parameter, \n",
    "    TemplateSpectralModel\n",
    ")\n",
    "# dataset modules\n",
    "from gammapy.datasets import (\n",
    "    MapDataset, \n",
    "    MapDatasetOnOff, \n",
    "    MapDatasetEventSampler,\n",
    "    SpectrumDatasetOnOff,\n",
    "    SpectrumDataset, \n",
    "    Datasets,\n",
    "    FluxPointsDataset\n",
    ")"
   ]
  },
  {
   "cell_type": "markdown",
   "id": "6823dc01",
   "metadata": {},
   "source": [
    "### Check the versions of the packages"
   ]
  },
  {
   "cell_type": "code",
   "execution_count": 44,
   "id": "8fca8471",
   "metadata": {},
   "outputs": [
    {
     "name": "stdout",
     "output_type": "stream",
     "text": [
      "gammapy: 0.20\n",
      "numpy: 1.22.3\n",
      "astropy 5.0.4\n",
      "regions 0.6\n"
     ]
    }
   ],
   "source": [
    "print(\"gammapy:\", gammapy.__version__)\n",
    "print(\"numpy:\", np.__version__)\n",
    "print(\"astropy\", astropy.__version__)\n",
    "print(\"regions\", regions.__version__)"
   ]
  },
  {
   "cell_type": "markdown",
   "id": "73a4c5ab",
   "metadata": {},
   "source": [
    "## Load the DL3 data"
   ]
  },
  {
   "cell_type": "code",
   "execution_count": 125,
   "id": "912b65d0",
   "metadata": {
    "scrolled": true
   },
   "outputs": [
    {
     "name": "stderr",
     "output_type": "stream",
     "text": [
      "No HDU found matching: OBS_ID = 5029747, HDU_TYPE = rad_max, HDU_CLASS = None\n",
      "Skipping run with missing HDUs; obs_id: 5029747\n",
      "No HDU found matching: OBS_ID = 5029748, HDU_TYPE = rad_max, HDU_CLASS = None\n",
      "Skipping run with missing HDUs; obs_id: 5029748\n"
     ]
    }
   ],
   "source": [
    "datastore = DataStore.from_dir(f\"../../arqus/data/crab_nebula/magic/\")\n",
    "obs_ids = [5029747, 5029748]\n",
    "\n",
    "#NOT WORKING FOR THE CASE OF THE POINT-LIKE, GETTING AN ERROR WHEN CREATING THE DATASETS. \n",
    "#observations_crab = datastore.get_observations(obs_ids, required_irf='point-like')\n",
    "\n",
    "# THIS IS A LIND FROM THE GAMMAPY NOTEBOOKS, THE DATA SEEMS TO BE THE SAME, BUT ALSO NOT WORKING, NO DATA LOADED\n",
    "observations_crab = datastore.get_observations(\n",
    "    required_irf=[\"aeff\", \"edisp\", \"rad_max\"]\n",
    ")"
   ]
  },
  {
   "cell_type": "code",
   "execution_count": null,
   "id": "42b35baa",
   "metadata": {},
   "outputs": [],
   "source": []
  },
  {
   "cell_type": "markdown",
   "id": "f4749e40",
   "metadata": {},
   "source": [
    "### Task 1: Print the observations"
   ]
  },
  {
   "cell_type": "code",
   "execution_count": null,
   "id": "7f4d5a05",
   "metadata": {},
   "outputs": [],
   "source": []
  },
  {
   "cell_type": "code",
   "execution_count": 124,
   "id": "5144f638",
   "metadata": {
    "scrolled": true
   },
   "outputs": [
    {
     "name": "stdout",
     "output_type": "stream",
     "text": [
      "Observations\n",
      "Number of observations: 0\n",
      "\n"
     ]
    }
   ],
   "source": [
    "# %load ./Solutions/print_crab.py\n",
    "print(observations_crab)\n"
   ]
  },
  {
   "cell_type": "markdown",
   "id": "17f0215a",
   "metadata": {},
   "source": [
    "### Task 2:  Check RA and DEC coordinates for Crab Nebula to define the region of interest (ROI)"
   ]
  },
  {
   "cell_type": "code",
   "execution_count": null,
   "id": "bb3980b6",
   "metadata": {},
   "outputs": [],
   "source": []
  },
  {
   "cell_type": "code",
   "execution_count": 50,
   "id": "0a1d0c53",
   "metadata": {},
   "outputs": [
    {
     "data": {
      "text/plain": [
       "<SkyCoord (ICRS): (ra, dec) in deg\n",
       "    (83.63308333, 22.0145)>"
      ]
     },
     "execution_count": 50,
     "metadata": {},
     "output_type": "execute_result"
    }
   ],
   "source": [
    "# %load ./Solutions/coord.py\n",
    "SkyCoord.from_name(\"Crab Nebula\")\n"
   ]
  },
  {
   "cell_type": "markdown",
   "id": "7efa5b55",
   "metadata": {},
   "source": [
    "## Define the Circle sky region around our source"
   ]
  },
  {
   "cell_type": "code",
   "execution_count": 66,
   "id": "3893d0d1",
   "metadata": {},
   "outputs": [
    {
     "name": "stdout",
     "output_type": "stream",
     "text": [
      "0.1414213\n"
     ]
    }
   ],
   "source": [
    "target_position = SkyCoord(ra=83.63, dec=22.0145, unit=\"deg\", frame=\"icrs\")\n",
    "\n",
    "theta = observations_crab[0].aeff.meta['RAD_MAX']\n",
    "assert all(o.aeff.meta['RAD_MAX'] == theta for o in observations_crab)\n",
    "\n",
    "on_region_radius = Angle(theta*u.deg)\n",
    "on_region = CircleSkyRegion(center=target_position, radius=on_region_radius)\n",
    "\n",
    "skydir = target_position.galactic"
   ]
  },
  {
   "cell_type": "markdown",
   "id": "96d8a4ed",
   "metadata": {},
   "source": [
    "In order to take into account possible sources around the Crab Nebula, we need to create an exclusion mask."
   ]
  },
  {
   "cell_type": "markdown",
   "id": "8600b4f5",
   "metadata": {},
   "source": [
    "### Task 3: Using the webpage http://gamma-sky.net/ find if there is a known gamma-ray source near Crab Nebula, and if there is one, its coordinates."
   ]
  },
  {
   "cell_type": "code",
   "execution_count": null,
   "id": "a00658c2",
   "metadata": {},
   "outputs": [],
   "source": []
  },
  {
   "cell_type": "code",
   "execution_count": null,
   "id": "b2001cd3",
   "metadata": {},
   "outputs": [],
   "source": [
    "# %load ./Solutions/exclusion_region.py\n",
    "In the vicinity of  Crab Nebula, there is only one known gamma-ray source, the AGN called RGB J0521+212 with galactic coordinates GLON = 183.604 deg and GLAT = -8.708 deg.\n"
   ]
  },
  {
   "cell_type": "code",
   "execution_count": 78,
   "id": "eb194ce6",
   "metadata": {},
   "outputs": [
    {
     "data": {
      "image/png": "[encoded data removed]",
      "text/plain": [
       "<Figure size 432x288 with 1 Axes>"
      ]
     },
     "metadata": {
      "needs_background": "light"
     },
     "output_type": "display_data"
    }
   ],
   "source": [
    "exclusion_region = CircleSkyRegion(\n",
    "    center=SkyCoord(183.604, -8.708, unit=\"deg\", frame=\"galactic\"),\n",
    "    radius=0.5* u.deg,\n",
    ")\n",
    "skydir = target_position.galactic\n",
    "geom =  WcsGeom.create(\n",
    "    npix=(150, 150), binsz=0.05, skydir=skydir, proj=\"TAN\", frame=\"icrs\"\n",
    ")\n",
    "\n",
    "exclusion_mask = ~geom.region_mask([exclusion_region])\n",
    "exclusion_mask.plot();"
   ]
  },
  {
   "cell_type": "markdown",
   "id": "2241de7c",
   "metadata": {},
   "source": [
    "### Create the Datasets - data reduction chain"
   ]
  },
  {
   "cell_type": "code",
   "execution_count": 102,
   "id": "35c09f28",
   "metadata": {},
   "outputs": [],
   "source": [
    "energy_axis = MapAxis.from_energy_bounds(\n",
    "    0.1, 40, nbin=10, per_decade=True, unit=\"TeV\", name=\"energy\"\n",
    ")\n",
    "energy_axis_true = MapAxis.from_energy_bounds(\n",
    "    0.05, 100, nbin=20, per_decade=True, unit=\"TeV\", name=\"energy_true\"\n",
    ")\n",
    "\n",
    "geom = RegionGeom.create(region=on_region, axes=[energy_axis])\n",
    "dataset_empty = SpectrumDataset.create(\n",
    "    energy_axis_true=energy_axis_true, geom=geom\n",
    ")\n"
   ]
  },
  {
   "cell_type": "code",
   "execution_count": 108,
   "id": "a0395be2",
   "metadata": {},
   "outputs": [],
   "source": [
    "dataset_maker = SpectrumDatasetMaker(\n",
    "    containment_correction=True, selection=[\"counts\", \"exposure\", \"edisp\"]\n",
    ")\n",
    "bkg_maker = ReflectedRegionsBackgroundMaker(exclusion_mask=exclusion_mask)\n",
    "\n",
    "safe_mask_masker = SafeMaskMaker(methods=[\"aeff-max\"], aeff_percent=5)"
   ]
  },
  {
   "cell_type": "code",
   "execution_count": 109,
   "id": "eea23645",
   "metadata": {
    "scrolled": false
   },
   "outputs": [
    {
     "ename": "ValueError",
     "evalue": "Cannot apply containment correction for point-like IRF.",
     "output_type": "error",
     "traceback": [
      "\u001b[0;31m---------------------------------------------------------------------------\u001b[0m",
      "\u001b[0;31mValueError\u001b[0m                                Traceback (most recent call last)",
      "File \u001b[0;32m<timed exec>:4\u001b[0m, in \u001b[0;36m<module>\u001b[0;34m\u001b[0m\n",
      "File \u001b[0;32m~/anaconda3/envs/gammapy-0.20/lib/python3.8/site-packages/gammapy/makers/map.py:366\u001b[0m, in \u001b[0;36mMapDatasetMaker.run\u001b[0;34m(self, dataset, observation)\u001b[0m\n\u001b[1;32m    363\u001b[0m kwargs[\u001b[38;5;124m\"\u001b[39m\u001b[38;5;124mcounts\u001b[39m\u001b[38;5;124m\"\u001b[39m] \u001b[38;5;241m=\u001b[39m counts\n\u001b[1;32m    365\u001b[0m \u001b[38;5;28;01mif\u001b[39;00m \u001b[38;5;124m\"\u001b[39m\u001b[38;5;124mexposure\u001b[39m\u001b[38;5;124m\"\u001b[39m \u001b[38;5;129;01min\u001b[39;00m \u001b[38;5;28mself\u001b[39m\u001b[38;5;241m.\u001b[39mselection:\n\u001b[0;32m--> 366\u001b[0m     exposure \u001b[38;5;241m=\u001b[39m \u001b[38;5;28;43mself\u001b[39;49m\u001b[38;5;241;43m.\u001b[39;49m\u001b[43mmake_exposure\u001b[49m\u001b[43m(\u001b[49m\u001b[43mdataset\u001b[49m\u001b[38;5;241;43m.\u001b[39;49m\u001b[43mexposure\u001b[49m\u001b[38;5;241;43m.\u001b[39;49m\u001b[43mgeom\u001b[49m\u001b[43m,\u001b[49m\u001b[43m \u001b[49m\u001b[43mobservation\u001b[49m\u001b[43m)\u001b[49m\n\u001b[1;32m    367\u001b[0m     kwargs[\u001b[38;5;124m\"\u001b[39m\u001b[38;5;124mexposure\u001b[39m\u001b[38;5;124m\"\u001b[39m] \u001b[38;5;241m=\u001b[39m exposure\n\u001b[1;32m    369\u001b[0m \u001b[38;5;28;01mif\u001b[39;00m \u001b[38;5;124m\"\u001b[39m\u001b[38;5;124mbackground\u001b[39m\u001b[38;5;124m\"\u001b[39m \u001b[38;5;129;01min\u001b[39;00m \u001b[38;5;28mself\u001b[39m\u001b[38;5;241m.\u001b[39mselection:\n",
      "File \u001b[0;32m~/anaconda3/envs/gammapy-0.20/lib/python3.8/site-packages/gammapy/makers/spectrum.py:77\u001b[0m, in \u001b[0;36mSpectrumDatasetMaker.make_exposure\u001b[0;34m(self, geom, observation)\u001b[0m\n\u001b[1;32m     75\u001b[0m \u001b[38;5;28;01mif\u001b[39;00m \u001b[38;5;28mself\u001b[39m\u001b[38;5;241m.\u001b[39mcontainment_correction:\n\u001b[1;32m     76\u001b[0m     \u001b[38;5;28;01mif\u001b[39;00m is_pointlike:\n\u001b[0;32m---> 77\u001b[0m         \u001b[38;5;28;01mraise\u001b[39;00m \u001b[38;5;167;01mValueError\u001b[39;00m(\n\u001b[1;32m     78\u001b[0m             \u001b[38;5;124m\"\u001b[39m\u001b[38;5;124mCannot apply containment correction for point-like IRF.\u001b[39m\u001b[38;5;124m\"\u001b[39m\n\u001b[1;32m     79\u001b[0m         )\n\u001b[1;32m     81\u001b[0m     \u001b[38;5;28;01mif\u001b[39;00m \u001b[38;5;129;01mnot\u001b[39;00m \u001b[38;5;28misinstance\u001b[39m(geom\u001b[38;5;241m.\u001b[39mregion, CircleSkyRegion):\n\u001b[1;32m     82\u001b[0m         \u001b[38;5;28;01mraise\u001b[39;00m \u001b[38;5;167;01mTypeError\u001b[39;00m(\n\u001b[1;32m     83\u001b[0m             \u001b[38;5;124m\"\u001b[39m\u001b[38;5;124mContainment correction only supported for circular regions.\u001b[39m\u001b[38;5;124m\"\u001b[39m\n\u001b[1;32m     84\u001b[0m         )\n",
      "\u001b[0;31mValueError\u001b[0m: Cannot apply containment correction for point-like IRF."
     ]
    }
   ],
   "source": [
    "%%time\n",
    "datasets = Datasets()\n",
    "\n",
    "for obs_id, observation in zip(obs_ids, observations_crab):\n",
    "    dataset = dataset_maker.run(\n",
    "        dataset_empty.copy(name=str(obs_id)), observation\n",
    "    )\n",
    "    dataset_on_off = bkg_maker.run(dataset, observation)\n",
    "    dataset_on_off = safe_mask_masker.run(dataset_on_off, observation)\n",
    "    datasets.append(dataset_on_off)"
   ]
  },
  {
   "cell_type": "markdown",
   "id": "1e7196e0",
   "metadata": {},
   "source": [
    "### We can see that the spectrum datasets contains all the ingredients for the likelihood calculation"
   ]
  },
  {
   "cell_type": "code",
   "execution_count": null,
   "id": "4234f7ef",
   "metadata": {},
   "outputs": [],
   "source": [
    "datasets[0].peek()"
   ]
  },
  {
   "cell_type": "markdown",
   "id": "f024e8a8",
   "metadata": {},
   "source": [
    "### Plot the off regions"
   ]
  },
  {
   "cell_type": "code",
   "execution_count": null,
   "id": "5a91fc50",
   "metadata": {},
   "outputs": [],
   "source": [
    "plt.figure(figsize=(8, 8))\n",
    "ax = exclusion_mask.plot()\n",
    "on_region.to_pixel(ax.wcs).plot(ax=ax, edgecolor=\"k\")\n",
    "plot_spectrum_datasets_off_regions(ax=ax, datasets=datasets)"
   ]
  },
  {
   "cell_type": "markdown",
   "id": "c592c591",
   "metadata": {},
   "source": [
    "## Define the spectral model and run the fit"
   ]
  },
  {
   "cell_type": "code",
   "execution_count": null,
   "id": "73bb243e",
   "metadata": {},
   "outputs": [],
   "source": [
    "spectral_model = ExpCutoffPowerLawSpectralModel(\n",
    "    amplitude=1e-12 * u.Unit(\"cm-2 s-1 TeV-1\"),\n",
    "    index=2,\n",
    "    lambda_=0.1 * u.Unit(\"TeV-1\"),\n",
    "    reference=1 * u.TeV,\n",
    ")\n",
    "model = SkyModel(spectral_model=spectral_model, name=\"crab\")\n",
    "\n",
    "datasets.models = [model]\n",
    "\n",
    "fit = Fit()\n",
    "result = fit.run(datasets=datasets)"
   ]
  },
  {
   "cell_type": "markdown",
   "id": "d4126e0b",
   "metadata": {},
   "source": [
    "#### Plot the results and the parameters of the fit"
   ]
  },
  {
   "cell_type": "code",
   "execution_count": null,
   "id": "8c66851a",
   "metadata": {},
   "outputs": [],
   "source": [
    "print(result)\n",
    "datasets.models.to_parameters_table()\n",
    "print(result.total_stat)"
   ]
  },
  {
   "cell_type": "markdown",
   "id": "8a641e9a",
   "metadata": {},
   "source": [
    "## Compute the flux points"
   ]
  },
  {
   "cell_type": "markdown",
   "id": "a279eaba",
   "metadata": {},
   "source": [
    "We can compute flux points by fitting the norm of the global model in energy bands. We’ll use a fixed energy binning for now:"
   ]
  },
  {
   "cell_type": "code",
   "execution_count": 34,
   "id": "bfc71f9e",
   "metadata": {},
   "outputs": [],
   "source": [
    "e_min, e_max = 0.7, 30\n",
    "energy_edges = np.geomspace(e_min, e_max, 11) * u.TeV"
   ]
  },
  {
   "cell_type": "code",
   "execution_count": null,
   "id": "dcc9717f",
   "metadata": {},
   "outputs": [],
   "source": [
    "fpe = FluxPointsEstimator(\n",
    "    energy_edges=energy_edges, source=\"crab\", selection_optional=\"all\"\n",
    ")\n",
    "flux_points_crab = fpe.run(datasets=datasets)"
   ]
  },
  {
   "cell_type": "markdown",
   "id": "6c2f6243",
   "metadata": {},
   "source": [
    "Print the table of the resulting flux points: "
   ]
  },
  {
   "cell_type": "code",
   "execution_count": null,
   "id": "1e1ea0bd",
   "metadata": {},
   "outputs": [],
   "source": [
    "flux_points.to_table(sed_type=\"dnde\", formatted=True)"
   ]
  },
  {
   "cell_type": "markdown",
   "id": "e02096d5",
   "metadata": {},
   "source": [
    "Plot the points:"
   ]
  },
  {
   "cell_type": "code",
   "execution_count": 35,
   "id": "6e9facbb",
   "metadata": {},
   "outputs": [
    {
     "ename": "NameError",
     "evalue": "name 'flux_points' is not defined",
     "output_type": "error",
     "traceback": [
      "\u001b[0;31m---------------------------------------------------------------------------\u001b[0m",
      "\u001b[0;31mNameError\u001b[0m                                 Traceback (most recent call last)",
      "Input \u001b[0;32mIn [35]\u001b[0m, in \u001b[0;36m<cell line: 2>\u001b[0;34m()\u001b[0m\n\u001b[1;32m      1\u001b[0m plt\u001b[38;5;241m.\u001b[39mfigure(figsize\u001b[38;5;241m=\u001b[39m(\u001b[38;5;241m8\u001b[39m, \u001b[38;5;241m5\u001b[39m))\n\u001b[0;32m----> 2\u001b[0m ax \u001b[38;5;241m=\u001b[39m \u001b[43mflux_points\u001b[49m\u001b[38;5;241m.\u001b[39mplot(sed_type\u001b[38;5;241m=\u001b[39m\u001b[38;5;124m\"\u001b[39m\u001b[38;5;124me2dnde\u001b[39m\u001b[38;5;124m\"\u001b[39m, color\u001b[38;5;241m=\u001b[39m\u001b[38;5;124m\"\u001b[39m\u001b[38;5;124mdarkorange\u001b[39m\u001b[38;5;124m\"\u001b[39m)\n\u001b[1;32m      3\u001b[0m flux_points\u001b[38;5;241m.\u001b[39mplot_ts_profiles(ax\u001b[38;5;241m=\u001b[39max, sed_type\u001b[38;5;241m=\u001b[39m\u001b[38;5;124m\"\u001b[39m\u001b[38;5;124me2dnde\u001b[39m\u001b[38;5;124m\"\u001b[39m)\n",
      "\u001b[0;31mNameError\u001b[0m: name 'flux_points' is not defined"
     ]
    },
    {
     "data": {
      "text/plain": [
       "<Figure size 576x360 with 0 Axes>"
      ]
     },
     "metadata": {},
     "output_type": "display_data"
    }
   ],
   "source": [
    "plt.figure(figsize=(8, 5))\n",
    "ax = flux_points.plot(sed_type=\"e2dnde\", color=\"darkorange\")\n",
    "flux_points.plot_ts_profiles(ax=ax, sed_type=\"e2dnde\")"
   ]
  },
  {
   "cell_type": "markdown",
   "id": "f33b6bc8",
   "metadata": {},
   "source": [
    "Plot the resulting fit, together with the points: "
   ]
  },
  {
   "cell_type": "code",
   "execution_count": null,
   "id": "d5381ac9",
   "metadata": {},
   "outputs": [],
   "source": [
    "flux_points_crab_dataset = FluxPointsDataset(\n",
    "    data=flux_points_crab, models=datasets.models\n",
    ")\n",
    "flux_points_crab_dataset.plot_fit()"
   ]
  },
  {
   "cell_type": "markdown",
   "id": "de508c21",
   "metadata": {},
   "source": [
    "### Task 4: Define the Power law spectral model, using the PowerLawSpectralModel module with the default parameters, fit the dataset and print the results"
   ]
  },
  {
   "cell_type": "code",
   "execution_count": null,
   "id": "24658228",
   "metadata": {},
   "outputs": [],
   "source": []
  },
  {
   "cell_type": "code",
   "execution_count": null,
   "id": "196f97dc",
   "metadata": {},
   "outputs": [],
   "source": [
    "# %load ./Solutions/pwl_model.py\n",
    "spectral_model_pwl = PowerLawSpectralModel(\n",
    ")\n",
    "model_pwl = SkyModel(spectral_model=spectral_model, name=\"crab_pwl\")\n",
    "\n",
    "datasets.models = [model_pwl]\n",
    "\n",
    "fit = Fit()\n",
    "result_pwl = fit.run(datasets=datasets)\n",
    "\n",
    "datasets.models.to_parameters_table()\n",
    "print(result_pwl)\n",
    "print(result_pwl.total_stat)\n"
   ]
  },
  {
   "cell_type": "markdown",
   "id": "682c4ee3",
   "metadata": {},
   "source": [
    "### Task 5: Compute the flux points changing the energy range (100 GeV - 10 TeV) and number of bins (15)."
   ]
  },
  {
   "cell_type": "code",
   "execution_count": null,
   "id": "2b4dc607",
   "metadata": {},
   "outputs": [],
   "source": []
  },
  {
   "cell_type": "code",
   "execution_count": null,
   "id": "0696fd4b",
   "metadata": {},
   "outputs": [],
   "source": [
    "# %load ./Solutions/pwl_model_points.py\n",
    "e_min, e_max = 0.1, 10\n",
    "energy_edges = np.geomspace(e_min, e_max, 16) * u.TeV\n",
    "\n",
    "fpe = FluxPointsEstimator(\n",
    "    energy_edges=energy_edges, source=\"crab\", selection_optional=\"all\"\n",
    ")\n",
    "flux_points_crab_pwl = fpe.run(datasets=datasets)\n",
    "\n",
    "flux_points_pwl.to_table(sed_type=\"dnde\", formatted=True)\n",
    "\n",
    "plt.figure(figsize=(8, 5))\n",
    "ax = flux_points.plot(sed_type=\"e2dnde\", color=\"darkorange\")\n",
    "flux_points_pwl.plot_ts_profiles(ax=ax, sed_type=\"e2dnde\")\n"
   ]
  },
  {
   "cell_type": "markdown",
   "id": "be0ef7ae",
   "metadata": {},
   "source": [
    "### Task 6: Plot the new pwl fit and the flux points."
   ]
  },
  {
   "cell_type": "code",
   "execution_count": null,
   "id": "e26ecd4d",
   "metadata": {},
   "outputs": [],
   "source": []
  },
  {
   "cell_type": "code",
   "execution_count": null,
   "id": "b089eed8",
   "metadata": {},
   "outputs": [],
   "source": [
    "# %load ./Solutions/pwl_model_points_plot.py\n",
    "flux_points_crab_dataset_pwl = FluxPointsDataset(\n",
    "    data=flux_points_crab_pwl, models=datasets.models\n",
    ")\n",
    "flux_points_crab_dataset_pwl.plot_fit()\n"
   ]
  }
 ],
 "metadata": {
  "kernelspec": {
   "display_name": "Python 3 (ipykernel)",
   "language": "python",
   "name": "python3"
  },
  "language_info": {
   "codemirror_mode": {
    "name": "ipython",
    "version": 3
   },
   "file_extension": ".py",
   "mimetype": "text/x-python",
   "name": "python",
   "nbconvert_exporter": "python",
   "pygments_lexer": "ipython3",
   "version": "3.8.13"
  }
 },
 "nbformat": 4,
 "nbformat_minor": 5
}
