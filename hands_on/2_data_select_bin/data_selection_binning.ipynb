{
 "cells": [
  {
   "cell_type": "markdown",
   "metadata": {},
   "source": [
    "# Hands On Instrument Data Selection and Binning"
   ]
  },
  {
   "cell_type": "markdown",
   "metadata": {},
   "source": [
    "This notebook teaches how to deal with DL3 data from current IACTs and other HE or VHE instruments. The Data Level 3 (DL3) format is described here \n",
    "\n",
    "Please refer to [this notebook](https://github.com/arqus-gamma/arqus_school_2022/blob/main/hands_on/1_read_data/Read_data_with_astropy_hands_on.ipynb) for preliminary introduction"
   ]
  },
  {
   "cell_type": "markdown",
   "metadata": {},
   "source": [
    "## Initial Setup\n",
    "\n",
    "As usual, we start by installing some standards packages. We try to be minimal and install only those stricly required.\n",
    "Check package versions. All examples should work with Astropy > 2.0 and Numpy > 1.11"
   ]
  },
  {
   "cell_type": "code",
   "execution_count": 10,
   "metadata": {},
   "outputs": [],
   "source": [
    "%matplotlib inline  \n",
    "import matplotlib.pyplot as plt"
   ]
  },
  {
   "cell_type": "code",
   "execution_count": 65,
   "metadata": {},
   "outputs": [
    {
     "name": "stdout",
     "output_type": "stream",
     "text": [
      "numpy: 1.22.3\n",
      "astropy: 5.0.4\n"
     ]
    }
   ],
   "source": [
    "import numpy as np\n",
    "import astropy\n",
    "from astropy import units as u\n",
    "from astropy import constants as const\n",
    "from astropy.coordinates import SkyCoord\n",
    "from astropy.coordinates import Angle\n",
    "# from astropy.time import Time\n",
    "from astropy.table import Table\n",
    "from astropy.io import fits\n",
    "\n",
    "\n",
    "print('numpy:', np.__version__)\n",
    "print('astropy:', astropy.__version__)"
   ]
  },
  {
   "cell_type": "markdown",
   "metadata": {},
   "source": [
    "However, in most cases, remember that for analyzing specific instruments' data, often additional packages are to be installed, that are somewhat specific of the instrument. In many cases, they are tailored functions"
   ]
  },
  {
   "cell_type": "code",
   "execution_count": 12,
   "metadata": {},
   "outputs": [],
   "source": [
    "import gammapy\n",
    "from gammapy.data import Observation, Observations, DataStore\n",
    "from gammapy.makers import SafeMaskMaker, MapDatasetMaker, SpectrumDatasetMaker, ReflectedRegionsBackgroundMaker, WobbleRegionsFinder\n",
    "\n",
    "# dataset modules\n",
    "from gammapy.datasets import (\n",
    "    MapDataset, \n",
    "    MapDatasetOnOff, \n",
    "    MapDatasetEventSampler,\n",
    "    SpectrumDatasetOnOff,\n",
    "    SpectrumDataset, \n",
    "    Datasets,\n",
    "    FluxPointsDataset\n",
    ")"
   ]
  },
  {
   "cell_type": "code",
   "execution_count": 13,
   "metadata": {},
   "outputs": [],
   "source": [
    "from astropy.visualization.wcsaxes import SphericalCircle\n",
    "from astropy.wcs import WCS"
   ]
  },
  {
   "cell_type": "markdown",
   "metadata": {},
   "source": [
    "## 1. Data Sample\n",
    "\n",
    "In this part we start selecting the data of interest for the further analysis.\n",
    "\n",
    "Let's first check what's in the data folder. The mark `!` specifies a terminal line command"
   ]
  },
  {
   "cell_type": "code",
   "execution_count": null,
   "metadata": {},
   "outputs": [],
   "source": [
    "!ls ../../data/"
   ]
  },
  {
   "cell_type": "markdown",
   "metadata": {},
   "source": [
    "We see that we have 4 targets, as well the complete list of files. Let's open one target, the 'crab nebula'. This dataset comes from a joint publication about that source with a small subsample of data from different experiments. Normally data are private this is the reason for the 'small dataset' for that source.\n"
   ]
  },
  {
   "cell_type": "code",
   "execution_count": null,
   "metadata": {},
   "outputs": [],
   "source": [
    "!ls ../../data/crab_nebula/\n",
    "#!ls ../../data/pks2155/"
   ]
  },
  {
   "cell_type": "markdown",
   "metadata": {},
   "source": [
    "Great! More than 5 instruments data for our targets. Let's start with MAGIC data:"
   ]
  },
  {
   "cell_type": "code",
   "execution_count": 80,
   "metadata": {},
   "outputs": [
    {
     "name": "stdout",
     "output_type": "stream",
     "text": [
      "20170101_05059487_DL3_NGC1275-W0.40+157.fits\n",
      "20170101_05059488_DL3_NGC1275-W0.40+337.fits\n",
      "20170101_05059489_DL3_NGC1275-W0.40+058.fits\n",
      "20170101_05059490_DL3_NGC1275-W0.40+238.fits\n",
      "20170101_05059497_DL3_NGC1275-W0.40+238.fits\n",
      "20170101_05059498_DL3_NGC1275-W0.40+157.fits\n",
      "20170101_05059499_DL3_NGC1275-W0.40+337.fits\n",
      "20170101_05059500_DL3_NGC1275-W0.40+337.fits\n",
      "hdu-index.fits.gz\n",
      "obs-index.fits.gz\n"
     ]
    }
   ],
   "source": [
    "#!ls ../../data/crab_nebula/magic\n",
    "#!ls ../../data/pks2155/hess/\n",
    "#!ls ../../data/ic310/magic\n",
    "!ls ../../data/ngc1275/magic"
   ]
  },
  {
   "cell_type": "markdown",
   "metadata": {},
   "source": [
    "So we have two files (run): 05029747 and 05029748. Let's open one of them. "
   ]
  },
  {
   "cell_type": "code",
   "execution_count": 37,
   "metadata": {},
   "outputs": [],
   "source": [
    "#fits_file = fits.open('../../data/crab_nebula/magic/run_05029747_DL3.fits')\n",
    "fits_file = fits.open('../../data/ngc1275/magic/20170101_05059487_DL3_NGC1275-W0.40+157.fits')\n",
    "#fits_file = fits.open('../../data/pks2155/hess/hess_dl3_dr1_obs_id_033787.fits.gz')\n",
    "#fits_file = fits.open('../../data/ic310/magic/20121113_05020910_DL3_NGC1275-W0.40+238.fits')"
   ]
  },
  {
   "cell_type": "code",
   "execution_count": null,
   "metadata": {},
   "outputs": [],
   "source": [
    "#m astropy.table import Table, hstack\n",
    "\n",
    "#t1 = Table.read('../../data/ngc1275/magic/20170101_05059487_DL3_NGC1275-W0.40+157.fits', format='fits')\n",
    "#t2 = Table.read('../../data/ngc1275/magic/20170101_05059498_DL3_NGC1275-W0.40+157.fits', format='fits')\n",
    "#new = hstack([t1, t2])\n",
    "#new.write('combined.fits')"
   ]
  },
  {
   "cell_type": "markdown",
   "metadata": {},
   "source": [
    "To see what's inside we have a look at the Data Units. Let's check the header data unit (HDU) by calling `.info()`:"
   ]
  },
  {
   "cell_type": "code",
   "execution_count": 43,
   "metadata": {},
   "outputs": [
    {
     "name": "stdout",
     "output_type": "stream",
     "text": [
      "Filename: ../../data/ngc1275/magic/20170101_05059487_DL3_NGC1275-W0.40+157.fits\n",
      "No.    Name      Ver    Type      Cards   Dimensions   Format\n",
      "  0  PRIMARY       1 PrimaryHDU       6   ()      \n",
      "  1  EVENTS        1 BinTableHDU     62   12614R x 8C   [1K, 1D, 1E, 1E, 1E, 1E, 1E, 1E]   \n",
      "  2  GTI           1 BinTableHDU     24   1R x 2C   [1D, 1D]   \n",
      "  3  RAD_MAX       1 BinTableHDU     33   1R x 5C   [28E, 28E, 1E, 1E, 28E]   \n",
      "  4  EFFECTIVE AREA    1 BinTableHDU     35   1R x 5C   ['40E', '40E', '1E', '1E', '40E']   \n",
      "  5  ENERGY DISPERSION    1 BinTableHDU     36   1R x 7C   [40E, 40E, 28E, 28E, 1E, 1E, 1120E]   \n"
     ]
    }
   ],
   "source": [
    "fits_file.info()"
   ]
  },
  {
   "cell_type": "markdown",
   "metadata": {},
   "source": [
    "We see that we have:\n",
    "* PRIMARY which contains file-related information\n",
    "* EVENTS contains the actual event list of our interest\n",
    "* GTI contains the \n",
    "* EFFECTIVE AREA is an important experiment information  \n",
    "* ENERGY DISPERSION is a second important experimental information"
   ]
  },
  {
   "cell_type": "markdown",
   "metadata": {},
   "source": [
    "We import the PRIMARY and check what is inside. The PRIMARY contains only a short header and no data"
   ]
  },
  {
   "cell_type": "code",
   "execution_count": 41,
   "metadata": {},
   "outputs": [
    {
     "data": {
      "text/plain": [
       "SIMPLE  =                    T / file does conform to FITS standard             \n",
       "BITPIX  =                   16 / number of bits per data pixel                  \n",
       "NAXIS   =                    0 / number of data axes                            \n",
       "EXTEND  =                    T / FITS dataset may contain extensions            \n",
       "COMMENT   FITS (Flexible Image Transport System) format is defined in 'Astronomy\n",
       "COMMENT   and Astrophysics', volume 376, page 359; bibcode: 2001A&A...376..359H "
      ]
     },
     "execution_count": 41,
     "metadata": {},
     "output_type": "execute_result"
    }
   ],
   "source": [
    "primary = fits_file['PRIMARY'] \n",
    "primary.header\n",
    "#primary.data"
   ]
  },
  {
   "cell_type": "markdown",
   "metadata": {},
   "source": [
    "Let's look at the EVENT HDU. Here are the events information. First with the header"
   ]
  },
  {
   "cell_type": "code",
   "execution_count": 42,
   "metadata": {},
   "outputs": [
    {
     "data": {
      "text/plain": [
       "XTENSION= 'BINTABLE'           / binary table extension                         \n",
       "BITPIX  =                    8 / 8-bit bytes                                    \n",
       "NAXIS   =                    2 / 2-dimensional binary table                     \n",
       "NAXIS1  =                   40 / width of table in bytes                        \n",
       "NAXIS2  =                12614 / number of rows in table                        \n",
       "PCOUNT  =                    0 / size of special data area                      \n",
       "GCOUNT  =                    1 / one data group (required keyword)              \n",
       "TFIELDS =                    8 / number of fields in each row                   \n",
       "TTYPE1  = 'EVENT_ID'           / label for field   1                            \n",
       "TFORM1  = '1K      '           / data format of field: 8-byte INTEGER           \n",
       "TTYPE2  = 'TIME    '           / label for field   2                            \n",
       "TFORM2  = '1D      '           / data format of field: 8-byte DOUBLE            \n",
       "TUNIT2  = 's       '           / physical unit of field                         \n",
       "TTYPE3  = 'RA      '           / label for field   3                            \n",
       "TFORM3  = '1E      '           / data format of field: 4-byte REAL              \n",
       "TUNIT3  = 'deg     '           / physical unit of field                         \n",
       "TTYPE4  = 'DEC     '           / label for field   4                            \n",
       "TFORM4  = '1E      '           / data format of field: 4-byte REAL              \n",
       "TUNIT4  = 'deg     '           / physical unit of field                         \n",
       "TTYPE5  = 'ENERGY  '           / label for field   5                            \n",
       "TFORM5  = '1E      '           / data format of field: 4-byte REAL              \n",
       "TUNIT5  = 'TeV     '           / physical unit of field                         \n",
       "TTYPE6  = 'GAMMANESS'          / label for field   6                            \n",
       "TFORM6  = '1E      '           / data format of field: 4-byte REAL              \n",
       "TTYPE7  = 'DETX    '           / label for field   7                            \n",
       "TFORM7  = '1E      '           / data format of field: 4-byte REAL              \n",
       "TUNIT7  = 'mm      '           / physical unit of field                         \n",
       "TTYPE8  = 'DETY    '           / label for field   8                            \n",
       "TFORM8  = '1E      '           / data format of field: 4-byte REAL              \n",
       "TUNIT8  = 'mm      '           / physical unit of field                         \n",
       "EXTNAME = 'EVENTS  '           / name of this binary table extension            \n",
       "HDUCLASS= 'GADF    '           / conformant with GADF specifications            \n",
       "HDUDOC  = 'https://github.com/open-gamma-ray-astro/gamma-astro-data-formats' / d\n",
       "HDUVERS = '0.2     '           / version of the format                          \n",
       "HDUCLAS1= 'EVENTS  '           / primary extension class                        \n",
       "OBS_ID  =              5059487 / unique observation identifier                  \n",
       "TSTART  =         4.361391E+08 / [s] observation start time                     \n",
       "TSTOP   =         4.361403E+08 / [s] observation end time                       \n",
       "ONTIME  =                1193. / [s] total good time (sum of GTIs)              \n",
       "LIVETIME=             1178.607 / [s] total effective time                       \n",
       "DEADC   =            0.9879357 / dead time correction                           \n",
       "OBS_MODE= 'POINTING'           / observation mode                               \n",
       "EQUINOX =                2000. / equinox                                        \n",
       "RADECSYS= 'FK5     '           / stellar reference frame                        \n",
       "ORIGIN  = 'MAGIC Collaboration' / organisation that created the FITS file       \n",
       "TELESCOP= 'MAGIC   '           / telescope                                      \n",
       "INSTRUME= 'MAGIC stereo'       / instrument                                     \n",
       "CREATOR = 'MAGIC_DL3'          / software that created the file                 \n",
       "VERSION = '0.1.3   '           / version of the software that created the file  \n",
       "MJDREFI =                52706 / [d] integer part of reference MJD              \n",
       "MJDREFF =                   0. / [d] fractional part of reference MJD           \n",
       "TIMEUNIT= 's       '           / time unit                                      \n",
       "TIMESYS = 'UTC     '           / time system                                    \n",
       "TIMEREF = 'local   '           / time reference frame                           \n",
       "OBJECT  = 'NGC1275 '           / name of the source                             \n",
       "RA_OBJ  =                49.95 / [deg] source RA                                \n",
       "DEC_OBJ =             41.51167 / [deg] source DEC                               \n",
       "OBS_MODE= 'Wobble  '           / observation mode                               \n",
       "RA_PNT  =             49.45417 / [deg] observation pointing RA                  \n",
       "DEC_PNT =             41.66806 / [deg] observation pointing DEC                 \n",
       "ALT_PNT =             76.89065 / [deg] average altitude pointing                \n",
       "AZ_PNT  =            -6.315182 / [deg] average azimuth pointing                 "
      ]
     },
     "execution_count": 42,
     "metadata": {},
     "output_type": "execute_result"
    }
   ],
   "source": [
    "events = fits_file['EVENTS'] \n",
    "events.header"
   ]
  },
  {
   "cell_type": "markdown",
   "metadata": {},
   "source": [
    "Here are a bunch of interesting 'observational' parameter. Let's save some useful parameters"
   ]
  },
  {
   "cell_type": "markdown",
   "metadata": {},
   "source": [
    "Of all the entries, some are worth discussing\n",
    "\n",
    "```\n",
    "OBS_ID  =              5059487 / unique observation identifier                  \n",
    "TSTART  =         4.361391E+08 / [s] observation start time                     \n",
    "TSTOP   =         4.361403E+08 / [s] observation end time                       \n",
    "ONTIME  =                1193. / [s] total good time (sum of GTIs)              \n",
    "LIVETIME=             1178.607 / [s] total effective time                       \n",
    "OBS_MODE= 'POINTING'           / observation mode                               \n",
    "RA_OBJ  =                49.95 / [deg] source RA                                \n",
    "DEC_OBJ =             41.51167 / [deg] source DEC                               \n",
    "OBS_MODE= 'Wobble  '           / observation mode                               \n",
    "RA_PNT  =             49.45417 / [deg] observation pointing RA                  \n",
    "DEC_PNT =             41.66806 / [deg] observation pointing DEC                 \n",
    "ALT_PNT =             76.89065 / [deg] average altitude pointing                \n",
    "AZ_PNT  =            -6.315182 / [deg] average azimuth pointing\n",
    "```"
   ]
  },
  {
   "cell_type": "code",
   "execution_count": null,
   "metadata": {},
   "outputs": [],
   "source": [
    "# Useful parameters from the EVENT header.\n",
    "ra_obj  = events.header['RA_OBJ']\n",
    "dec_obj = events.header['DEC_OBJ']\n",
    "ra_pnt  = events.header['RA_PNT']\n",
    "dec_pnt = events.header['DEC_PNT']  "
   ]
  },
  {
   "cell_type": "markdown",
   "metadata": {},
   "source": [
    "Being sky positions, it is more convenient to convert them in"
   ]
  },
  {
   "cell_type": "code",
   "execution_count": null,
   "metadata": {},
   "outputs": [],
   "source": [
    "pointing_pos =  SkyCoord( events.header.get('RA_PNT') *u.deg,   events.header.get('DEC_PNT') *u.deg )\n",
    "source_pos   =  SkyCoord.from_name(events.header.get('OBJECT'))"
   ]
  },
  {
   "cell_type": "markdown",
   "metadata": {},
   "source": [
    "Let's check the different of the two:"
   ]
  },
  {
   "cell_type": "code",
   "execution_count": null,
   "metadata": {},
   "outputs": [],
   "source": [
    "offset = source_pos.separation(pointing_pos)\n",
    "offset.to( u.deg).value"
   ]
  },
  {
   "cell_type": "markdown",
   "metadata": {},
   "source": [
    "There is a difference of 0.4 deg between the true source position and the pointing position. Why? Because IACTs points the targets slightly off according to the Wobble solution, for a more accurate background estimation...see later!"
   ]
  },
  {
   "cell_type": "markdown",
   "metadata": {},
   "source": [
    "Besides the header, let's see what are the DATA of the EVENT HDU:\n"
   ]
  },
  {
   "cell_type": "code",
   "execution_count": null,
   "metadata": {},
   "outputs": [],
   "source": [
    "events.data\n",
    "events.columns.names\n",
    "\n",
    "# Better uncomment the line below and use the astropy Table class\n",
    "Table(events.data)"
   ]
  },
  {
   "cell_type": "markdown",
   "metadata": {},
   "source": [
    "We can check the whole number of events with the command"
   ]
  },
  {
   "cell_type": "code",
   "execution_count": null,
   "metadata": {},
   "outputs": [],
   "source": [
    "len(events.data)"
   ]
  },
  {
   "cell_type": "markdown",
   "metadata": {},
   "source": [
    "Let's see some events"
   ]
  },
  {
   "cell_type": "code",
   "execution_count": null,
   "metadata": {},
   "outputs": [],
   "source": [
    "en  = events.data['ENERGY']\n",
    "t   = events.data['TIME']\n",
    "ra  = events.data['RA']\n",
    "dec = events.data['DEC']\n",
    "g   = events.data['GAMMANESS']\n",
    "#dx  = events.data['DETX']\n",
    "#dy  = events.data['DETY']"
   ]
  },
  {
   "cell_type": "code",
   "execution_count": null,
   "metadata": {},
   "outputs": [],
   "source": [
    "# Direction of the events\n",
    "fig, ax =  plt.subplots(figsize=(7,7))\n",
    "ax = plt.subplot(projection=wcs)\n",
    "\n",
    "\n",
    "ax.plot(ra,dec,marker='s', markersize='0.2',linewidth='0',alpha=0.5, label=\"All Events\")\n",
    "ax.plot(ra_obj,dec_obj, marker=\"*\", markersize=\"12\",linewidth='0', label=\"Object Sky coordinate\")\n",
    "ax.plot(ra_pnt,dec_pnt, marker=\"x\", color = 'black', markersize=\"10\", linewidth='0', label=\"Observed coordinate\")\n",
    "\n",
    "\n",
    "fov = SphericalCircle( (pointing_pos.ra, pointing_pos.dec),\n",
    "                    3.5 * u.deg,   edgecolor='black', facecolor='none', label=\"FOV\")\n",
    "ax.add_patch(fov)\n",
    "plt.ylabel('Dec [deg]')\n",
    "plt.xlabel('RA [deg]')\n",
    "plt.title('Sky Event Distribution')\n",
    "ax.legend(loc=\"best\")"
   ]
  },
  {
   "cell_type": "markdown",
   "metadata": {},
   "source": [
    "Let's look at how the energy of the data is distributed"
   ]
  },
  {
   "cell_type": "code",
   "execution_count": null,
   "metadata": {},
   "outputs": [],
   "source": [
    "binning = np.logspace(-2,1,20)\n",
    "plt.hist(en,bins=binning,alpha=0.6,log=True)\n",
    "plt.xlabel('Energy [TeV]')\n",
    "plt.ylabel('Counts')\n",
    "plt.title('Energy distribution')\n",
    "plt.xscale('log')"
   ]
  },
  {
   "cell_type": "markdown",
   "metadata": {},
   "source": [
    "What we see is that we have a peak at about 0.1 TeV, a sudden increase below and a regular decrease above that value? Does this make sense? Does the target source have a peak at 0.1 TeV? \n",
    "\n",
    "To understand this we need to look at the effective area of the telescope."
   ]
  },
  {
   "cell_type": "markdown",
   "metadata": {},
   "source": [
    "The effective area is the geometrical area of an instrument multiplied with the instrument efficiency. For example, take a tennis racket. The geometrical area is the area of the net, but not the whole are of the net is efficient. In the outer rim the ball would be launched uncorrectly. For a telescope like MAGIC:\n",
    "* the geometrical area is the area illuminated in the ground by the Cherenkov ligth\n",
    "* the efficiency is the ratio between all events and those that are actually recorded in the instrument\n",
    "The effective area is normally obtained with Monte Carlo simulations and not from the data."
   ]
  },
  {
   "cell_type": "code",
   "execution_count": 40,
   "metadata": {},
   "outputs": [
    {
     "data": {
      "text/html": [
       "<div><i>Table length=1</i>\n",
       "<table id=\"table140652806484176\" class=\"table-striped table-bordered table-condensed\">\n",
       "<thead><tr><th>ENERG_LO [40]</th><th>ENERG_HI [40]</th><th>THETA_LO</th><th>THETA_HI</th><th>EFFAREA [1,40]</th></tr></thead>\n",
       "<thead><tr><th>float32</th><th>float32</th><th>float32</th><th>float32</th><th>float32</th></tr></thead>\n",
       "<tr><td>0.0050000004 .. 39.716415</td><td>0.006294627 .. 50.000004</td><td>0.39</td><td>0.41</td><td>0.0 .. 0.0</td></tr>\n",
       "</table></div>"
      ],
      "text/plain": [
       "<Table length=1>\n",
       "      ENERG_LO [40]            ENERG_HI [40]       THETA_LO THETA_HI EFFAREA [1,40]\n",
       "         float32                  float32          float32  float32     float32    \n",
       "------------------------- ------------------------ -------- -------- --------------\n",
       "0.0050000004 .. 39.716415 0.006294627 .. 50.000004     0.39     0.41     0.0 .. 0.0"
      ]
     },
     "execution_count": 40,
     "metadata": {},
     "output_type": "execute_result"
    }
   ],
   "source": [
    "effarea = fits_file['EFFECTIVE AREA'] \n",
    "effarea.header\n",
    "Table(effarea.data)\n"
   ]
  },
  {
   "cell_type": "markdown",
   "metadata": {},
   "source": [
    "This look in a strange format, but the reason is because the effective area may depend on the distance from the center of the camera. Here only one effective area is simulated. Let's see how it looks like"
   ]
  },
  {
   "cell_type": "code",
   "execution_count": null,
   "metadata": {},
   "outputs": [],
   "source": [
    "effarea.data['ENERG_LO'][0]\n",
    "effarea.data['EFFAREA'][0][0]\n",
    "plt.loglog(effarea.data['ENERG_LO'][0],effarea.data['EFFAREA'][0][0])\n",
    "plt.xlabel('Energy [TeV]')\n",
    "plt.ylabel('Area [m^2]')\n"
   ]
  },
  {
   "cell_type": "markdown",
   "metadata": {},
   "source": [
    "One sees here that the instrument effective area is almost constant from 1 to 10 TeV. Above 10-20 TeV the effective area goes suddenly to zero, while below 0.1 TeV it decreases more slowly. Whis is that?"
   ]
  },
  {
   "cell_type": "markdown",
   "metadata": {},
   "source": []
  },
  {
   "cell_type": "code",
   "execution_count": null,
   "metadata": {},
   "outputs": [],
   "source": [
    "enres = fits_file['ENERGY DISPERSION'] \n",
    "enres.header\n",
    "Table(enres.data)\n",
    "enres.columns.names"
   ]
  },
  {
   "cell_type": "markdown",
   "metadata": {},
   "source": [
    "Again, this is a matrix of information, let' see:"
   ]
  },
  {
   "cell_type": "code",
   "execution_count": null,
   "metadata": {},
   "outputs": [],
   "source": [
    "#enres.data['ENERG_LO'][0]\n",
    "#enres.data['MIGRA_LOW'][0]\n",
    "#enres.data['MIGRA_HI'][0]"
   ]
  },
  {
   "cell_type": "markdown",
   "metadata": {},
   "source": [
    "Finally, let's discuss the GAMMANESS parameter (for some files only)."
   ]
  },
  {
   "cell_type": "code",
   "execution_count": null,
   "metadata": {},
   "outputs": [],
   "source": [
    "binning = np.linspace(0,1,50)\n",
    "plt.hist(g,bins=binning,alpha=0.8)\n",
    "plt.title('Gammaness distribution')\n",
    "plt.xlabel('Gammaness')\n",
    "plt.ylabel('Counts')"
   ]
  },
  {
   "cell_type": "markdown",
   "metadata": {},
   "source": [
    "These are all events from all directions in the sky. We will learn that MOST of them are background event, while only some of them are signal events. How do we extract the good ones from the full datasample?"
   ]
  },
  {
   "cell_type": "markdown",
   "metadata": {},
   "source": [
    "## Definition of the signal-search region\n",
    "Let's start by defining a region in which we expect the signal to be from a region where we expect to find only background. This a standard procedure called\n",
    "* signal region definition\n",
    "* background control region definition\n",
    "\n",
    "The signal come from a specific direction in the sky. If the instrument had an infinite angular resolution (also one should assume no shower fluctuations), in principle all events should come from A SINGLE POINT. However, they come from a region. This region is often defined as a circle around the true target position. Circles are better identified with astropy tools."
   ]
  },
  {
   "cell_type": "code",
   "execution_count": null,
   "metadata": {},
   "outputs": [],
   "source": [
    "source_angle = pointing_pos.position_angle(source_pos).to(u.degree)\n",
    "radius = offset/np.sqrt(2)\n",
    "radius /=2\n",
    "\n",
    "on  = SphericalCircle( (source_pos.ra, source_pos.dec),\n",
    "                    radius,   edgecolor='red', facecolor='none', label=\"ON REGION\")\n"
   ]
  },
  {
   "cell_type": "code",
   "execution_count": null,
   "metadata": {},
   "outputs": [],
   "source": [
    "wcs = WCS(events.header)"
   ]
  },
  {
   "cell_type": "code",
   "execution_count": null,
   "metadata": {},
   "outputs": [],
   "source": [
    "fig, ax =  plt.subplots(figsize=(5,5))\n",
    "ax = plt.subplot(projection=wcs)\n",
    "\n",
    "\n",
    "ax.scatter(pointing_pos.ra.value, pointing_pos.dec.value, marker='x', s=100, c='black', label ='Pointing'  ) \n",
    "ax.scatter(source_pos.ra.value, source_pos.dec.value, marker='*', s=100, c='red', label ='Source'  ) \n",
    "ax.plot(ra,dec,marker='s', markersize='0.2',linewidth='0',alpha=0.5, label=\"All Events\")\n",
    "\n",
    "#ax.add_patch(fov)\n",
    "ax.add_patch(on)\n",
    "\n",
    "ax.legend(loc= \"best\");"
   ]
  },
  {
   "cell_type": "code",
   "execution_count": null,
   "metadata": {},
   "outputs": [],
   "source": []
  },
  {
   "cell_type": "code",
   "execution_count": null,
   "metadata": {},
   "outputs": [],
   "source": [
    "ra = events.data['RA'] \n",
    "dec = events.data['DEC']\n",
    "\n",
    "cond_on = []\n",
    "for i_ra,i_dec in zip(ra,dec):\n",
    "    position_event = SkyCoord(  i_ra * u.deg, i_dec * u.deg, frame='icrs')\n",
    "\n",
    "    cond_on.append( source_pos.separation(position_event) < radius )"
   ]
  },
  {
   "cell_type": "code",
   "execution_count": null,
   "metadata": {},
   "outputs": [],
   "source": [
    "# Selection\n",
    "#evt = events.data[cond_on]\n",
    "evt = events.data[cond_on * (events.data['ENERGY'] > 0.1) * (events.data['ENERGY'] < 10)]\n",
    "print(f\"Events before cut: \" + str(len(events.data)))\n",
    "print(f\"Events after sel: \" + str(len(evt)))\n",
    "\n"
   ]
  },
  {
   "cell_type": "code",
   "execution_count": null,
   "metadata": {},
   "outputs": [],
   "source": [
    "gsel = evt['GAMMANESS']\n",
    "binning = np.linspace(0,1,50)\n",
    "plt.hist(g,bins=binning,alpha=0.8)\n",
    "plt.hist(gsel,bins=binning,alpha=0.9)"
   ]
  },
  {
   "cell_type": "code",
   "execution_count": null,
   "metadata": {},
   "outputs": [],
   "source": [
    "evt_sig = events.data[cond_on * (events.data['GAMMANESS'] > 0.7)]\n",
    "evt_bkg = events.data[cond_on * (events.data['GAMMANESS'] < 0.7)]\n",
    "print(f\"Events candidates for sig: \" + str(len(evt_sig)))\n",
    "print(f\"Events candidates for bkg: \" + str(len(evt_bkg)))"
   ]
  },
  {
   "cell_type": "code",
   "execution_count": null,
   "metadata": {},
   "outputs": [],
   "source": [
    "# Here I would put a theta2-plot"
   ]
  },
  {
   "cell_type": "code",
   "execution_count": null,
   "metadata": {},
   "outputs": [],
   "source": [
    "theta2_sig = source_pos.separation(source_pos)"
   ]
  },
  {
   "cell_type": "code",
   "execution_count": null,
   "metadata": {},
   "outputs": [],
   "source": [
    "ra = evt_sig['RA'] \n",
    "dec = evt_sig['DEC']\n",
    "\n",
    "th2_on = []\n",
    "for i_ra,i_dec in zip(ra,dec):\n",
    "    position_event = SkyCoord(  i_ra * u.deg, i_dec * u.deg, frame='icrs')\n",
    "    th2_on.append( source_pos.separation(position_event)*source_pos.separation(position_event))\n",
    "\n",
    "ra = evt_bkg['RA'] \n",
    "dec = evt_bkg['DEC']\n",
    "\n",
    "th2_off = []\n",
    "for i_ra,i_dec in zip(ra,dec):\n",
    "    position_event = SkyCoord(  i_ra * u.deg, i_dec * u.deg, frame='icrs')\n",
    "    th2_off.append( source_pos.separation(position_event)*source_pos.separation(position_event))\n",
    "    \n",
    "#th2_on"
   ]
  },
  {
   "cell_type": "code",
   "execution_count": null,
   "metadata": {},
   "outputs": [],
   "source": [
    "binning = np.linspace(0,0.02,30)\n",
    "plt.hist(th2_on,bins=binning,alpha=0.5,label='Candidate ON events')\n",
    "plt.hist(th2_off,bins=binning,alpha=0.5,label='Candidate OFF events')\n",
    "plt.title(r'Angular separation plot ($\\theta^2$ plot)')\n",
    "plt.legend(loc='best')"
   ]
  },
  {
   "cell_type": "code",
   "execution_count": null,
   "metadata": {},
   "outputs": [],
   "source": [
    "# Try with selected higher energy events?"
   ]
  },
  {
   "cell_type": "code",
   "execution_count": null,
   "metadata": {},
   "outputs": [],
   "source": [
    "binning = np.logspace(-2,1,20)\n",
    "plt.hist(en,bins=binning,alpha=0.6,log=True)\n",
    "plt.hist(evt_sig['ENERGY'],bins=binning,alpha=0.6,log=True)\n",
    "plt.xlabel('Energy [TeV]')\n",
    "plt.ylabel('Counts')\n",
    "plt.title('Energy distribution')\n",
    "plt.xscale('log')"
   ]
  },
  {
   "cell_type": "code",
   "execution_count": null,
   "metadata": {},
   "outputs": [],
   "source": [
    "# From counts --> nimber of excesss --> flux"
   ]
  },
  {
   "cell_type": "markdown",
   "metadata": {},
   "source": [
    "## Analysis with gammapy"
   ]
  },
  {
   "cell_type": "code",
   "execution_count": 33,
   "metadata": {},
   "outputs": [
    {
     "name": "stdout",
     "output_type": "stream",
     "text": [
      "20170101_05059487_DL3_NGC1275-W0.40+157.fits\n",
      "20170101_05059488_DL3_NGC1275-W0.40+337.fits\n",
      "20170101_05059489_DL3_NGC1275-W0.40+058.fits\n",
      "20170101_05059490_DL3_NGC1275-W0.40+238.fits\n",
      "20170101_05059497_DL3_NGC1275-W0.40+238.fits\n",
      "20170101_05059498_DL3_NGC1275-W0.40+157.fits\n",
      "20170101_05059499_DL3_NGC1275-W0.40+337.fits\n",
      "20170101_05059500_DL3_NGC1275-W0.40+337.fits\n",
      "hdu-index.fits.gz\n",
      "obs-index.fits.gz\n"
     ]
    }
   ],
   "source": [
    "!ls ../../data/ngc1275/magic"
   ]
  },
  {
   "cell_type": "code",
   "execution_count": 95,
   "metadata": {},
   "outputs": [
    {
     "name": "stdout",
     "output_type": "stream",
     "text": [
      "gammapy: 0.20.1\n"
     ]
    }
   ],
   "source": [
    "from gammapy.data import Observation, Observations, DataStore\n",
    "from gammapy.data import EventList\n",
    "print(\"gammapy:\", gammapy.__version__)\n",
    "\n",
    "import regions\n",
    "from regions import CircleSkyRegion, PointSkyRegion\n"
   ]
  },
  {
   "cell_type": "code",
   "execution_count": 84,
   "metadata": {},
   "outputs": [],
   "source": [
    "#radmax = fits_file['RAD_MAX']\n",
    "#Table(radmax.data['RAD_MAX'][0])"
   ]
  },
  {
   "cell_type": "code",
   "execution_count": 96,
   "metadata": {},
   "outputs": [
    {
     "ename": "TypeError",
     "evalue": "expected str, bytes or os.PathLike object, not DataStore",
     "output_type": "error",
     "traceback": [
      "\u001b[0;31m---------------------------------------------------------------------------\u001b[0m",
      "\u001b[0;31mTypeError\u001b[0m                                 Traceback (most recent call last)",
      "Input \u001b[0;32mIn [96]\u001b[0m, in \u001b[0;36m<cell line: 5>\u001b[0;34m()\u001b[0m\n\u001b[1;32m      3\u001b[0m \u001b[38;5;66;03m#obs_ids = [5059487,5059488,5059489,5059490,5059497,5059498,5059499,5059500]\u001b[39;00m\n\u001b[1;32m      4\u001b[0m datastore\u001b[38;5;241m.\u001b[39mget_observations(obs_ids, required_irf\u001b[38;5;241m=\u001b[39m[\u001b[38;5;124m'\u001b[39m\u001b[38;5;124maeff\u001b[39m\u001b[38;5;124m'\u001b[39m])\n\u001b[0;32m----> 5\u001b[0m events \u001b[38;5;241m=\u001b[39m \u001b[43mEventList\u001b[49m\u001b[38;5;241;43m.\u001b[39;49m\u001b[43mread\u001b[49m\u001b[43m(\u001b[49m\u001b[43mdatastore\u001b[49m\u001b[43m)\u001b[49m\n",
      "File \u001b[0;32m~/opt/mambaforge/envs/gammapy-0.20/lib/python3.8/site-packages/gammapy/data/event_list.py:101\u001b[0m, in \u001b[0;36mEventList.read\u001b[0;34m(cls, filename, **kwargs)\u001b[0m\n\u001b[1;32m     90\u001b[0m \u001b[38;5;129m@classmethod\u001b[39m\n\u001b[1;32m     91\u001b[0m \u001b[38;5;28;01mdef\u001b[39;00m \u001b[38;5;21mread\u001b[39m(\u001b[38;5;28mcls\u001b[39m, filename, \u001b[38;5;241m*\u001b[39m\u001b[38;5;241m*\u001b[39mkwargs):\n\u001b[1;32m     92\u001b[0m     \u001b[38;5;124;03m\"\"\"Read from FITS file.\u001b[39;00m\n\u001b[1;32m     93\u001b[0m \n\u001b[1;32m     94\u001b[0m \u001b[38;5;124;03m    Format specification: :ref:`gadf:iact-events`\u001b[39;00m\n\u001b[0;32m   (...)\u001b[0m\n\u001b[1;32m     99\u001b[0m \u001b[38;5;124;03m        Filename\u001b[39;00m\n\u001b[1;32m    100\u001b[0m \u001b[38;5;124;03m    \"\"\"\u001b[39;00m\n\u001b[0;32m--> 101\u001b[0m     filename \u001b[38;5;241m=\u001b[39m \u001b[43mmake_path\u001b[49m\u001b[43m(\u001b[49m\u001b[43mfilename\u001b[49m\u001b[43m)\u001b[49m\n\u001b[1;32m    102\u001b[0m     kwargs\u001b[38;5;241m.\u001b[39msetdefault(\u001b[38;5;124m\"\u001b[39m\u001b[38;5;124mhdu\u001b[39m\u001b[38;5;124m\"\u001b[39m, \u001b[38;5;124m\"\u001b[39m\u001b[38;5;124mEVENTS\u001b[39m\u001b[38;5;124m\"\u001b[39m)\n\u001b[1;32m    103\u001b[0m     table \u001b[38;5;241m=\u001b[39m Table\u001b[38;5;241m.\u001b[39mread(filename, \u001b[38;5;241m*\u001b[39m\u001b[38;5;241m*\u001b[39mkwargs)\n",
      "File \u001b[0;32m~/opt/mambaforge/envs/gammapy-0.20/lib/python3.8/site-packages/gammapy/utils/scripts.py:116\u001b[0m, in \u001b[0;36mmake_path\u001b[0;34m(path)\u001b[0m\n\u001b[1;32m    114\u001b[0m     \u001b[38;5;28;01mreturn\u001b[39;00m \u001b[38;5;28;01mNone\u001b[39;00m\n\u001b[1;32m    115\u001b[0m \u001b[38;5;28;01melse\u001b[39;00m:\n\u001b[0;32m--> 116\u001b[0m     \u001b[38;5;28;01mreturn\u001b[39;00m Path(\u001b[43mos\u001b[49m\u001b[38;5;241;43m.\u001b[39;49m\u001b[43mpath\u001b[49m\u001b[38;5;241;43m.\u001b[39;49m\u001b[43mexpandvars\u001b[49m\u001b[43m(\u001b[49m\u001b[43mpath\u001b[49m\u001b[43m)\u001b[49m)\n",
      "File \u001b[0;32m~/opt/mambaforge/envs/gammapy-0.20/lib/python3.8/posixpath.py:284\u001b[0m, in \u001b[0;36mexpandvars\u001b[0;34m(path)\u001b[0m\n\u001b[1;32m    281\u001b[0m \u001b[38;5;28;01mdef\u001b[39;00m \u001b[38;5;21mexpandvars\u001b[39m(path):\n\u001b[1;32m    282\u001b[0m     \u001b[38;5;124;03m\"\"\"Expand shell variables of form $var and ${var}.  Unknown variables\u001b[39;00m\n\u001b[1;32m    283\u001b[0m \u001b[38;5;124;03m    are left unchanged.\"\"\"\u001b[39;00m\n\u001b[0;32m--> 284\u001b[0m     path \u001b[38;5;241m=\u001b[39m \u001b[43mos\u001b[49m\u001b[38;5;241;43m.\u001b[39;49m\u001b[43mfspath\u001b[49m\u001b[43m(\u001b[49m\u001b[43mpath\u001b[49m\u001b[43m)\u001b[49m\n\u001b[1;32m    285\u001b[0m     \u001b[38;5;28;01mglobal\u001b[39;00m _varprog, _varprogb\n\u001b[1;32m    286\u001b[0m     \u001b[38;5;28;01mif\u001b[39;00m \u001b[38;5;28misinstance\u001b[39m(path, \u001b[38;5;28mbytes\u001b[39m):\n",
      "\u001b[0;31mTypeError\u001b[0m: expected str, bytes or os.PathLike object, not DataStore"
     ]
    }
   ],
   "source": [
    "datastore = DataStore.from_dir(f\"../../data/ngc1275/magic/\")\n",
    "obs_ids = [5059487,5059488]\n",
    "#obs_ids = [5059487,5059488,5059489,5059490,5059497,5059498,5059499,5059500]\n",
    "datastore.get_observations(obs_ids, required_irf=['aeff'])\n"
   ]
  },
  {
   "cell_type": "code",
   "execution_count": 98,
   "metadata": {},
   "outputs": [
    {
     "data": {
      "image/png": "[encoded data removed]",
      "text/plain": [
       "<Figure size 1200x800 with 5 Axes>"
      ]
     },
     "metadata": {},
     "output_type": "display_data"
    }
   ],
   "source": [
    "events = EventList.read(\"../../data/ngc1275/magic/20170101_05059487_DL3_NGC1275-W0.40+157.fits\")\n",
    "events.peek()"
   ]
  },
  {
   "cell_type": "code",
   "execution_count": null,
   "metadata": {},
   "outputs": [],
   "source": [
    "from gammapy.data import EventList\n",
    "filename = '$GAMMAPY_DATA/hess-dl3-dr1/data/hess_dl3_dr1_obs_id_023523.fits.gz'\n",
    "events = EventList.read(filename)\n",
    "events.peek()"
   ]
  },
  {
   "cell_type": "code",
   "execution_count": 100,
   "metadata": {},
   "outputs": [],
   "source": [
    "# Select events based on energy\n",
    "selected_energy = events.select_energy([1*u.TeV, 1.2*u.TeV])\n",
    "\n",
    "# Select events based on time\n",
    "#t_start = Time(57185, format='mjd')\n",
    "#t_stop = Time(57185.5, format='mjd')\n",
    "\n",
    "#selected_time = events.select_time([t_start, t_stop])\n",
    "\n",
    "# Select events based on offset\n",
    "#selected_offset = events.select_offset([1*u.deg, 2*u.deg])\n",
    "\n",
    "# Select events from a region in the sky\n",
    "#selected_region =  events.select_region(\"icrs;circle(86.3,22.01,3)\")\n",
    "\n",
    "# Finally one can select events based on any other of the columns of the `EventList.table`\n",
    "#selected_id = events.select_parameter('EVENT_ID', (5407363826067,5407363826070))"
   ]
  },
  {
   "cell_type": "code",
   "execution_count": 104,
   "metadata": {},
   "outputs": [
    {
     "name": "stderr",
     "output_type": "stream",
     "text": [
      "WARNING: MergeConflictWarning: Cannot merge meta key 'OBS_ID' types <class 'int'> and <class 'int'>, choosing OBS_ID=5059488 [astropy.utils.metadata]\n",
      "WARNING: MergeConflictWarning: Cannot merge meta key 'TSTART' types <class 'float'> and <class 'float'>, choosing TSTART=436140400.0 [astropy.utils.metadata]\n",
      "WARNING: MergeConflictWarning: Cannot merge meta key 'TSTOP' types <class 'float'> and <class 'float'>, choosing TSTOP=436141500.0 [astropy.utils.metadata]\n",
      "WARNING: MergeConflictWarning: Cannot merge meta key 'ONTIME' types <class 'float'> and <class 'float'>, choosing ONTIME=1190.0 [astropy.utils.metadata]\n",
      "WARNING: MergeConflictWarning: Cannot merge meta key 'LIVETIME' types <class 'float'> and <class 'float'>, choosing LIVETIME=1173.138 [astropy.utils.metadata]\n",
      "WARNING: MergeConflictWarning: Cannot merge meta key 'DEADC' types <class 'float'> and <class 'float'>, choosing DEADC=0.9858305 [astropy.utils.metadata]\n",
      "WARNING: MergeConflictWarning: Cannot merge meta key 'RA_PNT' types <class 'float'> and <class 'float'>, choosing RA_PNT=50.4375 [astropy.utils.metadata]\n",
      "WARNING: MergeConflictWarning: Cannot merge meta key 'DEC_PNT' types <class 'float'> and <class 'float'>, choosing DEC_PNT=41.35305 [astropy.utils.metadata]\n",
      "WARNING: MergeConflictWarning: Cannot merge meta key 'ALT_PNT' types <class 'float'> and <class 'float'>, choosing ALT_PNT=76.38058 [astropy.utils.metadata]\n",
      "WARNING: MergeConflictWarning: Cannot merge meta key 'AZ_PNT' types <class 'float'> and <class 'float'>, choosing AZ_PNT=-19.56814 [astropy.utils.metadata]\n",
      "WARNING: MergeConflictWarning: Cannot merge meta key 'OBS_ID' types <class 'int'> and <class 'int'>, choosing OBS_ID=5059489 [astropy.utils.metadata]\n",
      "WARNING: MergeConflictWarning: Cannot merge meta key 'TSTART' types <class 'float'> and <class 'float'>, choosing TSTART=436141600.0 [astropy.utils.metadata]\n",
      "WARNING: MergeConflictWarning: Cannot merge meta key 'TSTOP' types <class 'float'> and <class 'float'>, choosing TSTOP=436142800.0 [astropy.utils.metadata]\n",
      "WARNING: MergeConflictWarning: Cannot merge meta key 'ONTIME' types <class 'float'> and <class 'float'>, choosing ONTIME=1186.0 [astropy.utils.metadata]\n",
      "WARNING: MergeConflictWarning: Cannot merge meta key 'LIVETIME' types <class 'float'> and <class 'float'>, choosing LIVETIME=1172.286 [astropy.utils.metadata]\n",
      "WARNING: MergeConflictWarning: Cannot merge meta key 'DEADC' types <class 'float'> and <class 'float'>, choosing DEADC=0.9884369 [astropy.utils.metadata]\n",
      "WARNING: MergeConflictWarning: Cannot merge meta key 'RA_PNT' types <class 'float'> and <class 'float'>, choosing RA_PNT=50.22917 [astropy.utils.metadata]\n",
      "WARNING: MergeConflictWarning: Cannot merge meta key 'DEC_PNT' types <class 'float'> and <class 'float'>, choosing DEC_PNT=41.85111 [astropy.utils.metadata]\n",
      "WARNING: MergeConflictWarning: Cannot merge meta key 'ALT_PNT' types <class 'float'> and <class 'float'>, choosing ALT_PNT=73.91575 [astropy.utils.metadata]\n",
      "WARNING: MergeConflictWarning: Cannot merge meta key 'AZ_PNT' types <class 'float'> and <class 'float'>, choosing AZ_PNT=-31.89155 [astropy.utils.metadata]\n",
      "WARNING: MergeConflictWarning: Cannot merge meta key 'OBS_ID' types <class 'int'> and <class 'int'>, choosing OBS_ID=5059490 [astropy.utils.metadata]\n",
      "WARNING: MergeConflictWarning: Cannot merge meta key 'TSTART' types <class 'float'> and <class 'float'>, choosing TSTART=436142800.0 [astropy.utils.metadata]\n",
      "WARNING: MergeConflictWarning: Cannot merge meta key 'TSTOP' types <class 'float'> and <class 'float'>, choosing TSTOP=436144000.0 [astropy.utils.metadata]\n",
      "WARNING: MergeConflictWarning: Cannot merge meta key 'ONTIME' types <class 'float'> and <class 'float'>, choosing ONTIME=1188.0 [astropy.utils.metadata]\n",
      "WARNING: MergeConflictWarning: Cannot merge meta key 'LIVETIME' types <class 'float'> and <class 'float'>, choosing LIVETIME=1172.134 [astropy.utils.metadata]\n",
      "WARNING: MergeConflictWarning: Cannot merge meta key 'DEADC' types <class 'float'> and <class 'float'>, choosing DEADC=0.986645 [astropy.utils.metadata]\n",
      "WARNING: MergeConflictWarning: Cannot merge meta key 'RA_PNT' types <class 'float'> and <class 'float'>, choosing RA_PNT=49.66667 [astropy.utils.metadata]\n",
      "WARNING: MergeConflictWarning: Cannot merge meta key 'DEC_PNT' types <class 'float'> and <class 'float'>, choosing DEC_PNT=41.17139 [astropy.utils.metadata]\n",
      "WARNING: MergeConflictWarning: Cannot merge meta key 'ALT_PNT' types <class 'float'> and <class 'float'>, choosing ALT_PNT=71.33998 [astropy.utils.metadata]\n",
      "WARNING: MergeConflictWarning: Cannot merge meta key 'AZ_PNT' types <class 'float'> and <class 'float'>, choosing AZ_PNT=-43.42561 [astropy.utils.metadata]\n"
     ]
    }
   ],
   "source": [
    "from gammapy.data import EventList, GTI\n",
    "\n",
    "filename_1 = '../../data/ngc1275/magic/20170101_05059487_DL3_NGC1275-W0.40+157.fits'\n",
    "filename_3 = '../../data/ngc1275/magic/20170101_05059489_DL3_NGC1275-W0.40+058.fits'\n",
    "filename_2 = '../../data/ngc1275/magic/20170101_05059488_DL3_NGC1275-W0.40+337.fits'\n",
    "filename_4 = '../../data/ngc1275/magic/20170101_05059490_DL3_NGC1275-W0.40+238.fits'\n",
    "\n",
    "events_1 = EventList.read(filename_1)\n",
    "events_2 = EventList.read(filename_2)\n",
    "events_3 = EventList.read(filename_3)\n",
    "events_4 = EventList.read(filename_4)\n",
    "\n",
    "\n",
    "gti_1 = GTI.read(filename_1)\n",
    "gti_2 = GTI.read(filename_2)\n",
    "gti_3 = GTI.read(filename_3)\n",
    "gti_4 = GTI.read(filename_4)\n",
    "\n",
    "# stack in place, now the _1 object contains the information of both\n",
    "#gti_1.stack(gti_2)\n",
    "#gti_1.stack(gti_3)\n",
    "#gti_1.stack(gti_4)\n",
    "#events_1.stack(events_2)\n",
    "#events_1.stack(events_3)\n",
    "#events_1.stack(events_4)\n",
    "\n",
    "# or instead create a new event list from the other two\n",
    "combined_events = EventList.from_stack([events_1, events_2, events_3, events_4])"
   ]
  },
  {
   "cell_type": "code",
   "execution_count": 105,
   "metadata": {},
   "outputs": [
    {
     "data": {
      "image/png": "[encoded data removed]",
      "text/plain": [
       "<Figure size 1200x800 with 5 Axes>"
      ]
     },
     "metadata": {},
     "output_type": "display_data"
    }
   ],
   "source": [
    "combined_events.peek()"
   ]
  },
  {
   "cell_type": "code",
   "execution_count": 125,
   "metadata": {},
   "outputs": [
    {
     "data": {
      "text/latex": [
       "[$-13^\\circ37{}^\\prime15.02544351{}^{\\prime\\prime}$\n",
       " $-13^\\circ15{}^\\prime47.37025575{}^{\\prime\\prime}$\n",
       " $-13^\\circ17{}^\\prime15.30965471{}^{\\prime\\prime}$ ...\n",
       " $-13^\\circ56{}^\\prime32.21347644{}^{\\prime\\prime}$\n",
       " $-14^\\circ12{}^\\prime29.42222047{}^{\\prime\\prime}$\n",
       " $-14^\\circ49{}^\\prime32.89266244{}^{\\prime\\prime}$]"
      ],
      "text/plain": [
       "<Latitude [-13.6208404 , -13.2631584 , -13.28758602, ..., -13.94228152,\n",
       "           -14.20817284, -14.82580352] deg>"
      ]
     },
     "execution_count": 125,
     "metadata": {},
     "output_type": "execute_result"
    }
   ],
   "source": [
    "combined_events.galactic.b"
   ]
  },
  {
   "cell_type": "code",
   "execution_count": null,
   "metadata": {},
   "outputs": [],
   "source": []
  },
  {
   "cell_type": "code",
   "execution_count": null,
   "metadata": {},
   "outputs": [],
   "source": []
  },
  {
   "cell_type": "code",
   "execution_count": null,
   "metadata": {},
   "outputs": [],
   "source": []
  },
  {
   "cell_type": "code",
   "execution_count": null,
   "metadata": {},
   "outputs": [],
   "source": []
  },
  {
   "cell_type": "code",
   "execution_count": null,
   "metadata": {},
   "outputs": [],
   "source": []
  },
  {
   "cell_type": "code",
   "execution_count": null,
   "metadata": {},
   "outputs": [],
   "source": []
  },
  {
   "cell_type": "code",
   "execution_count": null,
   "metadata": {},
   "outputs": [],
   "source": []
  },
  {
   "cell_type": "code",
   "execution_count": 63,
   "metadata": {},
   "outputs": [
    {
     "data": {
      "text/plain": [
       "<gammapy.irf.rad_max.RadMax2D at 0x7fec1db03520>"
      ]
     },
     "execution_count": 63,
     "metadata": {},
     "output_type": "execute_result"
    }
   ],
   "source": [
    "rad_max = obs_ngc1275[\"5059487\"].rad_max\n",
    "rad_max"
   ]
  },
  {
   "cell_type": "code",
   "execution_count": 8,
   "metadata": {},
   "outputs": [
    {
     "name": "stdout",
     "output_type": "stream",
     "text": [
      "Observations\n",
      "Number of observations: 2\n",
      "Observation\n",
      "\n",
      "\tobs id            : 5059487 \n",
      " \ttstart            : 57753.91\n",
      "\ttstop             : 57753.92\n",
      "\tduration          : 1216.00 s\n",
      "\tpointing (icrs)   : 49.5 deg, 41.7 deg\n",
      "\n",
      "\tdeadtime fraction : 1.2%\n",
      "Observation\n",
      "\n",
      "\tobs id            : 5059488 \n",
      " \ttstart            : 57753.92\n",
      "\ttstop             : 57753.93\n",
      "\tduration          : 1184.00 s\n",
      "\tpointing (icrs)   : 50.4 deg, 41.4 deg\n",
      "\n",
      "\tdeadtime fraction : 1.4%\n",
      "\n"
     ]
    }
   ],
   "source": [
    "obs_ngc1275 = datastore.get_observations(obs_ids, required_irf='point-like')\n",
    "print(obs_ngc1275)"
   ]
  },
  {
   "cell_type": "code",
   "execution_count": 57,
   "metadata": {},
   "outputs": [
    {
     "data": {
      "text/latex": [
       "$41^\\circ30{}^\\prime42.10885084{}^{\\prime\\prime}$"
      ],
      "text/plain": [
       "<Latitude 41.5116969 deg>"
      ]
     },
     "execution_count": 57,
     "metadata": {},
     "output_type": "execute_result"
    }
   ],
   "source": [
    "pos = SkyCoord.from_name(\"NGC1275\")\n",
    "pos.data.lat\n"
   ]
  },
  {
   "cell_type": "code",
   "execution_count": 56,
   "metadata": {},
   "outputs": [
    {
     "name": "stdout",
     "output_type": "stream",
     "text": [
      "Observations\n",
      "Number of observations: 2\n",
      "Observation\n",
      "\n",
      "\tobs id            : 5059487 \n",
      " \ttstart            : 57753.91\n",
      "\ttstop             : 57753.92\n",
      "\tduration          : 1216.00 s\n",
      "\tpointing (icrs)   : 49.5 deg, 41.7 deg\n",
      "\n",
      "\tdeadtime fraction : 1.2%\n",
      "Observation\n",
      "\n",
      "\tobs id            : 5059488 \n",
      " \ttstart            : 57753.92\n",
      "\ttstop             : 57753.93\n",
      "\tduration          : 1184.00 s\n",
      "\tpointing (icrs)   : 50.4 deg, 41.4 deg\n",
      "\n",
      "\tdeadtime fraction : 1.4%\n",
      "\n"
     ]
    }
   ],
   "source": [
    "obs_ngc1275 = datastore.get_observations(obs_ids, required_irf=[\"aeff\", \"edisp\", \"rad_max\"]\n",
    ")\n",
    "print(obs_ngc1275)"
   ]
  },
  {
   "cell_type": "code",
   "execution_count": 59,
   "metadata": {},
   "outputs": [
    {
     "data": {
      "text/plain": [
       "OrderedDict([('EXTNAME', 'EFFECTIVE AREA'),\n",
       "             ('HDUCLASS', 'GADF'),\n",
       "             ('HDUDOC',\n",
       "              'https://github.com/open-gamma-ray-astro/gamma-astro-data-formats'),\n",
       "             ('HDUVERS', '0.2'),\n",
       "             ('HDUCLAS1', 'RESPONSE'),\n",
       "             ('HDUCLAS2', 'EFF_AREA'),\n",
       "             ('HDUCLAS3', 'POINT-LIKE'),\n",
       "             ('HDUCLAS4', 'AEFF_2D'),\n",
       "             ('CREF5', '(ENERG_LO:ENERG_HI,THETA_LO:THETA_HI)'),\n",
       "             ('OBS_ID', 5059487),\n",
       "             ('LO_THRES', 0.0786337)])"
      ]
     },
     "execution_count": 59,
     "metadata": {},
     "output_type": "execute_result"
    }
   ],
   "source": [
    "obs_ngc1275[0].aeff.meta"
   ]
  },
  {
   "cell_type": "code",
   "execution_count": 79,
   "metadata": {},
   "outputs": [
    {
     "ename": "ValueError",
     "evalue": "'radius' must be a scalar",
     "output_type": "error",
     "traceback": [
      "\u001b[0;31m---------------------------------------------------------------------------\u001b[0m",
      "\u001b[0;31mValueError\u001b[0m                                Traceback (most recent call last)",
      "Input \u001b[0;32mIn [79]\u001b[0m, in \u001b[0;36m<cell line: 8>\u001b[0;34m()\u001b[0m\n\u001b[1;32m      6\u001b[0m on_region_radius \u001b[38;5;241m=\u001b[39m Angle(theta\u001b[38;5;241m.\u001b[39mdata\u001b[38;5;241m*\u001b[39mu\u001b[38;5;241m.\u001b[39mdeg)\n\u001b[1;32m      7\u001b[0m on_region_radius\u001b[38;5;241m.\u001b[39mto(\u001b[38;5;124m'\u001b[39m\u001b[38;5;124mrad\u001b[39m\u001b[38;5;124m'\u001b[39m)\n\u001b[0;32m----> 8\u001b[0m on_region \u001b[38;5;241m=\u001b[39m \u001b[43mCircleSkyRegion\u001b[49m\u001b[43m(\u001b[49m\u001b[43mcenter\u001b[49m\u001b[38;5;241;43m=\u001b[39;49m\u001b[43mtarget_position\u001b[49m\u001b[43m,\u001b[49m\u001b[43m \u001b[49m\u001b[43mradius\u001b[49m\u001b[38;5;241;43m=\u001b[39;49m\u001b[43mon_region_radius\u001b[49m\u001b[43m)\u001b[49m\n\u001b[1;32m     10\u001b[0m skydir \u001b[38;5;241m=\u001b[39m target_position\u001b[38;5;241m.\u001b[39mgalactic\n",
      "File \u001b[0;32m~/opt/mambaforge/envs/gammapy-0.20/lib/python3.8/site-packages/regions/shapes/circle.py:206\u001b[0m, in \u001b[0;36mCircleSkyRegion.__init__\u001b[0;34m(self, center, radius, meta, visual)\u001b[0m\n\u001b[1;32m    204\u001b[0m \u001b[38;5;28;01mdef\u001b[39;00m \u001b[38;5;21m__init__\u001b[39m(\u001b[38;5;28mself\u001b[39m, center, radius, meta\u001b[38;5;241m=\u001b[39m\u001b[38;5;28;01mNone\u001b[39;00m, visual\u001b[38;5;241m=\u001b[39m\u001b[38;5;28;01mNone\u001b[39;00m):\n\u001b[1;32m    205\u001b[0m     \u001b[38;5;28mself\u001b[39m\u001b[38;5;241m.\u001b[39mcenter \u001b[38;5;241m=\u001b[39m center\n\u001b[0;32m--> 206\u001b[0m     \u001b[38;5;28;43mself\u001b[39;49m\u001b[38;5;241;43m.\u001b[39;49m\u001b[43mradius\u001b[49m \u001b[38;5;241m=\u001b[39m radius\n\u001b[1;32m    207\u001b[0m     \u001b[38;5;28mself\u001b[39m\u001b[38;5;241m.\u001b[39mmeta \u001b[38;5;241m=\u001b[39m meta \u001b[38;5;129;01mor\u001b[39;00m RegionMeta()\n\u001b[1;32m    208\u001b[0m     \u001b[38;5;28mself\u001b[39m\u001b[38;5;241m.\u001b[39mvisual \u001b[38;5;241m=\u001b[39m visual \u001b[38;5;129;01mor\u001b[39;00m RegionVisual()\n",
      "File \u001b[0;32m~/opt/mambaforge/envs/gammapy-0.20/lib/python3.8/site-packages/regions/core/attributes.py:40\u001b[0m, in \u001b[0;36mRegionAttribute.__set__\u001b[0;34m(self, instance, value)\u001b[0m\n\u001b[1;32m     39\u001b[0m \u001b[38;5;28;01mdef\u001b[39;00m \u001b[38;5;21m__set__\u001b[39m(\u001b[38;5;28mself\u001b[39m, instance, value):\n\u001b[0;32m---> 40\u001b[0m     \u001b[38;5;28;43mself\u001b[39;49m\u001b[38;5;241;43m.\u001b[39;49m\u001b[43m_validate\u001b[49m\u001b[43m(\u001b[49m\u001b[43mvalue\u001b[49m\u001b[43m)\u001b[49m\n\u001b[1;32m     41\u001b[0m     instance\u001b[38;5;241m.\u001b[39m\u001b[38;5;18m__dict__\u001b[39m[\u001b[38;5;28mself\u001b[39m\u001b[38;5;241m.\u001b[39mname] \u001b[38;5;241m=\u001b[39m value\n",
      "File \u001b[0;32m~/opt/mambaforge/envs/gammapy-0.20/lib/python3.8/site-packages/regions/core/attributes.py:143\u001b[0m, in \u001b[0;36mPositiveScalarAngle._validate\u001b[0;34m(self, value)\u001b[0m\n\u001b[1;32m    141\u001b[0m \u001b[38;5;28;01mif\u001b[39;00m \u001b[38;5;28misinstance\u001b[39m(value, Quantity):\n\u001b[1;32m    142\u001b[0m     \u001b[38;5;28;01mif\u001b[39;00m \u001b[38;5;129;01mnot\u001b[39;00m value\u001b[38;5;241m.\u001b[39misscalar:\n\u001b[0;32m--> 143\u001b[0m         \u001b[38;5;28;01mraise\u001b[39;00m \u001b[38;5;167;01mValueError\u001b[39;00m(\u001b[38;5;124mf\u001b[39m\u001b[38;5;124m'\u001b[39m\u001b[38;5;132;01m{\u001b[39;00m\u001b[38;5;28mself\u001b[39m\u001b[38;5;241m.\u001b[39mname\u001b[38;5;132;01m!r}\u001b[39;00m\u001b[38;5;124m must be a scalar\u001b[39m\u001b[38;5;124m'\u001b[39m)\n\u001b[1;32m    145\u001b[0m     \u001b[38;5;28;01mif\u001b[39;00m \u001b[38;5;129;01mnot\u001b[39;00m value\u001b[38;5;241m.\u001b[39munit\u001b[38;5;241m.\u001b[39mphysical_type \u001b[38;5;241m==\u001b[39m \u001b[38;5;124m'\u001b[39m\u001b[38;5;124mangle\u001b[39m\u001b[38;5;124m'\u001b[39m:\n\u001b[1;32m    146\u001b[0m         \u001b[38;5;28;01mraise\u001b[39;00m \u001b[38;5;167;01mValueError\u001b[39;00m(\u001b[38;5;124mf\u001b[39m\u001b[38;5;124m'\u001b[39m\u001b[38;5;132;01m{\u001b[39;00m\u001b[38;5;28mself\u001b[39m\u001b[38;5;241m.\u001b[39mname\u001b[38;5;132;01m!r}\u001b[39;00m\u001b[38;5;124m must have angular units\u001b[39m\u001b[38;5;124m'\u001b[39m)\n",
      "\u001b[0;31mValueError\u001b[0m: 'radius' must be a scalar"
     ]
    }
   ],
   "source": [
    "target_position = SkyCoord(ra=pos.data.lon, dec=pos.data.lat, unit=\"deg\", frame=\"icrs\")\n",
    "\n",
    "theta = obs_ngc1275[0].rad_max\n",
    "assert all(o.rad_max == theta for o in obs_ngc1275)\n",
    "\n",
    "on_region_radius = Angle(theta.data*u.deg)\n",
    "on_region_radius.to('rad')\n",
    "on_region = CircleSkyRegion(center=target_position, radius=on_region_radius)\n",
    "\n",
    "skydir = target_position.galactic"
   ]
  },
  {
   "cell_type": "code",
   "execution_count": null,
   "metadata": {},
   "outputs": [],
   "source": []
  },
  {
   "cell_type": "code",
   "execution_count": null,
   "metadata": {},
   "outputs": [],
   "source": []
  },
  {
   "cell_type": "code",
   "execution_count": null,
   "metadata": {},
   "outputs": [],
   "source": []
  },
  {
   "cell_type": "code",
   "execution_count": null,
   "metadata": {},
   "outputs": [],
   "source": []
  },
  {
   "cell_type": "code",
   "execution_count": null,
   "metadata": {},
   "outputs": [],
   "source": []
  },
  {
   "cell_type": "code",
   "execution_count": null,
   "metadata": {},
   "outputs": [],
   "source": []
  },
  {
   "cell_type": "code",
   "execution_count": null,
   "metadata": {},
   "outputs": [],
   "source": []
  },
  {
   "cell_type": "markdown",
   "metadata": {},
   "source": [
    "# OLD STUFF"
   ]
  },
  {
   "cell_type": "code",
   "execution_count": null,
   "metadata": {},
   "outputs": [],
   "source": [
    "en_s1  = evt1['ENERGY']\n",
    "t_s1   = evt1['TIME']\n",
    "ra_s1  = evt1['RA']\n",
    "dec_s1 = evt1['DEC']\n",
    "g_s1   = evt1['GAMMANESS']"
   ]
  },
  {
   "cell_type": "code",
   "execution_count": null,
   "metadata": {},
   "outputs": [],
   "source": [
    "en_s2  = evt2['ENERGY']\n",
    "t_s2   = evt2['TIME']\n",
    "ra_s2  = evt2['RA']\n",
    "dec_s2 = evt2['DEC']\n",
    "g_s2   = evt2['GAMMANESS']"
   ]
  },
  {
   "cell_type": "code",
   "execution_count": null,
   "metadata": {},
   "outputs": [],
   "source": [
    "en_s3  = evt3['ENERGY']\n",
    "t_s3   = evt3['TIME']\n",
    "ra_s3  = evt3['RA']\n",
    "dec_s3 = evt3['DEC']\n",
    "g_s3   = evt3['GAMMANESS']"
   ]
  },
  {
   "cell_type": "code",
   "execution_count": null,
   "metadata": {},
   "outputs": [],
   "source": [
    "# Direction of the events\n",
    "plt.plot(dec,ra,marker='s', markersize='0.2',linewidth='0',alpha=0.5, label=\"all\")\n",
    "plt.plot(dec_s1,ra_s1,marker='o', markersize='2',linewidth='0',alpha=0.5, label=\"Low Energy\")\n",
    "plt.plot(dec_s2,ra_s2,marker='o', markersize='2',linewidth='0',alpha=0.5, label=\"High Energy\")\n",
    "plt.plot(dec_s3,ra_s3,marker='o', markersize='2',linewidth='0',alpha=0.5, label=\"Gammaness > 0.95\")\n",
    "plt.plot(dec_obj,ra_obj, marker=\"*\", markersize=\"12\",linewidth='0', label=\"Object Sky coordinate\")\n",
    "plt.plot(dec_pnt,ra_pnt, marker=\"x\", color = 'black', markersize=\"10\", linewidth='0', label=\"Observed coordinate\")\n",
    "plt.xlabel('Dec [deg]')\n",
    "plt.ylabel('RA [deg]')\n",
    "plt.title('Sky Event Distribution')\n",
    "plt.legend(loc=\"best\")"
   ]
  },
  {
   "cell_type": "code",
   "execution_count": null,
   "metadata": {},
   "outputs": [],
   "source": [
    "# Direction of the events\n",
    "plt.plot(dec,ra,marker='s', markersize='0.2',linewidth='0',alpha=0.6, label=\"all\")\n",
    "plt.plot(decsel,rasel,marker='s', markersize='0.4',linewidth='0',label=\"selected\")\n",
    "plt.xlabel('Dec [deg]')\n",
    "plt.ylabel('RA [deg]')\n",
    "plt.legend(loc=\"best\")"
   ]
  },
  {
   "cell_type": "code",
   "execution_count": null,
   "metadata": {},
   "outputs": [],
   "source": [
    "# Direction of the events\n",
    "plt.plot(dx,dy,marker='s', markersize='0.2',linewidth='0')\n"
   ]
  },
  {
   "cell_type": "code",
   "execution_count": null,
   "metadata": {},
   "outputs": [],
   "source": []
  }
 ],
 "metadata": {
  "kernelspec": {
   "display_name": "Python 3 (ipykernel)",
   "language": "python",
   "name": "python3"
  },
  "language_info": {
   "codemirror_mode": {
    "name": "ipython",
    "version": 3
   },
   "file_extension": ".py",
   "mimetype": "text/x-python",
   "name": "python",
   "nbconvert_exporter": "python",
   "pygments_lexer": "ipython3",
   "version": "3.9.0"
  }
 },
 "nbformat": 4,
 "nbformat_minor": 4
}
