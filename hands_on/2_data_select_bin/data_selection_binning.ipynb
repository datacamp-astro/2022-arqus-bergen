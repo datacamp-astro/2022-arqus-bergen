{
 "cells": [
  {
   "cell_type": "markdown",
   "metadata": {},
   "source": [
    "# Hands On Instrument Data Selection and Binning"
   ]
  },
  {
   "cell_type": "markdown",
   "metadata": {},
   "source": [
    "Please refer to [this notebook](https://github.com/arqus-gamma/arqus_school_2022/blob/main/hands_on/1_read_data/Read_data_with_astropy_hands_on.ipynb) for preliminary introduction"
   ]
  },
  {
   "cell_type": "markdown",
   "metadata": {},
   "source": [
    "## 0. Setup\n",
    "\n",
    "As usual, we start by installing some standards packages. We try to be minimal and install only those stricly required.\n",
    "Check package versions. All examples should work with Astropy > 2.0 and Numpy > 1.11"
   ]
  },
  {
   "cell_type": "code",
   "execution_count": null,
   "metadata": {},
   "outputs": [],
   "source": [
    "%matplotlib inline  \n",
    "import matplotlib.pyplot as plt"
   ]
  },
  {
   "cell_type": "code",
   "execution_count": null,
   "metadata": {},
   "outputs": [],
   "source": [
    "import numpy as np\n",
    "import astropy\n",
    "from astropy import units as u\n",
    "from astropy import constants as const\n",
    "#from astropy.coordinates import SkyCoord\n",
    "# from astropy.time import Time\n",
    "from astropy.table import Table\n",
    "from astropy.io import fits\n",
    "\n",
    "\n",
    "print('numpy:', np.__version__)\n",
    "print('astropy:', astropy.__version__)"
   ]
  },
  {
   "cell_type": "markdown",
   "metadata": {},
   "source": [
    "However, in most cases, remember that for analyzing specific instruments' data, often additional packages are to be installed, that are somewhat specific of the instrument. In many cases, they are tailored functions"
   ]
  },
  {
   "cell_type": "code",
   "execution_count": null,
   "metadata": {},
   "outputs": [],
   "source": [
    "import gammapy\n",
    "from gammapy.data import Observation, Observations, DataStore\n",
    "from gammapy.makers import SafeMaskMaker, MapDatasetMaker, SpectrumDatasetMaker, ReflectedRegionsBackgroundMaker, WobbleRegionsFinder\n",
    "\n",
    "# dataset modules\n",
    "from gammapy.datasets import (\n",
    "    MapDataset, \n",
    "    MapDatasetOnOff, \n",
    "    MapDatasetEventSampler,\n",
    "    SpectrumDatasetOnOff,\n",
    "    SpectrumDataset, \n",
    "    Datasets,\n",
    "    FluxPointsDataset\n",
    ")"
   ]
  },
  {
   "cell_type": "markdown",
   "metadata": {},
   "source": [
    "## 1. Select data\n",
    "\n",
    "In this part we start selecting the data of interest for the further analysis.\n",
    "\n",
    "Let's first check what's in the data folder"
   ]
  },
  {
   "cell_type": "code",
   "execution_count": null,
   "metadata": {},
   "outputs": [],
   "source": [
    "!ls ../../data/"
   ]
  },
  {
   "cell_type": "markdown",
   "metadata": {},
   "source": [
    "We see that we have 4 targets, as well the complete list of files. Let's open one target:\n"
   ]
  },
  {
   "cell_type": "code",
   "execution_count": null,
   "metadata": {},
   "outputs": [],
   "source": [
    "!ls ../../data/crab_nebula/"
   ]
  },
  {
   "cell_type": "markdown",
   "metadata": {},
   "source": [
    "Great! More than 5 instruments data for our targets. Let's start with MAGIC data:"
   ]
  },
  {
   "cell_type": "code",
   "execution_count": null,
   "metadata": {},
   "outputs": [],
   "source": [
    "!ls ../../data/crab_nebula/magic"
   ]
  },
  {
   "cell_type": "markdown",
   "metadata": {},
   "source": [
    "So we have two files (run): 05029747 and 05029748. Let's open one of them. "
   ]
  },
  {
   "cell_type": "code",
   "execution_count": null,
   "metadata": {},
   "outputs": [],
   "source": [
    "#fits_file = fits.open('../../data/crab_nebula/magic/run_05029747_DL3.fits')\n",
    "fits_file = fits.open('../../data/ngc1275/magic/20170101_05059487_DL3_NGC1275-W0.40+157.fits')"
   ]
  },
  {
   "cell_type": "markdown",
   "metadata": {},
   "source": [
    "Let's check the header data unit (HDU) by calling `.info()`:"
   ]
  },
  {
   "cell_type": "code",
   "execution_count": null,
   "metadata": {},
   "outputs": [],
   "source": [
    "fits_file.info()"
   ]
  },
  {
   "cell_type": "markdown",
   "metadata": {},
   "source": [
    "The PRIMARY contains only a short header and no data"
   ]
  },
  {
   "cell_type": "code",
   "execution_count": null,
   "metadata": {},
   "outputs": [],
   "source": [
    "primary = fits_file['PRIMARY'] \n",
    "primary.header\n",
    "#primary.data"
   ]
  },
  {
   "cell_type": "markdown",
   "metadata": {},
   "source": [
    "Let's look at the EVENT HDU. Here are the events information. First with the header"
   ]
  },
  {
   "cell_type": "code",
   "execution_count": null,
   "metadata": {},
   "outputs": [],
   "source": [
    "events = fits_file['EVENTS'] \n",
    "events.header"
   ]
  },
  {
   "cell_type": "code",
   "execution_count": null,
   "metadata": {},
   "outputs": [],
   "source": [
    "events.columns.names"
   ]
  },
  {
   "cell_type": "markdown",
   "metadata": {},
   "source": [
    "Of all the entries, some are worth discussing\n",
    "\n",
    "```\n",
    "OBS_ID  =              5059487 / unique observation identifier                  \n",
    "TSTART  =         4.361391E+08 / [s] observation start time                     \n",
    "TSTOP   =         4.361403E+08 / [s] observation end time                       \n",
    "ONTIME  =                1193. / [s] total good time (sum of GTIs)              \n",
    "LIVETIME=             1178.607 / [s] total effective time                       \n",
    "OBS_MODE= 'POINTING'           / observation mode                               \n",
    "RA_OBJ  =                49.95 / [deg] source RA                                \n",
    "DEC_OBJ =             41.51167 / [deg] source DEC                               \n",
    "OBS_MODE= 'Wobble  '           / observation mode                               \n",
    "RA_PNT  =             49.45417 / [deg] observation pointing RA                  \n",
    "DEC_PNT =             41.66806 / [deg] observation pointing DEC                 \n",
    "ALT_PNT =             76.89065 / [deg] average altitude pointing                \n",
    "AZ_PNT  =            -6.315182 / [deg] average azimuth pointing\n",
    "```\n",
    "\n",
    "Let's look at the data now"
   ]
  },
  {
   "cell_type": "code",
   "execution_count": null,
   "metadata": {},
   "outputs": [],
   "source": [
    "events.data"
   ]
  },
  {
   "cell_type": "code",
   "execution_count": null,
   "metadata": {
    "scrolled": false
   },
   "outputs": [],
   "source": [
    "Table(events.data)"
   ]
  },
  {
   "cell_type": "code",
   "execution_count": null,
   "metadata": {},
   "outputs": [],
   "source": [
    "en  = events.data['ENERGY']\n",
    "t   = events.data['TIME']\n",
    "ra  = events.data['RA']\n",
    "dec = events.data['DEC']\n",
    "g   = events.data['GAMMANESS']\n",
    "dx  = events.data['DETX']\n",
    "dy  = events.data['DETY']"
   ]
  },
  {
   "cell_type": "code",
   "execution_count": null,
   "metadata": {},
   "outputs": [],
   "source": [
    "# Selection\n",
    "cuts1 = events.data['GAMMANESS'] > 0.95\n",
    "evt = events.data[cuts1]\n",
    "print(len(events.data))\n",
    "print(len(evt))"
   ]
  },
  {
   "cell_type": "code",
   "execution_count": null,
   "metadata": {},
   "outputs": [],
   "source": [
    "ensel = evt['ENERGY']\n",
    "tsel   = evt['TIME']\n",
    "rasel     = evt['RA']\n",
    "decsel    = evt['DEC']\n",
    "gsel = evt['GAMMANESS']\n",
    "dxsel   = evt['DETX']\n",
    "dysel   = evt['DETY']"
   ]
  },
  {
   "cell_type": "code",
   "execution_count": null,
   "metadata": {},
   "outputs": [],
   "source": [
    "# Direction of the events\n",
    "plt.plot(dec,ra,marker='s', markersize='0.2',linewidth='0',alpha=0.6, label=\"all\")\n",
    "plt.plot(decsel,rasel,marker='s', markersize='0.4',linewidth='0',label=\"selected\")\n",
    "plt.xlabel('Dec [deg]')\n",
    "plt.ylabel('RA [deg]')\n",
    "plt.legend(loc=\"best\")"
   ]
  },
  {
   "cell_type": "code",
   "execution_count": null,
   "metadata": {},
   "outputs": [],
   "source": [
    "# Direction of the events\n",
    "plt.plot(dx,dy,marker='s', markersize='0.2',linewidth='0')\n"
   ]
  },
  {
   "cell_type": "code",
   "execution_count": null,
   "metadata": {},
   "outputs": [],
   "source": [
    "binning = np.linspace(0,1,50)\n",
    "plt.hist(g,bins=binning,alpha=0.8)\n",
    "plt.hist(gsel,bins=binning,alpha=0.9)\n"
   ]
  },
  {
   "cell_type": "markdown",
   "metadata": {},
   "source": [
    "Everything looks ok. For the sake of the following part we need the EVENTS tables for the moment"
   ]
  },
  {
   "cell_type": "code",
   "execution_count": null,
   "metadata": {},
   "outputs": [],
   "source": [
    "energy = events.data['ENERGY']\n",
    "time = events.data['TIME']\n",
    "condizione = energy > 1.05\n",
    "condtemp = time >  334778850.0339344\n",
    "event_sel = events.data[condizione*condtemp]\n",
    "event_sel\n",
    "gammaness = event_sel['GAMMANESS']\n",
    "len(gammaness)\n",
    "#Table(event_sel)\n",
    "#plt.hist(energy, bins=1000)"
   ]
  },
  {
   "cell_type": "markdown",
   "metadata": {},
   "source": [
    "## Effective Area"
   ]
  },
  {
   "cell_type": "code",
   "execution_count": null,
   "metadata": {},
   "outputs": [],
   "source": [
    "effarea = fits_file['EFFECTIVE AREA'] \n",
    "effarea.header\n",
    "Table(effarea.data)\n",
    "enlo = effarea.data['ENERG_LO']\n",
    "aeff = effarea.data['EFFAREA']\n",
    "x = enlo[0]\n",
    "y = aeff[0][0]\n",
    "x*u.TeV"
   ]
  },
  {
   "cell_type": "code",
   "execution_count": null,
   "metadata": {},
   "outputs": [],
   "source": [
    "plt.loglog(x,y)\n",
    "plt.xlabel('Energy [TeV]')\n",
    "plt.ylabel('Area [m^2]')"
   ]
  },
  {
   "cell_type": "code",
   "execution_count": null,
   "metadata": {},
   "outputs": [],
   "source": [
    "binning = np.logspace(-2,1,20)\n",
    "plt.hist(en,bins=binning,alpha=0.6,log=True)\n",
    "plt.hist(ensel,bins=binning,alpha=0.8,log=True)\n",
    "plt.xscale('log')"
   ]
  },
  {
   "cell_type": "code",
   "execution_count": null,
   "metadata": {},
   "outputs": [],
   "source": []
  }
 ],
 "metadata": {
  "kernelspec": {
   "display_name": "Python 3 (ipykernel)",
   "language": "python",
   "name": "python3"
  },
  "language_info": {
   "codemirror_mode": {
    "name": "ipython",
    "version": 3
   },
   "file_extension": ".py",
   "mimetype": "text/x-python",
   "name": "python",
   "nbconvert_exporter": "python",
   "pygments_lexer": "ipython3",
   "version": "3.8.5"
  }
 },
 "nbformat": 4,
 "nbformat_minor": 4
}
