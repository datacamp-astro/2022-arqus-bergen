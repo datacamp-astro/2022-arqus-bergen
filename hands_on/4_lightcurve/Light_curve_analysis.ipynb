{
 "cells": [
  {
   "cell_type": "markdown",
   "metadata": {},
   "source": [
    "# Hands on Light Curve analysis"
   ]
  },
  {
   "cell_type": "code",
   "execution_count": null,
   "metadata": {},
   "outputs": [],
   "source": [
    "%matplotlib inline  \n",
    "import matplotlib.pyplot as plt"
   ]
  },
  {
   "cell_type": "code",
   "execution_count": null,
   "metadata": {},
   "outputs": [],
   "source": [
    "import numpy as np\n",
    "import astropy\n",
    "print('numpy:', np.__version__)\n",
    "print('astropy:', astropy.__version__)"
   ]
  },
  {
   "cell_type": "code",
   "execution_count": null,
   "metadata": {},
   "outputs": [],
   "source": [
    "from astropy.table import Table\n",
    "from astropy.coordinates import SkyCoord\n",
    "from astropy import units as u\n",
    "from astropy.io import fits"
   ]
  },
  {
   "cell_type": "markdown",
   "metadata": {},
   "source": [
    "To open the fits file we use `fits.open()` and just specify the filename as an argument:"
   ]
  },
  {
   "cell_type": "code",
   "execution_count": null,
   "metadata": {},
   "outputs": [],
   "source": [
    "fits_file = fits.open('../1_read_data/data_test/run_05029747_DL3.fits')"
   ]
  },
  {
   "cell_type": "markdown",
   "metadata": {},
   "source": [
    "We can retrieve some basic information on the  header data unit (HDU) by calling `.info()`:"
   ]
  },
  {
   "cell_type": "code",
   "execution_count": null,
   "metadata": {},
   "outputs": [],
   "source": [
    "fits_file.info()"
   ]
  },
  {
   "cell_type": "markdown",
   "metadata": {},
   "source": [
    "### Events"
   ]
  },
  {
   "cell_type": "code",
   "execution_count": null,
   "metadata": {},
   "outputs": [],
   "source": [
    "events = fits_file['EVENTS']"
   ]
  },
  {
   "cell_type": "code",
   "execution_count": null,
   "metadata": {},
   "outputs": [],
   "source": [
    "events.header"
   ]
  },
  {
   "cell_type": "markdown",
   "metadata": {},
   "source": [
    "### PLOT SOURCE, POINTING and ON and OFF REGIONS"
   ]
  },
  {
   "cell_type": "code",
   "execution_count": null,
   "metadata": {},
   "outputs": [],
   "source": [
    "from astropy.visualization.wcsaxes import SphericalCircle\n",
    "from astropy.wcs import WCS"
   ]
  },
  {
   "cell_type": "markdown",
   "metadata": {},
   "source": [
    "First we get the pointing postion of the telescope"
   ]
  },
  {
   "cell_type": "code",
   "execution_count": null,
   "metadata": {},
   "outputs": [],
   "source": [
    "pointing_pos =  SkyCoord( events.header.get('RA_PNT') *u.deg,   events.header.get('DEC_PNT') *u.deg )\n",
    "pointing_pos"
   ]
  },
  {
   "cell_type": "markdown",
   "metadata": {},
   "source": [
    "Then the postion of the source on the sky"
   ]
  },
  {
   "cell_type": "code",
   "execution_count": null,
   "metadata": {},
   "outputs": [],
   "source": [
    "source_name = events.header.get('OBJECT')\n",
    "print(source_name)\n",
    "source_pos   =  SkyCoord.from_name(events.header.get('OBJECT'))\n",
    "source_pos"
   ]
  },
  {
   "cell_type": "markdown",
   "metadata": {},
   "source": [
    "As you can see the 2 position are not the same (Why?) \n",
    "\n",
    "let's compute the offset"
   ]
  },
  {
   "cell_type": "code",
   "execution_count": null,
   "metadata": {},
   "outputs": [],
   "source": [
    "offset = source_pos.separation(pointing_pos)\n",
    "offset.to( u.deg).value"
   ]
  },
  {
   "cell_type": "markdown",
   "metadata": {},
   "source": [
    "We now compute the angle between the source and the pointing position.\n"
   ]
  },
  {
   "cell_type": "code",
   "execution_count": null,
   "metadata": {},
   "outputs": [],
   "source": [
    "source_angle = pointing_pos.position_angle(source_pos).to(u.degree)\n",
    "source_angle"
   ]
  },
  {
   "cell_type": "markdown",
   "metadata": {},
   "source": [
    "Let's now compute the angles for the off positions"
   ]
  },
  {
   "cell_type": "code",
   "execution_count": null,
   "metadata": {},
   "outputs": [],
   "source": [
    "off1_angle   = source_angle + 90*u.deg\n",
    "off2_angle   = off1_angle   + 90*u.deg\n",
    "off3_angle   = off2_angle   + 90*u.deg"
   ]
  },
  {
   "cell_type": "markdown",
   "metadata": {},
   "source": [
    "Given the above angles, we now put the off positions on the same offset from the pointing that was used for the source"
   ]
  },
  {
   "cell_type": "code",
   "execution_count": null,
   "metadata": {},
   "outputs": [],
   "source": [
    "off1_pos = pointing_pos.directional_offset_by(position_angle=off1_angle, separation=offset)  \n",
    "off2_pos = pointing_pos.directional_offset_by(position_angle=off2_angle, separation=offset)  \n",
    "off3_pos = pointing_pos.directional_offset_by(position_angle=off3_angle, separation=offset) "
   ]
  },
  {
   "cell_type": "markdown",
   "metadata": {},
   "source": [
    "We can now see the results"
   ]
  },
  {
   "cell_type": "code",
   "execution_count": null,
   "metadata": {},
   "outputs": [],
   "source": [
    "fig, ax =  plt.subplots(figsize=(9,9))\n",
    "\n",
    "ax = plt.subplot()\n",
    "\n",
    "\n",
    "field_of_view = SphericalCircle( (pointing_pos.ra, pointing_pos.dec),\n",
    "                    3.5 * u.deg,   edgecolor='black', facecolor='none')\n",
    "\n",
    "ax.add_patch(field_of_view)\n",
    "\n",
    "ax.scatter(pointing_pos.ra.value, pointing_pos.dec.value, marker='x', s=100, c='black', label ='Pointing'  ) \n",
    "ax.scatter(source_pos.ra.value, source_pos.dec.value, marker='*', s=100, c='red', label ='Source'  ) \n",
    "ax.scatter(off1_pos.ra.value, off1_pos.dec.value, marker='o', s=20, c='blue', label ='OFF 1'  ) \n",
    "ax.scatter(off2_pos.ra.value, off2_pos.dec.value, marker='o', s=20, c='orange', label ='OFF 2'  ) \n",
    "ax.scatter(off3_pos.ra.value, off3_pos.dec.value, marker='o', s=20, c='green', label ='OFF 3'  ) \n",
    "ax.legend(loc='upper right');"
   ]
  },
  {
   "cell_type": "markdown",
   "metadata": {},
   "source": [
    "Or even better we can plot the On and Off regions"
   ]
  },
  {
   "cell_type": "code",
   "execution_count": null,
   "metadata": {},
   "outputs": [],
   "source": [
    "fig, ax =  plt.subplots(figsize=(9,9))\n",
    "\n",
    "ax = plt.subplot()\n",
    "\n",
    "\n",
    "\n",
    "\n",
    "field_of_view = SphericalCircle( (pointing_pos.ra, pointing_pos.dec),\n",
    "                    3.5 * u.deg,   edgecolor='black', facecolor='none')\n",
    "\n",
    "radius = 0.1414213*u.deg\n",
    "\n",
    "on  = SphericalCircle( (source_pos.ra, source_pos.dec),\n",
    "                    radius,   edgecolor='black', facecolor='none')\n",
    "\n",
    "off1 = SphericalCircle( (off1_pos.ra, off1_pos.dec),\n",
    "                    radius,   edgecolor='black', facecolor='none')\n",
    "off2 = SphericalCircle( (off2_pos.ra, off2_pos.dec),\n",
    "                    radius,   edgecolor='black', facecolor='none')\n",
    "off3 = SphericalCircle( (off3_pos.ra, off3_pos.dec),\n",
    "                    radius,   edgecolor='black', facecolor='none')\n",
    "\n",
    "\n",
    "ax.scatter(pointing_pos.ra.value, pointing_pos.dec.value, marker='x', s=100, c='black', label ='Pointing'  ) \n",
    "ax.scatter(source_pos.ra.value, source_pos.dec.value, marker='*', s=100, c='red', label ='Source'  ) \n",
    "\n",
    "ax.add_patch(field_of_view)\n",
    "\n",
    "ax.add_patch(on)\n",
    "ax.add_patch(off1)\n",
    "ax.add_patch(off2)\n",
    "ax.add_patch(off3)\n",
    "\n",
    "\n",
    "ax.legend();"
   ]
  },
  {
   "cell_type": "markdown",
   "metadata": {
    "tags": []
   },
   "source": [
    "### PLOT AZIMUTH AND ALTITUDE DURING THE OBSERVATION"
   ]
  },
  {
   "cell_type": "markdown",
   "metadata": {},
   "source": [
    "This is not necessary for the analysis, but it is interesting to see how the altitude and azimuth of the source evolves during the observation"
   ]
  },
  {
   "cell_type": "code",
   "execution_count": null,
   "metadata": {},
   "outputs": [],
   "source": [
    "from astropy.coordinates import EarthLocation, AltAz\n",
    "from astropy.time import Time"
   ]
  },
  {
   "cell_type": "code",
   "execution_count": null,
   "metadata": {},
   "outputs": [],
   "source": [
    "ROM = EarthLocation( lat=events.header.get('GEOLAT')* u.deg, \n",
    "              lon=events.header.get('GEOLON') * u.deg, \n",
    "              height= events.header.get('ALTITUDE')*u.m)\n",
    "print(ROM)"
   ]
  },
  {
   "cell_type": "code",
   "execution_count": null,
   "metadata": {},
   "outputs": [],
   "source": [
    "start_time = Time( events.header.get('DATE-OBS') +'T'+events.header.get('TIME-OBS')) \n",
    "end_time   = Time( events.header.get('DATE-END') +'T'+events.header.get('TIME-END')) \n",
    "print(start_time)\n",
    "print(end_time)"
   ]
  },
  {
   "cell_type": "code",
   "execution_count": null,
   "metadata": {},
   "outputs": [],
   "source": [
    "dt = ( end_time - start_time ) /100\n",
    "times        = []\n",
    "source_altaz = []\n",
    "for i in range(100):\n",
    "    time        = start_time + dt*i\n",
    "    altaz        = AltAz(obstime=time, location=ROM)\n",
    "    i_source_altaz = source_pos.transform_to(altaz)\n",
    "    times.append( time )\n",
    "    source_altaz.append( i_source_altaz )\n",
    "    "
   ]
  },
  {
   "cell_type": "code",
   "execution_count": null,
   "metadata": {},
   "outputs": [],
   "source": [
    "all_alt = [  i.alt.value for i in source_altaz ]\n",
    "all_az  = [  i.az.value  for i in source_altaz ]"
   ]
  },
  {
   "cell_type": "code",
   "execution_count": null,
   "metadata": {},
   "outputs": [],
   "source": [
    "plt.plot(  all_az, all_alt)\n",
    "plt.xlabel( \"azimuth [deg.]\")\n",
    "plt.ylabel( \"altitute [deg.]\");"
   ]
  },
  {
   "cell_type": "markdown",
   "metadata": {},
   "source": [
    "## GET EVENTS"
   ]
  },
  {
   "cell_type": "markdown",
   "metadata": {},
   "source": [
    "We save the evtns as an Astropy Table"
   ]
  },
  {
   "cell_type": "code",
   "execution_count": null,
   "metadata": {},
   "outputs": [],
   "source": [
    "events_table = Table( events.data )\n",
    "events_table"
   ]
  },
  {
   "cell_type": "markdown",
   "metadata": {},
   "source": [
    "We then plot them \"on the Sky\" using the information on the RA and DEC of each single event"
   ]
  },
  {
   "cell_type": "code",
   "execution_count": null,
   "metadata": {},
   "outputs": [],
   "source": [
    "fig, ax =  plt.subplots(figsize=(9,9))\n",
    "\n",
    "ax = fig.add_subplot()\n",
    "\n",
    "ra =   -360*u.deg + events_table['RA'] * u.deg  \n",
    "\n",
    "dec = events_table['DEC']*u.deg\n",
    "\n",
    "ax.scatter(ra, dec, s=0.1)\n",
    "\n",
    "\n",
    "radius = 0.1414213*u.deg\n",
    "\n",
    "on  = SphericalCircle( (source_pos.ra, source_pos.dec),\n",
    "                    radius,   edgecolor='black', facecolor='none')\n",
    "\n",
    "off1 = SphericalCircle( (off1_pos.ra, off1_pos.dec),\n",
    "                    radius,   edgecolor='black', facecolor='none')\n",
    "off2 = SphericalCircle( (off2_pos.ra, off2_pos.dec),\n",
    "                    radius,   edgecolor='black', facecolor='none')\n",
    "off3 = SphericalCircle( (off3_pos.ra, off3_pos.dec),\n",
    "                    radius,   edgecolor='black', facecolor='none')\n",
    "\n",
    "\n",
    "ax.scatter(pointing_pos.ra.value, pointing_pos.dec.value, marker='x', s=100, c='black', label ='Pointing'  ) \n",
    "ax.scatter(source_pos.ra.value, source_pos.dec.value, marker='*', s=100, c='red', label ='Source'  ) \n",
    "\n",
    "ax.add_patch(on)\n",
    "ax.add_patch(off1)\n",
    "ax.add_patch(off2)\n",
    "ax.add_patch(off3)\n",
    "\n",
    "\n",
    "ax.legend();"
   ]
  },
  {
   "cell_type": "markdown",
   "metadata": {},
   "source": [
    "As expected we have more events near the Source!\n",
    "\n",
    "As one can see from the OFF regions, some of these events are not gamma-rays, but background\n",
    "\n",
    "Rember that in the Off region we should not expect any gamma-ray"
   ]
  },
  {
   "cell_type": "markdown",
   "metadata": {},
   "source": [
    "### EVENTS SELECTION"
   ]
  },
  {
   "cell_type": "markdown",
   "metadata": {},
   "source": [
    "We now select the events in the 4 regions: 1 ON and 3 OFF"
   ]
  },
  {
   "cell_type": "code",
   "execution_count": null,
   "metadata": {},
   "outputs": [],
   "source": [
    "ra = events_table['RA'] \n",
    "dec = events_table['DEC']\n",
    "\n",
    "radius = 0.1414213*u.deg \n",
    "\n",
    "cond_on = []\n",
    "for i_ra,i_dec in zip(ra,dec):\n",
    "    position_event = SkyCoord(  i_ra * u.deg, i_dec * u.deg, frame='icrs')\n",
    "\n",
    "    cond_on.append( source_pos.separation(position_event) <= radius )\n",
    "    \n",
    "cond_off1 = []\n",
    "for i_ra,i_dec in zip(ra,dec):\n",
    "    position_event = SkyCoord(  i_ra * u.deg, i_dec * u.deg, frame='icrs')\n",
    "\n",
    "    cond_off1.append( off1_pos.separation(position_event) <= radius )\n",
    "    \n",
    "cond_off2 = []\n",
    "for i_ra,i_dec in zip(ra,dec):\n",
    "    position_event = SkyCoord(  i_ra * u.deg, i_dec * u.deg, frame='icrs')\n",
    "\n",
    "    cond_off2.append( off2_pos.separation(position_event) <= radius )\n",
    "    \n",
    "\n",
    "cond_off3 = []\n",
    "for i_ra,i_dec in zip(ra,dec):\n",
    "    position_event = SkyCoord(  i_ra * u.deg, i_dec * u.deg, frame='icrs')\n",
    "\n",
    "    cond_off3.append( off3_pos.separation(position_event) <= radius )\n",
    "    \n",
    "    "
   ]
  },
  {
   "cell_type": "markdown",
   "metadata": {},
   "source": [
    "Let's plot the events we have selected"
   ]
  },
  {
   "cell_type": "code",
   "execution_count": null,
   "metadata": {},
   "outputs": [],
   "source": [
    "fig, ax =  plt.subplots(figsize=(9,9))\n",
    "\n",
    "ax = fig.add_subplot()\n",
    "\n",
    "ra = events_table[cond_on]['RA'] - 360\n",
    "dec = events_table[cond_on]['DEC']\n",
    "ax.scatter(ra, dec, s=0.5)\n",
    "\n",
    "ra = events_table[cond_off1]['RA'] - 360\n",
    "dec = events_table[cond_off1]['DEC']\n",
    "ax.scatter(ra, dec, s=0.5, c ='black')\n",
    "\n",
    "ra = events_table[cond_off2]['RA'] - 360\n",
    "dec = events_table[cond_off2]['DEC']\n",
    "ax.scatter(ra, dec, s=0.5,  c ='black')\n",
    "\n",
    "ra = events_table[cond_off3]['RA'] - 360\n",
    "dec = events_table[cond_off3]['DEC']\n",
    "ax.scatter(ra, dec, s=0.5,  c ='black')\n",
    "\n",
    "\n",
    "\n",
    "ax.scatter(pointing_pos.ra.value, pointing_pos.dec.value, marker='x', s=100, c='black', label ='Pointing'  ) \n",
    "ax.scatter(source_pos.ra.value, source_pos.dec.value, marker='*', s=100, c='red', label ='Source'  ) \n",
    "\n",
    "radius = 0.1414213*u.deg\n",
    "\n",
    "on  = SphericalCircle( (source_pos.ra, source_pos.dec),\n",
    "                    radius,   edgecolor='black', facecolor='none')\n",
    "\n",
    "off1 = SphericalCircle( (off1_pos.ra, off1_pos.dec),\n",
    "                    radius,   edgecolor='black', facecolor='none')\n",
    "off2 = SphericalCircle( (off2_pos.ra, off2_pos.dec),\n",
    "                    radius,   edgecolor='black', facecolor='none')\n",
    "off3 = SphericalCircle( (off3_pos.ra, off3_pos.dec),\n",
    "                    radius,   edgecolor='black', facecolor='none')\n",
    "\n",
    "\n",
    "ax.add_patch(on)\n",
    "ax.add_patch(off1)\n",
    "ax.add_patch(off2)\n",
    "ax.add_patch(off3)\n",
    "\n",
    "\n",
    "\n",
    "ax.legend();"
   ]
  },
  {
   "cell_type": "markdown",
   "metadata": {},
   "source": [
    "### Effective Area"
   ]
  },
  {
   "cell_type": "markdown",
   "metadata": {},
   "source": [
    "for computing the Light Curve we need the Total Effective Area"
   ]
  },
  {
   "cell_type": "markdown",
   "metadata": {},
   "source": [
    "We will compute the Light Curbe for E > 300 GeV"
   ]
  },
  {
   "cell_type": "code",
   "execution_count": null,
   "metadata": {},
   "outputs": [],
   "source": [
    "en_th = 0.3 # TeV"
   ]
  },
  {
   "cell_type": "markdown",
   "metadata": {},
   "source": [
    "We load the Effctive Area from the fits file"
   ]
  },
  {
   "cell_type": "code",
   "execution_count": null,
   "metadata": {},
   "outputs": [],
   "source": [
    "effective_area = fits_file['EFFECTIVE AREA']"
   ]
  },
  {
   "cell_type": "code",
   "execution_count": null,
   "metadata": {},
   "outputs": [],
   "source": [
    "effective_area.header"
   ]
  },
  {
   "cell_type": "markdown",
   "metadata": {},
   "source": [
    "It's better to work with an Astropy table"
   ]
  },
  {
   "cell_type": "code",
   "execution_count": null,
   "metadata": {},
   "outputs": [],
   "source": [
    "effective_area = Table( effective_area.data)"
   ]
  },
  {
   "cell_type": "markdown",
   "metadata": {},
   "source": [
    "We get from the table the enrgy bins and the value ofthe Area for each bin"
   ]
  },
  {
   "cell_type": "code",
   "execution_count": null,
   "metadata": {},
   "outputs": [],
   "source": [
    "theta_low  = np.array( effective_area['THETA_LO'] )[0]\n",
    "theta_high = np.array( effective_area['THETA_HI'] )[0]\n",
    "\n",
    "en_low     = np.array( effective_area['ENERG_LO'] )[0]\n",
    "en_high    = np.array( effective_area['ENERG_HI'] )[0]\n",
    "en_center = np.sqrt( en_low * en_high )\n",
    "delta_E  = (en_high - en_low)\n",
    "\n",
    "eff_area   = np.array( effective_area['EFFAREA'] )[0][0]\n",
    "\n"
   ]
  },
  {
   "cell_type": "markdown",
   "metadata": {},
   "source": [
    "Remove bad bins, i.e. those with Aeff = 0"
   ]
  },
  {
   "cell_type": "code",
   "execution_count": null,
   "metadata": {},
   "outputs": [],
   "source": [
    "cond = eff_area >0\n",
    "en_center = en_center[cond]\n",
    "en_low    = en_low[cond]\n",
    "en_high   = en_high[cond]\n",
    "delta_E    = delta_E[cond]\n",
    "\n",
    "eff_area  = eff_area[cond]"
   ]
  },
  {
   "cell_type": "code",
   "execution_count": null,
   "metadata": {},
   "outputs": [],
   "source": [
    "fig, ax = plt.subplots(figsize=(10,6),nrows=1, ncols=1)\n",
    "\n",
    "ax.scatter(en_center,  eff_area)\n",
    "\n",
    "\n",
    "ax.set_xlabel( ' Energy / TeV')\n",
    "ax.set_ylabel( ' Area / m^2')\n",
    "ax.set_xscale('log')\n",
    "ax.set_yscale('log')"
   ]
  },
  {
   "cell_type": "markdown",
   "metadata": {},
   "source": [
    "We must integrate the affective area from the energy threshold up to the highest energy bin"
   ]
  },
  {
   "cell_type": "markdown",
   "metadata": {},
   "source": [
    "For this integratyion we will use the function `integrate` of `scipy`"
   ]
  },
  {
   "cell_type": "code",
   "execution_count": null,
   "metadata": {},
   "outputs": [],
   "source": [
    "import scipy.integrate as integrate"
   ]
  },
  {
   "cell_type": "code",
   "execution_count": null,
   "metadata": {},
   "outputs": [],
   "source": [
    "max_en = en_high[-1]\n",
    "total_effective_area = integrate.quad( lambda x: np.interp(x ,  en_center, eff_area), en_th, max_en)[0] * u.m**2 * u.TeV\n",
    "total_effective_area"
   ]
  },
  {
   "cell_type": "markdown",
   "metadata": {},
   "source": [
    "### COMPUTE EXCESS"
   ]
  },
  {
   "cell_type": "markdown",
   "metadata": {},
   "source": [
    "We are now ready to compute the ON counts, OFF counts and the excess in each time bin"
   ]
  },
  {
   "cell_type": "markdown",
   "metadata": {},
   "source": [
    "First we define how many bins we want"
   ]
  },
  {
   "cell_type": "code",
   "execution_count": null,
   "metadata": {},
   "outputs": [],
   "source": [
    "n_time_bins = 12"
   ]
  },
  {
   "cell_type": "markdown",
   "metadata": {},
   "source": [
    "Now we compute the bins over the whole observation time"
   ]
  },
  {
   "cell_type": "code",
   "execution_count": null,
   "metadata": {},
   "outputs": [],
   "source": [
    "start_time = events.header.get('TSTART') \n",
    "end_time   = events.header.get('TSTOP') \n",
    "\n",
    "dt = ( end_time - start_time ) /n_time_bins\n",
    "times_arr        = []\n",
    "source_altaz = []\n",
    "for i in range(n_time_bins):\n",
    "    time        = start_time + dt*i\n",
    "    times_arr.append( time )\n",
    "    \n",
    "times_arr = np.array(times_arr)\n",
    "\n",
    "time_center = (times_arr[:-1] + times_arr[1:])/2\n",
    "delta_t     =  (-times_arr[:-1] + times_arr[1:])"
   ]
  },
  {
   "cell_type": "code",
   "execution_count": null,
   "metadata": {},
   "outputs": [],
   "source": [
    "excess = [] \n",
    "err_excess = []\n",
    "\n",
    "noff_list = []\n",
    "non_list  = []\n",
    "\n",
    "en_th = 0.3 \n",
    "\n",
    "for i_time_low, i_time_high in zip( times_arr[:-1], times_arr[1:]):\n",
    "    \n",
    "    cond_en_th = events_table['ENERGY'] > en_th\n",
    "    \n",
    "    cond_low  = events_table['TIME'] >= i_time_low\n",
    "    cond_high = events_table['TIME'] < i_time_high\n",
    "    cond_en   = cond_low* cond_high\n",
    "    \n",
    "    non    = np.sum( cond_en*cond_on * cond_en_th)\n",
    "    \n",
    "    noff   = np.sum( cond_en*cond_off1 * cond_en_th) +\\\n",
    "             np.sum( cond_en*cond_off2 * cond_en_th) +\\\n",
    "             np.sum( cond_en*cond_off3 * cond_en_th) \n",
    "\n",
    "    \n",
    "    noff_list.append(noff)\n",
    "    non_list.append(non)\n",
    "    \n",
    "    excess.append( non - noff/3 )\n",
    "    err_excess.append( np.sqrt( non + (1/3)**2*noff) )\n",
    "    \n",
    "excess     = np.array(excess)\n",
    "err_excess = np.array(err_excess)\n",
    "\n",
    "non_list   = np.array(non_list)\n",
    "noff_list   = np.array(noff_list)"
   ]
  },
  {
   "cell_type": "markdown",
   "metadata": {},
   "source": [
    "Why did I put in the loop `non - noff/3` and not another number like for instance  `non - noff/5` ?"
   ]
  },
  {
   "cell_type": "markdown",
   "metadata": {},
   "source": [
    "Total Non events in each energy bin"
   ]
  },
  {
   "cell_type": "code",
   "execution_count": null,
   "metadata": {},
   "outputs": [],
   "source": [
    "print(non_list)"
   ]
  },
  {
   "cell_type": "markdown",
   "metadata": {},
   "source": [
    "Total Noff events in each energy bin"
   ]
  },
  {
   "cell_type": "code",
   "execution_count": null,
   "metadata": {},
   "outputs": [],
   "source": [
    "print(noff_list)"
   ]
  },
  {
   "cell_type": "markdown",
   "metadata": {},
   "source": [
    "Excess in each energy bin"
   ]
  },
  {
   "cell_type": "code",
   "execution_count": null,
   "metadata": {},
   "outputs": [],
   "source": [
    "print(excess)"
   ]
  },
  {
   "cell_type": "markdown",
   "metadata": {},
   "source": [
    "Excercise\n",
    "- Compute the Li&Ma significance for each energy bin using the value of Non and Noff computed (remeber that we are also using $\\alpha$ = 1/3)"
   ]
  },
  {
   "cell_type": "code",
   "execution_count": null,
   "metadata": {},
   "outputs": [],
   "source": [
    "fig, ax = plt.subplots(figsize=(10,6),nrows=1, ncols=1)\n",
    "\n",
    "\n",
    "ax.errorbar(x=time_center-start_time, y=excess, yerr=err_excess , xerr = delta_t/2 , c='black', capsize=2, fmt='o')\n",
    "\n",
    "ax.set_ylim( [0, None])\n",
    "ax.set_xlabel( ' Time from START / seconds')\n",
    "\n",
    "ax.set_ylabel( ' Excess')"
   ]
  },
  {
   "cell_type": "markdown",
   "metadata": {},
   "source": [
    "### LIGHT CURVE"
   ]
  },
  {
   "cell_type": "markdown",
   "metadata": {},
   "source": [
    "We are now finally ready to compute the  LC in each time bin"
   ]
  },
  {
   "cell_type": "code",
   "execution_count": null,
   "metadata": {},
   "outputs": [],
   "source": [
    "flux = excess/( total_effective_area)/  ( delta_t *u.second)  * ( max_en- en_th) *u.TeV\n",
    "\n",
    "flux_err = err_excess/( total_effective_area)/  ( delta_t *u.second) * ( max_en- en_th) *u.TeV\n",
    "\n"
   ]
  },
  {
   "cell_type": "markdown",
   "metadata": {},
   "source": [
    "We can now plot the flux in energy"
   ]
  },
  {
   "cell_type": "markdown",
   "metadata": {},
   "source": [
    "For reference we will also print as a horizontal line the flux we should expect from the Crab Nebula"
   ]
  },
  {
   "cell_type": "code",
   "execution_count": null,
   "metadata": {},
   "outputs": [],
   "source": [
    "fig, ax = plt.subplots(figsize=(10,6),nrows=1, ncols=1)\n",
    "\n",
    "\n",
    "ax.errorbar(x=time_center-start_time, \n",
    "            y=flux.to( 1/(  u.cm**2 * u.s) ).value / 1e-9 , \n",
    "            yerr = flux_err.to( 1/( u.cm**2 * u.s) ).value  / 1e-9 , \n",
    "            xerr = delta_t/2 , c='black', capsize=2, fmt='o')\n",
    "\n",
    "\n",
    "\n",
    "ax.hlines( 0.12, np.min(time_center-start_time), np.max(time_center-start_time) , label='Reference Light Curve')\n",
    "\n",
    "\n",
    "ax.set_ylim( [0, None])\n",
    "ax.set_xlabel( ' Time from START / seconds')\n",
    "\n",
    "ax.set_ylabel( ' Flux > 300 GeV   / cm^2 s / 1e-9')\n",
    "ax.legend();"
   ]
  }
 ],
 "metadata": {
  "kernelspec": {
   "display_name": "Python 3 (ipykernel)",
   "language": "python",
   "name": "python3"
  },
  "language_info": {
   "codemirror_mode": {
    "name": "ipython",
    "version": 3
   },
   "file_extension": ".py",
   "mimetype": "text/x-python",
   "name": "python",
   "nbconvert_exporter": "python",
   "pygments_lexer": "ipython3",
   "version": "3.9.0"
  }
 },
 "nbformat": 4,
 "nbformat_minor": 4
}
