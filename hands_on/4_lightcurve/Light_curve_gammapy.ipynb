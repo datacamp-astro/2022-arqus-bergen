{
 "cells": [
  {
   "cell_type": "markdown",
   "id": "77bc5651",
   "metadata": {},
   "source": [
    "# Notebook for light curve plotting"
   ]
  },
  {
   "cell_type": "markdown",
   "id": "44d1764c",
   "metadata": {},
   "source": [
    "We will be using the -------- data for production of the Light curve. "
   ]
  },
  {
   "cell_type": "markdown",
   "id": "1967cd39",
   "metadata": {},
   "source": [
    "## Load the modules"
   ]
  },
  {
   "cell_type": "code",
   "execution_count": 67,
   "id": "6ac332be",
   "metadata": {},
   "outputs": [],
   "source": [
    "%matplotlib inline\n",
    "import matplotlib.pyplot as plt\n",
    "plt.rc('xtick', labelsize=20)   \n",
    "plt.rc('ytick', labelsize=20)\n",
    "plt.rc('text', usetex=True)\n",
    "plt.rc('font', family='serif',size=25)\n",
    "\n",
    "import numpy as np\n",
    "import astropy.units as u\n",
    "from pathlib import Path\n",
    "import glob\n",
    "from astropy.io import fits\n",
    "from astropy.coordinates import SkyCoord, Angle\n",
    "from regions import CircleSkyRegion, PointSkyRegion\n",
    "import pickle\n",
    "\n",
    "from scipy.stats import chi2\n",
    "from functools import partial\n",
    "import scipy.special as scipys"
   ]
  },
  {
   "cell_type": "markdown",
   "id": "1e36a568",
   "metadata": {},
   "source": [
    "## Gammapy modules"
   ]
  },
  {
   "cell_type": "code",
   "execution_count": 68,
   "id": "721d8901",
   "metadata": {},
   "outputs": [],
   "source": [
    "from gammapy.modeling import Fit\n",
    "import gammapy.irf as irf\n",
    "from gammapy.irf import load_cta_irfs\n",
    "from gammapy.data import Observation, Observations, DataStore\n",
    "from gammapy.utils.random import get_random_state\n",
    "from gammapy.maps import MapAxis\n",
    "from gammapy.analysis import Analysis, AnalysisConfig\n",
    "\n",
    "\n",
    "\n",
    "# models modules\n",
    "from gammapy.modeling.models import (\n",
    "    Model,\n",
    "    Models,\n",
    "    SkyModel,\n",
    "    PowerLawSpectralModel,\n",
    "    LogParabolaSpectralModel,\n",
    "    PointSpatialModel,\n",
    "    GaussianSpatialModel,\n",
    "    TemplateSpatialModel,\n",
    "    FoVBackgroundModel,\n",
    "    SpectralModel,\n",
    "    #Parameter, \n",
    "    TemplateSpectralModel\n",
    ")\n",
    "# dataset modules\n",
    "from gammapy.datasets import (\n",
    "    MapDataset, \n",
    "    MapDatasetOnOff, \n",
    "    MapDatasetEventSampler,\n",
    "    SpectrumDatasetOnOff,\n",
    "    SpectrumDataset, \n",
    "    Datasets,\n",
    "    FluxPointsDataset\n",
    ")\n",
    "\n",
    "from gammapy.maps import MapAxis, WcsGeom, Map, RegionGeom\n",
    "from gammapy.makers import SafeMaskMaker, MapDatasetMaker, SpectrumDatasetMaker, ReflectedRegionsBackgroundMaker, WobbleRegionsFinder\n",
    "from gammapy.estimators import FluxPointsEstimator, LightCurveEstimator\n",
    "from gammapy.visualization import plot_spectrum_datasets_off_regions"
   ]
  },
  {
   "cell_type": "markdown",
   "id": "46d59b56",
   "metadata": {},
   "source": [
    "## Load the DL3 data"
   ]
  },
  {
   "cell_type": "code",
   "execution_count": 69,
   "id": "f93b9aef",
   "metadata": {
    "scrolled": true
   },
   "outputs": [],
   "source": [
    "datastore = DataStore.from_dir(f\"../1_read_data/data_test/\")\n",
    "\n",
    "observations = ()\n",
    "\n",
    "\n",
    "observations = datastore.get_observations(obs_id=[5029747], required_irf='point-like')\n",
    "\n",
    "# FOR THE CASE WHERE WE WANT ALL THE RUNS LISTED IN THE HDU AND OBS TABLES\n",
    "#observation = datastore.get_observations([5029747], required_irf='point-like')\n",
    "\n"
   ]
  },
  {
   "cell_type": "code",
   "execution_count": 70,
   "id": "b0cd5e9d",
   "metadata": {},
   "outputs": [
    {
     "name": "stdout",
     "output_type": "stream",
     "text": [
      "Observations\n",
      "Number of observations: 1\n",
      "Observation\n",
      "\n",
      "\tobs id            : 5029747 \n",
      " \ttstart            : 56569.18\n",
      "\ttstop             : 56569.19\n",
      "\tduration          : 1188.00 s\n",
      "\tpointing (icrs)   : 84.0 deg, 22.2 deg\n",
      "\n",
      "\tdeadtime fraction : 0.6%\n",
      "\n"
     ]
    }
   ],
   "source": [
    "print(observations)"
   ]
  },
  {
   "cell_type": "code",
   "execution_count": 127,
   "id": "bf4dc0f5",
   "metadata": {},
   "outputs": [],
   "source": [
    "target_position = SkyCoord.from_name('Crab Nebula', frame=\"icrs\")\n",
    "\n",
    "theta = observations[0].aeff.meta['RAD_MAX']\n",
    "assert all(o.aeff.meta['RAD_MAX'] == theta for o in observations)\n",
    "\n",
    "on_region_radius = Angle(theta*u.deg)\n",
    "on_region = CircleSkyRegion(center=target_position, radius=on_region_radius)\n",
    "\n",
    "skydir = target_position.galactic"
   ]
  },
  {
   "cell_type": "code",
   "execution_count": null,
   "id": "4fb22063",
   "metadata": {},
   "outputs": [],
   "source": []
  },
  {
   "cell_type": "code",
   "execution_count": null,
   "id": "da57b9c9",
   "metadata": {},
   "outputs": [],
   "source": []
  },
  {
   "cell_type": "code",
   "execution_count": 128,
   "id": "4fbd4147",
   "metadata": {},
   "outputs": [
    {
     "data": {
      "image/png": "[encoded data removed]",
      "text/plain": [
       "<Figure size 640x480 with 1 Axes>"
      ]
     },
     "metadata": {},
     "output_type": "display_data"
    }
   ],
   "source": [
    "exclusion_region = CircleSkyRegion(\n",
    "    center=SkyCoord(183.604, -8.708, unit=\"deg\", frame=\"galactic\"),\n",
    "    radius=0.5* u.deg,\n",
    ")\n",
    "skydir = target_position.galactic\n",
    "geom =  WcsGeom.create(\n",
    "    npix=(150, 150), binsz=0.05, skydir=skydir, proj=\"TAN\", frame=\"icrs\"\n",
    ")\n",
    "\n",
    "exclusion_mask = ~geom.region_mask([exclusion_region])\n",
    "exclusion_mask.plot();"
   ]
  },
  {
   "cell_type": "code",
   "execution_count": 129,
   "id": "a64e4429",
   "metadata": {},
   "outputs": [],
   "source": [
    "energy_axis = MapAxis.from_energy_bounds(\n",
    "    50, 1e5, nbin=5, per_decade=True, unit=\"GeV\", name=\"energy\")\n",
    "\n",
    "energy_axis_true = MapAxis.from_energy_bounds(\n",
    "    10, 1e5, nbin=10, per_decade=True, unit=\"GeV\", name=\"energy_true\")  \n",
    "\n",
    "geom = RegionGeom.create(region=on_region, axes=[energy_axis])\n",
    "dataset_empty = SpectrumDataset.create(\n",
    "    geom=geom, energy_axis_true=energy_axis_true\n",
    ")"
   ]
  },
  {
   "cell_type": "code",
   "execution_count": 130,
   "id": "ecd2d7f7",
   "metadata": {},
   "outputs": [],
   "source": [
    "dataset_maker = SpectrumDatasetMaker(\n",
    "    containment_correction=False,\n",
    "    selection=[\"counts\", \"exposure\", \"edisp\"]\n",
    ")\n",
    "\n",
    "# tell the background maker to use the WobbleRegionsFinder, let us use 1 off\n",
    "region_finder = WobbleRegionsFinder(n_off_regions=3)\n",
    "bkg_maker = ReflectedRegionsBackgroundMaker(region_finder=region_finder)\n",
    "\n",
    "# use the energy threshold specified in the DL3 files\n",
    "safe_mask_masker = SafeMaskMaker(methods=[\"aeff-max\"])"
   ]
  },
  {
   "cell_type": "code",
   "execution_count": 131,
   "id": "2c0a6c65",
   "metadata": {},
   "outputs": [],
   "source": [
    "# Logparabola model with start values for Crab! Might be better to use already published values for your source.\n",
    "logparabola_model = LogParabolaSpectralModel(\n",
    "    amplitude=1e-10 * u.Unit(\"TeV-1 cm-2 s-1\"),\n",
    "    reference=0.3 * u.TeV,\n",
    "    alpha=2.31 * u.Unit(\"\"),\n",
    "    beta=0.26 * u.Unit(\"\")\n",
    ")\n",
    "model = SkyModel(spectral_model=logparabola_model.copy(), name=\"logp_crab\")"
   ]
  },
  {
   "cell_type": "code",
   "execution_count": 132,
   "id": "4355fdec",
   "metadata": {},
   "outputs": [],
   "source": [
    "datasets = Datasets()\n",
    "for obs_id, observation in zip(observations.ids, observations):\n",
    "    dataset = dataset_maker.run(\n",
    "        dataset_empty.copy(name=str(obs_id)), observation\n",
    "    )\n",
    "    dataset_on_off = bkg_maker.run(dataset, observation)\n",
    "    dataset_on_off = safe_mask_masker.run(dataset_on_off, observation)\n",
    "    if dataset_on_off.counts_off:\n",
    "        datasets.append(dataset_on_off)\n",
    "    else:\n",
    "        print(f\"No Off counts in set {obs_id}\")"
   ]
  },
  {
   "cell_type": "code",
   "execution_count": 133,
   "id": "4126cbc6",
   "metadata": {},
   "outputs": [
    {
     "name": "stdout",
     "output_type": "stream",
     "text": [
      "Datasets\n",
      "--------\n",
      "\n",
      "Dataset 0: \n",
      "\n",
      "  Type       : SpectrumDatasetOnOff\n",
      "  Name       : 5029747\n",
      "  Instrument : Unknown\n",
      "  Models     : \n",
      "\n",
      "\n"
     ]
    }
   ],
   "source": [
    "print(datasets)"
   ]
  },
  {
   "cell_type": "markdown",
   "id": "19a6134f",
   "metadata": {},
   "source": [
    "No we can plot the off regions and target positions on top of the counts map:"
   ]
  },
  {
   "cell_type": "code",
   "execution_count": 134,
   "id": "35603f0b",
   "metadata": {
    "scrolled": true
   },
   "outputs": [
    {
     "name": "stderr",
     "output_type": "stream",
     "text": [
      "/Users/giacomodamico/opt/anaconda3/envs/arqus_school_2022/lib/python3.9/site-packages/astropy/visualization/mpl_normalize.py:162: RuntimeWarning: invalid value encountered in divide\n",
      "  np.true_divide(values, self.vmax - self.vmin, out=values)\n",
      "/Users/giacomodamico/opt/anaconda3/envs/arqus_school_2022/lib/python3.9/site-packages/astropy/visualization/mpl_normalize.py:162: RuntimeWarning: invalid value encountered in divide\n",
      "  np.true_divide(values, self.vmax - self.vmin, out=values)\n",
      "/Users/giacomodamico/opt/anaconda3/envs/arqus_school_2022/lib/python3.9/site-packages/astropy/visualization/mpl_normalize.py:162: RuntimeWarning: invalid value encountered in divide\n",
      "  np.true_divide(values, self.vmax - self.vmin, out=values)\n"
     ]
    },
    {
     "data": {
      "image/png": "[encoded data removed]",
      "text/plain": [
       "<Figure size 640x480 with 1 Axes>"
      ]
     },
     "metadata": {},
     "output_type": "display_data"
    }
   ],
   "source": [
    "counts = Map.create(skydir=target_position, width=3)\n",
    "ax = counts.plot()\n",
    "geom.plot_region(ax=ax, kwargs_point={\"color\": \"k\", \"marker\": \"*\"})\n",
    "plot_spectrum_datasets_off_regions(ax=ax, datasets=datasets)"
   ]
  },
  {
   "cell_type": "code",
   "execution_count": 135,
   "id": "04be86f9",
   "metadata": {},
   "outputs": [],
   "source": [
    "for dataset in datasets:\n",
    "        dataset.models = model"
   ]
  },
  {
   "cell_type": "code",
   "execution_count": 136,
   "id": "ac092b4a",
   "metadata": {},
   "outputs": [],
   "source": [
    "datasets.models = [model]\n",
    "\n",
    "#fit = Fit()\n",
    "#result = fit.run(datasets=datasets)\n",
    "#print(result)\n",
    "#best_fit_model = model.copy()\n",
    "#print(best_fit_model)"
   ]
  },
  {
   "cell_type": "code",
   "execution_count": 137,
   "id": "5c825d51",
   "metadata": {},
   "outputs": [],
   "source": [
    "# Set up the lightcurve maker\n",
    "# The energy edges here are for the integration of the spectrum we just fitted.\n",
    "# If reoptimize=False, the spectral parameters are not fitted again.\n",
    "# The index is always fitted to the data contained in one LC bin.\n",
    "# If you didn't fit the spectrum to your data before, use reoptimize=True!\n",
    "# Otherwise, your flux points could be incorrect.\n",
    "# The parameter \"source\" is misleading here, it means the name of the spectrum you add to your data sets.\n",
    "# You could add more than one model to your data set to compare them, for example\n",
    "# With time_intervals, you can specify a time binning\n",
    "lc_maker_1d = LightCurveEstimator(\n",
    "    energy_edges=[0.3, 20] * u.TeV,\n",
    "    source=\"logp_crab\",\n",
    "    reoptimize=False,\n",
    "#     time_intervals=None,\n",
    ")"
   ]
  },
  {
   "cell_type": "code",
   "execution_count": 143,
   "id": "fab72e2a-551f-4099-a234-e2ac081fdbf7",
   "metadata": {},
   "outputs": [],
   "source": [
    "lc_maker_1d.time_intervals"
   ]
  },
  {
   "cell_type": "code",
   "execution_count": 147,
   "id": "24dcbbd5-387c-454c-b2ec-31408000102d",
   "metadata": {},
   "outputs": [
    {
     "data": {
      "text/plain": [
       "array([[[[1.79310899e-07]]]])"
      ]
     },
     "execution_count": 147,
     "metadata": {},
     "output_type": "execute_result"
    }
   ],
   "source": []
  },
  {
   "cell_type": "code",
   "execution_count": 138,
   "id": "1a43dc64",
   "metadata": {},
   "outputs": [],
   "source": [
    "lc_1d = lc_maker_1d.run(datasets)"
   ]
  },
  {
   "cell_type": "code",
   "execution_count": 139,
   "id": "2bb090c7-2cb7-4cca-9363-b0989fd5dbd6",
   "metadata": {},
   "outputs": [
    {
     "data": {
      "text/plain": [
       "array([[[[[173.]]]]])"
      ]
     },
     "execution_count": 139,
     "metadata": {},
     "output_type": "execute_result"
    }
   ],
   "source": [
    "lc_1d.counts.data"
   ]
  },
  {
   "cell_type": "code",
   "execution_count": 84,
   "id": "e81f8384",
   "metadata": {
    "scrolled": true
   },
   "outputs": [],
   "source": [
    "# Set upper limits\n",
    "#lc_1d.table[\"is_ul\"] = (lc_1d.table[\"sqrt_ts\"] < 3) | (np.isnan(lc_1d.table[\"sqrt_ts\"]))"
   ]
  },
  {
   "cell_type": "code",
   "execution_count": 85,
   "id": "a6ce401f",
   "metadata": {},
   "outputs": [
    {
     "data": {
      "text/plain": [
       "<AxesSubplot:xlabel='Time [iso]', ylabel='dnde (1 / (cm2 s TeV))'>"
      ]
     },
     "execution_count": 85,
     "metadata": {},
     "output_type": "execute_result"
    },
    {
     "data": {
      "image/png": "[encoded data removed]",
      "text/plain": [
       "<Figure size 640x480 with 1 Axes>"
      ]
     },
     "metadata": {},
     "output_type": "display_data"
    }
   ],
   "source": [
    "lc_1d.plot(axis_name=\"time\")"
   ]
  },
  {
   "cell_type": "code",
   "execution_count": null,
   "id": "08ba5e9e",
   "metadata": {},
   "outputs": [],
   "source": []
  },
  {
   "cell_type": "code",
   "execution_count": null,
   "id": "e7dbd85a",
   "metadata": {},
   "outputs": [],
   "source": []
  },
  {
   "cell_type": "code",
   "execution_count": null,
   "id": "08ae98f9",
   "metadata": {},
   "outputs": [],
   "source": []
  },
  {
   "cell_type": "code",
   "execution_count": null,
   "id": "a6c3c23d",
   "metadata": {},
   "outputs": [],
   "source": []
  },
  {
   "cell_type": "code",
   "execution_count": null,
   "id": "58b10fe0",
   "metadata": {},
   "outputs": [],
   "source": []
  },
  {
   "cell_type": "code",
   "execution_count": null,
   "id": "af803708",
   "metadata": {},
   "outputs": [],
   "source": []
  },
  {
   "cell_type": "code",
   "execution_count": null,
   "id": "ac8fbc56",
   "metadata": {},
   "outputs": [],
   "source": []
  },
  {
   "cell_type": "markdown",
   "id": "8ff462ec",
   "metadata": {},
   "source": [
    "Just checking the start and stop time "
   ]
  },
  {
   "cell_type": "code",
   "execution_count": 86,
   "id": "2222ead0",
   "metadata": {},
   "outputs": [],
   "source": [
    "t_min = round((datasets.gti.time_start).value[0]) - 0.5\n"
   ]
  },
  {
   "cell_type": "code",
   "execution_count": 87,
   "id": "c7d979ca",
   "metadata": {},
   "outputs": [],
   "source": [
    "t_max = round((datasets.gti.time_stop.value[0])) + 0.5\n"
   ]
  },
  {
   "cell_type": "code",
   "execution_count": null,
   "id": "8a432cff",
   "metadata": {},
   "outputs": [],
   "source": []
  },
  {
   "cell_type": "code",
   "execution_count": null,
   "id": "079b929f",
   "metadata": {},
   "outputs": [],
   "source": []
  },
  {
   "cell_type": "code",
   "execution_count": null,
   "id": "85811670",
   "metadata": {},
   "outputs": [],
   "source": []
  },
  {
   "cell_type": "markdown",
   "id": "8d5f3440",
   "metadata": {},
   "source": [
    "Defining the bins with the time intervals"
   ]
  },
  {
   "cell_type": "markdown",
   "id": "68064875",
   "metadata": {},
   "source": [
    "Let's first check the start time in iso format, needed to divide the intervals."
   ]
  },
  {
   "cell_type": "code",
   "execution_count": 106,
   "id": "1f6cf4c0",
   "metadata": {},
   "outputs": [
    {
     "name": "stdout",
     "output_type": "stream",
     "text": [
      "GTI info:\n",
      "- Number of GTIs: 1\n",
      "- Duration: 1188.0 s\n",
      "- Start: 56569.18108796296 MET\n",
      "- Start: 2013-10-04T04:20:46.000 (time standard: UTC)\n",
      "- Stop: 56569.19483796296 MET\n",
      "- Stop: 2013-10-04T04:40:34.000 (time standard: UTC)\n",
      "\n"
     ]
    }
   ],
   "source": [
    "print(observations[0].gti)"
   ]
  },
  {
   "cell_type": "code",
   "execution_count": 107,
   "id": "8a026f5d-9171-492e-a3a9-58ed03ae41cf",
   "metadata": {},
   "outputs": [],
   "source": [
    "from astropy.time import Time"
   ]
  },
  {
   "cell_type": "code",
   "execution_count": 109,
   "id": "74e37e44",
   "metadata": {},
   "outputs": [
    {
     "name": "stdout",
     "output_type": "stream",
     "text": [
      "[56569.18108796 56569.19483796]\n"
     ]
    }
   ],
   "source": [
    "t0 = Time(\"2013-10-04T04:20:46.000\")\n",
    "duration = 1188.0 * u.s\n",
    "n_time_bins = 2\n",
    "times = t0 + np.arange(n_time_bins) * duration\n",
    "time_intervals = [\n",
    "    Time([tstart, tstop]) for tstart, tstop in zip(times[:-1], times[1:])\n",
    "] \n",
    "print(time_intervals[0].mjd)"
   ]
  },
  {
   "cell_type": "code",
   "execution_count": 110,
   "id": "bc998dc0",
   "metadata": {},
   "outputs": [
    {
     "data": {
      "text/plain": [
       "[<Time object: scale='utc' format='isot' value=['2013-10-04T04:20:46.000' '2013-10-04T04:40:34.000']>]"
      ]
     },
     "execution_count": 110,
     "metadata": {},
     "output_type": "execute_result"
    }
   ],
   "source": [
    "time_intervals"
   ]
  },
  {
   "cell_type": "code",
   "execution_count": null,
   "id": "c05b7396",
   "metadata": {},
   "outputs": [],
   "source": []
  },
  {
   "cell_type": "code",
   "execution_count": null,
   "id": "8e428087",
   "metadata": {},
   "outputs": [],
   "source": []
  },
  {
   "cell_type": "code",
   "execution_count": null,
   "id": "dae703da",
   "metadata": {},
   "outputs": [],
   "source": []
  },
  {
   "cell_type": "code",
   "execution_count": null,
   "id": "d9424907",
   "metadata": {},
   "outputs": [],
   "source": []
  },
  {
   "cell_type": "code",
   "execution_count": null,
   "id": "88e2625a",
   "metadata": {},
   "outputs": [],
   "source": []
  },
  {
   "cell_type": "markdown",
   "id": "95b77b2d",
   "metadata": {},
   "source": [
    "To divide the observations, one needs to select them based on their start and stop times and create new observations."
   ]
  },
  {
   "cell_type": "code",
   "execution_count": 111,
   "id": "fb2396a3",
   "metadata": {},
   "outputs": [
    {
     "name": "stdout",
     "output_type": "stream",
     "text": [
      "Number of observations after time filtering: 1\n",
      "\n",
      "GTI info:\n",
      "- Number of GTIs: 1\n",
      "- Duration: 1188.0 s\n",
      "- Start: 56569.18108796296 MET\n",
      "- Start: 2013-10-04T04:20:46.000 (time standard: UTC)\n",
      "- Stop: 56569.19483796296 MET\n",
      "- Stop: 2013-10-04T04:40:34.000 (time standard: UTC)\n",
      "\n"
     ]
    }
   ],
   "source": [
    "##select_time() is by gammapy, we need to define our own function\n",
    "\n",
    "#short_observations = ()\n",
    "short_observations = observations.select_time(time_intervals)\n",
    "# check that observations have been filtered\n",
    "print(\n",
    "    f\"Number of observations after time filtering: {len(short_observations)}\\n\"\n",
    ")\n",
    "print(short_observations[0].gti)"
   ]
  },
  {
   "cell_type": "code",
   "execution_count": 112,
   "id": "8bc24738",
   "metadata": {},
   "outputs": [],
   "source": [
    "#energy_axis = MapAxis.from_energy_bounds(\n",
    "#    50, 1e5, nbin=5, per_decade=True, unit=\"GeV\", name=\"energy\")\n",
    "\n",
    "#energy_axis_true = MapAxis.from_energy_bounds(\n",
    "#    10, 1e5, nbin=10, per_decade=True, unit=\"GeV\", name=\"energy_true\")  \n",
    "\n",
    "energy_axis = MapAxis.from_energy_bounds(\"0.4 TeV\", \"20 TeV\", nbin=10)\n",
    "energy_axis_true = MapAxis.from_energy_bounds(\n",
    "    \"0.1 TeV\", \"40 TeV\", nbin=20, name=\"energy_true\"\n",
    ")\n",
    "\n",
    "\n",
    "geom = RegionGeom.create(region=on_region, axes=[energy_axis])\n",
    "dataset_empty = SpectrumDataset.create(\n",
    "    geom=geom, energy_axis_true=energy_axis_true\n",
    ")"
   ]
  },
  {
   "cell_type": "code",
   "execution_count": 113,
   "id": "43de1a00",
   "metadata": {},
   "outputs": [],
   "source": [
    "dataset_maker = SpectrumDatasetMaker(\n",
    "    containment_correction=False,\n",
    "    selection=[\"counts\", \"exposure\", \"edisp\"]\n",
    ")\n",
    "\n",
    "# tell the background maker to use the WobbleRegionsFinder, let us use 1 off\n",
    "region_finder = WobbleRegionsFinder(n_off_regions=3)\n",
    "bkg_maker = ReflectedRegionsBackgroundMaker(region_finder=region_finder)\n",
    "\n",
    "# use the energy threshold specified in the DL3 files\n",
    "safe_mask_masker = SafeMaskMaker(methods=[\"aeff-max\"])"
   ]
  },
  {
   "cell_type": "markdown",
   "id": "068c46c1",
   "metadata": {},
   "source": [
    "After dividing the observations, we need to create the datasets again from the new, \"shorter\" observations and build a light curve maker with given time intervals:"
   ]
  },
  {
   "cell_type": "code",
   "execution_count": 114,
   "id": "dc806e84",
   "metadata": {},
   "outputs": [],
   "source": [
    "logparabola_model = LogParabolaSpectralModel(\n",
    "    amplitude=1e-10 * u.Unit(\"TeV-1 cm-2 s-1\"),\n",
    "    reference=0.3 * u.TeV,\n",
    "    alpha=2.31 * u.Unit(\"\"),\n",
    "    beta=0.26 * u.Unit(\"\")\n",
    ")\n",
    "model = SkyModel(spectral_model=logparabola_model.copy(), name=\"logp_crab\")"
   ]
  },
  {
   "cell_type": "code",
   "execution_count": 115,
   "id": "1e8ef107",
   "metadata": {},
   "outputs": [],
   "source": [
    "datasets = Datasets()\n",
    "\n",
    "dataset_empty = SpectrumDataset.create(\n",
    "    geom=geom, energy_axis_true=energy_axis_true\n",
    ")\n",
    "\n",
    "for obs in short_observations:\n",
    "    dataset = dataset_maker.run(dataset_empty.copy(), obs)\n",
    "\n",
    "    dataset_on_off = bkg_maker.run(dataset, obs)\n",
    "    #dataset_on_off = safe_mask_masker.run(dataset_on_off, obs)\n",
    "    datasets.append(dataset_on_off)\n",
    "    \n"
   ]
  },
  {
   "cell_type": "code",
   "execution_count": 116,
   "id": "0223ccf4",
   "metadata": {},
   "outputs": [],
   "source": [
    "datasets.models = model"
   ]
  },
  {
   "cell_type": "code",
   "execution_count": 117,
   "id": "b95260d1",
   "metadata": {},
   "outputs": [
    {
     "data": {
      "text/plain": [
       "[<Time object: scale='utc' format='isot' value=['2013-10-04T04:20:46.000' '2013-10-04T04:40:34.000']>]"
      ]
     },
     "execution_count": 117,
     "metadata": {},
     "output_type": "execute_result"
    }
   ],
   "source": [
    "time_intervals"
   ]
  },
  {
   "cell_type": "code",
   "execution_count": 118,
   "id": "425280a0",
   "metadata": {},
   "outputs": [],
   "source": [
    "lc_maker_1d = LightCurveEstimator(\n",
    "    energy_edges=[0.3, 20] * u.TeV,\n",
    "    source=\"logp_crab\",\n",
    "    time_intervals=time_intervals,\n",
    "    selection_optional=None,\n",
    ")"
   ]
  },
  {
   "cell_type": "code",
   "execution_count": 119,
   "id": "22e8984f",
   "metadata": {},
   "outputs": [],
   "source": [
    "lc_1d = lc_maker_1d.run(datasets)"
   ]
  },
  {
   "cell_type": "code",
   "execution_count": 120,
   "id": "be2d612f",
   "metadata": {},
   "outputs": [
    {
     "data": {
      "text/plain": [
       "<AxesSubplot:xlabel='Energy [TeV]', ylabel='dnde (1 / (cm2 s TeV))'>"
      ]
     },
     "execution_count": 120,
     "metadata": {},
     "output_type": "execute_result"
    },
    {
     "data": {
      "image/png": "[encoded data removed]",
      "text/plain": [
       "<Figure size 640x480 with 1 Axes>"
      ]
     },
     "metadata": {},
     "output_type": "display_data"
    }
   ],
   "source": [
    "lc_1d.plot(marker=\"o\")"
   ]
  },
  {
   "cell_type": "code",
   "execution_count": 122,
   "id": "5e74ca57",
   "metadata": {},
   "outputs": [
    {
     "data": {
      "text/plain": [
       "array([[[[[121.]]]]])"
      ]
     },
     "execution_count": 122,
     "metadata": {},
     "output_type": "execute_result"
    }
   ],
   "source": [
    "lc_1d.counts.data"
   ]
  },
  {
   "cell_type": "code",
   "execution_count": null,
   "id": "8c7c3a2a-25ef-4893-b3fe-9ce115c0c1d5",
   "metadata": {},
   "outputs": [],
   "source": []
  }
 ],
 "metadata": {
  "kernelspec": {
   "display_name": "Python 3 (ipykernel)",
   "language": "python",
   "name": "python3"
  },
  "language_info": {
   "codemirror_mode": {
    "name": "ipython",
    "version": 3
   },
   "file_extension": ".py",
   "mimetype": "text/x-python",
   "name": "python",
   "nbconvert_exporter": "python",
   "pygments_lexer": "ipython3",
   "version": "3.9.0"
  }
 },
 "nbformat": 4,
 "nbformat_minor": 5
}
