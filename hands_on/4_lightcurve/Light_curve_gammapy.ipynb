{
 "cells": [
  {
   "cell_type": "markdown",
   "id": "77bc5651",
   "metadata": {},
   "source": [
    "# Notebook for light curve plotting"
   ]
  },
  {
   "cell_type": "markdown",
   "id": "44d1764c",
   "metadata": {},
   "source": [
    "We will be using the -------- data for production of the Light curve. "
   ]
  },
  {
   "cell_type": "markdown",
   "id": "1967cd39",
   "metadata": {},
   "source": [
    "## Load the modules"
   ]
  },
  {
   "cell_type": "code",
   "execution_count": 1,
   "id": "6ac332be",
   "metadata": {},
   "outputs": [],
   "source": [
    "%matplotlib inline\n",
    "import matplotlib.pyplot as plt\n",
    "plt.rc('xtick', labelsize=20)   \n",
    "plt.rc('ytick', labelsize=20)\n",
    "plt.rc('text', usetex=True)\n",
    "plt.rc('font', family='serif',size=25)\n",
    "\n",
    "import numpy as np\n",
    "import astropy.units as u\n",
    "from pathlib import Path\n",
    "import glob\n",
    "from astropy.io import fits\n",
    "from astropy.coordinates import SkyCoord, Angle\n",
    "from regions import CircleSkyRegion, PointSkyRegion\n",
    "import pickle\n",
    "\n",
    "from scipy.stats import chi2\n",
    "from functools import partial\n",
    "import scipy.special as scipys"
   ]
  },
  {
   "cell_type": "markdown",
   "id": "1e36a568",
   "metadata": {},
   "source": [
    "## Gammapy modules"
   ]
  },
  {
   "cell_type": "code",
   "execution_count": 2,
   "id": "721d8901",
   "metadata": {},
   "outputs": [],
   "source": [
    "from gammapy.modeling import Fit\n",
    "import gammapy.irf as irf\n",
    "from gammapy.irf import load_cta_irfs\n",
    "from gammapy.data import Observation, Observations, DataStore\n",
    "from gammapy.utils.random import get_random_state\n",
    "from gammapy.maps import MapAxis\n",
    "from gammapy.analysis import Analysis, AnalysisConfig\n",
    "\n",
    "\n",
    "\n",
    "# models modules\n",
    "from gammapy.modeling.models import (\n",
    "    Model,\n",
    "    Models,\n",
    "    SkyModel,\n",
    "    PowerLawSpectralModel,\n",
    "    LogParabolaSpectralModel,\n",
    "    PointSpatialModel,\n",
    "    GaussianSpatialModel,\n",
    "    TemplateSpatialModel,\n",
    "    FoVBackgroundModel,\n",
    "    SpectralModel,\n",
    "    #Parameter, \n",
    "    TemplateSpectralModel\n",
    ")\n",
    "# dataset modules\n",
    "from gammapy.datasets import (\n",
    "    MapDataset, \n",
    "    MapDatasetOnOff, \n",
    "    MapDatasetEventSampler,\n",
    "    SpectrumDatasetOnOff,\n",
    "    SpectrumDataset, \n",
    "    Datasets,\n",
    "    FluxPointsDataset\n",
    ")\n",
    "\n",
    "from gammapy.maps import MapAxis, WcsGeom, Map, RegionGeom\n",
    "from gammapy.makers import SafeMaskMaker, MapDatasetMaker, SpectrumDatasetMaker, ReflectedRegionsBackgroundMaker, WobbleRegionsFinder\n",
    "from gammapy.estimators import FluxPointsEstimator, LightCurveEstimator\n",
    "from gammapy.visualization import plot_spectrum_datasets_off_regions"
   ]
  },
  {
   "cell_type": "markdown",
   "id": "46d59b56",
   "metadata": {},
   "source": [
    "## Load the DL3 data"
   ]
  },
  {
   "cell_type": "code",
   "execution_count": 548,
   "id": "f93b9aef",
   "metadata": {
    "scrolled": true
   },
   "outputs": [],
   "source": [
    "datastore = DataStore.from_dir(f\"/Users/batkovic/Desktop/phd/arqus_school_2022/hands_on/1_read_data/data_test/\")\n",
    "\n",
    "observations = ()\n",
    "\n",
    "\n",
    "observations = datastore.get_observations(obs_id=[5029747], required_irf='point-like')\n",
    "\n",
    "# FOR THE CASE WHERE WE WANT ALL THE RUNS LISTED IN THE HDU AND OBS TABLES\n",
    "#observation = datastore.get_observations([5029747], required_irf='point-like')\n",
    "\n"
   ]
  },
  {
   "cell_type": "code",
   "execution_count": 549,
   "id": "b0cd5e9d",
   "metadata": {},
   "outputs": [
    {
     "name": "stdout",
     "output_type": "stream",
     "text": [
      "Observations\n",
      "Number of observations: 1\n",
      "Observation\n",
      "\n",
      "\tobs id            : 5029747 \n",
      " \ttstart            : 56569.18\n",
      "\ttstop             : 56569.19\n",
      "\tduration          : 1188.00 s\n",
      "\tpointing (icrs)   : 84.0 deg, 22.2 deg\n",
      "\n",
      "\tdeadtime fraction : 0.6%\n",
      "\n"
     ]
    }
   ],
   "source": [
    "print(observations)"
   ]
  },
  {
   "cell_type": "code",
   "execution_count": 550,
   "id": "bf4dc0f5",
   "metadata": {},
   "outputs": [],
   "source": [
    "target_position = SkyCoord.from_name('Crab Nebula', frame=\"icrs\")\n",
    "\n",
    "theta = observations_crab[0].aeff.meta['RAD_MAX']\n",
    "assert all(o.aeff.meta['RAD_MAX'] == theta for o in observations_crab)\n",
    "\n",
    "on_region_radius = Angle(theta*u.deg)\n",
    "on_region = CircleSkyRegion(center=target_position, radius=on_region_radius)\n",
    "\n",
    "skydir = target_position.galactic"
   ]
  },
  {
   "cell_type": "code",
   "execution_count": null,
   "id": "4fb22063",
   "metadata": {},
   "outputs": [],
   "source": []
  },
  {
   "cell_type": "code",
   "execution_count": null,
   "id": "da57b9c9",
   "metadata": {},
   "outputs": [],
   "source": []
  },
  {
   "cell_type": "code",
   "execution_count": 551,
   "id": "4fbd4147",
   "metadata": {},
   "outputs": [
    {
     "data": {
      "image/png": "[encoded data removed]",
      "text/plain": [
       "<Figure size 432x288 with 1 Axes>"
      ]
     },
     "metadata": {
      "needs_background": "light"
     },
     "output_type": "display_data"
    }
   ],
   "source": [
    "exclusion_region = CircleSkyRegion(\n",
    "    center=SkyCoord(183.604, -8.708, unit=\"deg\", frame=\"galactic\"),\n",
    "    radius=0.5* u.deg,\n",
    ")\n",
    "skydir = target_position.galactic\n",
    "geom =  WcsGeom.create(\n",
    "    npix=(150, 150), binsz=0.05, skydir=skydir, proj=\"TAN\", frame=\"icrs\"\n",
    ")\n",
    "\n",
    "exclusion_mask = ~geom.region_mask([exclusion_region])\n",
    "exclusion_mask.plot();"
   ]
  },
  {
   "cell_type": "code",
   "execution_count": 552,
   "id": "a64e4429",
   "metadata": {},
   "outputs": [],
   "source": [
    "energy_axis = MapAxis.from_energy_bounds(\n",
    "    50, 1e5, nbin=5, per_decade=True, unit=\"GeV\", name=\"energy\")\n",
    "\n",
    "energy_axis_true = MapAxis.from_energy_bounds(\n",
    "    10, 1e5, nbin=10, per_decade=True, unit=\"GeV\", name=\"energy_true\")  \n",
    "\n",
    "geom = RegionGeom.create(region=on_region, axes=[energy_axis])\n",
    "dataset_empty = SpectrumDataset.create(\n",
    "    geom=geom, energy_axis_true=energy_axis_true\n",
    ")"
   ]
  },
  {
   "cell_type": "code",
   "execution_count": 553,
   "id": "ecd2d7f7",
   "metadata": {},
   "outputs": [],
   "source": [
    "dataset_maker = SpectrumDatasetMaker(\n",
    "    containment_correction=False,\n",
    "    selection=[\"counts\", \"exposure\", \"edisp\"]\n",
    ")\n",
    "\n",
    "# tell the background maker to use the WobbleRegionsFinder, let us use 1 off\n",
    "region_finder = WobbleRegionsFinder(n_off_regions=3)\n",
    "bkg_maker = ReflectedRegionsBackgroundMaker(region_finder=region_finder)\n",
    "\n",
    "# use the energy threshold specified in the DL3 files\n",
    "safe_mask_masker = SafeMaskMaker(methods=[\"aeff-max\"])"
   ]
  },
  {
   "cell_type": "code",
   "execution_count": 554,
   "id": "2c0a6c65",
   "metadata": {},
   "outputs": [],
   "source": [
    "# Logparabola model with start values for Crab! Might be better to use already published values for your source.\n",
    "logparabola_model = LogParabolaSpectralModel(\n",
    "    amplitude=1e-10 * u.Unit(\"TeV-1 cm-2 s-1\"),\n",
    "    reference=0.3 * u.TeV,\n",
    "    alpha=2.31 * u.Unit(\"\"),\n",
    "    beta=0.26 * u.Unit(\"\")\n",
    ")\n",
    "model = SkyModel(spectral_model=logparabola_model.copy(), name=\"logp_crab\")"
   ]
  },
  {
   "cell_type": "code",
   "execution_count": 555,
   "id": "4355fdec",
   "metadata": {},
   "outputs": [],
   "source": [
    "datasets = Datasets()\n",
    "for obs_id, observation in zip(observations.ids, observations):\n",
    "    dataset = dataset_maker.run(\n",
    "        dataset_empty.copy(name=str(obs_id)), observation\n",
    "    )\n",
    "    dataset_on_off = bkg_maker.run(dataset, observation)\n",
    "    dataset_on_off = safe_mask_masker.run(dataset_on_off, observation)\n",
    "    if dataset_on_off.counts_off:\n",
    "        datasets.append(dataset_on_off)\n",
    "    else:\n",
    "        print(f\"No Off counts in set {obs_id}\")"
   ]
  },
  {
   "cell_type": "code",
   "execution_count": 556,
   "id": "4126cbc6",
   "metadata": {},
   "outputs": [
    {
     "name": "stdout",
     "output_type": "stream",
     "text": [
      "Datasets\n",
      "--------\n",
      "\n",
      "Dataset 0: \n",
      "\n",
      "  Type       : SpectrumDatasetOnOff\n",
      "  Name       : 5029747\n",
      "  Instrument : Unknown\n",
      "  Models     : \n",
      "\n",
      "\n"
     ]
    }
   ],
   "source": [
    "print(datasets)"
   ]
  },
  {
   "cell_type": "markdown",
   "id": "19a6134f",
   "metadata": {},
   "source": [
    "No we can plot the off regions and target positions on top of the counts map:"
   ]
  },
  {
   "cell_type": "code",
   "execution_count": 557,
   "id": "35603f0b",
   "metadata": {
    "scrolled": true
   },
   "outputs": [
    {
     "name": "stderr",
     "output_type": "stream",
     "text": [
      "/Users/batkovic/anaconda3/envs/gammapy-0.20/lib/python3.8/site-packages/astropy/visualization/mpl_normalize.py:162: RuntimeWarning: invalid value encountered in true_divide\n",
      "  np.true_divide(values, self.vmax - self.vmin, out=values)\n",
      "/Users/batkovic/anaconda3/envs/gammapy-0.20/lib/python3.8/site-packages/astropy/visualization/mpl_normalize.py:162: RuntimeWarning: invalid value encountered in true_divide\n",
      "  np.true_divide(values, self.vmax - self.vmin, out=values)\n"
     ]
    },
    {
     "data": {
      "image/png": "[encoded data removed]",
      "text/plain": [
       "<Figure size 432x288 with 1 Axes>"
      ]
     },
     "metadata": {
      "needs_background": "light"
     },
     "output_type": "display_data"
    }
   ],
   "source": [
    "counts = Map.create(skydir=target_position, width=3)\n",
    "ax = counts.plot()\n",
    "geom.plot_region(ax=ax, kwargs_point={\"color\": \"k\", \"marker\": \"*\"})\n",
    "plot_spectrum_datasets_off_regions(ax=ax, datasets=datasets)"
   ]
  },
  {
   "cell_type": "code",
   "execution_count": 558,
   "id": "04be86f9",
   "metadata": {},
   "outputs": [],
   "source": [
    "for dataset in datasets:\n",
    "        dataset.models = model"
   ]
  },
  {
   "cell_type": "code",
   "execution_count": 559,
   "id": "ac092b4a",
   "metadata": {},
   "outputs": [
    {
     "name": "stdout",
     "output_type": "stream",
     "text": [
      "OptimizeResult\n",
      "\n",
      "\tbackend    : minuit\n",
      "\tmethod     : migrad\n",
      "\tsuccess    : True\n",
      "\tmessage    : Optimization terminated successfully.\n",
      "\tnfev       : 119\n",
      "\ttotal stat : 11.94\n",
      "\n",
      "CovarianceResult\n",
      "\n",
      "\tbackend    : minuit\n",
      "\tmethod     : hesse\n",
      "\tsuccess    : True\n",
      "\tmessage    : Hesse terminated successfully.\n",
      "\n",
      "SkyModel\n",
      "\n",
      "  Name                      : dseG3tCY\n",
      "  Datasets names            : None\n",
      "  Spectral model type       : LogParabolaSpectralModel\n",
      "  Spatial  model type       : \n",
      "  Temporal model type       : \n",
      "  Parameters:\n",
      "    amplitude                     :   7.90e-10   +/- 5.8e-11 1 / (cm2 s TeV)\n",
      "    reference             (frozen):      0.300       TeV         \n",
      "    alpha                         :      2.146   +/-    0.12             \n",
      "    beta                          :      0.234   +/-    0.08             \n",
      "\n",
      "\n"
     ]
    }
   ],
   "source": [
    "datasets.models = [model]\n",
    "\n",
    "fit = Fit()\n",
    "result = fit.run(datasets=datasets)\n",
    "print(result)\n",
    "best_fit_model = model.copy()\n",
    "print(best_fit_model)"
   ]
  },
  {
   "cell_type": "code",
   "execution_count": 560,
   "id": "5c825d51",
   "metadata": {},
   "outputs": [],
   "source": [
    "# Set up the lightcurve maker\n",
    "# The energy edges here are for the integration of the spectrum we just fitted.\n",
    "# If reoptimize=False, the spectral parameters are not fitted again.\n",
    "# The index is always fitted to the data contained in one LC bin.\n",
    "# If you didn't fit the spectrum to your data before, use reoptimize=True!\n",
    "# Otherwise, your flux points could be incorrect.\n",
    "# The parameter \"source\" is misleading here, it means the name of the spectrum you add to your data sets.\n",
    "# You could add more than one model to your data set to compare them, for example\n",
    "# With time_intervals, you can specify a time binning\n",
    "lc_maker_1d = LightCurveEstimator(\n",
    "    energy_edges=[0.1, 50] * u.TeV,\n",
    "    source=\"logp_crab\",\n",
    "    reoptimize=False,\n",
    "#     time_intervals=None,\n",
    ")"
   ]
  },
  {
   "cell_type": "code",
   "execution_count": 561,
   "id": "1a43dc64",
   "metadata": {},
   "outputs": [],
   "source": [
    "lc_1d = lc_maker_1d.run(datasets)"
   ]
  },
  {
   "cell_type": "code",
   "execution_count": 562,
   "id": "e81f8384",
   "metadata": {
    "scrolled": true
   },
   "outputs": [],
   "source": [
    "# Set upper limits\n",
    "#lc_1d.table[\"is_ul\"] = (lc_1d.table[\"sqrt_ts\"] < 3) | (np.isnan(lc_1d.table[\"sqrt_ts\"]))"
   ]
  },
  {
   "cell_type": "code",
   "execution_count": 563,
   "id": "a6ce401f",
   "metadata": {},
   "outputs": [
    {
     "data": {
      "text/plain": [
       "<AxesSubplot:xlabel='Time [iso]', ylabel='dnde (1 / (cm2 s TeV))'>"
      ]
     },
     "execution_count": 563,
     "metadata": {},
     "output_type": "execute_result"
    },
    {
     "data": {
      "image/png": "[encoded data removed]",
      "text/plain": [
       "<Figure size 432x288 with 1 Axes>"
      ]
     },
     "metadata": {
      "needs_background": "light"
     },
     "output_type": "display_data"
    }
   ],
   "source": [
    "lc_1d.plot(axis_name=\"time\")"
   ]
  },
  {
   "cell_type": "code",
   "execution_count": null,
   "id": "08ba5e9e",
   "metadata": {},
   "outputs": [],
   "source": []
  },
  {
   "cell_type": "code",
   "execution_count": null,
   "id": "e7dbd85a",
   "metadata": {},
   "outputs": [],
   "source": []
  },
  {
   "cell_type": "code",
   "execution_count": null,
   "id": "08ae98f9",
   "metadata": {},
   "outputs": [],
   "source": []
  },
  {
   "cell_type": "code",
   "execution_count": null,
   "id": "a6c3c23d",
   "metadata": {},
   "outputs": [],
   "source": []
  },
  {
   "cell_type": "code",
   "execution_count": null,
   "id": "58b10fe0",
   "metadata": {},
   "outputs": [],
   "source": []
  },
  {
   "cell_type": "code",
   "execution_count": null,
   "id": "af803708",
   "metadata": {},
   "outputs": [],
   "source": []
  },
  {
   "cell_type": "code",
   "execution_count": null,
   "id": "ac8fbc56",
   "metadata": {},
   "outputs": [],
   "source": []
  },
  {
   "cell_type": "markdown",
   "id": "8ff462ec",
   "metadata": {},
   "source": [
    "Just checking the start and stop time "
   ]
  },
  {
   "cell_type": "code",
   "execution_count": 533,
   "id": "2222ead0",
   "metadata": {},
   "outputs": [
    {
     "data": {
      "text/plain": [
       "56569.181865555554"
      ]
     },
     "execution_count": 533,
     "metadata": {},
     "output_type": "execute_result"
    }
   ],
   "source": [
    "t_min = round((datasets.gti.time_start).value[0]) - 0.5\n",
    "start"
   ]
  },
  {
   "cell_type": "code",
   "execution_count": 534,
   "id": "c7d979ca",
   "metadata": {},
   "outputs": [
    {
     "data": {
      "text/plain": [
       "56569.19561555555"
      ]
     },
     "execution_count": 534,
     "metadata": {},
     "output_type": "execute_result"
    }
   ],
   "source": [
    "t_max = round((datasets.gti.time_stop.value[0])) + 0.5\n",
    "stop"
   ]
  },
  {
   "cell_type": "code",
   "execution_count": null,
   "id": "8a432cff",
   "metadata": {},
   "outputs": [],
   "source": []
  },
  {
   "cell_type": "code",
   "execution_count": null,
   "id": "079b929f",
   "metadata": {},
   "outputs": [],
   "source": []
  },
  {
   "cell_type": "code",
   "execution_count": null,
   "id": "85811670",
   "metadata": {},
   "outputs": [],
   "source": []
  },
  {
   "cell_type": "markdown",
   "id": "8d5f3440",
   "metadata": {},
   "source": [
    "Defining the bins with the time intervals"
   ]
  },
  {
   "cell_type": "markdown",
   "id": "68064875",
   "metadata": {},
   "source": [
    "Let's first check the start time in iso format, needed to divide the intervals."
   ]
  },
  {
   "cell_type": "code",
   "execution_count": 564,
   "id": "1f6cf4c0",
   "metadata": {},
   "outputs": [
    {
     "name": "stdout",
     "output_type": "stream",
     "text": [
      "GTI info:\n",
      "- Number of GTIs: 1\n",
      "- Duration: 1188.0 s\n",
      "- Start: 56569.18108796296 MET\n",
      "- Start: 2013-10-04T04:20:46.000 (time standard: UTC)\n",
      "- Stop: 56569.19483796296 MET\n",
      "- Stop: 2013-10-04T04:40:34.000 (time standard: UTC)\n",
      "\n"
     ]
    }
   ],
   "source": [
    "print(observations[0].gti)"
   ]
  },
  {
   "cell_type": "code",
   "execution_count": 565,
   "id": "74e37e44",
   "metadata": {},
   "outputs": [
    {
     "name": "stdout",
     "output_type": "stream",
     "text": [
      "[56569.18108796 56569.19483796]\n"
     ]
    }
   ],
   "source": [
    "t0 = Time(\"2013-10-04T04:20:46.000\")\n",
    "duration = 1188.0 * u.s\n",
    "n_time_bins = 11\n",
    "times = t0 + np.arange(n_time_bins) * duration\n",
    "time_intervals = [\n",
    "    Time([tstart, tstop]) for tstart, tstop in zip(times[:-1], times[1:])\n",
    "] \n",
    "print(time_intervals[0].mjd)"
   ]
  },
  {
   "cell_type": "code",
   "execution_count": 566,
   "id": "bc998dc0",
   "metadata": {},
   "outputs": [
    {
     "data": {
      "text/plain": [
       "[<Time object: scale='utc' format='isot' value=['2013-10-04T04:20:46.000' '2013-10-04T04:40:34.000']>,\n",
       " <Time object: scale='utc' format='isot' value=['2013-10-04T04:40:34.000' '2013-10-04T05:00:22.000']>,\n",
       " <Time object: scale='utc' format='isot' value=['2013-10-04T05:00:22.000' '2013-10-04T05:20:10.000']>,\n",
       " <Time object: scale='utc' format='isot' value=['2013-10-04T05:20:10.000' '2013-10-04T05:39:58.000']>,\n",
       " <Time object: scale='utc' format='isot' value=['2013-10-04T05:39:58.000' '2013-10-04T05:59:46.000']>,\n",
       " <Time object: scale='utc' format='isot' value=['2013-10-04T05:59:46.000' '2013-10-04T06:19:34.000']>,\n",
       " <Time object: scale='utc' format='isot' value=['2013-10-04T06:19:34.000' '2013-10-04T06:39:22.000']>,\n",
       " <Time object: scale='utc' format='isot' value=['2013-10-04T06:39:22.000' '2013-10-04T06:59:10.000']>,\n",
       " <Time object: scale='utc' format='isot' value=['2013-10-04T06:59:10.000' '2013-10-04T07:18:58.000']>,\n",
       " <Time object: scale='utc' format='isot' value=['2013-10-04T07:18:58.000' '2013-10-04T07:38:46.000']>]"
      ]
     },
     "execution_count": 566,
     "metadata": {},
     "output_type": "execute_result"
    }
   ],
   "source": [
    "time_intervals"
   ]
  },
  {
   "cell_type": "code",
   "execution_count": null,
   "id": "c05b7396",
   "metadata": {},
   "outputs": [],
   "source": []
  },
  {
   "cell_type": "code",
   "execution_count": null,
   "id": "8e428087",
   "metadata": {},
   "outputs": [],
   "source": []
  },
  {
   "cell_type": "code",
   "execution_count": null,
   "id": "dae703da",
   "metadata": {},
   "outputs": [],
   "source": []
  },
  {
   "cell_type": "code",
   "execution_count": null,
   "id": "d9424907",
   "metadata": {},
   "outputs": [],
   "source": []
  },
  {
   "cell_type": "code",
   "execution_count": null,
   "id": "88e2625a",
   "metadata": {},
   "outputs": [],
   "source": []
  },
  {
   "cell_type": "markdown",
   "id": "95b77b2d",
   "metadata": {},
   "source": [
    "To divide the observations, one needs to select them based on their start and stop times and create new observations."
   ]
  },
  {
   "cell_type": "code",
   "execution_count": 538,
   "id": "fb2396a3",
   "metadata": {},
   "outputs": [
    {
     "name": "stdout",
     "output_type": "stream",
     "text": [
      "Number of observations after time filtering: 2\n",
      "\n",
      "GTI info:\n",
      "- Number of GTIs: 1\n",
      "- Duration: 1188.0 s\n",
      "- Start: 56569.18108796296 MET\n",
      "- Start: 2013-10-04T04:20:46.000 (time standard: UTC)\n",
      "- Stop: 56569.19483796296 MET\n",
      "- Stop: 2013-10-04T04:40:34.000 (time standard: UTC)\n",
      "\n"
     ]
    }
   ],
   "source": [
    "##select_time() is by gammapy, we need to define our own function\n",
    "\n",
    "#short_observations = ()\n",
    "short_observations = observations.select_time(time_intervals)\n",
    "# check that observations have been filtered\n",
    "print(\n",
    "    f\"Number of observations after time filtering: {len(short_observations)}\\n\"\n",
    ")\n",
    "print(short_observations[0].gti)"
   ]
  },
  {
   "cell_type": "code",
   "execution_count": 539,
   "id": "8bc24738",
   "metadata": {},
   "outputs": [],
   "source": [
    "#energy_axis = MapAxis.from_energy_bounds(\n",
    "#    50, 1e5, nbin=5, per_decade=True, unit=\"GeV\", name=\"energy\")\n",
    "\n",
    "#energy_axis_true = MapAxis.from_energy_bounds(\n",
    "#    10, 1e5, nbin=10, per_decade=True, unit=\"GeV\", name=\"energy_true\")  \n",
    "\n",
    "energy_axis = MapAxis.from_energy_bounds(\"0.4 TeV\", \"20 TeV\", nbin=10)\n",
    "energy_axis_true = MapAxis.from_energy_bounds(\n",
    "    \"0.1 TeV\", \"40 TeV\", nbin=20, name=\"energy_true\"\n",
    ")\n",
    "\n",
    "\n",
    "geom = RegionGeom.create(region=on_region, axes=[energy_axis])\n",
    "dataset_empty = SpectrumDataset.create(\n",
    "    geom=geom, energy_axis_true=energy_axis_true\n",
    ")"
   ]
  },
  {
   "cell_type": "code",
   "execution_count": 540,
   "id": "43de1a00",
   "metadata": {},
   "outputs": [],
   "source": [
    "dataset_maker = SpectrumDatasetMaker(\n",
    "    containment_correction=False,\n",
    "    selection=[\"counts\", \"exposure\", \"edisp\"]\n",
    ")\n",
    "\n",
    "# tell the background maker to use the WobbleRegionsFinder, let us use 1 off\n",
    "region_finder = WobbleRegionsFinder(n_off_regions=3)\n",
    "bkg_maker = ReflectedRegionsBackgroundMaker(region_finder=region_finder)\n",
    "\n",
    "# use the energy threshold specified in the DL3 files\n",
    "safe_mask_masker = SafeMaskMaker(methods=[\"aeff-max\"])"
   ]
  },
  {
   "cell_type": "markdown",
   "id": "068c46c1",
   "metadata": {},
   "source": [
    "After dividing the observations, we need to create the datasets again from the new, \"shorter\" observations and build a light curve maker with given time intervals:"
   ]
  },
  {
   "cell_type": "code",
   "execution_count": 541,
   "id": "dc806e84",
   "metadata": {},
   "outputs": [],
   "source": [
    "logparabola_model = LogParabolaSpectralModel(\n",
    "    amplitude=1e-10 * u.Unit(\"TeV-1 cm-2 s-1\"),\n",
    "    reference=0.3 * u.TeV,\n",
    "    alpha=2.31 * u.Unit(\"\"),\n",
    "    beta=0.26 * u.Unit(\"\")\n",
    ")\n",
    "model = SkyModel(spectral_model=logparabola_model.copy(), name=\"logp_crab\")"
   ]
  },
  {
   "cell_type": "code",
   "execution_count": 542,
   "id": "1e8ef107",
   "metadata": {},
   "outputs": [
    {
     "name": "stderr",
     "output_type": "stream",
     "text": [
      "/Users/batkovic/anaconda3/envs/gammapy-0.20/lib/python3.8/site-packages/astropy/units/quantity.py:613: RuntimeWarning: invalid value encountered in true_divide\n",
      "  result = super().__array_ufunc__(function, method, *arrays, **kwargs)\n"
     ]
    },
    {
     "ename": "IndexError",
     "evalue": "index 0 is out of bounds for axis 0 with size 0",
     "output_type": "error",
     "traceback": [
      "\u001b[0;31m---------------------------------------------------------------------------\u001b[0m",
      "\u001b[0;31mIndexError\u001b[0m                                Traceback (most recent call last)",
      "Input \u001b[0;32mIn [542]\u001b[0m, in \u001b[0;36m<cell line: 7>\u001b[0;34m()\u001b[0m\n\u001b[1;32m      8\u001b[0m dataset \u001b[38;5;241m=\u001b[39m dataset_maker\u001b[38;5;241m.\u001b[39mrun(dataset_empty\u001b[38;5;241m.\u001b[39mcopy(), obs)\n\u001b[1;32m     10\u001b[0m dataset_on_off \u001b[38;5;241m=\u001b[39m bkg_maker\u001b[38;5;241m.\u001b[39mrun(dataset, obs)\n\u001b[0;32m---> 11\u001b[0m dataset_on_off \u001b[38;5;241m=\u001b[39m \u001b[43msafe_mask_masker\u001b[49m\u001b[38;5;241;43m.\u001b[39;49m\u001b[43mrun\u001b[49m\u001b[43m(\u001b[49m\u001b[43mdataset_on_off\u001b[49m\u001b[43m,\u001b[49m\u001b[43m \u001b[49m\u001b[43mobs\u001b[49m\u001b[43m)\u001b[49m\n\u001b[1;32m     12\u001b[0m datasets\u001b[38;5;241m.\u001b[39mappend(dataset_on_off)\n",
      "File \u001b[0;32m~/anaconda3/envs/gammapy-0.20/lib/python3.8/site-packages/gammapy/makers/safe.py:316\u001b[0m, in \u001b[0;36mSafeMaskMaker.run\u001b[0;34m(self, dataset, observation)\u001b[0m\n\u001b[1;32m    313\u001b[0m     mask_safe \u001b[38;5;241m&\u001b[39m\u001b[38;5;241m=\u001b[39m \u001b[38;5;28mself\u001b[39m\u001b[38;5;241m.\u001b[39mmake_mask_energy_aeff_default(dataset, observation)\n\u001b[1;32m    315\u001b[0m \u001b[38;5;28;01mif\u001b[39;00m \u001b[38;5;124m\"\u001b[39m\u001b[38;5;124maeff-max\u001b[39m\u001b[38;5;124m\"\u001b[39m \u001b[38;5;129;01min\u001b[39;00m \u001b[38;5;28mself\u001b[39m\u001b[38;5;241m.\u001b[39mmethods:\n\u001b[0;32m--> 316\u001b[0m     mask_safe \u001b[38;5;241m&\u001b[39m\u001b[38;5;241m=\u001b[39m \u001b[38;5;28;43mself\u001b[39;49m\u001b[38;5;241;43m.\u001b[39;49m\u001b[43mmake_mask_energy_aeff_max\u001b[49m\u001b[43m(\u001b[49m\u001b[43mdataset\u001b[49m\u001b[43m)\u001b[49m\n\u001b[1;32m    318\u001b[0m \u001b[38;5;28;01mif\u001b[39;00m \u001b[38;5;124m\"\u001b[39m\u001b[38;5;124medisp-bias\u001b[39m\u001b[38;5;124m\"\u001b[39m \u001b[38;5;129;01min\u001b[39;00m \u001b[38;5;28mself\u001b[39m\u001b[38;5;241m.\u001b[39mmethods:\n\u001b[1;32m    319\u001b[0m     mask_safe \u001b[38;5;241m&\u001b[39m\u001b[38;5;241m=\u001b[39m \u001b[38;5;28mself\u001b[39m\u001b[38;5;241m.\u001b[39mmake_mask_energy_edisp_bias(dataset)\n",
      "File \u001b[0;32m~/anaconda3/envs/gammapy-0.20/lib/python3.8/site-packages/gammapy/makers/safe.py:176\u001b[0m, in \u001b[0;36mSafeMaskMaker.make_mask_energy_aeff_max\u001b[0;34m(self, dataset, observation)\u001b[0m\n\u001b[1;32m    173\u001b[0m model \u001b[38;5;241m=\u001b[39m TemplateSpectralModel\u001b[38;5;241m.\u001b[39mfrom_region_map(aeff)\n\u001b[1;32m    175\u001b[0m energy_true \u001b[38;5;241m=\u001b[39m model\u001b[38;5;241m.\u001b[39menergy\n\u001b[0;32m--> 176\u001b[0m energy_min \u001b[38;5;241m=\u001b[39m energy_true[\u001b[43mnp\u001b[49m\u001b[38;5;241;43m.\u001b[39;49m\u001b[43mwhere\u001b[49m\u001b[43m(\u001b[49m\u001b[43mmodel\u001b[49m\u001b[38;5;241;43m.\u001b[39;49m\u001b[43mvalues\u001b[49m\u001b[43m \u001b[49m\u001b[38;5;241;43m>\u001b[39;49m\u001b[43m \u001b[49m\u001b[38;5;241;43m0\u001b[39;49m\u001b[43m)\u001b[49m\u001b[43m[\u001b[49m\u001b[38;5;241;43m0\u001b[39;49m\u001b[43m]\u001b[49m\u001b[43m[\u001b[49m\u001b[38;5;241;43m0\u001b[39;49m\u001b[43m]\u001b[49m]\n\u001b[1;32m    177\u001b[0m energy_max \u001b[38;5;241m=\u001b[39m energy_true[\u001b[38;5;241m-\u001b[39m\u001b[38;5;241m1\u001b[39m]\n\u001b[1;32m    179\u001b[0m aeff_thres \u001b[38;5;241m=\u001b[39m (\u001b[38;5;28mself\u001b[39m\u001b[38;5;241m.\u001b[39maeff_percent \u001b[38;5;241m/\u001b[39m \u001b[38;5;241m100\u001b[39m) \u001b[38;5;241m*\u001b[39m aeff\u001b[38;5;241m.\u001b[39mquantity\u001b[38;5;241m.\u001b[39mmax()\n",
      "\u001b[0;31mIndexError\u001b[0m: index 0 is out of bounds for axis 0 with size 0"
     ]
    }
   ],
   "source": [
    "datasets = Datasets()\n",
    "\n",
    "dataset_empty = SpectrumDataset.create(\n",
    "    geom=geom, energy_axis_true=energy_axis_true\n",
    ")\n",
    "\n",
    "for obs in short_observations:\n",
    "    dataset = dataset_maker.run(dataset_empty.copy(), obs)\n",
    "\n",
    "    dataset_on_off = bkg_maker.run(dataset, obs)\n",
    "    dataset_on_off = safe_mask_masker.run(dataset_on_off, obs)\n",
    "    datasets.append(dataset_on_off)\n",
    "    \n"
   ]
  },
  {
   "cell_type": "code",
   "execution_count": 543,
   "id": "0223ccf4",
   "metadata": {},
   "outputs": [],
   "source": [
    "datasets.models = model"
   ]
  },
  {
   "cell_type": "code",
   "execution_count": 544,
   "id": "b95260d1",
   "metadata": {},
   "outputs": [
    {
     "data": {
      "text/plain": [
       "[<Time object: scale='utc' format='isot' value=['2013-10-04T04:20:46.000' '2013-10-04T04:40:34.000']>,\n",
       " <Time object: scale='utc' format='isot' value=['2013-10-04T04:40:34.000' '2013-10-04T05:00:22.000']>,\n",
       " <Time object: scale='utc' format='isot' value=['2013-10-04T05:00:22.000' '2013-10-04T05:20:10.000']>,\n",
       " <Time object: scale='utc' format='isot' value=['2013-10-04T05:20:10.000' '2013-10-04T05:39:58.000']>,\n",
       " <Time object: scale='utc' format='isot' value=['2013-10-04T05:39:58.000' '2013-10-04T05:59:46.000']>,\n",
       " <Time object: scale='utc' format='isot' value=['2013-10-04T05:59:46.000' '2013-10-04T06:19:34.000']>,\n",
       " <Time object: scale='utc' format='isot' value=['2013-10-04T06:19:34.000' '2013-10-04T06:39:22.000']>,\n",
       " <Time object: scale='utc' format='isot' value=['2013-10-04T06:39:22.000' '2013-10-04T06:59:10.000']>,\n",
       " <Time object: scale='utc' format='isot' value=['2013-10-04T06:59:10.000' '2013-10-04T07:18:58.000']>,\n",
       " <Time object: scale='utc' format='isot' value=['2013-10-04T07:18:58.000' '2013-10-04T07:38:46.000']>]"
      ]
     },
     "execution_count": 544,
     "metadata": {},
     "output_type": "execute_result"
    }
   ],
   "source": [
    "time_intervals"
   ]
  },
  {
   "cell_type": "code",
   "execution_count": 567,
   "id": "425280a0",
   "metadata": {},
   "outputs": [],
   "source": [
    "lc_maker_1d = LightCurveEstimator(\n",
    "    energy_edges=[0.7, 20] * u.TeV,\n",
    "    source=\"logp_crab\",\n",
    "    time_intervals=time_intervals,\n",
    "    selection_optional=None,\n",
    ")"
   ]
  },
  {
   "cell_type": "code",
   "execution_count": 568,
   "id": "22e8984f",
   "metadata": {},
   "outputs": [],
   "source": [
    "lc_1d = lc_maker_1d.run(datasets)"
   ]
  },
  {
   "cell_type": "code",
   "execution_count": 569,
   "id": "be2d612f",
   "metadata": {},
   "outputs": [
    {
     "data": {
      "text/plain": [
       "<AxesSubplot:xlabel='Energy [GeV]', ylabel='dnde (1 / (cm2 s TeV))'>"
      ]
     },
     "execution_count": 569,
     "metadata": {},
     "output_type": "execute_result"
    },
    {
     "data": {
      "image/png": "[encoded data removed]",
      "text/plain": [
       "<Figure size 432x288 with 1 Axes>"
      ]
     },
     "metadata": {
      "needs_background": "light"
     },
     "output_type": "display_data"
    }
   ],
   "source": [
    "lc_1d.plot(marker=\"o\")"
   ]
  },
  {
   "cell_type": "code",
   "execution_count": null,
   "id": "5e74ca57",
   "metadata": {},
   "outputs": [],
   "source": []
  }
 ],
 "metadata": {
  "kernelspec": {
   "display_name": "Python 3 (ipykernel)",
   "language": "python",
   "name": "python3"
  },
  "language_info": {
   "codemirror_mode": {
    "name": "ipython",
    "version": 3
   },
   "file_extension": ".py",
   "mimetype": "text/x-python",
   "name": "python",
   "nbconvert_exporter": "python",
   "pygments_lexer": "ipython3",
   "version": "3.9.0"
  }
 },
 "nbformat": 4,
 "nbformat_minor": 5
}
