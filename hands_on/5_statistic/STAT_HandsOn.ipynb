{
 "cells": [
  {
   "cell_type": "markdown",
   "id": "5195a196-18b1-48c7-8781-07b92a914d46",
   "metadata": {},
   "source": [
    "#  HANDS-ON STATISTICAL ANALYSIS"
   ]
  },
  {
   "cell_type": "markdown",
   "id": "83df918f-5921-49d8-a11b-1eecd27bb258",
   "metadata": {},
   "source": [
    "In this notebook we show how to solve the problem and exercise proposed during the lecture on the introduction to statistical inference"
   ]
  },
  {
   "cell_type": "markdown",
   "id": "0eb6c1e3-b78a-4976-bab9-664d12ab299d",
   "metadata": {},
   "source": [
    "## We import some python module"
   ]
  },
  {
   "cell_type": "code",
   "execution_count": null,
   "id": "6882f2e3-5f5c-4dac-92f1-8358833927e7",
   "metadata": {},
   "outputs": [],
   "source": [
    "import numpy as np\n",
    "import matplotlib.pyplot as plt\n",
    "from scipy import stats, special, optimize\n",
    "from scipy.stats import chi2"
   ]
  },
  {
   "cell_type": "markdown",
   "id": "f1de300a-5986-4fd2-b770-2a71186f5167",
   "metadata": {},
   "source": [
    "# 1. The Monty Hall problem"
   ]
  },
  {
   "cell_type": "markdown",
   "id": "2bcc1843-9737-40d3-b785-14697ecfabf2",
   "metadata": {},
   "source": [
    "Let's how to solve the 'Monty Hall problem' using the Bayes theorem"
   ]
  },
  {
   "cell_type": "markdown",
   "id": "184c24dd-9956-4bb5-8ef3-f25c4a030b0d",
   "metadata": {},
   "source": [
    "We firts define a function `BayesTheorem` whihc given a likelihoods and a priors gives the posterior\n",
    "\n",
    "$ p( H_i | E ) = \\frac{ P(E| H_i ) P( H_i) } { \\sum_k  P(E| H_k ) P( H_k) }  = \\; \\frac{ \\text{likeliohoods} \\; \\times \\;  \\text{priors} } { \\sum \\text{likeliohoods} \\; \\times \\;  \\text{priors}} $\n"
   ]
  },
  {
   "cell_type": "code",
   "execution_count": null,
   "id": "111da365-5b82-44ad-9fe1-e9305bfffa5b",
   "metadata": {},
   "outputs": [],
   "source": [
    "def BayesTheorem( likelihoods, priors):\n",
    "    normalization = np.sum( likelihoods * priors)\n",
    "    return likelihoods * priors / normalization"
   ]
  },
  {
   "cell_type": "markdown",
   "id": "ea505ebb-887b-47cf-b5ae-e4f0e6718277",
   "metadata": {},
   "source": [
    "We firts define the likelihood (see slides)"
   ]
  },
  {
   "cell_type": "code",
   "execution_count": null,
   "id": "27c369fc-e90d-411b-8e40-9c0d51339c84",
   "metadata": {},
   "outputs": [],
   "source": [
    "likelihoods = np.array( [ 0.5, 1, 0] )\n",
    "\n",
    "counts = likelihoods\n",
    "bins = np.arange( len(counts) + 1)\n",
    "\n",
    "fig, ax = plt.subplots(figsize=(8,5),nrows=1, ncols=1)\n",
    "\n",
    "centroids = (bins[1:] + bins[:-1]) / 2\n",
    "counts_, bins_, _ = ax.hist(centroids, bins=len(counts),\n",
    "                             weights=counts, range=(min(bins), max(bins)), rwidth=0.7)\n",
    "\n",
    "\n",
    "\n",
    "ax.set_xticks( centroids)\n",
    "ax.set_xticklabels( [\"P( E | H1 )\", \"P( E | H2 )\", \"P( E | H3 )\"])\n",
    "ax.set_xlabel(\" Likelihoods\")\n",
    "ax.set_title( \" Likelihoods \" )"
   ]
  },
  {
   "cell_type": "markdown",
   "id": "beaeed1c-d500-42eb-9141-553eb75ad35d",
   "metadata": {},
   "source": [
    "Then the priors (see slides)"
   ]
  },
  {
   "cell_type": "code",
   "execution_count": null,
   "id": "d1e8cac7-4a91-4aeb-8ac0-ef65570d630f",
   "metadata": {},
   "outputs": [],
   "source": [
    "priors      = np.array( [1/3, 1/3, 1/3])\n",
    "\n",
    "counts = priors\n",
    "bins = np.arange( len(counts) + 1)\n",
    "\n",
    "fig, ax = plt.subplots(figsize=(8,5),nrows=1, ncols=1)\n",
    "\n",
    "centroids = (bins[1:] + bins[:-1]) / 2\n",
    "counts_, bins_, _ = ax.hist(centroids, bins=len(counts),\n",
    "                             weights=counts, range=(min(bins), max(bins)), rwidth=0.7)\n",
    "\n",
    "\n",
    "\n",
    "ax.set_xticks( centroids)\n",
    "ax.set_xticklabels( [\"H1\", \"H2\", \"H3\"])\n",
    "ax.set_xlabel(\" Hypotehesis\")\n",
    "ax.set_title( \" Prior Distribution \" )"
   ]
  },
  {
   "cell_type": "markdown",
   "id": "3948b68c-e719-45f1-854c-a2eb7710f076",
   "metadata": {},
   "source": []
  },
  {
   "cell_type": "code",
   "execution_count": null,
   "id": "5067a12c-6397-44da-82d2-3bd3cb5a2238",
   "metadata": {},
   "outputs": [],
   "source": [
    "posterior   = BayesTheorem( likelihoods, priors) \n",
    "\n",
    "counts = posterior\n",
    "bins = np.arange( len(counts) + 1)\n",
    "\n",
    "fig, ax = plt.subplots(figsize=(8,5),nrows=1, ncols=1)\n",
    "\n",
    "centroids = (bins[1:] + bins[:-1]) / 2\n",
    "counts_, bins_, _ = ax.hist(centroids, bins=len(counts),\n",
    "                             weights=counts, range=(min(bins), max(bins)), rwidth=0.7)\n",
    "\n",
    "\n",
    "\n",
    "ax.set_xticks( centroids)\n",
    "ax.set_xticklabels( [\"H1\", \"H2\", \"H3\"])\n",
    "ax.set_xlabel(\" Hypotehesis\")\n",
    "ax.set_title( \" Posterior Distribution \" )"
   ]
  },
  {
   "cell_type": "markdown",
   "id": "5d93368c-4524-41eb-900c-415aef98b69d",
   "metadata": {
    "tags": []
   },
   "source": [
    "### Excercises \n",
    "-  What if the TV-Show host did not know where the car is?\n",
    "-  How the likelihoods change? What posterior do we get?"
   ]
  },
  {
   "cell_type": "markdown",
   "id": "3ea3768b-a0da-44ea-a2f6-f1f45aefb45c",
   "metadata": {},
   "source": [
    "# 2.  Covid result test"
   ]
  },
  {
   "cell_type": "markdown",
   "id": "d2188f81-1ae0-4b08-b34b-5aa66a5ecf4a",
   "metadata": {},
   "source": [
    "Here we use the Bayes theorem to get the probablity that you have Covid-19 given a positve result from a rapid test"
   ]
  },
  {
   "cell_type": "markdown",
   "id": "e07ed4f0-0fbb-48e5-8fe0-46bcac262e87",
   "metadata": {},
   "source": [
    "First, we define the prior to be sick. In in this case we choose an array of values from 0 to 1"
   ]
  },
  {
   "cell_type": "code",
   "execution_count": null,
   "id": "05404f33-7f88-4518-8dd2-13992afdc896",
   "metadata": {},
   "outputs": [],
   "source": [
    "p_sick     = np.linspace(0.0,1,1000)\n",
    "p_not_sick = 1 - p_sick"
   ]
  },
  {
   "cell_type": "markdown",
   "id": "b52635d1-21ba-49f4-9c0c-836594b81ef5",
   "metadata": {},
   "source": [
    "We now define the **Sensitivity** and **Specificity** of the Covid rapid test"
   ]
  },
  {
   "cell_type": "code",
   "execution_count": null,
   "id": "c38c9168-431b-4f37-9e8e-ba14051e5b0e",
   "metadata": {},
   "outputs": [],
   "source": [
    "#sensitivity\n",
    "Se  =  0.50\n",
    "#specificity\n",
    "Sp  =  0.97"
   ]
  },
  {
   "cell_type": "markdown",
   "id": "88a47b2d-0da4-4e55-ac14-168eea45e6d6",
   "metadata": {},
   "source": [
    "Finally we apply the Bayes theorem (see slides)"
   ]
  },
  {
   "cell_type": "code",
   "execution_count": null,
   "id": "7347aa09-69f1-4271-bceb-7209c847a2fe",
   "metadata": {},
   "outputs": [],
   "source": [
    "p_sick_positive = 1/( 1 + (1-Sp)/Se * p_not_sick/p_sick)"
   ]
  },
  {
   "cell_type": "code",
   "execution_count": null,
   "id": "dd7deedb-e724-4986-9192-d14475753579",
   "metadata": {},
   "outputs": [],
   "source": [
    "fig, ax = plt.subplots(figsize=(8,5),nrows=1, ncols=1)\n",
    "ax.plot( p_sick, p_sick_positive)\n",
    "ax.grid()\n",
    "ax.set_ylabel(r\" $p( S \\,| \\,  + )$\")\n",
    "ax.set_xlabel(r\" $p( S  )$\")"
   ]
  },
  {
   "cell_type": "markdown",
   "id": "c39de69c-07b1-42ba-8c48-66dd39bace82",
   "metadata": {
    "tags": []
   },
   "source": [
    "### Excercises\n",
    "- Change the value of Sp. and Se. and see what happend\n",
    "- Assuming a prior of being sick of 0.1, if I perform another test, after having being tested positive, and I test again positive. What is the probability that I am sick?"
   ]
  },
  {
   "cell_type": "markdown",
   "id": "4eba8fd9-401e-4b47-b842-d2a5b9fbaf50",
   "metadata": {},
   "source": [
    "# 3. \"Sheep\" example"
   ]
  },
  {
   "cell_type": "markdown",
   "id": "9c59ead0-9a8d-4ae9-ba3b-b895cb0d11f5",
   "metadata": {},
   "source": [
    "We consider the 'sheep' example (see slides) in which we have 2 models with different prediction on the percentage of balck sheep in the population"
   ]
  },
  {
   "cell_type": "markdown",
   "id": "346c205c-e664-4f9b-9429-fed0a12687d9",
   "metadata": {},
   "source": [
    "For the first hypothesis"
   ]
  },
  {
   "cell_type": "code",
   "execution_count": null,
   "id": "633241a6-b3cc-4029-81b2-d81bd7b74979",
   "metadata": {},
   "outputs": [],
   "source": [
    "# Percentage of black sheep accorinding to the model\n",
    "p   = 0.01"
   ]
  },
  {
   "cell_type": "markdown",
   "id": "3d8be6f0-8019-4b15-bd2e-eb092aee8bcd",
   "metadata": {},
   "source": [
    "For the alternative one"
   ]
  },
  {
   "cell_type": "code",
   "execution_count": null,
   "id": "cd031ff0-fe5c-4948-9bcb-4db2d625d60f",
   "metadata": {},
   "outputs": [],
   "source": [
    "# Percentage of black sheep accorinding to the alternative model\n",
    "p2  = 0.02"
   ]
  },
  {
   "cell_type": "markdown",
   "id": "f6ce7ca1-2f48-4ddd-813a-fdcb84fa38cc",
   "metadata": {},
   "source": [
    "We then perform an observation on `n` sheeps observing a total of `n_black` balck sheep"
   ]
  },
  {
   "cell_type": "code",
   "execution_count": null,
   "id": "a2a993bd-d4bc-4d28-8800-82967b4b6777",
   "metadata": {},
   "outputs": [],
   "source": [
    "# toale number of observed sheep\n",
    "n  = 1000\n",
    "# number of obseved black sheep\n",
    "n_black = 20"
   ]
  },
  {
   "cell_type": "markdown",
   "id": "ae9802af-dacd-4260-9b47-a4eea7197c20",
   "metadata": {},
   "source": [
    "What do the models tell us about the number of balck sheep we should obseved"
   ]
  },
  {
   "cell_type": "code",
   "execution_count": null,
   "id": "336cebe7-df21-444b-937e-9eb731b343c1",
   "metadata": {},
   "outputs": [],
   "source": [
    "y = range(0,35)\n",
    "y = [stats.binom.pmf( i, n,p) for i in x ]\n",
    "y2 = [stats.binom.pmf( i, n,p2) for i in x ]\n",
    "\n",
    "fig, ax = plt.subplots(figsize=(8,5),nrows=1, ncols=1)\n",
    "\n",
    "ax.scatter(x,y, label = \"Model\")\n",
    "ax.scatter(x,y2, label = \"Alternative Model\")\n",
    "ax.legend(fontsize=15)\n",
    "ax.set_xlabel(\"Number of black sheep\")\n",
    "ax.set_ylabel(\"PMF\")"
   ]
  },
  {
   "cell_type": "markdown",
   "id": "82cb3e24-60da-43a6-ab21-a6049773f593",
   "metadata": {},
   "source": [
    "Which model is more luckly to be true? Let's try to quantify it"
   ]
  },
  {
   "cell_type": "markdown",
   "id": "31b36150-0f51-4553-a5a3-ea5b046c26fa",
   "metadata": {},
   "source": [
    "### Bayes's answer"
   ]
  },
  {
   "cell_type": "code",
   "execution_count": null,
   "id": "3c297f37-3f22-4687-97c4-ddb81cae116f",
   "metadata": {},
   "outputs": [],
   "source": [
    "likelihood  = stats.binom.pmf( n_black, n,p)\n",
    "print( \" p( D | M )     = \", likelihood)\n",
    "likelihood2 = stats.binom.pmf( n_black, n,p2)\n",
    "print( \" p( D | bar_M ) = \", likelihood2)\n"
   ]
  },
  {
   "cell_type": "code",
   "execution_count": null,
   "id": "9df1bb6a-f3cb-48f5-9d6c-0d3f689c54f3",
   "metadata": {},
   "outputs": [],
   "source": [
    "BF = likelihood/likelihood2\n",
    "BF"
   ]
  },
  {
   "cell_type": "markdown",
   "id": "f04dbd1d-2606-4845-ae52-372b9ff5aae2",
   "metadata": {},
   "source": [
    "The first hypothesis is disfavored, i.e. it is less likely to be true relative to the alternative one"
   ]
  },
  {
   "cell_type": "markdown",
   "id": "e11abb9d-2620-4ec4-be35-9fd17b0f9614",
   "metadata": {},
   "source": [
    "### Frequentist's answer"
   ]
  },
  {
   "cell_type": "code",
   "execution_count": null,
   "id": "1d3cfa9e-7452-48fd-9390-096b342678ea",
   "metadata": {},
   "outputs": [],
   "source": [
    "pvalue = 1 - stats.binom.cdf( 20, n,p)\n",
    "pvalue"
   ]
  },
  {
   "cell_type": "code",
   "execution_count": null,
   "id": "4f0ba85f-4d2d-4b2f-af85-31c7fdcd8e70",
   "metadata": {},
   "outputs": [],
   "source": [
    "pvalue = 1 - np.sum([stats.binom.pmf( i, n,p) for i in np.arange(0,21,1)])\n",
    "pvalue"
   ]
  },
  {
   "cell_type": "code",
   "execution_count": null,
   "id": "1979f784-f328-4ce0-84de-693429b4b07c",
   "metadata": {},
   "outputs": [],
   "source": [
    "special.erfinv( 1 - pvalue ) * np.sqrt(2)"
   ]
  },
  {
   "cell_type": "markdown",
   "id": "fa093dfc-9108-4f29-9e4c-729225a09c8c",
   "metadata": {},
   "source": [
    "The first hypothesis is excluded at 3.2 sigmas"
   ]
  },
  {
   "cell_type": "markdown",
   "id": "34d0a117-88f1-465e-b056-09891412b044",
   "metadata": {},
   "source": [
    "### Excercises\n",
    "- Redo everything assuming that 5 sheep were observed"
   ]
  },
  {
   "cell_type": "markdown",
   "id": "65f1eb2a-bc95-4666-97c1-f961505667e3",
   "metadata": {},
   "source": [
    "# 4. Powerful statistic"
   ]
  },
  {
   "cell_type": "markdown",
   "id": "39d8b68e-e849-401a-b605-0ebfae0a0223",
   "metadata": {},
   "source": [
    "This is how a powerfull statistic should look like!"
   ]
  },
  {
   "cell_type": "code",
   "execution_count": null,
   "id": "55798c58-7a2c-4b66-accf-8bed5988f041",
   "metadata": {},
   "outputs": [],
   "source": [
    "fig, ax = plt.subplots(figsize=(15,10),nrows=1, ncols=1)\n",
    "\n",
    "x = np.linspace( -4, 5, 1000)\n",
    "y = stats.norm.pdf( x, 0, 1)\n",
    "plt.plot( x,y)\n",
    "ax.fill_between(x,0,y,alpha=0.4, label=\"Distiribution under\\n null hypothesis\" )\n",
    "\n",
    "x = np.linspace( -4, 7, 1000)\n",
    "y = stats.norm.pdf( x, 4, 0.8)\n",
    "plt.plot( x,y,  c='red')\n",
    "ax.fill_between(x,0,y,alpha=0.4, color='red',label=\"Distiribution under\\n alternative hypothesis\" )\n",
    "\n",
    "ax.set_xlabel(\"Statistic\")\n",
    "ax.set_ylabel(\"PDF\")\n",
    "\n",
    "xs = 4\n",
    "ys = stats.norm.pdf( xs, 0, 1)\n",
    "ax.vlines(xs, 0, ys , color='black', label=\"observed value\")\n",
    "ax.scatter(xs,ys, color='black')\n",
    "\n",
    "#ax.set_yscale(\"log\")\n",
    "\n",
    "ax.legend(loc='best')"
   ]
  },
  {
   "cell_type": "markdown",
   "id": "0b96d1f9-d2f7-4e6a-b314-94e63c823211",
   "metadata": {},
   "source": [
    "### Escercise\n",
    "- What is the 'power' of the statistic above? (assume a rejection threshold of 5)"
   ]
  },
  {
   "cell_type": "markdown",
   "id": "c75e28c9-eeb8-43b6-b517-7cb26d669e71",
   "metadata": {},
   "source": [
    "# 5. \"Higg's discovery\" toy model"
   ]
  },
  {
   "cell_type": "markdown",
   "id": "bc57789d-a928-42de-95a0-fa6a591f2b41",
   "metadata": {},
   "source": [
    "We firts define our Toy Model, which depends on a signle paramter `a`\n",
    "\n",
    "- No uncertainty on the observable $x$\n",
    "\n",
    "$ x = x_{obs} $\n",
    "\n",
    "- The dependent variable $y$ is given by\n",
    "\n",
    "$ y = q + m \\cdot x  + 10^3 \\cdot a \\cdot \\mathcal{N}(x | \\mu=50, \\sigma=8) $\n",
    "\n",
    "- The uncertainty on $y$ is given by\n",
    "\n",
    "$ y_{obs} \\sim \\mathcal{N}(\\mu=y, \\sigma=70) $"
   ]
  },
  {
   "cell_type": "code",
   "execution_count": null,
   "id": "31835dfa-53f3-4227-a4ba-0d61be654a0b",
   "metadata": {},
   "outputs": [],
   "source": [
    "def model(x,a):\n",
    "    m = -6\n",
    "    q = 720\n",
    "    return m*x + q + a*1e3*stats.norm.pdf( x, 50, 8)\n",
    "\n",
    "# function for simulating an observation of npoints\n",
    "def simulate_obs(npoints, a, seed):\n",
    "    rng     = np.random.default_rng(seed)\n",
    "    xobs    = np.linspace(0, 100, npoints)\n",
    "    y       = model(xobs,a)\n",
    "    yobs    = [ rng.normal( iy, 70) for iy in y]\n",
    "    return  xobs, yobs"
   ]
  },
  {
   "cell_type": "markdown",
   "id": "d3c652f3-1178-42b5-a74b-f1260bf8f63f",
   "metadata": {},
   "source": [
    "Given the model above we can construct the likelihood (see slides)"
   ]
  },
  {
   "cell_type": "code",
   "execution_count": null,
   "id": "dbf8388a-f1f3-4eac-a360-649793308a0d",
   "metadata": {},
   "outputs": [],
   "source": [
    "def likelihood( a, yobs, x):\n",
    "    lkl_list = [single_likelihood( a, yobs_i, x_i) for yobs_i, x_i in zip(yobs, x)]\n",
    "    return np.prod(  lkl_list )\n"
   ]
  },
  {
   "cell_type": "markdown",
   "id": "c09c8446-3973-4fb8-bc6a-0f1abc16274a",
   "metadata": {},
   "source": [
    "where `single_likelihoo` is"
   ]
  },
  {
   "cell_type": "code",
   "execution_count": null,
   "id": "29a3ae87-ff4a-49e4-8415-d5fea9d381a8",
   "metadata": {},
   "outputs": [],
   "source": [
    "def single_likelihood( a, yobs, x):\n",
    "    y = model(x,a)\n",
    "    return stats.norm.pdf( yobs, y, 70)"
   ]
  },
  {
   "cell_type": "markdown",
   "id": "d393a56a-8eee-4983-b943-3e6a978c81de",
   "metadata": {},
   "source": [
    "### Let's simulate one observation (given the model above) and plot the points"
   ]
  },
  {
   "cell_type": "code",
   "execution_count": null,
   "id": "72318a0f-ae5a-45c2-952d-13ca1ff07d10",
   "metadata": {},
   "outputs": [],
   "source": [
    "seed       = 76 #76 \n",
    "npoints    = 19\n",
    "true_a     = 5\n",
    "xobs, yobs = simulate_obs(npoints, true_a, seed)\n",
    "\n",
    "xerr = np.mean(xobs[1:]-xobs[:-1])/2\n",
    "\n",
    "fig, ax = plt.subplots(figsize=(10,6),nrows=1, ncols=1)\n",
    "\n",
    "\n",
    "ax.errorbar(x=xobs, y=yobs, yerr=70 , xerr = xerr , c='black', capsize=2, fmt='o')\n",
    "\n",
    "x_plot     = np.linspace(0, 100, 1000)\n",
    "y_plot     = model(x_plot, true_a)\n",
    "ax.plot(x_plot, y_plot, c='red', linewidth=3, alpha=.8)\n",
    "\n",
    "y_plot     = model(x_plot, 0)\n",
    "ax.plot(x_plot, y_plot, '--',linewidth=2,alpha=.8, c='red' )\n",
    "ax.set_xlabel('x',fontsize=30)\n",
    "ax.set_ylabel('y',fontsize=30)"
   ]
  },
  {
   "cell_type": "markdown",
   "id": "5a7cbb12-6dd0-4662-96cb-f2b1a7d52985",
   "metadata": {},
   "source": [
    "### Let's plot the likelihood as a function of 'a'"
   ]
  },
  {
   "cell_type": "code",
   "execution_count": null,
   "id": "4845f39b-63e6-4651-a12d-d3d8dd132f4a",
   "metadata": {},
   "outputs": [],
   "source": [
    "a_vals   = np.linspace(0,10, 500)\n",
    "lkl_vals = [likelihood( a_i, yobs, xobs)  for a_i in a_vals]\n",
    "\n",
    "# we perform an interpolation\n",
    "def likelihood_interp(a):\n",
    "    return np.interp( a,  a_vals, lkl_vals/np.max(lkl_vals))\n",
    "\n",
    "\n",
    "\n",
    "fig, ax = plt.subplots(figsize=(10,6),nrows=1, ncols=1)\n",
    "\n",
    "x = np.linspace(0,10, 100)\n",
    "y = likelihood_interp(x)\n",
    "ax.plot( x, y, c='black')\n",
    "ax.set_xlabel(\"a\",fontsize=30)\n",
    "ax.set_ylabel('Likelihood',fontsize=30)"
   ]
  },
  {
   "cell_type": "markdown",
   "id": "0bd5d004-ac8a-4e1e-81e5-db3de67f53db",
   "metadata": {
    "tags": []
   },
   "source": [
    " We now fit the model: we find the value $\\bar{a}$ that maximize the likelihood"
   ]
  },
  {
   "cell_type": "code",
   "execution_count": null,
   "id": "14c92224-e6bf-4ac3-9e39-9653d01a70e6",
   "metadata": {},
   "outputs": [],
   "source": [
    "bar_a = optimize.fmin(lambda x: -likelihood_interp(x), 0)\n",
    "bar_a"
   ]
  },
  {
   "cell_type": "markdown",
   "id": "1feab5bf-0d16-4c93-9980-776ff93b4dc0",
   "metadata": {},
   "source": [
    "4.79 is the value of $a$ that maximex the likelihood!"
   ]
  },
  {
   "cell_type": "markdown",
   "id": "6b3d615c-2578-47e0-ba6c-d43f30d65b6c",
   "metadata": {},
   "source": [
    "### Likelihood ratio"
   ]
  },
  {
   "cell_type": "code",
   "execution_count": null,
   "id": "f52ee585-804f-4d2b-b259-51ba880643bb",
   "metadata": {},
   "outputs": [],
   "source": [
    "likelihood_ratio = likelihood_interp(0)/likelihood_interp(bar_a)\n",
    "likelihood_ratio"
   ]
  },
  {
   "cell_type": "markdown",
   "id": "060d922d-7fbd-4123-9b01-2cbca1725c2e",
   "metadata": {},
   "source": [
    "### Log-likelihood ratio folowwing Wilks' theorem"
   ]
  },
  {
   "cell_type": "code",
   "execution_count": null,
   "id": "8fe64bbb-0808-41b1-ad0c-aedb252a6c6e",
   "metadata": {},
   "outputs": [],
   "source": [
    "LogL = -2*np.log( likelihood_ratio )\n",
    "LogL"
   ]
  },
  {
   "cell_type": "markdown",
   "id": "64df92cb-d81d-403d-a112-8ee6b451da78",
   "metadata": {},
   "source": [
    "### p-value"
   ]
  },
  {
   "cell_type": "code",
   "execution_count": null,
   "id": "dc47c59b-2ddc-4c2b-bf71-6b2104a47c52",
   "metadata": {},
   "outputs": [],
   "source": [
    "p_value = 1 - chi2.cdf(LogL, df=1)\n",
    "p_value"
   ]
  },
  {
   "cell_type": "markdown",
   "id": "f2eeda92-13a4-493a-a64a-e758c32cd2d3",
   "metadata": {},
   "source": [
    "### sigma"
   ]
  },
  {
   "cell_type": "code",
   "execution_count": null,
   "id": "c4ecad78-8c68-4130-aba7-1954dd0feaa7",
   "metadata": {},
   "outputs": [],
   "source": [
    "special.erfinv( 1 - p_value ) * np.sqrt(2)"
   ]
  },
  {
   "cell_type": "code",
   "execution_count": null,
   "id": "ba8deec4-6c85-4ced-a60e-3c1f816334bd",
   "metadata": {},
   "outputs": [],
   "source": [
    "np.sqrt(LogL)"
   ]
  },
  {
   "cell_type": "markdown",
   "id": "a814ceb8-a874-4afd-94d8-6fa8fe5a58b2",
   "metadata": {},
   "source": [
    "### CONCLUSION"
   ]
  },
  {
   "cell_type": "markdown",
   "id": "b07ada18-f35f-4ea1-8873-c693b9462bb0",
   "metadata": {},
   "source": [
    "The null hypothesis $a=0$ is excludede at 5.4 $\\sigma$"
   ]
  },
  {
   "cell_type": "markdown",
   "id": "cc8eadcb-e790-42a2-9328-5118d10731e0",
   "metadata": {},
   "source": [
    "### We now check the distribution of the statistic under the null and alternative hypothesis"
   ]
  },
  {
   "cell_type": "code",
   "execution_count": null,
   "id": "f0227640-7ce9-410c-a007-75e7fdd7dffa",
   "metadata": {},
   "outputs": [],
   "source": [
    "%%time\n",
    "\n",
    "\n",
    "a_vals     = np.linspace(-10,10, 1000)\n",
    "    \n",
    "TS_list_H0 = [ ]\n",
    "TS_list_H1 = [ ]\n",
    "\n",
    "def TS( a_vals, lkl_vals):\n",
    "    guessed_a   = 0\n",
    "    num         = np.interp( guessed_a, a_vals, lkl_vals )\n",
    "    den         = np.max(    lkl_vals )\n",
    "    return num/den\n",
    "\n",
    "for i in range(200):\n",
    "    \n",
    "    # NULL HYPOTHEISIS H0\n",
    "    a_hypothesis = 0\n",
    "    xobs, yobs   = simulate_obs(npoints, a_hypothesis, i)\n",
    "    lkl_vals     = [likelihood( a_i, yobs, xobs)  for a_i in a_vals]\n",
    "    TS_H0        = TS( a_vals, lkl_vals)\n",
    "    \n",
    "    # ALTERNATIVE HYPOTHESIS H1\n",
    "    a_hypothesis = 5\n",
    "    xobs, yobs   = simulate_obs(npoints, a_hypothesis, i)\n",
    "    lkl_vals     = [likelihood( a_i, yobs, xobs)  for a_i in a_vals]\n",
    "    TS_H1        = TS( a_vals, lkl_vals)\n",
    "    \n",
    "    \n",
    "    TS_list_H0.append( TS_H0 )\n",
    "    TS_list_H1.append( TS_H1 )"
   ]
  },
  {
   "cell_type": "markdown",
   "id": "3c282119-2eb7-444d-ac53-ad0f0531dc4c",
   "metadata": {},
   "source": [
    "### Distribution of the likelihood ratio"
   ]
  },
  {
   "cell_type": "code",
   "execution_count": null,
   "id": "5ed569ca-fcae-407b-8c9f-ca60407a0e48",
   "metadata": {},
   "outputs": [],
   "source": [
    "fig, ax = plt.subplots(figsize=(10,6),nrows=1, ncols=1)\n",
    "bins = np.logspace(-2,0,10)\n",
    "ax.hist( TS_list_H0, bins=bins, alpha=0.6 ,  label=\"Distiribution under\\nnull hypothesis:  a=0\" )\n",
    "\n",
    "bins = np.logspace(-13,0,40)\n",
    "ax.hist( TS_list_H1, bins=bins, alpha=0.6 ,color='red',label=\"Distiribution under\\nalternative hypothesis: a=5\" )\n",
    "ax.set_xscale(\"log\")\n",
    "ax.set_xlabel(\"Statistic\", fontsize=20)\n",
    "\n",
    "\n",
    "\n",
    "xs = np.interp( 0, a_vals, lkl_vals/np.max(lkl_vals))\n",
    "ys = 1\n",
    "ax.vlines(xs, 0, ys , color='black', label=\"observed value\")\n",
    "ax.scatter(xs,ys, color='black')\n",
    "\n",
    "ax.legend(loc='best', fontsize=20)"
   ]
  },
  {
   "cell_type": "markdown",
   "id": "7bf76831-f860-422d-96d2-6bdb0a808534",
   "metadata": {},
   "source": [
    "### Distribution of the -2 Log likelihood ratio"
   ]
  },
  {
   "cell_type": "code",
   "execution_count": null,
   "id": "91c4e650-9b54-4996-bb21-d7c86ddcd59b",
   "metadata": {},
   "outputs": [],
   "source": [
    "logTS_h0 = -2*np.log(TS_list_H0)\n",
    "logTS_h1 = -2*np.log(TS_list_H1)"
   ]
  },
  {
   "cell_type": "code",
   "execution_count": null,
   "id": "4c31d5b5-9048-4075-aea5-8d1676eb1513",
   "metadata": {},
   "outputs": [],
   "source": [
    "fig, ax = plt.subplots(figsize=(10,6),nrows=1, ncols=1)\n",
    "bins = np.linspace(0,20,30)\n",
    "ax.hist( logTS_h0, bins=bins, alpha=0.6 ,  label=\"Distiribution under\\nnull hypothesis:  a=0\" )\n",
    "\n",
    "bins = np.linspace(0,40,60)\n",
    "ax.hist( logTS_h1, bins=bins, alpha=0.6 ,color='red',label=\"Distiribution under\\nalternative hypothesis: a=5\" )\n",
    "#ax.set_xscale(\"log\")\n",
    "ax.set_xlabel(\"Statistic\", fontsize=20)\n",
    "\n",
    "\n",
    "\n",
    "xs = 29.7\n",
    "ys = 1\n",
    "ax.vlines(xs, 0, ys , color='black', label=\"observed value\")\n",
    "ax.scatter(xs,ys, color='black')\n",
    "\n",
    "ax.legend(loc='best', fontsize=20)"
   ]
  },
  {
   "cell_type": "code",
   "execution_count": null,
   "id": "155c6d68-2221-4ab6-8db2-4aefe714be50",
   "metadata": {},
   "outputs": [],
   "source": []
  },
  {
   "cell_type": "markdown",
   "id": "09786fd2-2218-4a8f-9b76-80881cc10467",
   "metadata": {},
   "source": [
    "### Check if it follows a $\\chi^2$ distribution"
   ]
  },
  {
   "cell_type": "code",
   "execution_count": null,
   "id": "bdddbd5a-fd1c-4af7-b781-48ee3a425003",
   "metadata": {},
   "outputs": [],
   "source": [
    "fig, ax = plt.subplots(figsize=(8,5),nrows=1, ncols=1)\n",
    "\n",
    "all_TS = -2*np.log(TS_list_H0)\n",
    "\n",
    "DOF = 1 # Number of free parameters that have been fitted\n",
    "\n",
    "min_TS      = 0 #np.min(TS_list)\n",
    "max_TS      = np.max(all_TS)\n",
    "TS_bins     = np.linspace(min_TS ,max_TS,100)\n",
    "TS_CDF      = np.array([np.sum( all_TS  < i ) for i in TS_bins])/len(all_TS)\n",
    "ax.plot(TS_bins, TS_CDF , color='black', label=\"Observed CDF\")\n",
    "\n",
    "\n",
    "Chi2_CDF = chi2.cdf(TS_bins, df=DOF )\n",
    "ax.plot(TS_bins,Chi2_CDF, color='black',alpha=0.3, linewidth=4, label=r\"CDF of $\\chi^2_{df = \"+str(DOF) +\"}$\")\n",
    "ax.set_ylabel(\"CDF\")\n",
    "ax.set_xlabel(\"Statistic\")\n",
    "ax.legend(loc=\"lower right\")"
   ]
  },
  {
   "cell_type": "code",
   "execution_count": null,
   "id": "a0172b7c-f81b-4800-9351-48457d815f9e",
   "metadata": {},
   "outputs": [],
   "source": []
  },
  {
   "cell_type": "markdown",
   "id": "ec2f0961-e4c2-4824-9a15-c2bef718f6be",
   "metadata": {},
   "source": [
    "# On/Off problems"
   ]
  },
  {
   "cell_type": "markdown",
   "id": "5a4ad35b-b9e1-4ccb-9d75-870d084883b0",
   "metadata": {},
   "source": [
    "We firts define the log likelihood ratio for an On and Off observation.\n",
    "\n",
    "In the `log_likelihood` function we must give in input the following variables\n",
    "\n",
    "1. `s` the expected signal events\n",
    "2. `Non` the total numbers of observed events in the ON region\n",
    "3. `Noff` the total numbers of observed events in the OFF region\n",
    "4. `a` is 'alpha' the ratio between the ON and OFF region\n",
    "\n",
    "Given these inpunt the function will return\n",
    "\n",
    "$ 2 \\left[   N_{on} \\log \\left( \\frac{N_{on}}{s+ \\alpha \\hat{b} } \\right) + \n",
    "     N_{off} \\log \\left( \\frac{N_{off}}{ \\hat{b} } \\right) \\; +  \\;  s+ (1+ \\alpha) \\hat{b} - N_{on} - N_{off} \\right] $\n"
   ]
  },
  {
   "cell_type": "code",
   "execution_count": null,
   "id": "d9182b88-a76b-4700-9a01-cbb721035c90",
   "metadata": {},
   "outputs": [],
   "source": [
    "def log_likelihood(s, Non, Noff, a):\n",
    "    # we firts get the b that maximez the likelihood\n",
    "    N     = Non + Noff - (1+1/a) *s\n",
    "    b     = (N + np.sqrt( N**2  + 4* (1+1/a) *s*Noff ))/(2+2*a)\n",
    "    \n",
    "    # Now we can compute the tree terms of the likelihood\n",
    "    if Non == 0:\n",
    "        term1 = np.zeros_like(s)\n",
    "    else:\n",
    "        term1 = Non*np.log( Non/(s + a*b)  )\n",
    "\n",
    "    if Noff == 0:\n",
    "        term2 = np.zeros_like(s)\n",
    "    else:\n",
    "        term2 = Noff*np.log( Noff/b  )\n",
    " \n",
    "    term3 = s + (1+a)*b - Non - Noff\n",
    "    \n",
    "    return 2*(term1 + term2 + term3)"
   ]
  },
  {
   "cell_type": "markdown",
   "id": "77e69324-59fa-4d07-811b-ea47b68bd938",
   "metadata": {},
   "source": [
    "Let's see an example\n",
    "\n",
    "We first simulate an On/Off observation, where `true_s` and `true_b` are the value of signal and background used for the simulation"
   ]
  },
  {
   "cell_type": "code",
   "execution_count": null,
   "id": "12b88041-2a60-448f-804d-bc1b2f74fbf1",
   "metadata": {},
   "outputs": [],
   "source": [
    "true_s = 20\n",
    "true_b = 90\n",
    "a = 0.5\n",
    "\n",
    "#simulation\n",
    "seed = 400\n",
    "rng  = np.random.default_rng(seed)\n",
    "Non  = rng.poisson(true_s + a * true_b)\n",
    "print('Non  = ', Non)\n",
    "Noff = rng.poisson(true_b)\n",
    "print('Noff = ', Noff)"
   ]
  },
  {
   "cell_type": "markdown",
   "id": "6911a034-d018-40b8-b622-f17cc46456f3",
   "metadata": {},
   "source": [
    "We now plot the log likelihood"
   ]
  },
  {
   "cell_type": "code",
   "execution_count": null,
   "id": "c14e7fcb-167e-467b-96a2-8dfb764d620b",
   "metadata": {},
   "outputs": [],
   "source": [
    "s     = np.linspace(-3,38, 1000)\n",
    "log_l = log_likelihood(s, Non, Noff, a)\n",
    "\n",
    "fig, ax = plt.subplots(figsize=(8,5),nrows=1, ncols=1)\n",
    "\n",
    "ax.plot(s,log_l, label='log-likelihood')\n",
    "ax.vlines( true_s, 0, np.max(log_l), color='red', label='True value of signal')\n",
    "ax.vlines( 0, 0, np.max(log_l), color='black', alpha=0.3 )\n",
    "\n",
    "ax.set_ylim( [0., None])\n",
    "ax.set_ylabel('log likelihood')\n",
    "ax.set_xlabel('signal')\n",
    "ax.legend();"
   ]
  },
  {
   "cell_type": "markdown",
   "id": "8dded4ee-3926-4803-9091-9da4efc73e64",
   "metadata": {},
   "source": [
    "We can now get the fitted value of s"
   ]
  },
  {
   "cell_type": "code",
   "execution_count": null,
   "id": "b860b649-8c14-4eaa-9b41-d36faff844a0",
   "metadata": {},
   "outputs": [],
   "source": [
    "fitted_s = optimize.fmin(lambda x:  np.interp( x, s, log_l), 0)\n",
    "fitted_s"
   ]
  },
  {
   "cell_type": "markdown",
   "id": "22fffc64-1960-4d72-8f3d-af1f26626f2b",
   "metadata": {},
   "source": [
    "And obtain the statistic"
   ]
  },
  {
   "cell_type": "code",
   "execution_count": null,
   "id": "8e41a92a-e83b-4ff1-836b-0b09d7d88398",
   "metadata": {},
   "outputs": [],
   "source": [
    "statistic =  np.interp( true_s, s, log_l)\n",
    "statistic"
   ]
  },
  {
   "cell_type": "markdown",
   "id": "4515eacc-7ee5-4804-b21b-98624b5bc9b7",
   "metadata": {},
   "source": [
    "Such as statistic accoridng to the Wilks' theorem corrispon to a confidence level of"
   ]
  },
  {
   "cell_type": "code",
   "execution_count": null,
   "id": "7ba77683-8c20-4757-9cd4-66512c570f68",
   "metadata": {},
   "outputs": [],
   "source": [
    "chi2.cdf(statistic, df=1)"
   ]
  },
  {
   "cell_type": "code",
   "execution_count": null,
   "id": "bf3a1a11-e710-49e3-82f0-db18dd81d1cf",
   "metadata": {},
   "outputs": [],
   "source": [
    "fig, ax = plt.subplots(figsize=(8,5),nrows=1, ncols=1)\n",
    "\n",
    "x = np.linspace(0.01, 2, 1000)\n",
    "y = chi2.pdf(x, df=1)\n",
    "ax.plot(x,y, label='$\\chi^2$ distribution')\n",
    "\n",
    "x = np.linspace(0.01, statistic, 1000)\n",
    "y = chi2.pdf(x, df=1)\n",
    "\n",
    "ax.fill_between(x,y, 0)\n",
    "ax.set_ylabel('PDF')\n",
    "ax.set_xlabel(r'$\\chi^2$')\n",
    "ax.legend(fontsize=30);"
   ]
  },
  {
   "cell_type": "markdown",
   "id": "e8964b96-1499-4ea4-bed6-1444a345cb36",
   "metadata": {},
   "source": [
    "### Let's check if it is a $\\chi^2$ variable"
   ]
  },
  {
   "cell_type": "code",
   "execution_count": null,
   "id": "0b4a2d38-d138-42df-8667-b1e3b771cbd0",
   "metadata": {},
   "outputs": [],
   "source": [
    "%%time\n",
    "all_statistic = []\n",
    "\n",
    "for i in range(10000):\n",
    " \n",
    "    \n",
    "    rng  = np.random.default_rng(i)\n",
    "    Non  = rng.poisson(true_s + a * true_b)\n",
    "    Noff = rng.poisson(true_b)\n",
    "    \n",
    "    s     = np.linspace(-3,38, 1000)\n",
    "    log_l = log_likelihood(s, Non, Noff, a)\n",
    "\n",
    "    statistic =  np.interp( true_s, s, log_l)\n",
    "    \n",
    "    all_statistic.append( statistic) \n",
    "    \n",
    "all_statistic = np.array( all_statistic )"
   ]
  },
  {
   "cell_type": "code",
   "execution_count": null,
   "id": "840077ae-92ea-4b7d-aab7-ab50fba64b14",
   "metadata": {},
   "outputs": [],
   "source": [
    "fig, ax = plt.subplots(figsize=(8,5),nrows=1, ncols=1)\n",
    "\n",
    "all_TS = all_statistic\n",
    "\n",
    "DOF = 1 # Number of free parameters that have been fitted\n",
    "\n",
    "min_TS      = 0 #np.min(TS_list)\n",
    "max_TS      = np.max(all_TS)\n",
    "TS_bins     = np.linspace(min_TS ,max_TS,100)\n",
    "TS_CDF      = np.array([np.sum( all_TS  < i ) for i in TS_bins])/len(all_TS)\n",
    "ax.plot(TS_bins, TS_CDF , color='black', label=\"Observed CDF\")\n",
    "\n",
    "\n",
    "Chi2_CDF = chi2.cdf(TS_bins, df=DOF )\n",
    "ax.plot(TS_bins,Chi2_CDF, color='black',alpha=0.3, linewidth=4, label=r\"CDF of $\\chi^2_{df = \"+str(DOF) +\"}$\")\n",
    "ax.set_ylabel(\"CDF\")\n",
    "ax.set_xlabel(\"Statistic\")\n",
    "ax.legend(loc=\"lower right\")"
   ]
  },
  {
   "cell_type": "markdown",
   "id": "d2a80624-8cb3-447a-90ba-b2707aa785f8",
   "metadata": {},
   "source": [
    "It follows indeed the expected distribution!"
   ]
  },
  {
   "cell_type": "markdown",
   "id": "222fad56-0914-41b5-96b8-7624e085228a",
   "metadata": {},
   "source": [
    "# Likelihood function for a given On/Off observation"
   ]
  },
  {
   "cell_type": "code",
   "execution_count": null,
   "id": "ae7a5fd7-ccb2-4ef4-a19e-d585fdb5c3d6",
   "metadata": {},
   "outputs": [],
   "source": [
    "Non = 54\n",
    "Noff = 44\n",
    "a = 0.5\n",
    "\n",
    "s     = np.linspace(13,53, 1000)\n",
    "log_l = log_likelihood(s, Non, Noff, a)\n",
    "\n",
    "fig, ax = plt.subplots(figsize=(8,5),nrows=1, ncols=1)\n",
    "\n",
    "ax.plot(s,log_l, label='log-likelihood')\n",
    "\n",
    "ax.vlines( 17.05, 0, np.max(log_l), color='red')\n",
    "ax.vlines( 24.17, 0, np.max(log_l), color='red')\n",
    "ax.vlines( 32.01, 0, np.max(log_l), color='red')\n",
    "ax.vlines( 40.32, 0, np.max(log_l), color='red')\n",
    "ax.vlines( 48.83, 0, np.max(log_l), color='red')\n",
    "\n",
    "ax.set_ylim( [0., None])\n",
    "ax.set_ylabel('log likelihood')\n",
    "ax.set_xlabel('signal')"
   ]
  },
  {
   "cell_type": "markdown",
   "id": "129d520f-045f-4ee6-b10d-a2f0e97c4e35",
   "metadata": {},
   "source": [
    "Let's see if the value $s$ that maximize the likelihood is indeed given by \n",
    "\n",
    "$ N_{on} - \\alpha N_{off} $"
   ]
  },
  {
   "cell_type": "code",
   "execution_count": null,
   "id": "b9156956-7c18-4338-a515-234a2ad380d4",
   "metadata": {},
   "outputs": [],
   "source": [
    "Non - a*Noff "
   ]
  },
  {
   "cell_type": "code",
   "execution_count": null,
   "id": "0483bd38-e6d9-4da3-b80d-2e1f45149f29",
   "metadata": {},
   "outputs": [],
   "source": [
    "max_s = optimize.fmin(lambda x:  np.interp( x, s, log_l) , 20)\n",
    "max_s"
   ]
  },
  {
   "cell_type": "markdown",
   "id": "95bcaee8-1aba-4234-a131-3b4eebea0678",
   "metadata": {},
   "source": [
    "Let's see if the 68% CL is weel approximated by \n",
    "\n",
    "$ N_{on} - \\alpha N_{off} \\pm   \\sqrt{ N_{on} + \\alpha^2 N_{off} } $"
   ]
  },
  {
   "cell_type": "code",
   "execution_count": null,
   "id": "83553769-06b1-4d0c-9b5f-8a27122a08b5",
   "metadata": {},
   "outputs": [],
   "source": [
    "Non - a*Noff + np.sqrt( Non + a**2 * Noff)"
   ]
  },
  {
   "cell_type": "code",
   "execution_count": null,
   "id": "3e32d862-3ef2-4f60-bc4a-4b77ac6eee64",
   "metadata": {},
   "outputs": [],
   "source": [
    "high_s = optimize.fmin(lambda x:  (np.interp( x, s, log_l) -1)**2, 40)\n",
    "high_s"
   ]
  },
  {
   "cell_type": "code",
   "execution_count": null,
   "id": "62862e49-9b93-4d11-a6e4-6a0c663b415e",
   "metadata": {},
   "outputs": [],
   "source": [
    "Non - a*Noff  - np.sqrt( Non + a**2 * Noff)"
   ]
  },
  {
   "cell_type": "code",
   "execution_count": null,
   "id": "c7ef8151-779b-4a1d-9666-2f1778cdf3aa",
   "metadata": {},
   "outputs": [],
   "source": [
    "low_s = optimize.fmin(lambda x:  (np.interp( x, s, log_l) -1)**2, 20)\n",
    "low_s"
   ]
  },
  {
   "cell_type": "markdown",
   "id": "b56cf35e-abd7-461a-b646-3af509b8d750",
   "metadata": {},
   "source": [
    "Finally the 95% Upper and Low Limits"
   ]
  },
  {
   "cell_type": "code",
   "execution_count": null,
   "id": "c07b1409-70e9-4845-948c-2fee870fd481",
   "metadata": {},
   "outputs": [],
   "source": [
    "Non - a*Noff  + 2*  np.sqrt( Non + a**2 * Noff)"
   ]
  },
  {
   "cell_type": "code",
   "execution_count": null,
   "id": "db7aded6-a949-4786-a69f-360c92187db7",
   "metadata": {},
   "outputs": [],
   "source": [
    "UL_s = optimize.fmin(lambda x:  (np.interp( x, s, log_l) -3.84)**2, 40)\n",
    "UL_s"
   ]
  },
  {
   "cell_type": "code",
   "execution_count": null,
   "id": "fcd0622c-6ca9-44b5-89a5-f3accd3926d3",
   "metadata": {},
   "outputs": [],
   "source": [
    "Non - a*Noff  - 2*  np.sqrt( Non + a**2 * Noff)"
   ]
  },
  {
   "cell_type": "code",
   "execution_count": null,
   "id": "ca95ce71-ee53-4b16-b773-e6e698f0ddc1",
   "metadata": {},
   "outputs": [],
   "source": [
    "LL_s = optimize.fmin(lambda x:  (np.interp( x, s, log_l) -3.84)**2, 20)\n",
    "LL_s"
   ]
  },
  {
   "cell_type": "markdown",
   "id": "6701285f-d396-4472-810c-44e927069985",
   "metadata": {},
   "source": [
    "# Li&Ma significance"
   ]
  },
  {
   "cell_type": "markdown",
   "id": "833e0646-99b2-4722-a4d2-154932f33ee4",
   "metadata": {},
   "source": [
    "We firts define a function that gives us the Li&Ma significance given the On and off counts (`a` si $\\alpha$ the normalization between the On and Off region)\n",
    "\n",
    "$ \\pm \\sqrt{2}  \\left[  \n",
    "   N_{on} \\log\\left( \\frac{1 }{\\alpha} \\frac{(\\alpha +1) N_{on}}{N_{on} + N_{off}} \\right)  +\n",
    "    N_{off} \\log\\left(  \\frac{(\\alpha +1 ) N_{off}}{N_{on} + N_{off}} \\right) \\right]^{1/2}\n",
    "$"
   ]
  },
  {
   "cell_type": "code",
   "execution_count": null,
   "id": "c410ae0f-c167-4fcb-bb6e-c937df7b9f8f",
   "metadata": {},
   "outputs": [],
   "source": [
    "def LiMa_significance( Non, Noff, a):\n",
    "    plus_or_minus = np.sign( Non - a*Noff)\n",
    "    log_lkl_null  = log_likelihood( s=0, Non=Non, Noff=Noff, a=a)\n",
    "    return plus_or_minus * np.sqrt( log_lkl_null)"
   ]
  },
  {
   "cell_type": "markdown",
   "id": "281a797f-5ceb-4ae9-8be3-488d4387108f",
   "metadata": {},
   "source": [
    "Simulation of observation in each of which we get the Li&Ma significance"
   ]
  },
  {
   "cell_type": "code",
   "execution_count": null,
   "id": "09a9f231-9132-4b44-bb57-80839ddf2788",
   "metadata": {},
   "outputs": [],
   "source": [
    "true_s = 0\n",
    "true_b = 90\n",
    "a      = 1/3\n",
    "\n",
    "all_significance = []\n",
    "for i in range(10000):\n",
    " \n",
    "    \n",
    "    rng  = np.random.default_rng(i)\n",
    "    Non  = rng.poisson(true_s + a * true_b)\n",
    "    Noff = rng.poisson(true_b)\n",
    "    \n",
    "    all_significance.append( LiMa_significance( Non, Noff, a) )\n",
    "    \n",
    "    \n",
    "all_significance = np.array(all_significance)"
   ]
  },
  {
   "cell_type": "markdown",
   "id": "8517e504-2aa5-4b1a-911a-7d1dff4d3c09",
   "metadata": {},
   "source": [
    "We plot the result and check the distribution"
   ]
  },
  {
   "cell_type": "code",
   "execution_count": null,
   "id": "7a61e67e-9295-46cd-bf04-29500b3d1fdc",
   "metadata": {},
   "outputs": [],
   "source": [
    "plt.hist(all_significance,bins=50, density=True, alpha=0.5);\n",
    "x = np.linspace( -5, 5, 1000)\n",
    "y = stats.norm.pdf( x, 0,1)\n",
    "plt.plot(x,y)"
   ]
  },
  {
   "cell_type": "markdown",
   "id": "074e88e4-119f-4837-91bc-2fa8391c8b08",
   "metadata": {},
   "source": [
    "It very nicely follows a normal distribution"
   ]
  },
  {
   "cell_type": "markdown",
   "id": "d3befd26-fb3b-4ef5-8e4d-d1e6e29f5878",
   "metadata": {},
   "source": [
    "## ON/OFF problem with the Bayesian approach"
   ]
  },
  {
   "cell_type": "markdown",
   "id": "80980c02-a9e1-419a-9c1d-8c3f0bf338ea",
   "metadata": {},
   "source": [
    "We first define a function that given\n",
    "- `Ns` the number of signa events\n",
    "- `Non` the number of On events\n",
    "- `Noff` the number of Off events\n",
    "\n",
    "it gives the logarithm of\n",
    "\n",
    "$\\frac{ (N_{on} + N_{off} - N_s)! }{(1+1/\\alpha)^{-N_s}  (N_{on} - N_s)! } $\n",
    "\n",
    "\n",
    "which is proportional to the probability mass function $p(N_s | N_{on}, N_{off}, \\alpha)$ \n",
    "\n",
    "The usage of the logarithm is needed since we are dealing with very large numbers given by the factorials\n",
    "\n"
   ]
  },
  {
   "cell_type": "code",
   "execution_count": null,
   "id": "b94e822e-0d64-4b7d-8ffd-859a9788fded",
   "metadata": {},
   "outputs": [],
   "source": [
    "def log_single_term(Ns, Non, Noff,a):\n",
    "    integer_vals  = np.arange(Non-Ns+1, Non + Noff-Ns+1)\n",
    "    logfactorial  = np.sum( np.log(integer_vals) )\n",
    "    logsecondterm = Ns*np.log(1 + 1/a)\n",
    "    return logfactorial + logsecondterm"
   ]
  },
  {
   "cell_type": "markdown",
   "id": "d0d5ffb4-938c-4045-a0ff-e5e6ccf78b11",
   "metadata": {},
   "source": [
    "The total number of signal events $N_s$ can take value from 0 to $N_{on}$\n",
    "\n",
    "We compute all these $N_{on} + 1$ terms using the below function"
   ]
  },
  {
   "cell_type": "code",
   "execution_count": null,
   "id": "5ef2e62c-be08-4501-aad5-dcb1de479116",
   "metadata": {},
   "outputs": [],
   "source": [
    "def signal_events_PMF( Non, Noff, a):\n",
    "    Ns         = np.arange(0,Non+1)\n",
    "    vectfunc   = np.vectorize(log_single_term)\n",
    "    log_Ns_PMF = vectfunc(Ns, Non, Noff, a)\n",
    "    vectexp    = np.vectorize( np.exp)\n",
    "    Ns_PMF     = vectexp(log_Ns_PMF)\n",
    "    Ns_PMF    /= np.sum(Ns_PMF)\n",
    "    return Ns, Ns_PMF "
   ]
  },
  {
   "cell_type": "markdown",
   "id": "494e8bd8-00df-4799-a531-07afdc8441df",
   "metadata": {},
   "source": [
    "Finally we need multiply these terms by a Poisson distribution and sum over $N_s$ (see slides) in order to get the PDF of the signal rate $s$ given by\n",
    "\n",
    "$ p( s  \\; | \\;  N_{on},  N_{off}; \\alpha)   \\propto \n",
    "\\sum_{N_s = 0}^{N_{on}}  \\frac{ (N_{on} + N_{off} - N_s)! }{(1+1/\\alpha)^{-N_s}  (N_{on} - N_s)! }  \n",
    "\\cdot  \\frac{s^{N_s}}{N_s !} e^{-s} $"
   ]
  },
  {
   "cell_type": "code",
   "execution_count": null,
   "id": "752be62f-d1a9-4495-aee4-cf3f0a21569b",
   "metadata": {},
   "outputs": [],
   "source": [
    "def signal_PDF( s, Non, Noff, a):\n",
    "    Ns, PMF = signal_events_PMF(Non, Noff, a)\n",
    "    return s, np.sum( [iPMF*stats.poisson.pmf(iNs,s) for iNs , iPMF in zip(Ns,PMF)] ,axis=0)"
   ]
  },
  {
   "cell_type": "code",
   "execution_count": null,
   "id": "5d007918-5cce-4e31-97ac-c94ec84d0a2f",
   "metadata": {},
   "outputs": [],
   "source": [
    "signal_events_PMF( Non=10, Noff=30, a=1/3)"
   ]
  },
  {
   "cell_type": "code",
   "execution_count": null,
   "id": "5616a7f1-a09b-417c-bbfb-b865cf548e88",
   "metadata": {},
   "outputs": [],
   "source": [
    "fig, ax = plt.subplots(figsize=(17,10),nrows=1, ncols=1)\n",
    "\n",
    "\n",
    "Non = 80\n",
    "Noff = 140\n",
    "a = 0.5\n",
    "Ns, PMF = signal_events_PMF(Non, Noff, a)\n",
    "s = np.linspace(0,50,1000)\n",
    "s,PDF = signal_PDF(s, Non, Noff, a)\n",
    "ax.scatter(Ns, PMF,color=\"red\", label=r\"$ N_{on} = 80 \\;, \\; N_{off} = 140  $\")\n",
    "ax.plot(s,PDF,color=\"red\")\n",
    "\n",
    "Non = 80\n",
    "Noff = 80\n",
    "a = 0.5\n",
    "Ns,PMF = signal_events_PMF(Non, Noff, a)\n",
    "s = np.linspace(0,80,1000)\n",
    "s,PDF = signal_PDF(s, Non, Noff, a)\n",
    "ax.scatter(Ns, PMF,color=\"blue\",label=r\"$N_{on} = 80 \\;, \\; N_{off} = 120$\")\n",
    "ax.plot(s,PDF,color=\"blue\")\n",
    "\n",
    "Non = 80\n",
    "Noff = 20\n",
    "a = 0.5\n",
    "Ns,PMF = signal_events_PMF(Non, Noff, a)\n",
    "s = np.linspace(0,100,1000)\n",
    "s,PDF = signal_PDF(s, Non, Noff, a)\n",
    "ax.scatter(Ns, PMF,color=\"black\",label=r\"$N_{on} = 80 \\;, \\; N_{off} = 10$\")\n",
    "ax.plot(s,PDF,color=\"black\")\n",
    "ax.set_xlabel(\" signal \")\n",
    "ax.set_ylabel(\" Probabilty distribution/mass function \")\n",
    "ax.legend()\n"
   ]
  },
  {
   "cell_type": "markdown",
   "id": "36e885f4-491b-4d39-a99c-c1d997ca6328",
   "metadata": {},
   "source": [
    "Excerices:\n",
    "- Using the above 3 examples (in black, blue and red) compute the best estimate of the signal rate, the 68% credible interval and the 95% upper limit"
   ]
  }
 ],
 "metadata": {
  "kernelspec": {
   "display_name": "Python 3 (ipykernel)",
   "language": "python",
   "name": "python3"
  },
  "language_info": {
   "codemirror_mode": {
    "name": "ipython",
    "version": 3
   },
   "file_extension": ".py",
   "mimetype": "text/x-python",
   "name": "python",
   "nbconvert_exporter": "python",
   "pygments_lexer": "ipython3",
   "version": "3.9.0"
  }
 },
 "nbformat": 4,
 "nbformat_minor": 5
}
