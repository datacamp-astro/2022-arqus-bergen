{
 "cells": [
  {
   "cell_type": "markdown",
   "metadata": {},
   "source": [
    "# Hands On Telescope Data Handling with Astropy"
   ]
  },
  {
   "cell_type": "markdown",
   "metadata": {},
   "source": [
    "This notebook introduces how to deal with DL3 data from current IACTs and other HE or VHE instruments. The Data Level 3 (DL3) format is described [here](https://arxiv.org/abs/2101.06018)\n",
    "\n",
    "Please refer to [this notebook](https://github.com/arqus-gamma/arqus_school_2022/blob/main/hands_on/1_read_data/Read_data_with_astropy_hands_on.ipynb) for preliminary introduction"
   ]
  },
  {
   "cell_type": "markdown",
   "metadata": {},
   "source": [
    "## Table of contents\n",
    "- [Initial Setup](#Initial-Setup)\n",
    "- [Select Data Sample](#Select-Data-Sample)\n",
    "- [Looking inside the files](#Looking-inside-the-files)\n",
    "   - [PRIMARY HDU](#PRIMARY-HDU)\n",
    "   - [EVENT HDU](#EVENT-HDU)\n",
    "     - [Sky Distribution](#Sky-Distribution)\n",
    "     - [Energy Distribution](#Event-Energy-Distribution)\n",
    "   - [Effective Area HDU](#Effective-Area)\n",
    "   - [Gammaness HDU](#Gammaness)\n",
    "- [Definition of the Signal Search Region](#Definition-of-the-signal-search-region)\n",
    "- [Theta2 Plot](#Theta2-Plot)\n",
    "- [Final Considerations](#Final-Considerations)"
   ]
  },
  {
   "cell_type": "markdown",
   "metadata": {},
   "source": [
    "## Initial Setup\n",
    "[back to top](#Table-of-contents)\n",
    "\n",
    "As usual, we start by installing some standards packages. We try to be minimal and install only those stricly required.\n",
    "Check package versions. All examples should work with Astropy > 2.0 and Numpy > 1.11"
   ]
  },
  {
   "cell_type": "code",
   "execution_count": null,
   "metadata": {},
   "outputs": [],
   "source": [
    "%matplotlib inline  \n",
    "import matplotlib.pyplot as plt"
   ]
  },
  {
   "cell_type": "code",
   "execution_count": null,
   "metadata": {},
   "outputs": [],
   "source": [
    "import numpy as np\n",
    "\n",
    "import astropy\n",
    "from astropy import units as u\n",
    "from astropy import constants as const\n",
    "from astropy.coordinates import SkyCoord\n",
    "from astropy.coordinates import Angle\n",
    "from astropy.time import Time\n",
    "from astropy.table import Table\n",
    "from astropy.io import fits\n",
    "from astropy.visualization.wcsaxes import SphericalCircle\n",
    "from astropy.wcs import WCS\n",
    "\n",
    "\n",
    "print('numpy:', np.__version__)\n",
    "print('astropy:', astropy.__version__)"
   ]
  },
  {
   "cell_type": "markdown",
   "metadata": {},
   "source": [
    "## Select Data Sample\n",
    "[back to top](#Table-of-contents)\n",
    "\n",
    "In this part we start selecting the data of interest for the further analysis.\n",
    "\n",
    "Let's first check what's in the data folder. The mark `!` specifies a terminal line command"
   ]
  },
  {
   "cell_type": "code",
   "execution_count": null,
   "metadata": {},
   "outputs": [],
   "source": [
    "!ls ../../data/"
   ]
  },
  {
   "cell_type": "markdown",
   "metadata": {},
   "source": [
    "We see that we have 4 targets, as well the complete list of files. Let's open one target, the 'crab nebula'. This dataset comes from a joint publication about that source with a small subsample of data from different experiments. Normally data are private this is the reason for the 'small dataset' for that source.\n"
   ]
  },
  {
   "cell_type": "code",
   "execution_count": null,
   "metadata": {},
   "outputs": [],
   "source": [
    "!ls ../../data/"
   ]
  },
  {
   "cell_type": "markdown",
   "metadata": {},
   "source": [
    "There are several sources! First thing you can do is going to the TeVCAT and learn something about them. Here we have a look the data, let's check them one by one."
   ]
  },
  {
   "cell_type": "code",
   "execution_count": null,
   "metadata": {},
   "outputs": [],
   "source": [
    "#!ls ../../data/crab_nebula/\n",
    "#!ls ../../data/pks2155/"
   ]
  },
  {
   "cell_type": "markdown",
   "metadata": {},
   "source": [
    "We see that different targets were observed by different telescopes. Great! Let's know pick one."
   ]
  },
  {
   "cell_type": "code",
   "execution_count": null,
   "metadata": {},
   "outputs": [],
   "source": [
    "#!ls ../../data/crab_nebula/magic\n",
    "#!ls ../../data/pks2155/hess/\n",
    "#!ls ../../data/ic310/magic\n",
    "!ls ../../data/ngc1275/magic"
   ]
  },
  {
   "cell_type": "markdown",
   "metadata": {},
   "source": [
    "## Looking inside the files\n",
    "[back to top](#Table-of-contents)\n",
    "\n",
    "\n",
    "So we have several runs. Let's open one of them. "
   ]
  },
  {
   "cell_type": "code",
   "execution_count": null,
   "metadata": {},
   "outputs": [],
   "source": [
    "#fits_file = fits.open('../../data/crab_nebula/magic/run_05029747_DL3.fits')\n",
    "\n",
    "fits_file = fits.open('../../data/ngc1275/magic/20170101_05059487_DL3_NGC1275-W0.40+157.fits')\n",
    "\n",
    "#fits_file = fits.open('../../data/pks2155/hess/hess_dl3_dr1_obs_id_033787.fits.gz')\n",
    "\n",
    "#fits_file = fits.open('../../data/ic310/magic/20121113_05020910_DL3_NGC1275-W0.40+238.fits')"
   ]
  },
  {
   "cell_type": "code",
   "execution_count": null,
   "metadata": {},
   "outputs": [],
   "source": [
    "#m astropy.table import Table, hstack\n",
    "\n",
    "#t1 = Table.read('../../data/ngc1275/magic/20170101_05059487_DL3_NGC1275-W0.40+157.fits', format='fits')\n",
    "#t2 = Table.read('../../data/ngc1275/magic/20170101_05059498_DL3_NGC1275-W0.40+157.fits', format='fits')\n",
    "#new = hstack([t1, t2])\n",
    "#new.write('combined.fits')"
   ]
  },
  {
   "cell_type": "markdown",
   "metadata": {},
   "source": [
    "To see what's inside we have a look at the Data Units. Let's check the header data unit (HDU) by calling `.info()`:"
   ]
  },
  {
   "cell_type": "code",
   "execution_count": null,
   "metadata": {},
   "outputs": [],
   "source": [
    "fits_file.info()"
   ]
  },
  {
   "cell_type": "markdown",
   "metadata": {},
   "source": [
    "We see that we have:\n",
    "* PRIMARY which contains file-related information\n",
    "* EVENTS contains the actual event list of our interest\n",
    "* GTI contains some timing information\n",
    "* EFFECTIVE AREA is an important experiment information  \n",
    "* ENERGY DISPERSION is a second important experimental information"
   ]
  },
  {
   "cell_type": "markdown",
   "metadata": {},
   "source": [
    "### PRIMARY HDU\n",
    "[back to top](#Table-of-contents)\n",
    "\n",
    "We import the PRIMARY and check what is inside. The PRIMARY contains only a short header and no data"
   ]
  },
  {
   "cell_type": "code",
   "execution_count": null,
   "metadata": {},
   "outputs": [],
   "source": [
    "primary = fits_file['PRIMARY'] \n",
    "primary.header\n",
    "#primary.data"
   ]
  },
  {
   "cell_type": "markdown",
   "metadata": {},
   "source": [
    "### EVENT HDU\n",
    "[back to top](#Table-of-contents)\n",
    "\n",
    "Let's look at the EVENT HDU. Here are the events information. First with the header"
   ]
  },
  {
   "cell_type": "code",
   "execution_count": null,
   "metadata": {},
   "outputs": [],
   "source": [
    "events = fits_file['EVENTS'] \n",
    "events.header"
   ]
  },
  {
   "cell_type": "markdown",
   "metadata": {},
   "source": [
    "Here are a bunch of interesting 'observational' parameter. Let's save some useful parameters"
   ]
  },
  {
   "cell_type": "markdown",
   "metadata": {},
   "source": [
    "Of all the entries, some are worth discussing\n",
    "\n",
    "```\n",
    "OBS_ID  =              5059487 / unique observation identifier                  \n",
    "TSTART  =         4.361391E+08 / [s] observation start time                     \n",
    "TSTOP   =         4.361403E+08 / [s] observation end time                       \n",
    "ONTIME  =                1193. / [s] total good time (sum of GTIs)              \n",
    "LIVETIME=             1178.607 / [s] total effective time                       \n",
    "OBS_MODE= 'POINTING'           / observation mode                               \n",
    "RA_OBJ  =                49.95 / [deg] source RA                                \n",
    "DEC_OBJ =             41.51167 / [deg] source DEC                               \n",
    "OBS_MODE= 'Wobble  '           / observation mode                               \n",
    "RA_PNT  =             49.45417 / [deg] observation pointing RA                  \n",
    "DEC_PNT =             41.66806 / [deg] observation pointing DEC                 \n",
    "ALT_PNT =             76.89065 / [deg] average altitude pointing                \n",
    "AZ_PNT  =            -6.315182 / [deg] average azimuth pointing\n",
    "```"
   ]
  },
  {
   "cell_type": "markdown",
   "metadata": {},
   "source": [
    "Let's save some parameters for my analysis"
   ]
  },
  {
   "cell_type": "code",
   "execution_count": null,
   "metadata": {},
   "outputs": [],
   "source": [
    "ra_obj  = events.header['RA_OBJ']\n",
    "dec_obj = events.header['DEC_OBJ']\n",
    "ra_pnt  = events.header['RA_PNT']\n",
    "dec_pnt = events.header['DEC_PNT']  "
   ]
  },
  {
   "cell_type": "markdown",
   "metadata": {},
   "source": [
    "Being sky positions, it is more convenient to convert them in"
   ]
  },
  {
   "cell_type": "code",
   "execution_count": null,
   "metadata": {},
   "outputs": [],
   "source": [
    "pointing_pos =  SkyCoord( events.header.get('RA_PNT') *u.deg,   events.header.get('DEC_PNT') *u.deg )\n",
    "source_pos   =  SkyCoord.from_name(events.header.get('OBJECT'))\n",
    "\n",
    "pointing_pos\n",
    "source_pos"
   ]
  },
  {
   "cell_type": "markdown",
   "metadata": {},
   "source": [
    "Is there a difference between them? Let's check the different of the two. We can use the astropy `separation` method"
   ]
  },
  {
   "cell_type": "code",
   "execution_count": null,
   "metadata": {},
   "outputs": [],
   "source": [
    "offset = source_pos.separation(pointing_pos)\n",
    "offset.to( u.deg).value"
   ]
  },
  {
   "cell_type": "markdown",
   "metadata": {},
   "source": [
    "There is a difference of 0.4 deg between the true source position and the pointing position. Why? Because IACTs points the targets slightly off according to the Wobble solution, for a more accurate background estimation...see later!"
   ]
  },
  {
   "cell_type": "markdown",
   "metadata": {},
   "source": [
    "Besides the header, let's see what are the DATA of the EVENT HDU:\n"
   ]
  },
  {
   "cell_type": "code",
   "execution_count": null,
   "metadata": {},
   "outputs": [],
   "source": [
    "events.data\n",
    "events.columns.names\n",
    "\n",
    "# Better uncomment the line below and use the astropy Table class\n",
    "Table(events.data)"
   ]
  },
  {
   "cell_type": "markdown",
   "metadata": {},
   "source": [
    "We can check the whole number of events with the command"
   ]
  },
  {
   "cell_type": "code",
   "execution_count": null,
   "metadata": {},
   "outputs": [],
   "source": [
    "len(events.data)"
   ]
  },
  {
   "cell_type": "markdown",
   "metadata": {},
   "source": [
    "Let's see some events. Again for practicity I define some variables for later use."
   ]
  },
  {
   "cell_type": "markdown",
   "metadata": {},
   "source": [
    "## Sky Distribution\n",
    "[back to top](#Table-of-contents)\n",
    "\n",
    "We know see how events directions appear in a map"
   ]
  },
  {
   "cell_type": "code",
   "execution_count": null,
   "metadata": {},
   "outputs": [],
   "source": [
    "en  = events.data['ENERGY']\n",
    "t   = events.data['TIME']\n",
    "ra  = events.data['RA']\n",
    "dec = events.data['DEC']\n",
    "g   = events.data['GAMMANESS']\n",
    "#dx  = events.data['DETX']\n",
    "#dy  = events.data['DETY']"
   ]
  },
  {
   "cell_type": "code",
   "execution_count": null,
   "metadata": {},
   "outputs": [],
   "source": [
    "# Direction of the events\n",
    "fig, ax =  plt.subplots(figsize=(7,7))\n",
    "#ax = plt.subplot(projection=wcs)\n",
    "\n",
    "ax.scatter(ra,dec, s=0.2, alpha=0.5, label=\"All Events\")\n",
    "#ax.scatter(ra_obj,dec_obj, marker=\"*\", label=\"Object Sky coordinate\")\n",
    "#ax.scatter(ra_pnt,dec_pnt, marker=\"x\", color = 'black', label=\"Observed coordinate\")\n",
    "\n",
    "\n",
    "fov = SphericalCircle( (pointing_pos.ra, pointing_pos.dec),\n",
    "                    3.5 * u.deg,   edgecolor='black', facecolor='none', label=\"FOV\")\n",
    "#ax.add_patch(fov)\n",
    "\n",
    "\n",
    "plt.ylabel('Dec [deg]')\n",
    "plt.xlabel('RA [deg]')\n",
    "plt.title('Sky Event Distribution')\n",
    "ax.legend(loc=\"best\")"
   ]
  },
  {
   "cell_type": "markdown",
   "metadata": {},
   "source": [
    "## Event Energy Distribution\n",
    "[Go back to TOC](#Table-of-contents)\n",
    "\n",
    "Let's look at how the energy of the data is distributed"
   ]
  },
  {
   "cell_type": "code",
   "execution_count": null,
   "metadata": {},
   "outputs": [],
   "source": [
    "# The binning should be defined first\n",
    "binning = np.logspace(-2,1,20)\n",
    "\n",
    "plt.hist(en,bins=binning,alpha=0.6,log=True)\n",
    "plt.xscale('log')\n",
    "\n",
    "plt.xlabel('Energy [TeV]')\n",
    "plt.ylabel('Counts')\n",
    "plt.title('Energy distribution')"
   ]
  },
  {
   "cell_type": "markdown",
   "metadata": {},
   "source": [
    "What we see is that we have a peak at about 0.1 TeV, a sudden increase below and a regular decrease above that value? Does this make sense? Does the target source have a peak at 0.1 TeV? \n",
    "\n",
    "To understand this we need to look at the effective area of the telescope."
   ]
  },
  {
   "cell_type": "markdown",
   "metadata": {},
   "source": [
    "## Effective Area\n",
    "[Go back to TOC](#Table-of-contents)\n",
    "\n",
    "The effective area is the geometrical area of an instrument multiplied with the instrument efficiency. For example, take a tennis racket. The geometrical area is the area of the net, but not the whole are of the net is efficient. In the outer rim the ball would be launched uncorrectly. For a telescope like MAGIC:\n",
    "* the geometrical area is the area illuminated in the ground by the Cherenkov ligth\n",
    "* the efficiency is the ratio between all events and those that are actually recorded in the instrument\n",
    "The effective area is normally obtained with Monte Carlo simulations and not from the data."
   ]
  },
  {
   "cell_type": "code",
   "execution_count": null,
   "metadata": {},
   "outputs": [],
   "source": [
    "effarea = fits_file['EFFECTIVE AREA'] \n",
    "#effarea.header\n",
    "#Table(effarea.data)\n",
    "\n",
    "#effarea.data['ENERG_LO'][0]\n",
    "#effarea.data['EFFAREA'][0][0]"
   ]
  },
  {
   "cell_type": "markdown",
   "metadata": {},
   "source": [
    "This look in a strange format, but the reason is because the effective area may depend on the distance from the center of the camera. Here only one effective area is simulated. Let's see how it looks like"
   ]
  },
  {
   "cell_type": "code",
   "execution_count": null,
   "metadata": {},
   "outputs": [],
   "source": [
    "plt.loglog(effarea.data['ENERG_LO'][0],effarea.data['EFFAREA'][0][0])\n",
    "plt.xlabel('Energy [TeV]')\n",
    "plt.ylabel(r'Area [m$^2$]')\n",
    "plt.grid()\n"
   ]
  },
  {
   "cell_type": "markdown",
   "metadata": {},
   "source": [
    "One sees here that the instrument effective area is almost constant from 1 to 10 TeV. Above 10-20 TeV the effective area goes suddenly to zero, while below 0.1 TeV it decreases more slowly. Whis is that?"
   ]
  },
  {
   "cell_type": "markdown",
   "metadata": {},
   "source": [
    "## Gammaness\n",
    "[Go back to TOC](#Table-of-contents)\n",
    "\n",
    "Finally, let's discuss the GAMMANESS parameter (for some files only)."
   ]
  },
  {
   "cell_type": "code",
   "execution_count": null,
   "metadata": {},
   "outputs": [],
   "source": [
    "binning = np.linspace(0,1,50)\n",
    "plt.hist(g,bins=binning,alpha=0.8)\n",
    "\n",
    "plt.title('Gammaness distribution')\n",
    "plt.xlabel('Gammaness')\n",
    "plt.ylabel('Counts')"
   ]
  },
  {
   "cell_type": "markdown",
   "metadata": {},
   "source": [
    "These are all events from all directions in the sky. We will learn that MOST of them are background event, while only some of them are signal events. How do we extract the good ones from the full datasample?"
   ]
  },
  {
   "cell_type": "markdown",
   "metadata": {},
   "source": [
    "## Definition of the signal-search region\n",
    "[Go back to TOC](#Table-of-contents)\n",
    "\n",
    "Let's start by defining a region in which we expect the signal to be from a region where we expect to find only background. This a standard procedure called\n",
    "* signal region definition\n",
    "* background control region definition\n",
    "\n",
    "The signal come from a specific direction in the sky. If the instrument had an infinite angular resolution (also one should assume no shower fluctuations), in principle all events should come from A SINGLE POINT. However, they come from a region. This region is often defined as a circle around the true target position. Circles are better identified with astropy tools."
   ]
  },
  {
   "cell_type": "code",
   "execution_count": null,
   "metadata": {},
   "outputs": [],
   "source": [
    "source_angle = pointing_pos.position_angle(source_pos).to(u.degree)\n",
    "print(source_angle*u.deg)\n",
    "\n",
    "radius = offset/np.sqrt(2)\n",
    "radius /=2\n",
    "print(radius*u.deg)\n",
    "\n",
    "# Definition of the SIGNAL region\n",
    "on  = SphericalCircle( (source_pos.ra, source_pos.dec),\n",
    "                    radius,   edgecolor='red', facecolor='none', label=\"ON REGION\")\n"
   ]
  },
  {
   "cell_type": "code",
   "execution_count": null,
   "metadata": {},
   "outputs": [],
   "source": [
    "# needed for\n",
    "wcs = WCS(events.header)"
   ]
  },
  {
   "cell_type": "code",
   "execution_count": null,
   "metadata": {},
   "outputs": [],
   "source": [
    "fig, ax =  plt.subplots(figsize=(5,5))\n",
    "ax = plt.subplot(projection=wcs)\n",
    "\n",
    "\n",
    "ax.scatter(pointing_pos.ra.value, pointing_pos.dec.value, marker='x', s=100, c='black', label ='Pointing'  ) \n",
    "ax.scatter(source_pos.ra.value, source_pos.dec.value, marker='*', s=100, c='red', label ='Source'  ) \n",
    "ax.scatter(ra,dec, s=0.2, alpha=0.5, label=\"All Events\")\n",
    "\n",
    "#ax.add_patch(fov)\n",
    "ax.add_patch(on)\n",
    "\n",
    "ax.legend(loc= \"best\");"
   ]
  },
  {
   "cell_type": "markdown",
   "metadata": {},
   "source": [
    "Let's now create the condition to select events in the ON region"
   ]
  },
  {
   "cell_type": "code",
   "execution_count": null,
   "metadata": {},
   "outputs": [],
   "source": [
    "ra = events.data['RA'] \n",
    "dec = events.data['DEC']\n",
    "\n",
    "cond_on = []\n",
    "for i_ra,i_dec in zip(ra,dec):\n",
    "    position_event = SkyCoord(  i_ra * u.deg, i_dec * u.deg, frame='icrs')\n",
    "\n",
    "    cond_on.append( source_pos.separation(position_event) < radius )"
   ]
  },
  {
   "cell_type": "markdown",
   "metadata": {},
   "source": [
    "Let's now apply the condition"
   ]
  },
  {
   "cell_type": "code",
   "execution_count": null,
   "metadata": {},
   "outputs": [],
   "source": [
    "# Selection\n",
    "evt_on = events.data[cond_on]\n",
    "#evt = events.data[cond_on * (events.data['ENERGY'] > 0.1) * (events.data['ENERGY'] < 10)]\n",
    "print(f\"Events before cut: \" + str(len(events.data)))\n",
    "print(f\"Events after sel: \" + str(len(evt_on))+\" (\" + str(int(len(evt_on)/len(events.data)*100))+\"%)\")\n",
    "\n"
   ]
  },
  {
   "cell_type": "markdown",
   "metadata": {},
   "source": [
    "Of these events, let's see what is their GAMMANESS"
   ]
  },
  {
   "cell_type": "code",
   "execution_count": null,
   "metadata": {},
   "outputs": [],
   "source": [
    "gsel = evt_on['GAMMANESS']\n",
    "binning = np.linspace(0,1,50)\n",
    "plt.hist(g,bins=binning,alpha=0.8, label=\"All events in the ON region\")\n",
    "plt.hist(gsel,bins=binning,alpha=0.9, label=\"ON candidates in the ON region\")\n",
    "plt.legend(loc='best')"
   ]
  },
  {
   "cell_type": "markdown",
   "metadata": {},
   "source": [
    "What can we see?"
   ]
  },
  {
   "cell_type": "markdown",
   "metadata": {},
   "source": [
    "Now, let's add a second cut based on GAMMANESS"
   ]
  },
  {
   "cell_type": "code",
   "execution_count": null,
   "metadata": {},
   "outputs": [],
   "source": [
    "evt_on_sig = events.data[cond_on * (events.data['GAMMANESS'] > 0.7)]\n",
    "evt_on_bkg = events.data[cond_on * (events.data['GAMMANESS'] < 0.7)]\n",
    "\n",
    "print(f\"Events before cut: \" + str(len(events.data)))\n",
    "print(f\"Events candidates for sig: \" + str(len(evt_on_sig)))\n",
    "print(f\"Events candidates for bkg: \" + str(len(evt_on_bkg)))"
   ]
  },
  {
   "cell_type": "markdown",
   "metadata": {},
   "source": [
    "## Theta2 Plot\n",
    "[Go back to TOC](#Table-of-contents)\n"
   ]
  },
  {
   "cell_type": "markdown",
   "metadata": {},
   "source": [
    "Let's define an interesting variable, the square of the angular separation between the source position and the event position"
   ]
  },
  {
   "cell_type": "code",
   "execution_count": null,
   "metadata": {},
   "outputs": [],
   "source": [
    "ra = evt_on_sig['RA'] \n",
    "dec = evt_on_sig['DEC']\n",
    "\n",
    "th2_on = []\n",
    "for i_ra,i_dec in zip(ra,dec):\n",
    "    position_event = SkyCoord(  i_ra * u.deg, i_dec * u.deg, frame='icrs')\n",
    "    th2_on.append( source_pos.separation(position_event)*source_pos.separation(position_event))\n",
    "\n",
    "ra = evt_bkg['RA'] \n",
    "dec = evt_bkg['DEC']\n",
    "\n",
    "th2_off = []\n",
    "for i_ra,i_dec in zip(ra,dec):\n",
    "    position_event = SkyCoord(  i_ra * u.deg, i_dec * u.deg, frame='icrs')\n",
    "    th2_off.append( source_pos.separation(position_event)*source_pos.separation(position_event))\n",
    "    \n",
    "#th2_on"
   ]
  },
  {
   "cell_type": "code",
   "execution_count": null,
   "metadata": {},
   "outputs": [],
   "source": [
    "binning = np.linspace(0,0.02,30)\n",
    "plt.hist(th2_on,bins=binning,alpha=0.5,label='Candidate ON events')\n",
    "plt.hist(th2_off,bins=binning,alpha=0.5,label='Candidate OFF events')\n",
    "plt.title(r'Angular separation plot ($\\theta^2$ plot)')\n",
    "plt.legend(loc='best')"
   ]
  },
  {
   "cell_type": "code",
   "execution_count": null,
   "metadata": {},
   "outputs": [],
   "source": [
    "# Try with selected higher energy events?"
   ]
  },
  {
   "cell_type": "code",
   "execution_count": null,
   "metadata": {},
   "outputs": [],
   "source": [
    "binning = np.logspace(-2,1,20)\n",
    "plt.hist(en,bins=binning,alpha=0.6,log=True)\n",
    "plt.hist(evt_on_sig['ENERGY'],bins=binning,alpha=0.6,log=True)\n",
    "plt.xlabel('Energy [TeV]')\n",
    "plt.ylabel('Counts')\n",
    "plt.title('Energy distribution')\n",
    "plt.xscale('log')"
   ]
  },
  {
   "cell_type": "code",
   "execution_count": null,
   "metadata": {},
   "outputs": [],
   "source": [
    "# From counts --> nimber of excesss --> flux"
   ]
  },
  {
   "cell_type": "markdown",
   "metadata": {},
   "source": [
    "## Final Considerations\n",
    "[Go back to TOC](#Table-of-contents)\n",
    "\n",
    "* We have opened just one file\n",
    "* We are working with event counts of expected signal and background events. We need to define the EXPECTED EXCESS EVENTS\n",
    "* From the EXCESS EVENTS we need to estimate a more proper value, the EXPECTED FLUX"
   ]
  },
  {
   "cell_type": "code",
   "execution_count": null,
   "metadata": {},
   "outputs": [],
   "source": []
  }
 ],
 "metadata": {
  "kernelspec": {
   "display_name": "Python 3 (ipykernel)",
   "language": "python",
   "name": "python3"
  },
  "language_info": {
   "codemirror_mode": {
    "name": "ipython",
    "version": 3
   },
   "file_extension": ".py",
   "mimetype": "text/x-python",
   "name": "python",
   "nbconvert_exporter": "python",
   "pygments_lexer": "ipython3",
   "version": "3.9.0"
  }
 },
 "nbformat": 4,
 "nbformat_minor": 4
}
