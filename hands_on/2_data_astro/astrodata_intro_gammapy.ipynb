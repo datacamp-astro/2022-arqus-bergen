{
 "cells": [
  {
   "cell_type": "markdown",
   "metadata": {},
   "source": [
    "# Hands On Instrument Data Selection and Binning"
   ]
  },
  {
   "cell_type": "markdown",
   "metadata": {},
   "source": [
    "This notebook teaches how to deal with DL3 data from current IACTs and other HE or VHE instruments. The Data Level 3 (DL3) format is described here \n",
    "\n",
    "Please refer to [this notebook](https://github.com/arqus-gamma/arqus_school_2022/blob/main/hands_on/1_read_data/Read_data_with_astropy_hands_on.ipynb) for preliminary introduction"
   ]
  },
  {
   "cell_type": "markdown",
   "metadata": {},
   "source": [
    "The Cherenkov Telescope Array (CTA) is the next generation ground-based observatory for gamma-ray astronomy. Gammapy is the core library for the Cherenkov Telescope Array (CTA) science tools (2017ICRC…35..766D and CTAO Press Release)."
   ]
  },
  {
   "cell_type": "markdown",
   "metadata": {},
   "source": [
    "Tutorial overview\n",
    "This notebook shows how to access CTA data and instrument response functions (IRFs) using Gammapy, and gives some examples how to quick look the content of CTA files, especially to see the shape of CTA IRFs.\n",
    "\n",
    "At the end of the notebooks, we give several links to other tutorial notebooks that show how to simulate CTA data and how to evaluate CTA observability and sensitivity, or how to analyse CTA data.\n",
    "\n",
    "Note that the FITS data and IRF format currently used by CTA is the one documented at https://gamma-astro-data-formats.readthedocs.io/, and is also used by H.E.S.S. and other imaging atmospheric Cherenkov telescopes (IACTs). So if you see other Gammapy tutorials using e.g. H.E.S.S. example data, know that they also apply to CTA, all you have to do is to change the loaded data or IRFs to CTA.\n",
    "\n"
   ]
  },
  {
   "cell_type": "markdown",
   "metadata": {},
   "source": [
    "## Initial Setup\n",
    "\n",
    "As usual, we start by installing some standards packages. We try to be minimal and install only those stricly required.\n",
    "Check package versions. All examples should work with Astropy > 2.0 and Numpy > 1.11"
   ]
  },
  {
   "cell_type": "code",
   "execution_count": 1,
   "metadata": {},
   "outputs": [],
   "source": [
    "%matplotlib inline  \n",
    "import matplotlib.pyplot as plt\n",
    "\n",
    "import glob as glob # required for file handling"
   ]
  },
  {
   "cell_type": "code",
   "execution_count": 2,
   "metadata": {},
   "outputs": [
    {
     "name": "stdout",
     "output_type": "stream",
     "text": [
      "numpy: 1.23.2\n",
      "astropy: 5.1\n"
     ]
    }
   ],
   "source": [
    "import numpy as np\n",
    "\n",
    "import astropy\n",
    "from astropy import units as u\n",
    "from astropy import constants as const\n",
    "from astropy.coordinates import SkyCoord\n",
    "from astropy.coordinates import Angle\n",
    "from astropy.time import Time\n",
    "from astropy.table import Table\n",
    "from astropy.io import fits\n",
    "from astropy.visualization.wcsaxes import SphericalCircle\n",
    "from astropy.wcs import WCS\n",
    "\n",
    "print('numpy:', np.__version__)\n",
    "print('astropy:', astropy.__version__)"
   ]
  },
  {
   "cell_type": "code",
   "execution_count": 3,
   "metadata": {},
   "outputs": [
    {
     "name": "stdout",
     "output_type": "stream",
     "text": [
      "regions: 0.6\n"
     ]
    }
   ],
   "source": [
    "import regions\n",
    "from regions import CircleSkyRegion, PointSkyRegion\n",
    "\n",
    "print('regions:', regions.__version__)"
   ]
  },
  {
   "cell_type": "markdown",
   "metadata": {},
   "source": [
    "Now we import some relevant gammapy classes and modules"
   ]
  },
  {
   "cell_type": "code",
   "execution_count": 4,
   "metadata": {},
   "outputs": [
    {
     "name": "stdout",
     "output_type": "stream",
     "text": [
      "gammapy: 0.20\n"
     ]
    }
   ],
   "source": [
    "import gammapy\n",
    "\n",
    "# gammapy classes\n",
    "from gammapy.data import Observation, Observations, DataStore, EventList\n",
    "from gammapy.makers import SafeMaskMaker, MapDatasetMaker, SpectrumDatasetMaker, ReflectedRegionsBackgroundMaker, WobbleRegionsFinder\n",
    "\n",
    "import gammapy.irf as irf\n",
    "from gammapy.irf import EffectiveAreaTable2D, load_cta_irfs\n",
    "\n",
    "from gammapy.maps import MapAxis, WcsGeom, Map, RegionGeom\n",
    "\n",
    "\n",
    "\n",
    "# dataset modules\n",
    "from gammapy.datasets import (\n",
    "    MapDataset, \n",
    "    MapDatasetOnOff, \n",
    "    MapDatasetEventSampler,\n",
    "    SpectrumDatasetOnOff,\n",
    "    SpectrumDataset, \n",
    "    Datasets,\n",
    "    FluxPointsDataset\n",
    ")\n",
    "\n",
    "print(\"gammapy:\", gammapy.__version__)"
   ]
  },
  {
   "cell_type": "markdown",
   "metadata": {},
   "source": [
    "We now go back again to importing data. This time, there will be general methods for importing multiple files. There is an issue on the data of back-compatibility with the software (Crab data are older). We will have to make some manual adjustments sometimes"
   ]
  },
  {
   "cell_type": "markdown",
   "metadata": {},
   "source": [
    "## 1. Data Sample\n"
   ]
  },
  {
   "cell_type": "code",
   "execution_count": 5,
   "metadata": {},
   "outputs": [
    {
     "name": "stdout",
     "output_type": "stream",
     "text": [
      "README.md          \u001b[1m\u001b[36mcrab_nebula\u001b[m\u001b[m        \u001b[1m\u001b[36mic310\u001b[m\u001b[m              \u001b[1m\u001b[36mngc1275\u001b[m\u001b[m\r\n",
      "arqus_filelist.txt \u001b[31mdownload_data.sh\u001b[m\u001b[m   \u001b[1m\u001b[36mmrk421\u001b[m\u001b[m             \u001b[1m\u001b[36mpks2155\u001b[m\u001b[m\r\n"
     ]
    }
   ],
   "source": [
    "!ls ../../data/"
   ]
  },
  {
   "cell_type": "code",
   "execution_count": 6,
   "metadata": {},
   "outputs": [
    {
     "name": "stdout",
     "output_type": "stream",
     "text": [
      "20170101_05059487_DL3_NGC1275-W0.40+157.fits\r\n",
      "20170101_05059488_DL3_NGC1275-W0.40+337.fits\r\n",
      "20170101_05059489_DL3_NGC1275-W0.40+058.fits\r\n",
      "20170101_05059490_DL3_NGC1275-W0.40+238.fits\r\n",
      "20170101_05059497_DL3_NGC1275-W0.40+238.fits\r\n",
      "20170101_05059498_DL3_NGC1275-W0.40+157.fits\r\n",
      "20170101_05059499_DL3_NGC1275-W0.40+337.fits\r\n",
      "20170101_05059500_DL3_NGC1275-W0.40+337.fits\r\n",
      "hdu-index.fits.gz\r\n",
      "obs-index.fits.gz\r\n"
     ]
    }
   ],
   "source": [
    "#!ls ../../data/crab_nebula/magic\n",
    "#!ls ../../data/pks2155/hess/\n",
    "#!ls ../../data/ic310/magic\n",
    "!ls ../../data/ngc1275/magic"
   ]
  },
  {
   "cell_type": "code",
   "execution_count": 7,
   "metadata": {},
   "outputs": [],
   "source": [
    "observations = Observations()\n",
    "for filename in glob.glob(f\"../../data/ngc1275/magic/*fits\"):\n",
    "    observations.append(Observation.read(filename))"
   ]
  },
  {
   "cell_type": "markdown",
   "metadata": {},
   "source": [
    "We can check the observations 'ids'"
   ]
  },
  {
   "cell_type": "code",
   "execution_count": 8,
   "metadata": {},
   "outputs": [
    {
     "data": {
      "text/plain": [
       "['5059498',\n",
       " '5059489',\n",
       " '5059488',\n",
       " '5059499',\n",
       " '5059500',\n",
       " '5059497',\n",
       " '5059490',\n",
       " '5059487']"
      ]
     },
     "execution_count": 8,
     "metadata": {},
     "output_type": "execute_result"
    }
   ],
   "source": [
    "observations.ids"
   ]
  },
  {
   "cell_type": "code",
   "execution_count": null,
   "metadata": {},
   "outputs": [],
   "source": [
    "EventList.stack()"
   ]
  },
  {
   "cell_type": "code",
   "execution_count": 19,
   "metadata": {},
   "outputs": [
    {
     "name": "stderr",
     "output_type": "stream",
     "text": [
      "WARNING: MergeConflictWarning: Cannot merge meta key 'OBS_ID' types <class 'int'> and <class 'int'>, choosing OBS_ID=5059489 [astropy.utils.metadata]\n",
      "WARNING: MergeConflictWarning: Cannot merge meta key 'TSTART' types <class 'float'> and <class 'float'>, choosing TSTART=436141600.0 [astropy.utils.metadata]\n",
      "WARNING: MergeConflictWarning: Cannot merge meta key 'TSTOP' types <class 'float'> and <class 'float'>, choosing TSTOP=436142800.0 [astropy.utils.metadata]\n",
      "WARNING: MergeConflictWarning: Cannot merge meta key 'ONTIME' types <class 'float'> and <class 'float'>, choosing ONTIME=1186.0 [astropy.utils.metadata]\n",
      "WARNING: MergeConflictWarning: Cannot merge meta key 'LIVETIME' types <class 'float'> and <class 'float'>, choosing LIVETIME=1172.286 [astropy.utils.metadata]\n",
      "WARNING: MergeConflictWarning: Cannot merge meta key 'DEADC' types <class 'float'> and <class 'float'>, choosing DEADC=0.9884369 [astropy.utils.metadata]\n",
      "WARNING: MergeConflictWarning: Cannot merge meta key 'RA_PNT' types <class 'float'> and <class 'float'>, choosing RA_PNT=50.22917 [astropy.utils.metadata]\n",
      "WARNING: MergeConflictWarning: Cannot merge meta key 'DEC_PNT' types <class 'float'> and <class 'float'>, choosing DEC_PNT=41.85111 [astropy.utils.metadata]\n",
      "WARNING: MergeConflictWarning: Cannot merge meta key 'ALT_PNT' types <class 'float'> and <class 'float'>, choosing ALT_PNT=73.91575 [astropy.utils.metadata]\n",
      "WARNING: MergeConflictWarning: Cannot merge meta key 'AZ_PNT' types <class 'float'> and <class 'float'>, choosing AZ_PNT=-31.89155 [astropy.utils.metadata]\n",
      "WARNING: MergeConflictWarning: Cannot merge meta key 'OBS_ID' types <class 'int'> and <class 'int'>, choosing OBS_ID=5059488 [astropy.utils.metadata]\n",
      "WARNING: MergeConflictWarning: Cannot merge meta key 'TSTART' types <class 'float'> and <class 'float'>, choosing TSTART=436140400.0 [astropy.utils.metadata]\n",
      "WARNING: MergeConflictWarning: Cannot merge meta key 'TSTOP' types <class 'float'> and <class 'float'>, choosing TSTOP=436141500.0 [astropy.utils.metadata]\n",
      "WARNING: MergeConflictWarning: Cannot merge meta key 'ONTIME' types <class 'float'> and <class 'float'>, choosing ONTIME=1190.0 [astropy.utils.metadata]\n",
      "WARNING: MergeConflictWarning: Cannot merge meta key 'LIVETIME' types <class 'float'> and <class 'float'>, choosing LIVETIME=1173.138 [astropy.utils.metadata]\n",
      "WARNING: MergeConflictWarning: Cannot merge meta key 'DEADC' types <class 'float'> and <class 'float'>, choosing DEADC=0.9858305 [astropy.utils.metadata]\n",
      "WARNING: MergeConflictWarning: Cannot merge meta key 'RA_PNT' types <class 'float'> and <class 'float'>, choosing RA_PNT=50.4375 [astropy.utils.metadata]\n",
      "WARNING: MergeConflictWarning: Cannot merge meta key 'DEC_PNT' types <class 'float'> and <class 'float'>, choosing DEC_PNT=41.35305 [astropy.utils.metadata]\n",
      "WARNING: MergeConflictWarning: Cannot merge meta key 'ALT_PNT' types <class 'float'> and <class 'float'>, choosing ALT_PNT=76.38058 [astropy.utils.metadata]\n",
      "WARNING: MergeConflictWarning: Cannot merge meta key 'AZ_PNT' types <class 'float'> and <class 'float'>, choosing AZ_PNT=-19.56814 [astropy.utils.metadata]\n",
      "WARNING: MergeConflictWarning: Cannot merge meta key 'OBS_ID' types <class 'int'> and <class 'int'>, choosing OBS_ID=5059499 [astropy.utils.metadata]\n",
      "WARNING: MergeConflictWarning: Cannot merge meta key 'TSTART' types <class 'float'> and <class 'float'>, choosing TSTART=436150800.0 [astropy.utils.metadata]\n",
      "WARNING: MergeConflictWarning: Cannot merge meta key 'TSTOP' types <class 'float'> and <class 'float'>, choosing TSTOP=436151300.0 [astropy.utils.metadata]\n",
      "WARNING: MergeConflictWarning: Cannot merge meta key 'ONTIME' types <class 'float'> and <class 'float'>, choosing ONTIME=468.0 [astropy.utils.metadata]\n",
      "WARNING: MergeConflictWarning: Cannot merge meta key 'LIVETIME' types <class 'float'> and <class 'float'>, choosing LIVETIME=458.8529 [astropy.utils.metadata]\n",
      "WARNING: MergeConflictWarning: Cannot merge meta key 'DEADC' types <class 'float'> and <class 'float'>, choosing DEADC=0.9804549 [astropy.utils.metadata]\n",
      "WARNING: MergeConflictWarning: Cannot merge meta key 'ALT_PNT' types <class 'float'> and <class 'float'>, choosing ALT_PNT=49.04952 [astropy.utils.metadata]\n",
      "WARNING: MergeConflictWarning: Cannot merge meta key 'AZ_PNT' types <class 'float'> and <class 'float'>, choosing AZ_PNT=-58.74704 [astropy.utils.metadata]\n",
      "WARNING: MergeConflictWarning: Cannot merge meta key 'OBS_ID' types <class 'int'> and <class 'int'>, choosing OBS_ID=5059500 [astropy.utils.metadata]\n",
      "WARNING: MergeConflictWarning: Cannot merge meta key 'TSTART' types <class 'float'> and <class 'float'>, choosing TSTART=436152600.0 [astropy.utils.metadata]\n",
      "WARNING: MergeConflictWarning: Cannot merge meta key 'TSTOP' types <class 'float'> and <class 'float'>, choosing TSTOP=436153800.0 [astropy.utils.metadata]\n",
      "WARNING: MergeConflictWarning: Cannot merge meta key 'ONTIME' types <class 'float'> and <class 'float'>, choosing ONTIME=1171.0 [astropy.utils.metadata]\n",
      "WARNING: MergeConflictWarning: Cannot merge meta key 'LIVETIME' types <class 'float'> and <class 'float'>, choosing LIVETIME=1144.368 [astropy.utils.metadata]\n",
      "WARNING: MergeConflictWarning: Cannot merge meta key 'DEADC' types <class 'float'> and <class 'float'>, choosing DEADC=0.9772568 [astropy.utils.metadata]\n",
      "WARNING: MergeConflictWarning: Cannot merge meta key 'ALT_PNT' types <class 'float'> and <class 'float'>, choosing ALT_PNT=42.34221 [astropy.utils.metadata]\n",
      "WARNING: MergeConflictWarning: Cannot merge meta key 'AZ_PNT' types <class 'float'> and <class 'float'>, choosing AZ_PNT=-58.60894 [astropy.utils.metadata]\n",
      "WARNING: MergeConflictWarning: Cannot merge meta key 'OBS_ID' types <class 'int'> and <class 'int'>, choosing OBS_ID=5059497 [astropy.utils.metadata]\n",
      "WARNING: MergeConflictWarning: Cannot merge meta key 'TSTART' types <class 'float'> and <class 'float'>, choosing TSTART=436148400.0 [astropy.utils.metadata]\n",
      "WARNING: MergeConflictWarning: Cannot merge meta key 'TSTOP' types <class 'float'> and <class 'float'>, choosing TSTOP=436149600.0 [astropy.utils.metadata]\n",
      "WARNING: MergeConflictWarning: Cannot merge meta key 'ONTIME' types <class 'float'> and <class 'float'>, choosing ONTIME=1187.0 [astropy.utils.metadata]\n",
      "WARNING: MergeConflictWarning: Cannot merge meta key 'LIVETIME' types <class 'float'> and <class 'float'>, choosing LIVETIME=586.9631 [astropy.utils.metadata]\n",
      "WARNING: MergeConflictWarning: Cannot merge meta key 'DEADC' types <class 'float'> and <class 'float'>, choosing DEADC=0.4944929 [astropy.utils.metadata]\n",
      "WARNING: MergeConflictWarning: Cannot merge meta key 'RA_PNT' types <class 'float'> and <class 'float'>, choosing RA_PNT=49.66667 [astropy.utils.metadata]\n",
      "WARNING: MergeConflictWarning: Cannot merge meta key 'DEC_PNT' types <class 'float'> and <class 'float'>, choosing DEC_PNT=41.17139 [astropy.utils.metadata]\n",
      "WARNING: MergeConflictWarning: Cannot merge meta key 'ALT_PNT' types <class 'float'> and <class 'float'>, choosing ALT_PNT=54.08184 [astropy.utils.metadata]\n",
      "WARNING: MergeConflictWarning: Cannot merge meta key 'AZ_PNT' types <class 'float'> and <class 'float'>, choosing AZ_PNT=-58.39937 [astropy.utils.metadata]\n",
      "WARNING: MergeConflictWarning: Cannot merge meta key 'OBS_ID' types <class 'int'> and <class 'int'>, choosing OBS_ID=5059490 [astropy.utils.metadata]\n",
      "WARNING: MergeConflictWarning: Cannot merge meta key 'TSTART' types <class 'float'> and <class 'float'>, choosing TSTART=436142800.0 [astropy.utils.metadata]\n",
      "WARNING: MergeConflictWarning: Cannot merge meta key 'TSTOP' types <class 'float'> and <class 'float'>, choosing TSTOP=436144000.0 [astropy.utils.metadata]\n",
      "WARNING: MergeConflictWarning: Cannot merge meta key 'ONTIME' types <class 'float'> and <class 'float'>, choosing ONTIME=1188.0 [astropy.utils.metadata]\n",
      "WARNING: MergeConflictWarning: Cannot merge meta key 'LIVETIME' types <class 'float'> and <class 'float'>, choosing LIVETIME=1172.134 [astropy.utils.metadata]\n",
      "WARNING: MergeConflictWarning: Cannot merge meta key 'DEADC' types <class 'float'> and <class 'float'>, choosing DEADC=0.986645 [astropy.utils.metadata]\n",
      "WARNING: MergeConflictWarning: Cannot merge meta key 'ALT_PNT' types <class 'float'> and <class 'float'>, choosing ALT_PNT=71.33998 [astropy.utils.metadata]\n",
      "WARNING: MergeConflictWarning: Cannot merge meta key 'AZ_PNT' types <class 'float'> and <class 'float'>, choosing AZ_PNT=-43.42561 [astropy.utils.metadata]\n",
      "WARNING: MergeConflictWarning: Cannot merge meta key 'OBS_ID' types <class 'int'> and <class 'int'>, choosing OBS_ID=5059487 [astropy.utils.metadata]\n",
      "WARNING: MergeConflictWarning: Cannot merge meta key 'TSTART' types <class 'float'> and <class 'float'>, choosing TSTART=436139100.0 [astropy.utils.metadata]\n",
      "WARNING: MergeConflictWarning: Cannot merge meta key 'TSTOP' types <class 'float'> and <class 'float'>, choosing TSTOP=436140300.0 [astropy.utils.metadata]\n",
      "WARNING: MergeConflictWarning: Cannot merge meta key 'ONTIME' types <class 'float'> and <class 'float'>, choosing ONTIME=1193.0 [astropy.utils.metadata]\n",
      "WARNING: MergeConflictWarning: Cannot merge meta key 'LIVETIME' types <class 'float'> and <class 'float'>, choosing LIVETIME=1178.607 [astropy.utils.metadata]\n",
      "WARNING: MergeConflictWarning: Cannot merge meta key 'DEADC' types <class 'float'> and <class 'float'>, choosing DEADC=0.9879357 [astropy.utils.metadata]\n",
      "WARNING: MergeConflictWarning: Cannot merge meta key 'RA_PNT' types <class 'float'> and <class 'float'>, choosing RA_PNT=49.45417 [astropy.utils.metadata]\n",
      "WARNING: MergeConflictWarning: Cannot merge meta key 'DEC_PNT' types <class 'float'> and <class 'float'>, choosing DEC_PNT=41.66806 [astropy.utils.metadata]\n",
      "WARNING: MergeConflictWarning: Cannot merge meta key 'ALT_PNT' types <class 'float'> and <class 'float'>, choosing ALT_PNT=76.89065 [astropy.utils.metadata]\n",
      "WARNING: MergeConflictWarning: Cannot merge meta key 'AZ_PNT' types <class 'float'> and <class 'float'>, choosing AZ_PNT=-6.315182 [astropy.utils.metadata]\n"
     ]
    }
   ],
   "source": [
    "i = 0\n",
    "for obs in observations:\n",
    "    if i == 0:\n",
    "        events = obs.events\n",
    "    else:\n",
    "        events.stack( obs.events)\n",
    "    i +=1"
   ]
  },
  {
   "cell_type": "code",
   "execution_count": 21,
   "metadata": {},
   "outputs": [
    {
     "data": {
      "image/png": "[encoded data removed]",
      "text/plain": [
       "<Figure size 1200x800 with 5 Axes>"
      ]
     },
     "metadata": {},
     "output_type": "display_data"
    }
   ],
   "source": [
    "events.peek()"
   ]
  },
  {
   "cell_type": "code",
   "execution_count": 34,
   "metadata": {},
   "outputs": [
    {
     "ename": "TypeError",
     "evalue": "'Longitude' object with a scalar value does not support indexing",
     "output_type": "error",
     "traceback": [
      "\u001b[0;31m---------------------------------------------------------------------------\u001b[0m",
      "\u001b[0;31mIndexError\u001b[0m                                Traceback (most recent call last)",
      "File \u001b[0;32m~/Soft/anaconda3/envs/arqus_school_2022/lib/python3.9/site-packages/astropy/units/quantity.py:1197\u001b[0m, in \u001b[0;36mQuantity.__getitem__\u001b[0;34m(self, key)\u001b[0m\n\u001b[1;32m   1196\u001b[0m \u001b[38;5;28;01mtry\u001b[39;00m:\n\u001b[0;32m-> 1197\u001b[0m     out \u001b[38;5;241m=\u001b[39m \u001b[38;5;28;43msuper\u001b[39;49m\u001b[43m(\u001b[49m\u001b[43m)\u001b[49m\u001b[38;5;241;43m.\u001b[39;49m\u001b[38;5;21;43m__getitem__\u001b[39;49m\u001b[43m(\u001b[49m\u001b[43mkey\u001b[49m\u001b[43m)\u001b[49m\n\u001b[1;32m   1198\u001b[0m \u001b[38;5;28;01mexcept\u001b[39;00m \u001b[38;5;167;01mIndexError\u001b[39;00m:\n\u001b[1;32m   1199\u001b[0m     \u001b[38;5;66;03m# We want zero-dimensional Quantity objects to behave like scalars,\u001b[39;00m\n\u001b[1;32m   1200\u001b[0m     \u001b[38;5;66;03m# so they should raise a TypeError rather than an IndexError.\u001b[39;00m\n",
      "\u001b[0;31mIndexError\u001b[0m: too many indices for array: array is 0-dimensional, but 1 were indexed",
      "\nDuring handling of the above exception, another exception occurred:\n",
      "\u001b[0;31mTypeError\u001b[0m                                 Traceback (most recent call last)",
      "Input \u001b[0;32mIn [34]\u001b[0m, in \u001b[0;36m<cell line: 1>\u001b[0;34m()\u001b[0m\n\u001b[0;32m----> 1\u001b[0m \u001b[43mevents\u001b[49m\u001b[38;5;241;43m.\u001b[39;49m\u001b[43mradec\u001b[49m\u001b[43m[\u001b[49m\u001b[38;5;241;43m0\u001b[39;49m\u001b[43m]\u001b[49m\u001b[43m[\u001b[49m\u001b[43m:\u001b[49m\u001b[43m]\u001b[49m\n",
      "File \u001b[0;32m~/Soft/anaconda3/envs/arqus_school_2022/lib/python3.9/site-packages/astropy/utils/shapes.py:219\u001b[0m, in \u001b[0;36mShapedLikeNDArray.__getitem__\u001b[0;34m(self, item)\u001b[0m\n\u001b[1;32m    217\u001b[0m \u001b[38;5;28;01mdef\u001b[39;00m \u001b[38;5;21m__getitem__\u001b[39m(\u001b[38;5;28mself\u001b[39m, item):\n\u001b[1;32m    218\u001b[0m     \u001b[38;5;28;01mtry\u001b[39;00m:\n\u001b[0;32m--> 219\u001b[0m         \u001b[38;5;28;01mreturn\u001b[39;00m \u001b[38;5;28;43mself\u001b[39;49m\u001b[38;5;241;43m.\u001b[39;49m\u001b[43m_apply\u001b[49m\u001b[43m(\u001b[49m\u001b[38;5;124;43m'\u001b[39;49m\u001b[38;5;124;43m__getitem__\u001b[39;49m\u001b[38;5;124;43m'\u001b[39;49m\u001b[43m,\u001b[49m\u001b[43m \u001b[49m\u001b[43mitem\u001b[49m\u001b[43m)\u001b[49m\n\u001b[1;32m    220\u001b[0m     \u001b[38;5;28;01mexcept\u001b[39;00m \u001b[38;5;167;01mIndexError\u001b[39;00m:\n\u001b[1;32m    221\u001b[0m         \u001b[38;5;28;01mif\u001b[39;00m \u001b[38;5;28mself\u001b[39m\u001b[38;5;241m.\u001b[39misscalar:\n",
      "File \u001b[0;32m~/Soft/anaconda3/envs/arqus_school_2022/lib/python3.9/site-packages/astropy/coordinates/sky_coordinate.py:436\u001b[0m, in \u001b[0;36mSkyCoord._apply\u001b[0;34m(self, method, *args, **kwargs)\u001b[0m\n\u001b[1;32m    434\u001b[0m \u001b[38;5;66;03m# create a new but empty instance, and copy over stuff\u001b[39;00m\n\u001b[1;32m    435\u001b[0m new \u001b[38;5;241m=\u001b[39m \u001b[38;5;28msuper\u001b[39m()\u001b[38;5;241m.\u001b[39m\u001b[38;5;21m__new__\u001b[39m(\u001b[38;5;28mself\u001b[39m\u001b[38;5;241m.\u001b[39m\u001b[38;5;18m__class__\u001b[39m)\n\u001b[0;32m--> 436\u001b[0m new\u001b[38;5;241m.\u001b[39m_sky_coord_frame \u001b[38;5;241m=\u001b[39m \u001b[38;5;28;43mself\u001b[39;49m\u001b[38;5;241;43m.\u001b[39;49m\u001b[43m_sky_coord_frame\u001b[49m\u001b[38;5;241;43m.\u001b[39;49m\u001b[43m_apply\u001b[49m\u001b[43m(\u001b[49m\u001b[43mmethod\u001b[49m\u001b[43m,\u001b[49m\n\u001b[1;32m    437\u001b[0m \u001b[43m                                                    \u001b[49m\u001b[38;5;241;43m*\u001b[39;49m\u001b[43margs\u001b[49m\u001b[43m,\u001b[49m\u001b[43m \u001b[49m\u001b[38;5;241;43m*\u001b[39;49m\u001b[38;5;241;43m*\u001b[39;49m\u001b[43mkwargs\u001b[49m\u001b[43m)\u001b[49m\n\u001b[1;32m    438\u001b[0m new\u001b[38;5;241m.\u001b[39m_extra_frameattr_names \u001b[38;5;241m=\u001b[39m \u001b[38;5;28mself\u001b[39m\u001b[38;5;241m.\u001b[39m_extra_frameattr_names\u001b[38;5;241m.\u001b[39mcopy()\n\u001b[1;32m    439\u001b[0m \u001b[38;5;28;01mfor\u001b[39;00m attr \u001b[38;5;129;01min\u001b[39;00m \u001b[38;5;28mself\u001b[39m\u001b[38;5;241m.\u001b[39m_extra_frameattr_names:\n",
      "File \u001b[0;32m~/Soft/anaconda3/envs/arqus_school_2022/lib/python3.9/site-packages/astropy/coordinates/baseframe.py:1519\u001b[0m, in \u001b[0;36mBaseCoordinateFrame._apply\u001b[0;34m(self, method, *args, **kwargs)\u001b[0m\n\u001b[1;32m   1516\u001b[0m         \u001b[38;5;28msetattr\u001b[39m(new, _attr, value)\n\u001b[1;32m   1518\u001b[0m \u001b[38;5;28;01mif\u001b[39;00m \u001b[38;5;28mself\u001b[39m\u001b[38;5;241m.\u001b[39mhas_data:\n\u001b[0;32m-> 1519\u001b[0m     new\u001b[38;5;241m.\u001b[39m_data \u001b[38;5;241m=\u001b[39m \u001b[43mapply_method\u001b[49m\u001b[43m(\u001b[49m\u001b[38;5;28;43mself\u001b[39;49m\u001b[38;5;241;43m.\u001b[39;49m\u001b[43mdata\u001b[49m\u001b[43m)\u001b[49m\n\u001b[1;32m   1520\u001b[0m \u001b[38;5;28;01melse\u001b[39;00m:\n\u001b[1;32m   1521\u001b[0m     new\u001b[38;5;241m.\u001b[39m_data \u001b[38;5;241m=\u001b[39m \u001b[38;5;28;01mNone\u001b[39;00m\n",
      "File \u001b[0;32m~/Soft/anaconda3/envs/arqus_school_2022/lib/python3.9/site-packages/astropy/coordinates/baseframe.py:1490\u001b[0m, in \u001b[0;36mBaseCoordinateFrame._apply.<locals>.apply_method\u001b[0;34m(value)\u001b[0m\n\u001b[1;32m   1488\u001b[0m \u001b[38;5;28;01mdef\u001b[39;00m \u001b[38;5;21mapply_method\u001b[39m(value):\n\u001b[1;32m   1489\u001b[0m     \u001b[38;5;28;01mif\u001b[39;00m \u001b[38;5;28misinstance\u001b[39m(value, ShapedLikeNDArray):\n\u001b[0;32m-> 1490\u001b[0m         \u001b[38;5;28;01mreturn\u001b[39;00m \u001b[43mvalue\u001b[49m\u001b[38;5;241;43m.\u001b[39;49m\u001b[43m_apply\u001b[49m\u001b[43m(\u001b[49m\u001b[43mmethod\u001b[49m\u001b[43m,\u001b[49m\u001b[43m \u001b[49m\u001b[38;5;241;43m*\u001b[39;49m\u001b[43margs\u001b[49m\u001b[43m,\u001b[49m\u001b[43m \u001b[49m\u001b[38;5;241;43m*\u001b[39;49m\u001b[38;5;241;43m*\u001b[39;49m\u001b[43mkwargs\u001b[49m\u001b[43m)\u001b[49m\n\u001b[1;32m   1491\u001b[0m     \u001b[38;5;28;01melse\u001b[39;00m:\n\u001b[1;32m   1492\u001b[0m         \u001b[38;5;28;01mif\u001b[39;00m callable(method):\n",
      "File \u001b[0;32m~/Soft/anaconda3/envs/arqus_school_2022/lib/python3.9/site-packages/astropy/coordinates/representation.py:1011\u001b[0m, in \u001b[0;36mBaseRepresentation._apply\u001b[0;34m(self, method, *args, **kwargs)\u001b[0m\n\u001b[1;32m    990\u001b[0m \u001b[38;5;28;01mdef\u001b[39;00m \u001b[38;5;21m_apply\u001b[39m(\u001b[38;5;28mself\u001b[39m, method, \u001b[38;5;241m*\u001b[39margs, \u001b[38;5;241m*\u001b[39m\u001b[38;5;241m*\u001b[39mkwargs):\n\u001b[1;32m    991\u001b[0m     \u001b[38;5;124;03m\"\"\"Create a new representation with ``method`` applied to the component\u001b[39;00m\n\u001b[1;32m    992\u001b[0m \u001b[38;5;124;03m    data.\u001b[39;00m\n\u001b[1;32m    993\u001b[0m \n\u001b[0;32m   (...)\u001b[0m\n\u001b[1;32m   1009\u001b[0m \n\u001b[1;32m   1010\u001b[0m \u001b[38;5;124;03m    \"\"\"\u001b[39;00m\n\u001b[0;32m-> 1011\u001b[0m     rep \u001b[38;5;241m=\u001b[39m \u001b[38;5;28;43msuper\u001b[39;49m\u001b[43m(\u001b[49m\u001b[43m)\u001b[49m\u001b[38;5;241;43m.\u001b[39;49m\u001b[43m_apply\u001b[49m\u001b[43m(\u001b[49m\u001b[43mmethod\u001b[49m\u001b[43m,\u001b[49m\u001b[43m \u001b[49m\u001b[38;5;241;43m*\u001b[39;49m\u001b[43margs\u001b[49m\u001b[43m,\u001b[49m\u001b[43m \u001b[49m\u001b[38;5;241;43m*\u001b[39;49m\u001b[38;5;241;43m*\u001b[39;49m\u001b[43mkwargs\u001b[49m\u001b[43m)\u001b[49m\n\u001b[1;32m   1013\u001b[0m     rep\u001b[38;5;241m.\u001b[39m_differentials \u001b[38;5;241m=\u001b[39m \u001b[38;5;28mdict\u001b[39m(\n\u001b[1;32m   1014\u001b[0m         [(k, diff\u001b[38;5;241m.\u001b[39m_apply(method, \u001b[38;5;241m*\u001b[39margs, \u001b[38;5;241m*\u001b[39m\u001b[38;5;241m*\u001b[39mkwargs))\n\u001b[1;32m   1015\u001b[0m          \u001b[38;5;28;01mfor\u001b[39;00m k, diff \u001b[38;5;129;01min\u001b[39;00m \u001b[38;5;28mself\u001b[39m\u001b[38;5;241m.\u001b[39m_differentials\u001b[38;5;241m.\u001b[39mitems()])\n\u001b[1;32m   1016\u001b[0m     \u001b[38;5;28;01mreturn\u001b[39;00m rep\n",
      "File \u001b[0;32m~/Soft/anaconda3/envs/arqus_school_2022/lib/python3.9/site-packages/astropy/coordinates/representation.py:389\u001b[0m, in \u001b[0;36mBaseRepresentationOrDifferential._apply\u001b[0;34m(self, method, *args, **kwargs)\u001b[0m\n\u001b[1;32m    386\u001b[0m new \u001b[38;5;241m=\u001b[39m \u001b[38;5;28msuper\u001b[39m()\u001b[38;5;241m.\u001b[39m\u001b[38;5;21m__new__\u001b[39m(\u001b[38;5;28mself\u001b[39m\u001b[38;5;241m.\u001b[39m\u001b[38;5;18m__class__\u001b[39m)\n\u001b[1;32m    387\u001b[0m \u001b[38;5;28;01mfor\u001b[39;00m component \u001b[38;5;129;01min\u001b[39;00m \u001b[38;5;28mself\u001b[39m\u001b[38;5;241m.\u001b[39mcomponents:\n\u001b[1;32m    388\u001b[0m     \u001b[38;5;28msetattr\u001b[39m(new, \u001b[38;5;124m'\u001b[39m\u001b[38;5;124m_\u001b[39m\u001b[38;5;124m'\u001b[39m \u001b[38;5;241m+\u001b[39m component,\n\u001b[0;32m--> 389\u001b[0m             \u001b[43mapply_method\u001b[49m\u001b[43m(\u001b[49m\u001b[38;5;28;43mgetattr\u001b[39;49m\u001b[43m(\u001b[49m\u001b[38;5;28;43mself\u001b[39;49m\u001b[43m,\u001b[49m\u001b[43m \u001b[49m\u001b[43mcomponent\u001b[49m\u001b[43m)\u001b[49m\u001b[43m)\u001b[49m)\n\u001b[1;32m    391\u001b[0m \u001b[38;5;66;03m# Copy other 'info' attr only if it has actually been defined.\u001b[39;00m\n\u001b[1;32m    392\u001b[0m \u001b[38;5;66;03m# See PR #3898 for further explanation and justification, along\u001b[39;00m\n\u001b[1;32m    393\u001b[0m \u001b[38;5;66;03m# with Quantity.__array_finalize__\u001b[39;00m\n\u001b[1;32m    394\u001b[0m \u001b[38;5;28;01mif\u001b[39;00m \u001b[38;5;124m'\u001b[39m\u001b[38;5;124minfo\u001b[39m\u001b[38;5;124m'\u001b[39m \u001b[38;5;129;01min\u001b[39;00m \u001b[38;5;28mself\u001b[39m\u001b[38;5;241m.\u001b[39m\u001b[38;5;18m__dict__\u001b[39m:\n",
      "File \u001b[0;32m~/Soft/anaconda3/envs/arqus_school_2022/lib/python3.9/site-packages/astropy/units/quantity.py:1202\u001b[0m, in \u001b[0;36mQuantity.__getitem__\u001b[0;34m(self, key)\u001b[0m\n\u001b[1;32m   1198\u001b[0m \u001b[38;5;28;01mexcept\u001b[39;00m \u001b[38;5;167;01mIndexError\u001b[39;00m:\n\u001b[1;32m   1199\u001b[0m     \u001b[38;5;66;03m# We want zero-dimensional Quantity objects to behave like scalars,\u001b[39;00m\n\u001b[1;32m   1200\u001b[0m     \u001b[38;5;66;03m# so they should raise a TypeError rather than an IndexError.\u001b[39;00m\n\u001b[1;32m   1201\u001b[0m     \u001b[38;5;28;01mif\u001b[39;00m \u001b[38;5;28mself\u001b[39m\u001b[38;5;241m.\u001b[39misscalar:\n\u001b[0;32m-> 1202\u001b[0m         \u001b[38;5;28;01mraise\u001b[39;00m \u001b[38;5;167;01mTypeError\u001b[39;00m(\n\u001b[1;32m   1203\u001b[0m             \u001b[38;5;124m\"\u001b[39m\u001b[38;5;124m'\u001b[39m\u001b[38;5;132;01m{cls}\u001b[39;00m\u001b[38;5;124m'\u001b[39m\u001b[38;5;124m object with a scalar value does not support \u001b[39m\u001b[38;5;124m\"\u001b[39m\n\u001b[1;32m   1204\u001b[0m             \u001b[38;5;124m\"\u001b[39m\u001b[38;5;124mindexing\u001b[39m\u001b[38;5;124m\"\u001b[39m\u001b[38;5;241m.\u001b[39mformat(\u001b[38;5;28mcls\u001b[39m\u001b[38;5;241m=\u001b[39m\u001b[38;5;28mself\u001b[39m\u001b[38;5;241m.\u001b[39m\u001b[38;5;18m__class__\u001b[39m\u001b[38;5;241m.\u001b[39m\u001b[38;5;18m__name__\u001b[39m))\n\u001b[1;32m   1205\u001b[0m     \u001b[38;5;28;01melse\u001b[39;00m:\n\u001b[1;32m   1206\u001b[0m         \u001b[38;5;28;01mraise\u001b[39;00m\n",
      "\u001b[0;31mTypeError\u001b[0m: 'Longitude' object with a scalar value does not support indexing"
     ]
    }
   ],
   "source": [
    "events.radec["
   ]
  },
  {
   "cell_type": "code",
   "execution_count": null,
   "metadata": {},
   "outputs": [],
   "source": []
  },
  {
   "cell_type": "code",
   "execution_count": null,
   "metadata": {},
   "outputs": [],
   "source": []
  },
  {
   "cell_type": "code",
   "execution_count": null,
   "metadata": {},
   "outputs": [],
   "source": []
  },
  {
   "cell_type": "code",
   "execution_count": null,
   "metadata": {},
   "outputs": [],
   "source": []
  },
  {
   "cell_type": "code",
   "execution_count": null,
   "metadata": {},
   "outputs": [],
   "source": []
  },
  {
   "cell_type": "code",
   "execution_count": null,
   "metadata": {},
   "outputs": [],
   "source": []
  },
  {
   "cell_type": "code",
   "execution_count": 18,
   "metadata": {},
   "outputs": [
    {
     "data": {
      "text/plain": [
       "<gammapy.data.event_list.EventList at 0x7fdd05cca400>"
      ]
     },
     "execution_count": 18,
     "metadata": {},
     "output_type": "execute_result"
    }
   ],
   "source": [
    "obs = observations[0]\n",
    "#obs.aeff.peek()\n",
    "obs.events"
   ]
  },
  {
   "cell_type": "code",
   "execution_count": 17,
   "metadata": {},
   "outputs": [],
   "source": [
    "target_position =SkyCoord.from_name('NGC1275')"
   ]
  },
  {
   "cell_type": "code",
   "execution_count": null,
   "metadata": {},
   "outputs": [],
   "source": []
  },
  {
   "cell_type": "code",
   "execution_count": null,
   "metadata": {},
   "outputs": [],
   "source": [
    "for obs in observations:\n",
    "    dataset = dataset_maker.run(dataset_empty.copy(name=f\"{obs.obs_id}\"), obs)"
   ]
  },
  {
   "cell_type": "code",
   "execution_count": null,
   "metadata": {},
   "outputs": [],
   "source": []
  },
  {
   "cell_type": "code",
   "execution_count": null,
   "metadata": {},
   "outputs": [],
   "source": []
  },
  {
   "cell_type": "code",
   "execution_count": null,
   "metadata": {},
   "outputs": [],
   "source": []
  },
  {
   "cell_type": "code",
   "execution_count": null,
   "metadata": {},
   "outputs": [],
   "source": []
  },
  {
   "cell_type": "code",
   "execution_count": null,
   "metadata": {},
   "outputs": [],
   "source": []
  },
  {
   "cell_type": "code",
   "execution_count": null,
   "metadata": {},
   "outputs": [],
   "source": []
  },
  {
   "cell_type": "code",
   "execution_count": null,
   "metadata": {},
   "outputs": [],
   "source": [
    "import os\n",
    "from pathlib import Path\n",
    "os.environ[\"CALDB\"] = os.environ[\"GAMMAPY_DATA\"] + \"../../data/ngc1275/magic/\"\n",
    "\n",
    "\n"
   ]
  },
  {
   "cell_type": "code",
   "execution_count": null,
   "metadata": {},
   "outputs": [],
   "source": [
    "#radmax = fits_file['RAD_MAX']\n",
    "#Table(radmax.data['RAD_MAX'][0])"
   ]
  },
  {
   "cell_type": "code",
   "execution_count": null,
   "metadata": {},
   "outputs": [],
   "source": [
    "datastore = DataStore.from_dir(f\"../../data/ngc1275/magic/\")\n",
    "obs_ids = [5059487]\n",
    "#obs_ids = [5059487,5059488,5059489]\n",
    "#obs_ids = [5059487,5059488,5059489,5059490,5059497,5059498,5059499,5059500]\n",
    "datastore.get_observations(obs_ids)\n",
    "datastore.info()"
   ]
  },
  {
   "cell_type": "code",
   "execution_count": null,
   "metadata": {},
   "outputs": [],
   "source": [
    "datastore.obs_table"
   ]
  },
  {
   "cell_type": "code",
   "execution_count": null,
   "metadata": {},
   "outputs": [],
   "source": [
    "#If you can’t download the index files, or got errors related to the data access using them, you can generate the DataStore directly from the event files.\n",
    "\n",
    "#path = Path(os.environ[\"GAMMAPY_DATA\"]) / \"cta-1dc/data\"\n",
    "#paths = list(path.rglob(\"*.fits\"))\n",
    "#data_store = DataStore.from_events_files(paths)\n",
    "#print(data_store)"
   ]
  },
  {
   "cell_type": "code",
   "execution_count": null,
   "metadata": {},
   "outputs": [],
   "source": [
    "# how to find what is observations?\n",
    "observations = datastore.get_observations(obs_ids)\n",
    "#observations.__dict__.keys()\n",
    "observations"
   ]
  },
  {
   "cell_type": "code",
   "execution_count": null,
   "metadata": {},
   "outputs": [],
   "source": [
    "# not working as from GAMMAPY EXAMPLE\n",
    "#observation = datastore.obs(5057929)\n",
    "#observation"
   ]
  },
  {
   "cell_type": "code",
   "execution_count": null,
   "metadata": {},
   "outputs": [],
   "source": [
    "# also not working as suggested instead\n",
    "events = observations.events"
   ]
  },
  {
   "cell_type": "code",
   "execution_count": null,
   "metadata": {},
   "outputs": [],
   "source": []
  },
  {
   "cell_type": "code",
   "execution_count": null,
   "metadata": {},
   "outputs": [],
   "source": []
  },
  {
   "cell_type": "code",
   "execution_count": null,
   "metadata": {},
   "outputs": [],
   "source": [
    "observations = datastore.get_observations(obs_ids)\n",
    "observations.info()"
   ]
  },
  {
   "cell_type": "code",
   "execution_count": null,
   "metadata": {},
   "outputs": [],
   "source": [
    "events = EventList.read(\"../../data/ngc1275/magic/20170101_05059487_DL3_NGC1275-W0.40+157.fits\")\n",
    "events\n",
    "events.table[:5]\n",
    "#events.peek()"
   ]
  },
  {
   "cell_type": "code",
   "execution_count": null,
   "metadata": {},
   "outputs": [],
   "source": [
    "from gammapy.data import EventList\n",
    "filename = '$GAMMAPY_DATA/hess-dl3-dr1/data/hess_dl3_dr1_obs_id_023523.fits.gz'\n",
    "events = EventList.read(filename)\n",
    "events.peek()"
   ]
  },
  {
   "cell_type": "code",
   "execution_count": null,
   "metadata": {},
   "outputs": [],
   "source": []
  },
  {
   "cell_type": "code",
   "execution_count": null,
   "metadata": {},
   "outputs": [],
   "source": []
  },
  {
   "cell_type": "code",
   "execution_count": null,
   "metadata": {},
   "outputs": [],
   "source": []
  },
  {
   "cell_type": "code",
   "execution_count": null,
   "metadata": {},
   "outputs": [],
   "source": []
  },
  {
   "cell_type": "code",
   "execution_count": null,
   "metadata": {},
   "outputs": [],
   "source": [
    "observations.available_hdus"
   ]
  },
  {
   "cell_type": "code",
   "execution_count": null,
   "metadata": {},
   "outputs": [],
   "source": []
  },
  {
   "cell_type": "code",
   "execution_count": null,
   "metadata": {},
   "outputs": [],
   "source": []
  },
  {
   "cell_type": "code",
   "execution_count": null,
   "metadata": {},
   "outputs": [],
   "source": []
  },
  {
   "cell_type": "code",
   "execution_count": null,
   "metadata": {},
   "outputs": [],
   "source": []
  },
  {
   "cell_type": "code",
   "execution_count": null,
   "metadata": {},
   "outputs": [],
   "source": []
  },
  {
   "cell_type": "code",
   "execution_count": null,
   "metadata": {},
   "outputs": [],
   "source": [
    "# Select events based on energy\n",
    "selected_energy = events.select_energy([1*u.TeV, 1.2*u.TeV])\n",
    "\n",
    "# Select events based on time\n",
    "t_start = Time(57185, format='mjd')\n",
    "t_stop = Time(57185.5, format='mjd')\n",
    "\n",
    "selected_time = events.select_time([t_start, t_stop])\n",
    "\n",
    "# Select events based on offset\n",
    "#selected_offset = events.select_offset([1*u.deg, 2*u.deg])\n",
    "\n",
    "# Select events from a region in the sky\n",
    "#selected_region =  events.select_region(\"icrs;circle(86.3,22.01,3)\")\n",
    "\n",
    "# Finally one can select events based on any other of the columns of the `EventList.table`\n",
    "#selected_id = events.select_parameter('EVENT_ID', (5407363826067,5407363826070))"
   ]
  },
  {
   "cell_type": "code",
   "execution_count": null,
   "metadata": {},
   "outputs": [],
   "source": [
    "from gammapy.data import EventList, GTI\n",
    "\n",
    "filename_1 = '../../data/ngc1275/magic/20170101_05059487_DL3_NGC1275-W0.40+157.fits'\n",
    "filename_3 = '../../data/ngc1275/magic/20170101_05059489_DL3_NGC1275-W0.40+058.fits'\n",
    "filename_2 = '../../data/ngc1275/magic/20170101_05059488_DL3_NGC1275-W0.40+337.fits'\n",
    "filename_4 = '../../data/ngc1275/magic/20170101_05059490_DL3_NGC1275-W0.40+238.fits'\n",
    "\n",
    "events_1 = EventList.read(filename_1)\n",
    "events_2 = EventList.read(filename_2)\n",
    "events_3 = EventList.read(filename_3)\n",
    "events_4 = EventList.read(filename_4)\n",
    "\n",
    "\n",
    "gti_1 = GTI.read(filename_1)\n",
    "gti_2 = GTI.read(filename_2)\n",
    "gti_3 = GTI.read(filename_3)\n",
    "gti_4 = GTI.read(filename_4)\n",
    "\n",
    "# stack in place, now the _1 object contains the information of both\n",
    "#gti_1.stack(gti_2)\n",
    "#gti_1.stack(gti_3)\n",
    "#gti_1.stack(gti_4)\n",
    "#events_1.stack(events_2)\n",
    "#events_1.stack(events_3)\n",
    "#events_1.stack(events_4)\n",
    "\n",
    "# or instead create a new event list from the other two\n",
    "combined_events = EventList.from_stack([events_1, events_2, events_3, events_4])"
   ]
  },
  {
   "cell_type": "code",
   "execution_count": null,
   "metadata": {},
   "outputs": [],
   "source": [
    "combined_events.peek()"
   ]
  },
  {
   "cell_type": "code",
   "execution_count": null,
   "metadata": {},
   "outputs": [],
   "source": [
    "combined_events.galactic.b"
   ]
  },
  {
   "cell_type": "code",
   "execution_count": null,
   "metadata": {},
   "outputs": [],
   "source": []
  },
  {
   "cell_type": "code",
   "execution_count": null,
   "metadata": {},
   "outputs": [],
   "source": []
  },
  {
   "cell_type": "code",
   "execution_count": null,
   "metadata": {},
   "outputs": [],
   "source": []
  },
  {
   "cell_type": "code",
   "execution_count": null,
   "metadata": {},
   "outputs": [],
   "source": []
  },
  {
   "cell_type": "code",
   "execution_count": null,
   "metadata": {},
   "outputs": [],
   "source": []
  },
  {
   "cell_type": "code",
   "execution_count": null,
   "metadata": {},
   "outputs": [],
   "source": []
  },
  {
   "cell_type": "code",
   "execution_count": null,
   "metadata": {},
   "outputs": [],
   "source": []
  },
  {
   "cell_type": "code",
   "execution_count": null,
   "metadata": {},
   "outputs": [],
   "source": [
    "rad_max = obs_ngc1275[\"5059487\"].rad_max\n",
    "rad_max"
   ]
  },
  {
   "cell_type": "code",
   "execution_count": null,
   "metadata": {},
   "outputs": [],
   "source": [
    "obs_ngc1275 = datastore.get_observations(obs_ids, required_irf='point-like')\n",
    "print(obs_ngc1275)"
   ]
  },
  {
   "cell_type": "code",
   "execution_count": null,
   "metadata": {},
   "outputs": [],
   "source": [
    "pos = SkyCoord.from_name(\"NGC1275\")\n",
    "pos.data.lat\n"
   ]
  },
  {
   "cell_type": "code",
   "execution_count": null,
   "metadata": {},
   "outputs": [],
   "source": [
    "obs_ngc1275 = datastore.get_observations(obs_ids, required_irf=[\"aeff\", \"edisp\", \"rad_max\"]\n",
    ")\n",
    "print(obs_ngc1275)"
   ]
  },
  {
   "cell_type": "code",
   "execution_count": null,
   "metadata": {},
   "outputs": [],
   "source": [
    "obs_ngc1275[0].aeff.meta"
   ]
  },
  {
   "cell_type": "code",
   "execution_count": null,
   "metadata": {},
   "outputs": [],
   "source": [
    "target_position = SkyCoord(ra=pos.data.lon, dec=pos.data.lat, unit=\"deg\", frame=\"icrs\")\n",
    "\n",
    "theta = obs_ngc1275[0].rad_max\n",
    "assert all(o.rad_max == theta for o in obs_ngc1275)\n",
    "\n",
    "on_region_radius = Angle(theta.data*u.deg)\n",
    "on_region_radius.to('rad')\n",
    "on_region = CircleSkyRegion(center=target_position, radius=on_region_radius)\n",
    "\n",
    "skydir = target_position.galactic"
   ]
  },
  {
   "cell_type": "code",
   "execution_count": null,
   "metadata": {},
   "outputs": [],
   "source": []
  },
  {
   "cell_type": "code",
   "execution_count": null,
   "metadata": {},
   "outputs": [],
   "source": []
  },
  {
   "cell_type": "code",
   "execution_count": null,
   "metadata": {},
   "outputs": [],
   "source": []
  },
  {
   "cell_type": "code",
   "execution_count": null,
   "metadata": {},
   "outputs": [],
   "source": []
  },
  {
   "cell_type": "code",
   "execution_count": null,
   "metadata": {},
   "outputs": [],
   "source": []
  },
  {
   "cell_type": "code",
   "execution_count": null,
   "metadata": {},
   "outputs": [],
   "source": []
  },
  {
   "cell_type": "code",
   "execution_count": null,
   "metadata": {},
   "outputs": [],
   "source": []
  },
  {
   "cell_type": "markdown",
   "metadata": {},
   "source": [
    "# OLD STUFF"
   ]
  },
  {
   "cell_type": "code",
   "execution_count": null,
   "metadata": {},
   "outputs": [],
   "source": [
    "en_s1  = evt1['ENERGY']\n",
    "t_s1   = evt1['TIME']\n",
    "ra_s1  = evt1['RA']\n",
    "dec_s1 = evt1['DEC']\n",
    "g_s1   = evt1['GAMMANESS']"
   ]
  },
  {
   "cell_type": "code",
   "execution_count": null,
   "metadata": {},
   "outputs": [],
   "source": [
    "en_s2  = evt2['ENERGY']\n",
    "t_s2   = evt2['TIME']\n",
    "ra_s2  = evt2['RA']\n",
    "dec_s2 = evt2['DEC']\n",
    "g_s2   = evt2['GAMMANESS']"
   ]
  },
  {
   "cell_type": "code",
   "execution_count": null,
   "metadata": {},
   "outputs": [],
   "source": [
    "en_s3  = evt3['ENERGY']\n",
    "t_s3   = evt3['TIME']\n",
    "ra_s3  = evt3['RA']\n",
    "dec_s3 = evt3['DEC']\n",
    "g_s3   = evt3['GAMMANESS']"
   ]
  },
  {
   "cell_type": "code",
   "execution_count": null,
   "metadata": {},
   "outputs": [],
   "source": [
    "# Direction of the events\n",
    "plt.plot(dec,ra,marker='s', markersize='0.2',linewidth='0',alpha=0.5, label=\"all\")\n",
    "plt.plot(dec_s1,ra_s1,marker='o', markersize='2',linewidth='0',alpha=0.5, label=\"Low Energy\")\n",
    "plt.plot(dec_s2,ra_s2,marker='o', markersize='2',linewidth='0',alpha=0.5, label=\"High Energy\")\n",
    "plt.plot(dec_s3,ra_s3,marker='o', markersize='2',linewidth='0',alpha=0.5, label=\"Gammaness > 0.95\")\n",
    "plt.plot(dec_obj,ra_obj, marker=\"*\", markersize=\"12\",linewidth='0', label=\"Object Sky coordinate\")\n",
    "plt.plot(dec_pnt,ra_pnt, marker=\"x\", color = 'black', markersize=\"10\", linewidth='0', label=\"Observed coordinate\")\n",
    "plt.xlabel('Dec [deg]')\n",
    "plt.ylabel('RA [deg]')\n",
    "plt.title('Sky Event Distribution')\n",
    "plt.legend(loc=\"best\")"
   ]
  },
  {
   "cell_type": "code",
   "execution_count": null,
   "metadata": {},
   "outputs": [],
   "source": [
    "# Direction of the events\n",
    "plt.plot(dec,ra,marker='s', markersize='0.2',linewidth='0',alpha=0.6, label=\"all\")\n",
    "plt.plot(decsel,rasel,marker='s', markersize='0.4',linewidth='0',label=\"selected\")\n",
    "plt.xlabel('Dec [deg]')\n",
    "plt.ylabel('RA [deg]')\n",
    "plt.legend(loc=\"best\")"
   ]
  },
  {
   "cell_type": "code",
   "execution_count": null,
   "metadata": {},
   "outputs": [],
   "source": [
    "# Direction of the events\n",
    "plt.plot(dx,dy,marker='s', markersize='0.2',linewidth='0')\n"
   ]
  },
  {
   "cell_type": "code",
   "execution_count": null,
   "metadata": {},
   "outputs": [],
   "source": []
  }
 ],
 "metadata": {
  "kernelspec": {
   "display_name": "Python 3 (ipykernel)",
   "language": "python",
   "name": "python3"
  },
  "language_info": {
   "codemirror_mode": {
    "name": "ipython",
    "version": 3
   },
   "file_extension": ".py",
   "mimetype": "text/x-python",
   "name": "python",
   "nbconvert_exporter": "python",
   "pygments_lexer": "ipython3",
   "version": "3.9.0"
  }
 },
 "nbformat": 4,
 "nbformat_minor": 4
}
