{
 "cells": [
  {
   "cell_type": "markdown",
   "metadata": {},
   "source": [
    "# Hands On Instrument Data Selection and Binning"
   ]
  },
  {
   "cell_type": "markdown",
   "metadata": {},
   "source": [
    "This notebook teaches how to deal with DL3 data from current IACTs and other HE or VHE instruments. The Data Level 3 (DL3) format is described here \n",
    "\n",
    "Please refer to [this notebook](https://github.com/arqus-gamma/arqus_school_2022/blob/main/hands_on/1_read_data/Read_data_with_astropy_hands_on.ipynb) for preliminary introduction"
   ]
  },
  {
   "cell_type": "markdown",
   "metadata": {},
   "source": [
    "The Cherenkov Telescope Array (CTA) is the next generation ground-based observatory for gamma-ray astronomy. Gammapy is the core library for the Cherenkov Telescope Array (CTA) science tools (2017ICRC…35..766D and CTAO Press Release)."
   ]
  },
  {
   "cell_type": "markdown",
   "metadata": {},
   "source": [
    "Tutorial overview\n",
    "This notebook shows how to access CTA data and instrument response functions (IRFs) using Gammapy, and gives some examples how to quick look the content of CTA files, especially to see the shape of CTA IRFs.\n",
    "\n",
    "At the end of the notebooks, we give several links to other tutorial notebooks that show how to simulate CTA data and how to evaluate CTA observability and sensitivity, or how to analyse CTA data.\n",
    "\n",
    "Note that the FITS data and IRF format currently used by CTA is the one documented at https://gamma-astro-data-formats.readthedocs.io/, and is also used by H.E.S.S. and other imaging atmospheric Cherenkov telescopes (IACTs). So if you see other Gammapy tutorials using e.g. H.E.S.S. example data, know that they also apply to CTA, all you have to do is to change the loaded data or IRFs to CTA.\n",
    "\n"
   ]
  },
  {
   "cell_type": "markdown",
   "metadata": {},
   "source": [
    "## Initial Setup\n",
    "\n",
    "As usual, we start by installing some standards packages. We try to be minimal and install only those stricly required.\n",
    "Check package versions. All examples should work with Astropy > 2.0 and Numpy > 1.11"
   ]
  },
  {
   "cell_type": "code",
   "execution_count": 5,
   "metadata": {},
   "outputs": [],
   "source": [
    "%matplotlib inline  \n",
    "import matplotlib.pyplot as plt"
   ]
  },
  {
   "cell_type": "code",
   "execution_count": 44,
   "metadata": {},
   "outputs": [
    {
     "name": "stdout",
     "output_type": "stream",
     "text": [
      "numpy: 1.22.3\n",
      "astropy: 5.0.4\n"
     ]
    }
   ],
   "source": [
    "import numpy as np\n",
    "import astropy\n",
    "from astropy import units as u\n",
    "from astropy import constants as const\n",
    "from astropy.coordinates import SkyCoord\n",
    "from astropy.coordinates import Angle\n",
    "# from astropy.time import Time\n",
    "from astropy.table import Table\n",
    "from astropy.io import fits\n",
    "from astropy.visualization.wcsaxes import SphericalCircle\n",
    "from astropy.wcs import WCS\n",
    "\n",
    "\n",
    "print('numpy:', np.__version__)\n",
    "print('astropy:', astropy.__version__)"
   ]
  },
  {
   "cell_type": "code",
   "execution_count": 47,
   "metadata": {},
   "outputs": [],
   "source": [
    "import regions\n",
    "from regions import CircleSkyRegion, PointSkyRegion"
   ]
  },
  {
   "cell_type": "markdown",
   "metadata": {},
   "source": [
    "However, in most cases, remember that for analyzing specific instruments' data, often additional packages are to be installed, that are somewhat specific of the instrument. In many cases, they are tailored functions"
   ]
  },
  {
   "cell_type": "code",
   "execution_count": 46,
   "metadata": {},
   "outputs": [
    {
     "name": "stdout",
     "output_type": "stream",
     "text": [
      "gammapy: 0.20.1\n"
     ]
    }
   ],
   "source": [
    "import gammapy\n",
    "from gammapy.data import Observation, Observations, DataStore, EventList\n",
    "from gammapy.makers import SafeMaskMaker, MapDatasetMaker, SpectrumDatasetMaker, ReflectedRegionsBackgroundMaker, WobbleRegionsFinder\n",
    "from gammapy.irf import EffectiveAreaTable2D, load_cta_irfs\n",
    "\n",
    "\n",
    "# dataset modules\n",
    "from gammapy.datasets import (\n",
    "    MapDataset, \n",
    "    MapDatasetOnOff, \n",
    "    MapDatasetEventSampler,\n",
    "    SpectrumDatasetOnOff,\n",
    "    SpectrumDataset, \n",
    "    Datasets,\n",
    "    FluxPointsDataset\n",
    ")\n",
    "\n",
    "print(\"gammapy:\", gammapy.__version__)"
   ]
  },
  {
   "cell_type": "code",
   "execution_count": 8,
   "metadata": {},
   "outputs": [],
   "source": []
  },
  {
   "cell_type": "markdown",
   "metadata": {},
   "source": [
    "## 1. Data Sample\n"
   ]
  },
  {
   "cell_type": "code",
   "execution_count": 2,
   "metadata": {},
   "outputs": [
    {
     "name": "stdout",
     "output_type": "stream",
     "text": [
      "README.md          \u001b[31mdownload_data.sh\u001b[m\u001b[m   \u001b[1m\u001b[36mngc1275\u001b[m\u001b[m\r\n",
      "arqus_filelist.txt \u001b[1m\u001b[36mic310\u001b[m\u001b[m              \u001b[1m\u001b[36mold\u001b[m\u001b[m\r\n",
      "\u001b[1m\u001b[36mcrab_nebula\u001b[m\u001b[m        \u001b[1m\u001b[36mmrk421\u001b[m\u001b[m             \u001b[1m\u001b[36mpks2155\u001b[m\u001b[m\r\n"
     ]
    }
   ],
   "source": [
    "!ls ../../data/"
   ]
  },
  {
   "cell_type": "code",
   "execution_count": null,
   "metadata": {},
   "outputs": [
    {
     "name": "stdout",
     "output_type": "stream",
     "text": [
      "ls: ../../data/ngc1275/magic: No such file or directory\n"
     ]
    }
   ],
   "source": [
    "#!ls ../../data/crab_nebula/magic\n",
    "#!ls ../../data/pks2155/hess/\n",
    "#!ls ../../data/ic310/magic\n",
    "!ls ../../data/ngc1275/magic"
   ]
  },
  {
   "cell_type": "code",
   "execution_count": 49,
   "metadata": {},
   "outputs": [],
   "source": [
    "import os\n",
    "from pathlib import Path\n",
    "os.environ[\"CALDB\"] = os.environ[\"GAMMAPY_DATA\"] + \"../../data/ngc1275/magic/\"\n",
    "\n",
    "\n"
   ]
  },
  {
   "cell_type": "code",
   "execution_count": 50,
   "metadata": {},
   "outputs": [],
   "source": [
    "#radmax = fits_file['RAD_MAX']\n",
    "#Table(radmax.data['RAD_MAX'][0])"
   ]
  },
  {
   "cell_type": "code",
   "execution_count": 79,
   "metadata": {},
   "outputs": [
    {
     "name": "stderr",
     "output_type": "stream",
     "text": [
      "Skipping run with missing HDUs; Required HDUs ['psf', 'bkg'] not found in observation 5059487\n"
     ]
    },
    {
     "name": "stdout",
     "output_type": "stream",
     "text": [
      "Data store:\n",
      "HDU index table:\n",
      "BASE_DIR: ../../data/ngc1275/magic\n",
      "Rows: 805\n",
      "OBS_ID: 5056191 -- 5065842\n",
      "HDU_TYPE: ['aeff', 'edisp', 'events', 'gti', 'rad_max']\n",
      "HDU_CLASS: ['aeff_2d', 'edisp_2d', 'events', 'gti', 'rad_max_2d']\n",
      "\n",
      "\n",
      "Observation table:\n",
      "Observatory name: 'N/A'\n",
      "Number of observations: 161\n",
      "\n"
     ]
    }
   ],
   "source": [
    "datastore = DataStore.from_dir(f\"../../data/ngc1275/magic/\")\n",
    "obs_ids = [5059487]\n",
    "#obs_ids = [5059487,5059488,5059489]\n",
    "#obs_ids = [5059487,5059488,5059489,5059490,5059497,5059498,5059499,5059500]\n",
    "datastore.get_observations(obs_ids)\n",
    "datastore.info()"
   ]
  },
  {
   "cell_type": "code",
   "execution_count": 80,
   "metadata": {},
   "outputs": [
    {
     "data": {
      "text/html": [
       "<div><i>ObservationTable length=161</i>\n",
       "<table id=\"table140332942977728\" class=\"table-striped table-bordered table-condensed\">\n",
       "<thead><tr><th>OBS_ID</th><th>RA_PNT</th><th>DEC_PNT</th><th>TSTART</th><th>TSTOP</th><th>DEADC</th></tr></thead>\n",
       "<thead><tr><th></th><th>deg</th><th>deg</th><th>s</th><th>s</th><th></th></tr></thead>\n",
       "<thead><tr><th>int64</th><th>float32</th><th>float32</th><th>float32</th><th>float32</th><th>float32</th></tr></thead>\n",
       "<tr><td>5059566</td><td>49.66667</td><td>41.17139</td><td>436317900.0</td><td>436318900.0</td><td>0.9840961</td></tr>\n",
       "<tr><td>5057942</td><td>49.45417</td><td>41.66806</td><td>430638800.0</td><td>430639200.0</td><td>0.9537472</td></tr>\n",
       "<tr><td>5058192</td><td>50.22917</td><td>41.85111</td><td>431394500.0</td><td>431395700.0</td><td>0.9848278</td></tr>\n",
       "<tr><td>5059562</td><td>49.66667</td><td>41.17139</td><td>436312700.0</td><td>436313600.0</td><td>0.9867498</td></tr>\n",
       "<tr><td>5057929</td><td>49.66667</td><td>41.17139</td><td>430626800.0</td><td>430627700.0</td><td>0.9853436</td></tr>\n",
       "<tr><td>...</td><td>...</td><td>...</td><td>...</td><td>...</td><td>...</td></tr>\n",
       "<tr><td>5059613</td><td>49.45417</td><td>41.66806</td><td>436399100.0</td><td>436400300.0</td><td>0.9895535</td></tr>\n",
       "<tr><td>5057236</td><td>50.4375</td><td>41.35305</td><td>428214200.0</td><td>428215100.0</td><td>0.9850262</td></tr>\n",
       "<tr><td>5058193</td><td>49.66667</td><td>41.17139</td><td>431395700.0</td><td>431396900.0</td><td>0.9863189</td></tr>\n",
       "<tr><td>5058003</td><td>49.45417</td><td>41.66806</td><td>430791700.0</td><td>430792900.0</td><td>0.9861637</td></tr>\n",
       "<tr><td>5059561</td><td>50.22917</td><td>41.85111</td><td>436311700.0</td><td>436312600.0</td><td>0.9861405</td></tr>\n",
       "</table></div>"
      ],
      "text/plain": [
       "<ObservationTable length=161>\n",
       " OBS_ID  RA_PNT  DEC_PNT     TSTART      TSTOP      DEADC  \n",
       "          deg      deg         s           s               \n",
       " int64  float32  float32    float32     float32    float32 \n",
       "------- -------- -------- ----------- ----------- ---------\n",
       "5059566 49.66667 41.17139 436317900.0 436318900.0 0.9840961\n",
       "5057942 49.45417 41.66806 430638800.0 430639200.0 0.9537472\n",
       "5058192 50.22917 41.85111 431394500.0 431395700.0 0.9848278\n",
       "5059562 49.66667 41.17139 436312700.0 436313600.0 0.9867498\n",
       "5057929 49.66667 41.17139 430626800.0 430627700.0 0.9853436\n",
       "    ...      ...      ...         ...         ...       ...\n",
       "5059613 49.45417 41.66806 436399100.0 436400300.0 0.9895535\n",
       "5057236  50.4375 41.35305 428214200.0 428215100.0 0.9850262\n",
       "5058193 49.66667 41.17139 431395700.0 431396900.0 0.9863189\n",
       "5058003 49.45417 41.66806 430791700.0 430792900.0 0.9861637\n",
       "5059561 50.22917 41.85111 436311700.0 436312600.0 0.9861405"
      ]
     },
     "execution_count": 80,
     "metadata": {},
     "output_type": "execute_result"
    }
   ],
   "source": [
    "datastore.obs_table"
   ]
  },
  {
   "cell_type": "code",
   "execution_count": 81,
   "metadata": {},
   "outputs": [],
   "source": [
    "#If you can’t download the index files, or got errors related to the data access using them, you can generate the DataStore directly from the event files.\n",
    "\n",
    "#path = Path(os.environ[\"GAMMAPY_DATA\"]) / \"cta-1dc/data\"\n",
    "#paths = list(path.rglob(\"*.fits\"))\n",
    "#data_store = DataStore.from_events_files(paths)\n",
    "#print(data_store)"
   ]
  },
  {
   "cell_type": "code",
   "execution_count": 88,
   "metadata": {},
   "outputs": [
    {
     "name": "stderr",
     "output_type": "stream",
     "text": [
      "Skipping run with missing HDUs; Required HDUs ['psf', 'bkg'] not found in observation 5059487\n"
     ]
    },
    {
     "ename": "IndexError",
     "evalue": "list index out of range",
     "output_type": "error",
     "traceback": [
      "\u001b[0;31m---------------------------------------------------------------------------\u001b[0m",
      "\u001b[0;31mIndexError\u001b[0m                                Traceback (most recent call last)",
      "Input \u001b[0;32mIn [88]\u001b[0m, in \u001b[0;36m<cell line: 4>\u001b[0;34m()\u001b[0m\n\u001b[1;32m      2\u001b[0m observations \u001b[38;5;241m=\u001b[39m datastore\u001b[38;5;241m.\u001b[39mget_observations(obs_ids)\n\u001b[1;32m      3\u001b[0m \u001b[38;5;66;03m#observations.__dict__.keys()\u001b[39;00m\n\u001b[0;32m----> 4\u001b[0m \u001b[43mobservations\u001b[49m\u001b[43m[\u001b[49m\u001b[38;5;241;43m0\u001b[39;49m\u001b[43m]\u001b[49m\u001b[38;5;241m.\u001b[39maeff\n",
      "File \u001b[0;32m~/Soft/anaconda3/envs/gammapy-0.20/lib/python3.8/site-packages/gammapy/data/observations.py:520\u001b[0m, in \u001b[0;36mObservations.__getitem__\u001b[0;34m(self, key)\u001b[0m\n\u001b[1;32m    519\u001b[0m \u001b[38;5;28;01mdef\u001b[39;00m \u001b[38;5;21m__getitem__\u001b[39m(\u001b[38;5;28mself\u001b[39m, key):\n\u001b[0;32m--> 520\u001b[0m     \u001b[38;5;28;01mreturn\u001b[39;00m \u001b[38;5;28;43mself\u001b[39;49m\u001b[38;5;241;43m.\u001b[39;49m\u001b[43m_observations\u001b[49m\u001b[43m[\u001b[49m\u001b[38;5;28;43mself\u001b[39;49m\u001b[38;5;241;43m.\u001b[39;49m\u001b[43mindex\u001b[49m\u001b[43m(\u001b[49m\u001b[43mkey\u001b[49m\u001b[43m)\u001b[49m\u001b[43m]\u001b[49m\n",
      "\u001b[0;31mIndexError\u001b[0m: list index out of range"
     ]
    }
   ],
   "source": [
    "# how to find what is observations?\n",
    "observations = datastore.get_observations(obs_ids)\n",
    "#observations.__dict__.keys()\n",
    "observations"
   ]
  },
  {
   "cell_type": "code",
   "execution_count": 67,
   "metadata": {},
   "outputs": [],
   "source": [
    "# not working as from GAMMAPY EXAMPLE\n",
    "#observation = datastore.obs(5057929)\n",
    "#observation"
   ]
  },
  {
   "cell_type": "code",
   "execution_count": 83,
   "metadata": {},
   "outputs": [
    {
     "ename": "AttributeError",
     "evalue": "'Observations' object has no attribute 'events'",
     "output_type": "error",
     "traceback": [
      "\u001b[0;31m---------------------------------------------------------------------------\u001b[0m",
      "\u001b[0;31mAttributeError\u001b[0m                            Traceback (most recent call last)",
      "Input \u001b[0;32mIn [83]\u001b[0m, in \u001b[0;36m<cell line: 2>\u001b[0;34m()\u001b[0m\n\u001b[1;32m      1\u001b[0m \u001b[38;5;66;03m# also not working as suggested instead\u001b[39;00m\n\u001b[0;32m----> 2\u001b[0m events1 \u001b[38;5;241m=\u001b[39m \u001b[43mobservations\u001b[49m\u001b[38;5;241;43m.\u001b[39;49m\u001b[43mevents\u001b[49m\n",
      "\u001b[0;31mAttributeError\u001b[0m: 'Observations' object has no attribute 'events'"
     ]
    }
   ],
   "source": [
    "# also not working as suggested instead\n",
    "events1 = observations.events"
   ]
  },
  {
   "cell_type": "code",
   "execution_count": null,
   "metadata": {},
   "outputs": [],
   "source": []
  },
  {
   "cell_type": "code",
   "execution_count": null,
   "metadata": {},
   "outputs": [],
   "source": []
  },
  {
   "cell_type": "code",
   "execution_count": 78,
   "metadata": {},
   "outputs": [
    {
     "name": "stderr",
     "output_type": "stream",
     "text": [
      "/Users/mdoro/Soft/anaconda3/envs/gammapy-0.20/lib/python3.8/site-packages/astropy/table/column.py:330: FutureWarning: elementwise comparison failed; returning scalar instead, but in the future will perform elementwise comparison\n",
      "  result = getattr(super(Column, self), op)(other)\n"
     ]
    },
    {
     "ename": "ValueError",
     "evalue": "OBS_ID = 5 not in HDU index table.",
     "output_type": "error",
     "traceback": [
      "\u001b[0;31m---------------------------------------------------------------------------\u001b[0m",
      "\u001b[0;31mValueError\u001b[0m                                Traceback (most recent call last)",
      "Input \u001b[0;32mIn [78]\u001b[0m, in \u001b[0;36m<cell line: 1>\u001b[0;34m()\u001b[0m\n\u001b[0;32m----> 1\u001b[0m observations \u001b[38;5;241m=\u001b[39m \u001b[43mdatastore\u001b[49m\u001b[38;5;241;43m.\u001b[39;49m\u001b[43mget_observations\u001b[49m\u001b[43m(\u001b[49m\u001b[38;5;124;43m'\u001b[39;49m\u001b[38;5;124;43m5056191\u001b[39;49m\u001b[38;5;124;43m'\u001b[39;49m\u001b[43m)\u001b[49m\n",
      "File \u001b[0;32m~/Soft/anaconda3/envs/gammapy-0.20/lib/python3.8/site-packages/gammapy/data/data_store.py:377\u001b[0m, in \u001b[0;36mDataStore.get_observations\u001b[0;34m(self, obs_id, skip_missing, required_irf)\u001b[0m\n\u001b[1;32m    375\u001b[0m         \u001b[38;5;28;01mcontinue\u001b[39;00m\n\u001b[1;32m    376\u001b[0m     \u001b[38;5;28;01melse\u001b[39;00m:\n\u001b[0;32m--> 377\u001b[0m         \u001b[38;5;28;01mraise\u001b[39;00m err\n\u001b[1;32m    378\u001b[0m \u001b[38;5;28;01mexcept\u001b[39;00m MissingRequiredHDU \u001b[38;5;28;01mas\u001b[39;00m e:\n\u001b[1;32m    379\u001b[0m     log\u001b[38;5;241m.\u001b[39mwarning(\u001b[38;5;124mf\u001b[39m\u001b[38;5;124m\"\u001b[39m\u001b[38;5;124mSkipping run with missing HDUs; \u001b[39m\u001b[38;5;132;01m{\u001b[39;00me\u001b[38;5;132;01m}\u001b[39;00m\u001b[38;5;124m\"\u001b[39m)\n",
      "File \u001b[0;32m~/Soft/anaconda3/envs/gammapy-0.20/lib/python3.8/site-packages/gammapy/data/data_store.py:371\u001b[0m, in \u001b[0;36mDataStore.get_observations\u001b[0;34m(self, obs_id, skip_missing, required_irf)\u001b[0m\n\u001b[1;32m    369\u001b[0m \u001b[38;5;28;01mfor\u001b[39;00m _ \u001b[38;5;129;01min\u001b[39;00m obs_id:\n\u001b[1;32m    370\u001b[0m     \u001b[38;5;28;01mtry\u001b[39;00m:\n\u001b[0;32m--> 371\u001b[0m         obs \u001b[38;5;241m=\u001b[39m \u001b[38;5;28;43mself\u001b[39;49m\u001b[38;5;241;43m.\u001b[39;49m\u001b[43mobs\u001b[49m\u001b[43m(\u001b[49m\u001b[43m_\u001b[49m\u001b[43m,\u001b[49m\u001b[43m \u001b[49m\u001b[43mrequired_irf\u001b[49m\u001b[43m)\u001b[49m\n\u001b[1;32m    372\u001b[0m     \u001b[38;5;28;01mexcept\u001b[39;00m \u001b[38;5;167;01mValueError\u001b[39;00m \u001b[38;5;28;01mas\u001b[39;00m err:\n\u001b[1;32m    373\u001b[0m         \u001b[38;5;28;01mif\u001b[39;00m skip_missing:\n",
      "File \u001b[0;32m~/Soft/anaconda3/envs/gammapy-0.20/lib/python3.8/site-packages/gammapy/data/data_store.py:290\u001b[0m, in \u001b[0;36mDataStore.obs\u001b[0;34m(self, obs_id, required_irf)\u001b[0m\n\u001b[1;32m    261\u001b[0m \u001b[38;5;124;03m\"\"\"Access a given `~gammapy.data.Observation`.\u001b[39;00m\n\u001b[1;32m    262\u001b[0m \n\u001b[1;32m    263\u001b[0m \u001b[38;5;124;03mParameters\u001b[39;00m\n\u001b[0;32m   (...)\u001b[0m\n\u001b[1;32m    287\u001b[0m \n\u001b[1;32m    288\u001b[0m \u001b[38;5;124;03m\"\"\"\u001b[39;00m\n\u001b[1;32m    289\u001b[0m \u001b[38;5;28;01mif\u001b[39;00m obs_id \u001b[38;5;129;01mnot\u001b[39;00m \u001b[38;5;129;01min\u001b[39;00m \u001b[38;5;28mself\u001b[39m\u001b[38;5;241m.\u001b[39mhdu_table[\u001b[38;5;124m\"\u001b[39m\u001b[38;5;124mOBS_ID\u001b[39m\u001b[38;5;124m\"\u001b[39m]:\n\u001b[0;32m--> 290\u001b[0m     \u001b[38;5;28;01mraise\u001b[39;00m \u001b[38;5;167;01mValueError\u001b[39;00m(\u001b[38;5;124mf\u001b[39m\u001b[38;5;124m\"\u001b[39m\u001b[38;5;124mOBS_ID = \u001b[39m\u001b[38;5;132;01m{\u001b[39;00mobs_id\u001b[38;5;132;01m}\u001b[39;00m\u001b[38;5;124m not in HDU index table.\u001b[39m\u001b[38;5;124m\"\u001b[39m)\n\u001b[1;32m    292\u001b[0m kwargs \u001b[38;5;241m=\u001b[39m {\u001b[38;5;124m\"\u001b[39m\u001b[38;5;124mobs_id\u001b[39m\u001b[38;5;124m\"\u001b[39m: \u001b[38;5;28mint\u001b[39m(obs_id)}\n\u001b[1;32m    294\u001b[0m \u001b[38;5;66;03m# check for the \"short forms\"\u001b[39;00m\n",
      "\u001b[0;31mValueError\u001b[0m: OBS_ID = 5 not in HDU index table."
     ]
    }
   ],
   "source": [
    "observations = datastore.get_observations(obs_ids)\n",
    "observations.info()"
   ]
  },
  {
   "cell_type": "code",
   "execution_count": 39,
   "metadata": {},
   "outputs": [
    {
     "data": {
      "text/html": [
       "<div><i>Table length=5</i>\n",
       "<table id=\"table140332942901600\" class=\"table-striped table-bordered table-condensed\">\n",
       "<thead><tr><th>EVENT_ID</th><th>TIME</th><th>RA</th><th>DEC</th><th>ENERGY</th><th>GAMMANESS</th><th>DETX</th><th>DETY</th></tr></thead>\n",
       "<thead><tr><th></th><th>s</th><th>deg</th><th>deg</th><th>TeV</th><th></th><th>mm</th><th>mm</th></tr></thead>\n",
       "<thead><tr><th>int64</th><th>float64</th><th>float32</th><th>float32</th><th>float32</th><th>float32</th><th>float32</th><th>float32</th></tr></thead>\n",
       "<tr><td>117</td><td>436139121.599158</td><td>49.01414</td><td>41.539272</td><td>0.10293761</td><td>0.9410159</td><td>0.3199254</td><td>-0.13709812</td></tr>\n",
       "<tr><td>138</td><td>436139121.66326886</td><td>48.04316</td><td>42.417595</td><td>0.06289925</td><td>0.41138095</td><td>1.0475081</td><td>0.7366911</td></tr>\n",
       "<tr><td>210</td><td>436139121.89286935</td><td>49.00081</td><td>41.941536</td><td>0.040962473</td><td>0.24814683</td><td>0.33467507</td><td>0.2649405</td></tr>\n",
       "<tr><td>233</td><td>436139121.9688521</td><td>48.99533</td><td>41.803627</td><td>0.034511823</td><td>0.32546824</td><td>0.33711714</td><td>0.12696764</td></tr>\n",
       "<tr><td>337</td><td>436139122.25264156</td><td>49.906765</td><td>42.391163</td><td>0.05785944</td><td>0.7387659</td><td>-0.32914373</td><td>0.7258594</td></tr>\n",
       "</table></div>"
      ],
      "text/plain": [
       "<Table length=5>\n",
       "EVENT_ID        TIME            RA    ... GAMMANESS      DETX        DETY   \n",
       "                 s             deg    ...                 mm          mm    \n",
       " int64        float64        float32  ...  float32     float32     float32  \n",
       "-------- ------------------ --------- ... ---------- ----------- -----------\n",
       "     117   436139121.599158  49.01414 ...  0.9410159   0.3199254 -0.13709812\n",
       "     138 436139121.66326886  48.04316 ... 0.41138095   1.0475081   0.7366911\n",
       "     210 436139121.89286935  49.00081 ... 0.24814683  0.33467507   0.2649405\n",
       "     233  436139121.9688521  48.99533 ... 0.32546824  0.33711714  0.12696764\n",
       "     337 436139122.25264156 49.906765 ...  0.7387659 -0.32914373   0.7258594"
      ]
     },
     "execution_count": 39,
     "metadata": {},
     "output_type": "execute_result"
    }
   ],
   "source": [
    "events = EventList.read(\"../../data/ngc1275/magic/20170101_05059487_DL3_NGC1275-W0.40+157.fits\")\n",
    "events\n",
    "events.table[:5]\n",
    "#events.peek()"
   ]
  },
  {
   "cell_type": "code",
   "execution_count": null,
   "metadata": {},
   "outputs": [],
   "source": [
    "from gammapy.data import EventList\n",
    "filename = '$GAMMAPY_DATA/hess-dl3-dr1/data/hess_dl3_dr1_obs_id_023523.fits.gz'\n",
    "events = EventList.read(filename)\n",
    "events.peek()"
   ]
  },
  {
   "cell_type": "code",
   "execution_count": null,
   "metadata": {},
   "outputs": [],
   "source": []
  },
  {
   "cell_type": "code",
   "execution_count": null,
   "metadata": {},
   "outputs": [],
   "source": []
  },
  {
   "cell_type": "code",
   "execution_count": null,
   "metadata": {},
   "outputs": [],
   "source": []
  },
  {
   "cell_type": "code",
   "execution_count": null,
   "metadata": {},
   "outputs": [],
   "source": []
  },
  {
   "cell_type": "code",
   "execution_count": 76,
   "metadata": {},
   "outputs": [
    {
     "ename": "AttributeError",
     "evalue": "'Observations' object has no attribute 'available_hdus'",
     "output_type": "error",
     "traceback": [
      "\u001b[0;31m---------------------------------------------------------------------------\u001b[0m",
      "\u001b[0;31mAttributeError\u001b[0m                            Traceback (most recent call last)",
      "Input \u001b[0;32mIn [76]\u001b[0m, in \u001b[0;36m<cell line: 1>\u001b[0;34m()\u001b[0m\n\u001b[0;32m----> 1\u001b[0m \u001b[43mobservations\u001b[49m\u001b[38;5;241;43m.\u001b[39;49m\u001b[43mavailable_hdus\u001b[49m\n",
      "\u001b[0;31mAttributeError\u001b[0m: 'Observations' object has no attribute 'available_hdus'"
     ]
    }
   ],
   "source": [
    "observations.available_hdus"
   ]
  },
  {
   "cell_type": "code",
   "execution_count": null,
   "metadata": {},
   "outputs": [],
   "source": []
  },
  {
   "cell_type": "code",
   "execution_count": null,
   "metadata": {},
   "outputs": [],
   "source": []
  },
  {
   "cell_type": "code",
   "execution_count": null,
   "metadata": {},
   "outputs": [],
   "source": []
  },
  {
   "cell_type": "code",
   "execution_count": null,
   "metadata": {},
   "outputs": [],
   "source": []
  },
  {
   "cell_type": "code",
   "execution_count": null,
   "metadata": {},
   "outputs": [],
   "source": []
  },
  {
   "cell_type": "code",
   "execution_count": 100,
   "metadata": {},
   "outputs": [],
   "source": [
    "# Select events based on energy\n",
    "selected_energy = events.select_energy([1*u.TeV, 1.2*u.TeV])\n",
    "\n",
    "# Select events based on time\n",
    "t_start = Time(57185, format='mjd')\n",
    "t_stop = Time(57185.5, format='mjd')\n",
    "\n",
    "selected_time = events.select_time([t_start, t_stop])\n",
    "\n",
    "# Select events based on offset\n",
    "#selected_offset = events.select_offset([1*u.deg, 2*u.deg])\n",
    "\n",
    "# Select events from a region in the sky\n",
    "#selected_region =  events.select_region(\"icrs;circle(86.3,22.01,3)\")\n",
    "\n",
    "# Finally one can select events based on any other of the columns of the `EventList.table`\n",
    "#selected_id = events.select_parameter('EVENT_ID', (5407363826067,5407363826070))"
   ]
  },
  {
   "cell_type": "code",
   "execution_count": 104,
   "metadata": {},
   "outputs": [
    {
     "name": "stderr",
     "output_type": "stream",
     "text": [
      "WARNING: MergeConflictWarning: Cannot merge meta key 'OBS_ID' types <class 'int'> and <class 'int'>, choosing OBS_ID=5059488 [astropy.utils.metadata]\n",
      "WARNING: MergeConflictWarning: Cannot merge meta key 'TSTART' types <class 'float'> and <class 'float'>, choosing TSTART=436140400.0 [astropy.utils.metadata]\n",
      "WARNING: MergeConflictWarning: Cannot merge meta key 'TSTOP' types <class 'float'> and <class 'float'>, choosing TSTOP=436141500.0 [astropy.utils.metadata]\n",
      "WARNING: MergeConflictWarning: Cannot merge meta key 'ONTIME' types <class 'float'> and <class 'float'>, choosing ONTIME=1190.0 [astropy.utils.metadata]\n",
      "WARNING: MergeConflictWarning: Cannot merge meta key 'LIVETIME' types <class 'float'> and <class 'float'>, choosing LIVETIME=1173.138 [astropy.utils.metadata]\n",
      "WARNING: MergeConflictWarning: Cannot merge meta key 'DEADC' types <class 'float'> and <class 'float'>, choosing DEADC=0.9858305 [astropy.utils.metadata]\n",
      "WARNING: MergeConflictWarning: Cannot merge meta key 'RA_PNT' types <class 'float'> and <class 'float'>, choosing RA_PNT=50.4375 [astropy.utils.metadata]\n",
      "WARNING: MergeConflictWarning: Cannot merge meta key 'DEC_PNT' types <class 'float'> and <class 'float'>, choosing DEC_PNT=41.35305 [astropy.utils.metadata]\n",
      "WARNING: MergeConflictWarning: Cannot merge meta key 'ALT_PNT' types <class 'float'> and <class 'float'>, choosing ALT_PNT=76.38058 [astropy.utils.metadata]\n",
      "WARNING: MergeConflictWarning: Cannot merge meta key 'AZ_PNT' types <class 'float'> and <class 'float'>, choosing AZ_PNT=-19.56814 [astropy.utils.metadata]\n",
      "WARNING: MergeConflictWarning: Cannot merge meta key 'OBS_ID' types <class 'int'> and <class 'int'>, choosing OBS_ID=5059489 [astropy.utils.metadata]\n",
      "WARNING: MergeConflictWarning: Cannot merge meta key 'TSTART' types <class 'float'> and <class 'float'>, choosing TSTART=436141600.0 [astropy.utils.metadata]\n",
      "WARNING: MergeConflictWarning: Cannot merge meta key 'TSTOP' types <class 'float'> and <class 'float'>, choosing TSTOP=436142800.0 [astropy.utils.metadata]\n",
      "WARNING: MergeConflictWarning: Cannot merge meta key 'ONTIME' types <class 'float'> and <class 'float'>, choosing ONTIME=1186.0 [astropy.utils.metadata]\n",
      "WARNING: MergeConflictWarning: Cannot merge meta key 'LIVETIME' types <class 'float'> and <class 'float'>, choosing LIVETIME=1172.286 [astropy.utils.metadata]\n",
      "WARNING: MergeConflictWarning: Cannot merge meta key 'DEADC' types <class 'float'> and <class 'float'>, choosing DEADC=0.9884369 [astropy.utils.metadata]\n",
      "WARNING: MergeConflictWarning: Cannot merge meta key 'RA_PNT' types <class 'float'> and <class 'float'>, choosing RA_PNT=50.22917 [astropy.utils.metadata]\n",
      "WARNING: MergeConflictWarning: Cannot merge meta key 'DEC_PNT' types <class 'float'> and <class 'float'>, choosing DEC_PNT=41.85111 [astropy.utils.metadata]\n",
      "WARNING: MergeConflictWarning: Cannot merge meta key 'ALT_PNT' types <class 'float'> and <class 'float'>, choosing ALT_PNT=73.91575 [astropy.utils.metadata]\n",
      "WARNING: MergeConflictWarning: Cannot merge meta key 'AZ_PNT' types <class 'float'> and <class 'float'>, choosing AZ_PNT=-31.89155 [astropy.utils.metadata]\n",
      "WARNING: MergeConflictWarning: Cannot merge meta key 'OBS_ID' types <class 'int'> and <class 'int'>, choosing OBS_ID=5059490 [astropy.utils.metadata]\n",
      "WARNING: MergeConflictWarning: Cannot merge meta key 'TSTART' types <class 'float'> and <class 'float'>, choosing TSTART=436142800.0 [astropy.utils.metadata]\n",
      "WARNING: MergeConflictWarning: Cannot merge meta key 'TSTOP' types <class 'float'> and <class 'float'>, choosing TSTOP=436144000.0 [astropy.utils.metadata]\n",
      "WARNING: MergeConflictWarning: Cannot merge meta key 'ONTIME' types <class 'float'> and <class 'float'>, choosing ONTIME=1188.0 [astropy.utils.metadata]\n",
      "WARNING: MergeConflictWarning: Cannot merge meta key 'LIVETIME' types <class 'float'> and <class 'float'>, choosing LIVETIME=1172.134 [astropy.utils.metadata]\n",
      "WARNING: MergeConflictWarning: Cannot merge meta key 'DEADC' types <class 'float'> and <class 'float'>, choosing DEADC=0.986645 [astropy.utils.metadata]\n",
      "WARNING: MergeConflictWarning: Cannot merge meta key 'RA_PNT' types <class 'float'> and <class 'float'>, choosing RA_PNT=49.66667 [astropy.utils.metadata]\n",
      "WARNING: MergeConflictWarning: Cannot merge meta key 'DEC_PNT' types <class 'float'> and <class 'float'>, choosing DEC_PNT=41.17139 [astropy.utils.metadata]\n",
      "WARNING: MergeConflictWarning: Cannot merge meta key 'ALT_PNT' types <class 'float'> and <class 'float'>, choosing ALT_PNT=71.33998 [astropy.utils.metadata]\n",
      "WARNING: MergeConflictWarning: Cannot merge meta key 'AZ_PNT' types <class 'float'> and <class 'float'>, choosing AZ_PNT=-43.42561 [astropy.utils.metadata]\n"
     ]
    }
   ],
   "source": [
    "from gammapy.data import EventList, GTI\n",
    "\n",
    "filename_1 = '../../data/ngc1275/magic/20170101_05059487_DL3_NGC1275-W0.40+157.fits'\n",
    "filename_3 = '../../data/ngc1275/magic/20170101_05059489_DL3_NGC1275-W0.40+058.fits'\n",
    "filename_2 = '../../data/ngc1275/magic/20170101_05059488_DL3_NGC1275-W0.40+337.fits'\n",
    "filename_4 = '../../data/ngc1275/magic/20170101_05059490_DL3_NGC1275-W0.40+238.fits'\n",
    "\n",
    "events_1 = EventList.read(filename_1)\n",
    "events_2 = EventList.read(filename_2)\n",
    "events_3 = EventList.read(filename_3)\n",
    "events_4 = EventList.read(filename_4)\n",
    "\n",
    "\n",
    "gti_1 = GTI.read(filename_1)\n",
    "gti_2 = GTI.read(filename_2)\n",
    "gti_3 = GTI.read(filename_3)\n",
    "gti_4 = GTI.read(filename_4)\n",
    "\n",
    "# stack in place, now the _1 object contains the information of both\n",
    "#gti_1.stack(gti_2)\n",
    "#gti_1.stack(gti_3)\n",
    "#gti_1.stack(gti_4)\n",
    "#events_1.stack(events_2)\n",
    "#events_1.stack(events_3)\n",
    "#events_1.stack(events_4)\n",
    "\n",
    "# or instead create a new event list from the other two\n",
    "combined_events = EventList.from_stack([events_1, events_2, events_3, events_4])"
   ]
  },
  {
   "cell_type": "code",
   "execution_count": 105,
   "metadata": {},
   "outputs": [
    {
     "data": {
      "image/png": "[encoded data removed]",
      "text/plain": [
       "<Figure size 1200x800 with 5 Axes>"
      ]
     },
     "metadata": {},
     "output_type": "display_data"
    }
   ],
   "source": [
    "combined_events.peek()"
   ]
  },
  {
   "cell_type": "code",
   "execution_count": 125,
   "metadata": {},
   "outputs": [
    {
     "data": {
      "text/latex": [
       "[$-13^\\circ37{}^\\prime15.02544351{}^{\\prime\\prime}$\n",
       " $-13^\\circ15{}^\\prime47.37025575{}^{\\prime\\prime}$\n",
       " $-13^\\circ17{}^\\prime15.30965471{}^{\\prime\\prime}$ ...\n",
       " $-13^\\circ56{}^\\prime32.21347644{}^{\\prime\\prime}$\n",
       " $-14^\\circ12{}^\\prime29.42222047{}^{\\prime\\prime}$\n",
       " $-14^\\circ49{}^\\prime32.89266244{}^{\\prime\\prime}$]"
      ],
      "text/plain": [
       "<Latitude [-13.6208404 , -13.2631584 , -13.28758602, ..., -13.94228152,\n",
       "           -14.20817284, -14.82580352] deg>"
      ]
     },
     "execution_count": 125,
     "metadata": {},
     "output_type": "execute_result"
    }
   ],
   "source": [
    "combined_events.galactic.b"
   ]
  },
  {
   "cell_type": "code",
   "execution_count": null,
   "metadata": {},
   "outputs": [],
   "source": []
  },
  {
   "cell_type": "code",
   "execution_count": null,
   "metadata": {},
   "outputs": [],
   "source": []
  },
  {
   "cell_type": "code",
   "execution_count": null,
   "metadata": {},
   "outputs": [],
   "source": []
  },
  {
   "cell_type": "code",
   "execution_count": null,
   "metadata": {},
   "outputs": [],
   "source": []
  },
  {
   "cell_type": "code",
   "execution_count": null,
   "metadata": {},
   "outputs": [],
   "source": []
  },
  {
   "cell_type": "code",
   "execution_count": null,
   "metadata": {},
   "outputs": [],
   "source": []
  },
  {
   "cell_type": "code",
   "execution_count": null,
   "metadata": {},
   "outputs": [],
   "source": []
  },
  {
   "cell_type": "code",
   "execution_count": 63,
   "metadata": {},
   "outputs": [
    {
     "data": {
      "text/plain": [
       "<gammapy.irf.rad_max.RadMax2D at 0x7fec1db03520>"
      ]
     },
     "execution_count": 63,
     "metadata": {},
     "output_type": "execute_result"
    }
   ],
   "source": [
    "rad_max = obs_ngc1275[\"5059487\"].rad_max\n",
    "rad_max"
   ]
  },
  {
   "cell_type": "code",
   "execution_count": 8,
   "metadata": {},
   "outputs": [
    {
     "name": "stdout",
     "output_type": "stream",
     "text": [
      "Observations\n",
      "Number of observations: 2\n",
      "Observation\n",
      "\n",
      "\tobs id            : 5059487 \n",
      " \ttstart            : 57753.91\n",
      "\ttstop             : 57753.92\n",
      "\tduration          : 1216.00 s\n",
      "\tpointing (icrs)   : 49.5 deg, 41.7 deg\n",
      "\n",
      "\tdeadtime fraction : 1.2%\n",
      "Observation\n",
      "\n",
      "\tobs id            : 5059488 \n",
      " \ttstart            : 57753.92\n",
      "\ttstop             : 57753.93\n",
      "\tduration          : 1184.00 s\n",
      "\tpointing (icrs)   : 50.4 deg, 41.4 deg\n",
      "\n",
      "\tdeadtime fraction : 1.4%\n",
      "\n"
     ]
    }
   ],
   "source": [
    "obs_ngc1275 = datastore.get_observations(obs_ids, required_irf='point-like')\n",
    "print(obs_ngc1275)"
   ]
  },
  {
   "cell_type": "code",
   "execution_count": 57,
   "metadata": {},
   "outputs": [
    {
     "data": {
      "text/latex": [
       "$41^\\circ30{}^\\prime42.10885084{}^{\\prime\\prime}$"
      ],
      "text/plain": [
       "<Latitude 41.5116969 deg>"
      ]
     },
     "execution_count": 57,
     "metadata": {},
     "output_type": "execute_result"
    }
   ],
   "source": [
    "pos = SkyCoord.from_name(\"NGC1275\")\n",
    "pos.data.lat\n"
   ]
  },
  {
   "cell_type": "code",
   "execution_count": 56,
   "metadata": {},
   "outputs": [
    {
     "name": "stdout",
     "output_type": "stream",
     "text": [
      "Observations\n",
      "Number of observations: 2\n",
      "Observation\n",
      "\n",
      "\tobs id            : 5059487 \n",
      " \ttstart            : 57753.91\n",
      "\ttstop             : 57753.92\n",
      "\tduration          : 1216.00 s\n",
      "\tpointing (icrs)   : 49.5 deg, 41.7 deg\n",
      "\n",
      "\tdeadtime fraction : 1.2%\n",
      "Observation\n",
      "\n",
      "\tobs id            : 5059488 \n",
      " \ttstart            : 57753.92\n",
      "\ttstop             : 57753.93\n",
      "\tduration          : 1184.00 s\n",
      "\tpointing (icrs)   : 50.4 deg, 41.4 deg\n",
      "\n",
      "\tdeadtime fraction : 1.4%\n",
      "\n"
     ]
    }
   ],
   "source": [
    "obs_ngc1275 = datastore.get_observations(obs_ids, required_irf=[\"aeff\", \"edisp\", \"rad_max\"]\n",
    ")\n",
    "print(obs_ngc1275)"
   ]
  },
  {
   "cell_type": "code",
   "execution_count": 59,
   "metadata": {},
   "outputs": [
    {
     "data": {
      "text/plain": [
       "OrderedDict([('EXTNAME', 'EFFECTIVE AREA'),\n",
       "             ('HDUCLASS', 'GADF'),\n",
       "             ('HDUDOC',\n",
       "              'https://github.com/open-gamma-ray-astro/gamma-astro-data-formats'),\n",
       "             ('HDUVERS', '0.2'),\n",
       "             ('HDUCLAS1', 'RESPONSE'),\n",
       "             ('HDUCLAS2', 'EFF_AREA'),\n",
       "             ('HDUCLAS3', 'POINT-LIKE'),\n",
       "             ('HDUCLAS4', 'AEFF_2D'),\n",
       "             ('CREF5', '(ENERG_LO:ENERG_HI,THETA_LO:THETA_HI)'),\n",
       "             ('OBS_ID', 5059487),\n",
       "             ('LO_THRES', 0.0786337)])"
      ]
     },
     "execution_count": 59,
     "metadata": {},
     "output_type": "execute_result"
    }
   ],
   "source": [
    "obs_ngc1275[0].aeff.meta"
   ]
  },
  {
   "cell_type": "code",
   "execution_count": 79,
   "metadata": {},
   "outputs": [
    {
     "ename": "ValueError",
     "evalue": "'radius' must be a scalar",
     "output_type": "error",
     "traceback": [
      "\u001b[0;31m---------------------------------------------------------------------------\u001b[0m",
      "\u001b[0;31mValueError\u001b[0m                                Traceback (most recent call last)",
      "Input \u001b[0;32mIn [79]\u001b[0m, in \u001b[0;36m<cell line: 8>\u001b[0;34m()\u001b[0m\n\u001b[1;32m      6\u001b[0m on_region_radius \u001b[38;5;241m=\u001b[39m Angle(theta\u001b[38;5;241m.\u001b[39mdata\u001b[38;5;241m*\u001b[39mu\u001b[38;5;241m.\u001b[39mdeg)\n\u001b[1;32m      7\u001b[0m on_region_radius\u001b[38;5;241m.\u001b[39mto(\u001b[38;5;124m'\u001b[39m\u001b[38;5;124mrad\u001b[39m\u001b[38;5;124m'\u001b[39m)\n\u001b[0;32m----> 8\u001b[0m on_region \u001b[38;5;241m=\u001b[39m \u001b[43mCircleSkyRegion\u001b[49m\u001b[43m(\u001b[49m\u001b[43mcenter\u001b[49m\u001b[38;5;241;43m=\u001b[39;49m\u001b[43mtarget_position\u001b[49m\u001b[43m,\u001b[49m\u001b[43m \u001b[49m\u001b[43mradius\u001b[49m\u001b[38;5;241;43m=\u001b[39;49m\u001b[43mon_region_radius\u001b[49m\u001b[43m)\u001b[49m\n\u001b[1;32m     10\u001b[0m skydir \u001b[38;5;241m=\u001b[39m target_position\u001b[38;5;241m.\u001b[39mgalactic\n",
      "File \u001b[0;32m~/opt/mambaforge/envs/gammapy-0.20/lib/python3.8/site-packages/regions/shapes/circle.py:206\u001b[0m, in \u001b[0;36mCircleSkyRegion.__init__\u001b[0;34m(self, center, radius, meta, visual)\u001b[0m\n\u001b[1;32m    204\u001b[0m \u001b[38;5;28;01mdef\u001b[39;00m \u001b[38;5;21m__init__\u001b[39m(\u001b[38;5;28mself\u001b[39m, center, radius, meta\u001b[38;5;241m=\u001b[39m\u001b[38;5;28;01mNone\u001b[39;00m, visual\u001b[38;5;241m=\u001b[39m\u001b[38;5;28;01mNone\u001b[39;00m):\n\u001b[1;32m    205\u001b[0m     \u001b[38;5;28mself\u001b[39m\u001b[38;5;241m.\u001b[39mcenter \u001b[38;5;241m=\u001b[39m center\n\u001b[0;32m--> 206\u001b[0m     \u001b[38;5;28;43mself\u001b[39;49m\u001b[38;5;241;43m.\u001b[39;49m\u001b[43mradius\u001b[49m \u001b[38;5;241m=\u001b[39m radius\n\u001b[1;32m    207\u001b[0m     \u001b[38;5;28mself\u001b[39m\u001b[38;5;241m.\u001b[39mmeta \u001b[38;5;241m=\u001b[39m meta \u001b[38;5;129;01mor\u001b[39;00m RegionMeta()\n\u001b[1;32m    208\u001b[0m     \u001b[38;5;28mself\u001b[39m\u001b[38;5;241m.\u001b[39mvisual \u001b[38;5;241m=\u001b[39m visual \u001b[38;5;129;01mor\u001b[39;00m RegionVisual()\n",
      "File \u001b[0;32m~/opt/mambaforge/envs/gammapy-0.20/lib/python3.8/site-packages/regions/core/attributes.py:40\u001b[0m, in \u001b[0;36mRegionAttribute.__set__\u001b[0;34m(self, instance, value)\u001b[0m\n\u001b[1;32m     39\u001b[0m \u001b[38;5;28;01mdef\u001b[39;00m \u001b[38;5;21m__set__\u001b[39m(\u001b[38;5;28mself\u001b[39m, instance, value):\n\u001b[0;32m---> 40\u001b[0m     \u001b[38;5;28;43mself\u001b[39;49m\u001b[38;5;241;43m.\u001b[39;49m\u001b[43m_validate\u001b[49m\u001b[43m(\u001b[49m\u001b[43mvalue\u001b[49m\u001b[43m)\u001b[49m\n\u001b[1;32m     41\u001b[0m     instance\u001b[38;5;241m.\u001b[39m\u001b[38;5;18m__dict__\u001b[39m[\u001b[38;5;28mself\u001b[39m\u001b[38;5;241m.\u001b[39mname] \u001b[38;5;241m=\u001b[39m value\n",
      "File \u001b[0;32m~/opt/mambaforge/envs/gammapy-0.20/lib/python3.8/site-packages/regions/core/attributes.py:143\u001b[0m, in \u001b[0;36mPositiveScalarAngle._validate\u001b[0;34m(self, value)\u001b[0m\n\u001b[1;32m    141\u001b[0m \u001b[38;5;28;01mif\u001b[39;00m \u001b[38;5;28misinstance\u001b[39m(value, Quantity):\n\u001b[1;32m    142\u001b[0m     \u001b[38;5;28;01mif\u001b[39;00m \u001b[38;5;129;01mnot\u001b[39;00m value\u001b[38;5;241m.\u001b[39misscalar:\n\u001b[0;32m--> 143\u001b[0m         \u001b[38;5;28;01mraise\u001b[39;00m \u001b[38;5;167;01mValueError\u001b[39;00m(\u001b[38;5;124mf\u001b[39m\u001b[38;5;124m'\u001b[39m\u001b[38;5;132;01m{\u001b[39;00m\u001b[38;5;28mself\u001b[39m\u001b[38;5;241m.\u001b[39mname\u001b[38;5;132;01m!r}\u001b[39;00m\u001b[38;5;124m must be a scalar\u001b[39m\u001b[38;5;124m'\u001b[39m)\n\u001b[1;32m    145\u001b[0m     \u001b[38;5;28;01mif\u001b[39;00m \u001b[38;5;129;01mnot\u001b[39;00m value\u001b[38;5;241m.\u001b[39munit\u001b[38;5;241m.\u001b[39mphysical_type \u001b[38;5;241m==\u001b[39m \u001b[38;5;124m'\u001b[39m\u001b[38;5;124mangle\u001b[39m\u001b[38;5;124m'\u001b[39m:\n\u001b[1;32m    146\u001b[0m         \u001b[38;5;28;01mraise\u001b[39;00m \u001b[38;5;167;01mValueError\u001b[39;00m(\u001b[38;5;124mf\u001b[39m\u001b[38;5;124m'\u001b[39m\u001b[38;5;132;01m{\u001b[39;00m\u001b[38;5;28mself\u001b[39m\u001b[38;5;241m.\u001b[39mname\u001b[38;5;132;01m!r}\u001b[39;00m\u001b[38;5;124m must have angular units\u001b[39m\u001b[38;5;124m'\u001b[39m)\n",
      "\u001b[0;31mValueError\u001b[0m: 'radius' must be a scalar"
     ]
    }
   ],
   "source": [
    "target_position = SkyCoord(ra=pos.data.lon, dec=pos.data.lat, unit=\"deg\", frame=\"icrs\")\n",
    "\n",
    "theta = obs_ngc1275[0].rad_max\n",
    "assert all(o.rad_max == theta for o in obs_ngc1275)\n",
    "\n",
    "on_region_radius = Angle(theta.data*u.deg)\n",
    "on_region_radius.to('rad')\n",
    "on_region = CircleSkyRegion(center=target_position, radius=on_region_radius)\n",
    "\n",
    "skydir = target_position.galactic"
   ]
  },
  {
   "cell_type": "code",
   "execution_count": null,
   "metadata": {},
   "outputs": [],
   "source": []
  },
  {
   "cell_type": "code",
   "execution_count": null,
   "metadata": {},
   "outputs": [],
   "source": []
  },
  {
   "cell_type": "code",
   "execution_count": null,
   "metadata": {},
   "outputs": [],
   "source": []
  },
  {
   "cell_type": "code",
   "execution_count": null,
   "metadata": {},
   "outputs": [],
   "source": []
  },
  {
   "cell_type": "code",
   "execution_count": null,
   "metadata": {},
   "outputs": [],
   "source": []
  },
  {
   "cell_type": "code",
   "execution_count": null,
   "metadata": {},
   "outputs": [],
   "source": []
  },
  {
   "cell_type": "code",
   "execution_count": null,
   "metadata": {},
   "outputs": [],
   "source": []
  },
  {
   "cell_type": "markdown",
   "metadata": {},
   "source": [
    "# OLD STUFF"
   ]
  },
  {
   "cell_type": "code",
   "execution_count": null,
   "metadata": {},
   "outputs": [],
   "source": [
    "en_s1  = evt1['ENERGY']\n",
    "t_s1   = evt1['TIME']\n",
    "ra_s1  = evt1['RA']\n",
    "dec_s1 = evt1['DEC']\n",
    "g_s1   = evt1['GAMMANESS']"
   ]
  },
  {
   "cell_type": "code",
   "execution_count": null,
   "metadata": {},
   "outputs": [],
   "source": [
    "en_s2  = evt2['ENERGY']\n",
    "t_s2   = evt2['TIME']\n",
    "ra_s2  = evt2['RA']\n",
    "dec_s2 = evt2['DEC']\n",
    "g_s2   = evt2['GAMMANESS']"
   ]
  },
  {
   "cell_type": "code",
   "execution_count": null,
   "metadata": {},
   "outputs": [],
   "source": [
    "en_s3  = evt3['ENERGY']\n",
    "t_s3   = evt3['TIME']\n",
    "ra_s3  = evt3['RA']\n",
    "dec_s3 = evt3['DEC']\n",
    "g_s3   = evt3['GAMMANESS']"
   ]
  },
  {
   "cell_type": "code",
   "execution_count": null,
   "metadata": {},
   "outputs": [],
   "source": [
    "# Direction of the events\n",
    "plt.plot(dec,ra,marker='s', markersize='0.2',linewidth='0',alpha=0.5, label=\"all\")\n",
    "plt.plot(dec_s1,ra_s1,marker='o', markersize='2',linewidth='0',alpha=0.5, label=\"Low Energy\")\n",
    "plt.plot(dec_s2,ra_s2,marker='o', markersize='2',linewidth='0',alpha=0.5, label=\"High Energy\")\n",
    "plt.plot(dec_s3,ra_s3,marker='o', markersize='2',linewidth='0',alpha=0.5, label=\"Gammaness > 0.95\")\n",
    "plt.plot(dec_obj,ra_obj, marker=\"*\", markersize=\"12\",linewidth='0', label=\"Object Sky coordinate\")\n",
    "plt.plot(dec_pnt,ra_pnt, marker=\"x\", color = 'black', markersize=\"10\", linewidth='0', label=\"Observed coordinate\")\n",
    "plt.xlabel('Dec [deg]')\n",
    "plt.ylabel('RA [deg]')\n",
    "plt.title('Sky Event Distribution')\n",
    "plt.legend(loc=\"best\")"
   ]
  },
  {
   "cell_type": "code",
   "execution_count": null,
   "metadata": {},
   "outputs": [],
   "source": [
    "# Direction of the events\n",
    "plt.plot(dec,ra,marker='s', markersize='0.2',linewidth='0',alpha=0.6, label=\"all\")\n",
    "plt.plot(decsel,rasel,marker='s', markersize='0.4',linewidth='0',label=\"selected\")\n",
    "plt.xlabel('Dec [deg]')\n",
    "plt.ylabel('RA [deg]')\n",
    "plt.legend(loc=\"best\")"
   ]
  },
  {
   "cell_type": "code",
   "execution_count": null,
   "metadata": {},
   "outputs": [],
   "source": [
    "# Direction of the events\n",
    "plt.plot(dx,dy,marker='s', markersize='0.2',linewidth='0')\n"
   ]
  },
  {
   "cell_type": "code",
   "execution_count": null,
   "metadata": {},
   "outputs": [],
   "source": []
  }
 ],
 "metadata": {
  "kernelspec": {
   "display_name": "Python 3 (ipykernel)",
   "language": "python",
   "name": "python3"
  },
  "language_info": {
   "codemirror_mode": {
    "name": "ipython",
    "version": 3
   },
   "file_extension": ".py",
   "mimetype": "text/x-python",
   "name": "python",
   "nbconvert_exporter": "python",
   "pygments_lexer": "ipython3",
   "version": "3.8.13"
  }
 },
 "nbformat": 4,
 "nbformat_minor": 4
}
