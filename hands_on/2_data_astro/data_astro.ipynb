{
 "cells": [
  {
   "cell_type": "markdown",
   "metadata": {},
   "source": [
    "# Hands On Instrument Data Selection and Binning"
   ]
  },
  {
   "cell_type": "markdown",
   "metadata": {},
   "source": [
    "This notebook teaches how to deal with DL3 data from current IACTs and other HE or VHE instruments. The Data Level 3 (DL3) format is described here \n",
    "\n",
    "Please refer to [this notebook](https://github.com/arqus-gamma/arqus_school_2022/blob/main/hands_on/1_read_data/Read_data_with_astropy_hands_on.ipynb) for preliminary introduction"
   ]
  },
  {
   "cell_type": "markdown",
   "metadata": {},
   "source": [
    "## Initial Setup\n",
    "\n",
    "As usual, we start by installing some standards packages. We try to be minimal and install only those stricly required.\n",
    "Check package versions. All examples should work with Astropy > 2.0 and Numpy > 1.11"
   ]
  },
  {
   "cell_type": "code",
   "execution_count": null,
   "metadata": {},
   "outputs": [],
   "source": [
    "%matplotlib inline  \n",
    "import matplotlib.pyplot as plt"
   ]
  },
  {
   "cell_type": "code",
   "execution_count": null,
   "metadata": {},
   "outputs": [
    {
     "name": "stdout",
     "output_type": "stream",
     "text": [
      "numpy: 1.23.2\n",
      "astropy: 5.1\n"
     ]
    }
   ],
   "source": [
    "import numpy as np\n",
    "import astropy\n",
    "from astropy import units as u\n",
    "from astropy import constants as const\n",
    "from astropy.coordinates import SkyCoord\n",
    "from astropy.coordinates import Angle\n",
    "# from astropy.time import Time\n",
    "from astropy.table import Table\n",
    "from astropy.io import fits\n",
    "\n",
    "\n",
    "print('numpy:', np.__version__)\n",
    "print('astropy:', astropy.__version__)"
   ]
  },
  {
   "cell_type": "markdown",
   "metadata": {},
   "source": [
    "However, in most cases, remember that for analyzing specific instruments' data, often additional packages are to be installed, that are somewhat specific of the instrument. In many cases, they are tailored functions"
   ]
  },
  {
   "cell_type": "code",
   "execution_count": null,
   "metadata": {},
   "outputs": [],
   "source": [
    "import gammapy\n",
    "from gammapy.data import Observation, Observations, DataStore\n",
    "from gammapy.makers import SafeMaskMaker, MapDatasetMaker, SpectrumDatasetMaker, ReflectedRegionsBackgroundMaker, WobbleRegionsFinder\n",
    "\n",
    "# dataset modules\n",
    "from gammapy.datasets import (\n",
    "    MapDataset, \n",
    "    MapDatasetOnOff, \n",
    "    MapDatasetEventSampler,\n",
    "    SpectrumDatasetOnOff,\n",
    "    SpectrumDataset, \n",
    "    Datasets,\n",
    "    FluxPointsDataset\n",
    ")"
   ]
  },
  {
   "cell_type": "code",
   "execution_count": null,
   "metadata": {},
   "outputs": [],
   "source": [
    "from astropy.visualization.wcsaxes import SphericalCircle\n",
    "from astropy.wcs import WCS"
   ]
  },
  {
   "cell_type": "markdown",
   "metadata": {},
   "source": [
    "## 1. Data Sample\n",
    "\n",
    "In this part we start selecting the data of interest for the further analysis.\n",
    "\n",
    "Let's first check what's in the data folder. The mark `!` specifies a terminal line command"
   ]
  },
  {
   "cell_type": "code",
   "execution_count": null,
   "metadata": {},
   "outputs": [
    {
     "name": "stdout",
     "output_type": "stream",
     "text": [
      "README.md        \u001b[31mdownload_data.sh\u001b[m\u001b[m\n"
     ]
    }
   ],
   "source": [
    "!ls ../../data/"
   ]
  },
  {
   "cell_type": "markdown",
   "metadata": {},
   "source": [
    "We see that we have 4 targets, as well the complete list of files. Let's open one target, the 'crab nebula'. This dataset comes from a joint publication about that source with a small subsample of data from different experiments. Normally data are private this is the reason for the 'small dataset' for that source.\n"
   ]
  },
  {
   "cell_type": "code",
   "execution_count": null,
   "metadata": {},
   "outputs": [
    {
     "name": "stdout",
     "output_type": "stream",
     "text": [
      "ls: ../../data/crab_nebula/: No such file or directory\n"
     ]
    }
   ],
   "source": [
    "!ls ../../data/crab_nebula/\n",
    "#!ls ../../data/pks2155/"
   ]
  },
  {
   "cell_type": "markdown",
   "metadata": {},
   "source": [
    "Great! More than 5 instruments data for our targets. Let's start with MAGIC data:"
   ]
  },
  {
   "cell_type": "code",
   "execution_count": null,
   "metadata": {},
   "outputs": [
    {
     "name": "stdout",
     "output_type": "stream",
     "text": [
      "ls: ../../data/ngc1275/magic: No such file or directory\n"
     ]
    }
   ],
   "source": [
    "#!ls ../../data/crab_nebula/magic\n",
    "#!ls ../../data/pks2155/hess/\n",
    "#!ls ../../data/ic310/magic\n",
    "!ls ../../data/ngc1275/magic"
   ]
  },
  {
   "cell_type": "markdown",
   "metadata": {},
   "source": [
    "So we have two files (run): 05029747 and 05029748. Let's open one of them. "
   ]
  },
  {
   "cell_type": "code",
   "execution_count": 37,
   "metadata": {},
   "outputs": [],
   "source": [
    "#fits_file = fits.open('../../data/crab_nebula/magic/run_05029747_DL3.fits')\n",
    "fits_file = fits.open('../../data/ngc1275/magic/20170101_05059487_DL3_NGC1275-W0.40+157.fits')\n",
    "#fits_file = fits.open('../../data/pks2155/hess/hess_dl3_dr1_obs_id_033787.fits.gz')\n",
    "#fits_file = fits.open('../../data/ic310/magic/20121113_05020910_DL3_NGC1275-W0.40+238.fits')"
   ]
  },
  {
   "cell_type": "code",
   "execution_count": null,
   "metadata": {},
   "outputs": [],
   "source": [
    "#m astropy.table import Table, hstack\n",
    "\n",
    "#t1 = Table.read('../../data/ngc1275/magic/20170101_05059487_DL3_NGC1275-W0.40+157.fits', format='fits')\n",
    "#t2 = Table.read('../../data/ngc1275/magic/20170101_05059498_DL3_NGC1275-W0.40+157.fits', format='fits')\n",
    "#new = hstack([t1, t2])\n",
    "#new.write('combined.fits')"
   ]
  },
  {
   "cell_type": "markdown",
   "metadata": {},
   "source": [
    "To see what's inside we have a look at the Data Units. Let's check the header data unit (HDU) by calling `.info()`:"
   ]
  },
  {
   "cell_type": "code",
   "execution_count": 43,
   "metadata": {},
   "outputs": [
    {
     "name": "stdout",
     "output_type": "stream",
     "text": [
      "Filename: ../../data/ngc1275/magic/20170101_05059487_DL3_NGC1275-W0.40+157.fits\n",
      "No.    Name      Ver    Type      Cards   Dimensions   Format\n",
      "  0  PRIMARY       1 PrimaryHDU       6   ()      \n",
      "  1  EVENTS        1 BinTableHDU     62   12614R x 8C   [1K, 1D, 1E, 1E, 1E, 1E, 1E, 1E]   \n",
      "  2  GTI           1 BinTableHDU     24   1R x 2C   [1D, 1D]   \n",
      "  3  RAD_MAX       1 BinTableHDU     33   1R x 5C   [28E, 28E, 1E, 1E, 28E]   \n",
      "  4  EFFECTIVE AREA    1 BinTableHDU     35   1R x 5C   ['40E', '40E', '1E', '1E', '40E']   \n",
      "  5  ENERGY DISPERSION    1 BinTableHDU     36   1R x 7C   [40E, 40E, 28E, 28E, 1E, 1E, 1120E]   \n"
     ]
    }
   ],
   "source": [
    "fits_file.info()"
   ]
  },
  {
   "cell_type": "markdown",
   "metadata": {},
   "source": [
    "We see that we have:\n",
    "* PRIMARY which contains file-related information\n",
    "* EVENTS contains the actual event list of our interest\n",
    "* GTI contains the \n",
    "* EFFECTIVE AREA is an important experiment information  \n",
    "* ENERGY DISPERSION is a second important experimental information"
   ]
  },
  {
   "cell_type": "markdown",
   "metadata": {},
   "source": [
    "We import the PRIMARY and check what is inside. The PRIMARY contains only a short header and no data"
   ]
  },
  {
   "cell_type": "code",
   "execution_count": 41,
   "metadata": {},
   "outputs": [
    {
     "data": {
      "text/plain": [
       "SIMPLE  =                    T / file does conform to FITS standard             \n",
       "BITPIX  =                   16 / number of bits per data pixel                  \n",
       "NAXIS   =                    0 / number of data axes                            \n",
       "EXTEND  =                    T / FITS dataset may contain extensions            \n",
       "COMMENT   FITS (Flexible Image Transport System) format is defined in 'Astronomy\n",
       "COMMENT   and Astrophysics', volume 376, page 359; bibcode: 2001A&A...376..359H "
      ]
     },
     "execution_count": 41,
     "metadata": {},
     "output_type": "execute_result"
    }
   ],
   "source": [
    "primary = fits_file['PRIMARY'] \n",
    "primary.header\n",
    "#primary.data"
   ]
  },
  {
   "cell_type": "markdown",
   "metadata": {},
   "source": [
    "Let's look at the EVENT HDU. Here are the events information. First with the header"
   ]
  },
  {
   "cell_type": "code",
   "execution_count": 42,
   "metadata": {},
   "outputs": [
    {
     "data": {
      "text/plain": [
       "XTENSION= 'BINTABLE'           / binary table extension                         \n",
       "BITPIX  =                    8 / 8-bit bytes                                    \n",
       "NAXIS   =                    2 / 2-dimensional binary table                     \n",
       "NAXIS1  =                   40 / width of table in bytes                        \n",
       "NAXIS2  =                12614 / number of rows in table                        \n",
       "PCOUNT  =                    0 / size of special data area                      \n",
       "GCOUNT  =                    1 / one data group (required keyword)              \n",
       "TFIELDS =                    8 / number of fields in each row                   \n",
       "TTYPE1  = 'EVENT_ID'           / label for field   1                            \n",
       "TFORM1  = '1K      '           / data format of field: 8-byte INTEGER           \n",
       "TTYPE2  = 'TIME    '           / label for field   2                            \n",
       "TFORM2  = '1D      '           / data format of field: 8-byte DOUBLE            \n",
       "TUNIT2  = 's       '           / physical unit of field                         \n",
       "TTYPE3  = 'RA      '           / label for field   3                            \n",
       "TFORM3  = '1E      '           / data format of field: 4-byte REAL              \n",
       "TUNIT3  = 'deg     '           / physical unit of field                         \n",
       "TTYPE4  = 'DEC     '           / label for field   4                            \n",
       "TFORM4  = '1E      '           / data format of field: 4-byte REAL              \n",
       "TUNIT4  = 'deg     '           / physical unit of field                         \n",
       "TTYPE5  = 'ENERGY  '           / label for field   5                            \n",
       "TFORM5  = '1E      '           / data format of field: 4-byte REAL              \n",
       "TUNIT5  = 'TeV     '           / physical unit of field                         \n",
       "TTYPE6  = 'GAMMANESS'          / label for field   6                            \n",
       "TFORM6  = '1E      '           / data format of field: 4-byte REAL              \n",
       "TTYPE7  = 'DETX    '           / label for field   7                            \n",
       "TFORM7  = '1E      '           / data format of field: 4-byte REAL              \n",
       "TUNIT7  = 'mm      '           / physical unit of field                         \n",
       "TTYPE8  = 'DETY    '           / label for field   8                            \n",
       "TFORM8  = '1E      '           / data format of field: 4-byte REAL              \n",
       "TUNIT8  = 'mm      '           / physical unit of field                         \n",
       "EXTNAME = 'EVENTS  '           / name of this binary table extension            \n",
       "HDUCLASS= 'GADF    '           / conformant with GADF specifications            \n",
       "HDUDOC  = 'https://github.com/open-gamma-ray-astro/gamma-astro-data-formats' / d\n",
       "HDUVERS = '0.2     '           / version of the format                          \n",
       "HDUCLAS1= 'EVENTS  '           / primary extension class                        \n",
       "OBS_ID  =              5059487 / unique observation identifier                  \n",
       "TSTART  =         4.361391E+08 / [s] observation start time                     \n",
       "TSTOP   =         4.361403E+08 / [s] observation end time                       \n",
       "ONTIME  =                1193. / [s] total good time (sum of GTIs)              \n",
       "LIVETIME=             1178.607 / [s] total effective time                       \n",
       "DEADC   =            0.9879357 / dead time correction                           \n",
       "OBS_MODE= 'POINTING'           / observation mode                               \n",
       "EQUINOX =                2000. / equinox                                        \n",
       "RADECSYS= 'FK5     '           / stellar reference frame                        \n",
       "ORIGIN  = 'MAGIC Collaboration' / organisation that created the FITS file       \n",
       "TELESCOP= 'MAGIC   '           / telescope                                      \n",
       "INSTRUME= 'MAGIC stereo'       / instrument                                     \n",
       "CREATOR = 'MAGIC_DL3'          / software that created the file                 \n",
       "VERSION = '0.1.3   '           / version of the software that created the file  \n",
       "MJDREFI =                52706 / [d] integer part of reference MJD              \n",
       "MJDREFF =                   0. / [d] fractional part of reference MJD           \n",
       "TIMEUNIT= 's       '           / time unit                                      \n",
       "TIMESYS = 'UTC     '           / time system                                    \n",
       "TIMEREF = 'local   '           / time reference frame                           \n",
       "OBJECT  = 'NGC1275 '           / name of the source                             \n",
       "RA_OBJ  =                49.95 / [deg] source RA                                \n",
       "DEC_OBJ =             41.51167 / [deg] source DEC                               \n",
       "OBS_MODE= 'Wobble  '           / observation mode                               \n",
       "RA_PNT  =             49.45417 / [deg] observation pointing RA                  \n",
       "DEC_PNT =             41.66806 / [deg] observation pointing DEC                 \n",
       "ALT_PNT =             76.89065 / [deg] average altitude pointing                \n",
       "AZ_PNT  =            -6.315182 / [deg] average azimuth pointing                 "
      ]
     },
     "execution_count": 42,
     "metadata": {},
     "output_type": "execute_result"
    }
   ],
   "source": [
    "events = fits_file['EVENTS'] \n",
    "events.header"
   ]
  },
  {
   "cell_type": "markdown",
   "metadata": {},
   "source": [
    "Here are a bunch of interesting 'observational' parameter. Let's save some useful parameters"
   ]
  },
  {
   "cell_type": "markdown",
   "metadata": {},
   "source": [
    "Of all the entries, some are worth discussing\n",
    "\n",
    "```\n",
    "OBS_ID  =              5059487 / unique observation identifier                  \n",
    "TSTART  =         4.361391E+08 / [s] observation start time                     \n",
    "TSTOP   =         4.361403E+08 / [s] observation end time                       \n",
    "ONTIME  =                1193. / [s] total good time (sum of GTIs)              \n",
    "LIVETIME=             1178.607 / [s] total effective time                       \n",
    "OBS_MODE= 'POINTING'           / observation mode                               \n",
    "RA_OBJ  =                49.95 / [deg] source RA                                \n",
    "DEC_OBJ =             41.51167 / [deg] source DEC                               \n",
    "OBS_MODE= 'Wobble  '           / observation mode                               \n",
    "RA_PNT  =             49.45417 / [deg] observation pointing RA                  \n",
    "DEC_PNT =             41.66806 / [deg] observation pointing DEC                 \n",
    "ALT_PNT =             76.89065 / [deg] average altitude pointing                \n",
    "AZ_PNT  =            -6.315182 / [deg] average azimuth pointing\n",
    "```"
   ]
  },
  {
   "cell_type": "code",
   "execution_count": null,
   "metadata": {},
   "outputs": [],
   "source": [
    "# Useful parameters from the EVENT header.\n",
    "ra_obj  = events.header['RA_OBJ']\n",
    "dec_obj = events.header['DEC_OBJ']\n",
    "ra_pnt  = events.header['RA_PNT']\n",
    "dec_pnt = events.header['DEC_PNT']  "
   ]
  },
  {
   "cell_type": "markdown",
   "metadata": {},
   "source": [
    "Being sky positions, it is more convenient to convert them in"
   ]
  },
  {
   "cell_type": "code",
   "execution_count": null,
   "metadata": {},
   "outputs": [],
   "source": [
    "pointing_pos =  SkyCoord( events.header.get('RA_PNT') *u.deg,   events.header.get('DEC_PNT') *u.deg )\n",
    "source_pos   =  SkyCoord.from_name(events.header.get('OBJECT'))"
   ]
  },
  {
   "cell_type": "markdown",
   "metadata": {},
   "source": [
    "Let's check the different of the two:"
   ]
  },
  {
   "cell_type": "code",
   "execution_count": null,
   "metadata": {},
   "outputs": [],
   "source": [
    "offset = source_pos.separation(pointing_pos)\n",
    "offset.to( u.deg).value"
   ]
  },
  {
   "cell_type": "markdown",
   "metadata": {},
   "source": [
    "There is a difference of 0.4 deg between the true source position and the pointing position. Why? Because IACTs points the targets slightly off according to the Wobble solution, for a more accurate background estimation...see later!"
   ]
  },
  {
   "cell_type": "markdown",
   "metadata": {},
   "source": [
    "Besides the header, let's see what are the DATA of the EVENT HDU:\n"
   ]
  },
  {
   "cell_type": "code",
   "execution_count": null,
   "metadata": {},
   "outputs": [],
   "source": [
    "events.data\n",
    "events.columns.names\n",
    "\n",
    "# Better uncomment the line below and use the astropy Table class\n",
    "Table(events.data)"
   ]
  },
  {
   "cell_type": "markdown",
   "metadata": {},
   "source": [
    "We can check the whole number of events with the command"
   ]
  },
  {
   "cell_type": "code",
   "execution_count": null,
   "metadata": {},
   "outputs": [],
   "source": [
    "len(events.data)"
   ]
  },
  {
   "cell_type": "markdown",
   "metadata": {},
   "source": [
    "Let's see some events"
   ]
  },
  {
   "cell_type": "code",
   "execution_count": null,
   "metadata": {},
   "outputs": [],
   "source": [
    "en  = events.data['ENERGY']\n",
    "t   = events.data['TIME']\n",
    "ra  = events.data['RA']\n",
    "dec = events.data['DEC']\n",
    "g   = events.data['GAMMANESS']\n",
    "#dx  = events.data['DETX']\n",
    "#dy  = events.data['DETY']"
   ]
  },
  {
   "cell_type": "code",
   "execution_count": null,
   "metadata": {},
   "outputs": [],
   "source": [
    "# Direction of the events\n",
    "fig, ax =  plt.subplots(figsize=(7,7))\n",
    "ax = plt.subplot(projection=wcs)\n",
    "\n",
    "\n",
    "ax.plot(ra,dec,marker='s', markersize='0.2',linewidth='0',alpha=0.5, label=\"All Events\")\n",
    "ax.plot(ra_obj,dec_obj, marker=\"*\", markersize=\"12\",linewidth='0', label=\"Object Sky coordinate\")\n",
    "ax.plot(ra_pnt,dec_pnt, marker=\"x\", color = 'black', markersize=\"10\", linewidth='0', label=\"Observed coordinate\")\n",
    "\n",
    "\n",
    "fov = SphericalCircle( (pointing_pos.ra, pointing_pos.dec),\n",
    "                    3.5 * u.deg,   edgecolor='black', facecolor='none', label=\"FOV\")\n",
    "ax.add_patch(fov)\n",
    "plt.ylabel('Dec [deg]')\n",
    "plt.xlabel('RA [deg]')\n",
    "plt.title('Sky Event Distribution')\n",
    "ax.legend(loc=\"best\")"
   ]
  },
  {
   "cell_type": "markdown",
   "metadata": {},
   "source": [
    "Let's look at how the energy of the data is distributed"
   ]
  },
  {
   "cell_type": "code",
   "execution_count": null,
   "metadata": {},
   "outputs": [],
   "source": [
    "binning = np.logspace(-2,1,20)\n",
    "plt.hist(en,bins=binning,alpha=0.6,log=True)\n",
    "plt.xlabel('Energy [TeV]')\n",
    "plt.ylabel('Counts')\n",
    "plt.title('Energy distribution')\n",
    "plt.xscale('log')"
   ]
  },
  {
   "cell_type": "markdown",
   "metadata": {},
   "source": [
    "What we see is that we have a peak at about 0.1 TeV, a sudden increase below and a regular decrease above that value? Does this make sense? Does the target source have a peak at 0.1 TeV? \n",
    "\n",
    "To understand this we need to look at the effective area of the telescope."
   ]
  },
  {
   "cell_type": "markdown",
   "metadata": {},
   "source": [
    "The effective area is the geometrical area of an instrument multiplied with the instrument efficiency. For example, take a tennis racket. The geometrical area is the area of the net, but not the whole are of the net is efficient. In the outer rim the ball would be launched uncorrectly. For a telescope like MAGIC:\n",
    "* the geometrical area is the area illuminated in the ground by the Cherenkov ligth\n",
    "* the efficiency is the ratio between all events and those that are actually recorded in the instrument\n",
    "The effective area is normally obtained with Monte Carlo simulations and not from the data."
   ]
  },
  {
   "cell_type": "code",
   "execution_count": 40,
   "metadata": {},
   "outputs": [
    {
     "data": {
      "text/html": [
       "<div><i>Table length=1</i>\n",
       "<table id=\"table140652806484176\" class=\"table-striped table-bordered table-condensed\">\n",
       "<thead><tr><th>ENERG_LO [40]</th><th>ENERG_HI [40]</th><th>THETA_LO</th><th>THETA_HI</th><th>EFFAREA [1,40]</th></tr></thead>\n",
       "<thead><tr><th>float32</th><th>float32</th><th>float32</th><th>float32</th><th>float32</th></tr></thead>\n",
       "<tr><td>0.0050000004 .. 39.716415</td><td>0.006294627 .. 50.000004</td><td>0.39</td><td>0.41</td><td>0.0 .. 0.0</td></tr>\n",
       "</table></div>"
      ],
      "text/plain": [
       "<Table length=1>\n",
       "      ENERG_LO [40]            ENERG_HI [40]       THETA_LO THETA_HI EFFAREA [1,40]\n",
       "         float32                  float32          float32  float32     float32    \n",
       "------------------------- ------------------------ -------- -------- --------------\n",
       "0.0050000004 .. 39.716415 0.006294627 .. 50.000004     0.39     0.41     0.0 .. 0.0"
      ]
     },
     "execution_count": 40,
     "metadata": {},
     "output_type": "execute_result"
    }
   ],
   "source": [
    "effarea = fits_file['EFFECTIVE AREA'] \n",
    "effarea.header\n",
    "Table(effarea.data)\n"
   ]
  },
  {
   "cell_type": "markdown",
   "metadata": {},
   "source": [
    "This look in a strange format, but the reason is because the effective area may depend on the distance from the center of the camera. Here only one effective area is simulated. Let's see how it looks like"
   ]
  },
  {
   "cell_type": "code",
   "execution_count": null,
   "metadata": {},
   "outputs": [],
   "source": [
    "effarea.data['ENERG_LO'][0]\n",
    "effarea.data['EFFAREA'][0][0]\n",
    "plt.loglog(effarea.data['ENERG_LO'][0],effarea.data['EFFAREA'][0][0])\n",
    "plt.xlabel('Energy [TeV]')\n",
    "plt.ylabel('Area [m^2]')\n"
   ]
  },
  {
   "cell_type": "markdown",
   "metadata": {},
   "source": [
    "One sees here that the instrument effective area is almost constant from 1 to 10 TeV. Above 10-20 TeV the effective area goes suddenly to zero, while below 0.1 TeV it decreases more slowly. Whis is that?"
   ]
  },
  {
   "cell_type": "markdown",
   "metadata": {},
   "source": []
  },
  {
   "cell_type": "code",
   "execution_count": null,
   "metadata": {},
   "outputs": [],
   "source": [
    "enres = fits_file['ENERGY DISPERSION'] \n",
    "enres.header\n",
    "Table(enres.data)\n",
    "enres.columns.names"
   ]
  },
  {
   "cell_type": "markdown",
   "metadata": {},
   "source": [
    "Again, this is a matrix of information, let' see:"
   ]
  },
  {
   "cell_type": "code",
   "execution_count": null,
   "metadata": {},
   "outputs": [],
   "source": [
    "#enres.data['ENERG_LO'][0]\n",
    "#enres.data['MIGRA_LOW'][0]\n",
    "#enres.data['MIGRA_HI'][0]"
   ]
  },
  {
   "cell_type": "markdown",
   "metadata": {},
   "source": [
    "Finally, let's discuss the GAMMANESS parameter (for some files only)."
   ]
  },
  {
   "cell_type": "code",
   "execution_count": null,
   "metadata": {},
   "outputs": [],
   "source": [
    "binning = np.linspace(0,1,50)\n",
    "plt.hist(g,bins=binning,alpha=0.8)\n",
    "plt.title('Gammaness distribution')\n",
    "plt.xlabel('Gammaness')\n",
    "plt.ylabel('Counts')"
   ]
  },
  {
   "cell_type": "markdown",
   "metadata": {},
   "source": [
    "These are all events from all directions in the sky. We will learn that MOST of them are background event, while only some of them are signal events. How do we extract the good ones from the full datasample?"
   ]
  },
  {
   "cell_type": "markdown",
   "metadata": {},
   "source": [
    "## Definition of the signal-search region\n",
    "Let's start by defining a region in which we expect the signal to be from a region where we expect to find only background. This a standard procedure called\n",
    "* signal region definition\n",
    "* background control region definition\n",
    "\n",
    "The signal come from a specific direction in the sky. If the instrument had an infinite angular resolution (also one should assume no shower fluctuations), in principle all events should come from A SINGLE POINT. However, they come from a region. This region is often defined as a circle around the true target position. Circles are better identified with astropy tools."
   ]
  },
  {
   "cell_type": "code",
   "execution_count": null,
   "metadata": {},
   "outputs": [],
   "source": [
    "source_angle = pointing_pos.position_angle(source_pos).to(u.degree)\n",
    "radius = offset/np.sqrt(2)\n",
    "radius /=2\n",
    "\n",
    "on  = SphericalCircle( (source_pos.ra, source_pos.dec),\n",
    "                    radius,   edgecolor='red', facecolor='none', label=\"ON REGION\")\n"
   ]
  },
  {
   "cell_type": "code",
   "execution_count": null,
   "metadata": {},
   "outputs": [],
   "source": [
    "wcs = WCS(events.header)"
   ]
  },
  {
   "cell_type": "code",
   "execution_count": null,
   "metadata": {},
   "outputs": [],
   "source": [
    "fig, ax =  plt.subplots(figsize=(5,5))\n",
    "ax = plt.subplot(projection=wcs)\n",
    "\n",
    "\n",
    "ax.scatter(pointing_pos.ra.value, pointing_pos.dec.value, marker='x', s=100, c='black', label ='Pointing'  ) \n",
    "ax.scatter(source_pos.ra.value, source_pos.dec.value, marker='*', s=100, c='red', label ='Source'  ) \n",
    "ax.plot(ra,dec,marker='s', markersize='0.2',linewidth='0',alpha=0.5, label=\"All Events\")\n",
    "\n",
    "#ax.add_patch(fov)\n",
    "ax.add_patch(on)\n",
    "\n",
    "ax.legend(loc= \"best\");"
   ]
  },
  {
   "cell_type": "code",
   "execution_count": null,
   "metadata": {},
   "outputs": [],
   "source": []
  },
  {
   "cell_type": "code",
   "execution_count": null,
   "metadata": {},
   "outputs": [],
   "source": [
    "ra = events.data['RA'] \n",
    "dec = events.data['DEC']\n",
    "\n",
    "cond_on = []\n",
    "for i_ra,i_dec in zip(ra,dec):\n",
    "    position_event = SkyCoord(  i_ra * u.deg, i_dec * u.deg, frame='icrs')\n",
    "\n",
    "    cond_on.append( source_pos.separation(position_event) < radius )"
   ]
  },
  {
   "cell_type": "code",
   "execution_count": null,
   "metadata": {},
   "outputs": [],
   "source": [
    "# Selection\n",
    "#evt = events.data[cond_on]\n",
    "evt = events.data[cond_on * (events.data['ENERGY'] > 0.1) * (events.data['ENERGY'] < 10)]\n",
    "print(f\"Events before cut: \" + str(len(events.data)))\n",
    "print(f\"Events after sel: \" + str(len(evt)))\n",
    "\n"
   ]
  },
  {
   "cell_type": "code",
   "execution_count": null,
   "metadata": {},
   "outputs": [],
   "source": [
    "gsel = evt['GAMMANESS']\n",
    "binning = np.linspace(0,1,50)\n",
    "plt.hist(g,bins=binning,alpha=0.8)\n",
    "plt.hist(gsel,bins=binning,alpha=0.9)"
   ]
  },
  {
   "cell_type": "code",
   "execution_count": null,
   "metadata": {},
   "outputs": [],
   "source": [
    "evt_sig = events.data[cond_on * (events.data['GAMMANESS'] > 0.7)]\n",
    "evt_bkg = events.data[cond_on * (events.data['GAMMANESS'] < 0.7)]\n",
    "print(f\"Events candidates for sig: \" + str(len(evt_sig)))\n",
    "print(f\"Events candidates for bkg: \" + str(len(evt_bkg)))"
   ]
  },
  {
   "cell_type": "code",
   "execution_count": null,
   "metadata": {},
   "outputs": [],
   "source": [
    "# Here I would put a theta2-plot"
   ]
  },
  {
   "cell_type": "code",
   "execution_count": null,
   "metadata": {},
   "outputs": [],
   "source": [
    "theta2_sig = source_pos.separation(source_pos)"
   ]
  },
  {
   "cell_type": "code",
   "execution_count": null,
   "metadata": {},
   "outputs": [],
   "source": [
    "ra = evt_sig['RA'] \n",
    "dec = evt_sig['DEC']\n",
    "\n",
    "th2_on = []\n",
    "for i_ra,i_dec in zip(ra,dec):\n",
    "    position_event = SkyCoord(  i_ra * u.deg, i_dec * u.deg, frame='icrs')\n",
    "    th2_on.append( source_pos.separation(position_event)*source_pos.separation(position_event))\n",
    "\n",
    "ra = evt_bkg['RA'] \n",
    "dec = evt_bkg['DEC']\n",
    "\n",
    "th2_off = []\n",
    "for i_ra,i_dec in zip(ra,dec):\n",
    "    position_event = SkyCoord(  i_ra * u.deg, i_dec * u.deg, frame='icrs')\n",
    "    th2_off.append( source_pos.separation(position_event)*source_pos.separation(position_event))\n",
    "    \n",
    "#th2_on"
   ]
  },
  {
   "cell_type": "code",
   "execution_count": null,
   "metadata": {},
   "outputs": [],
   "source": [
    "binning = np.linspace(0,0.02,30)\n",
    "plt.hist(th2_on,bins=binning,alpha=0.5,label='Candidate ON events')\n",
    "plt.hist(th2_off,bins=binning,alpha=0.5,label='Candidate OFF events')\n",
    "plt.title(r'Angular separation plot ($\\theta^2$ plot)')\n",
    "plt.legend(loc='best')"
   ]
  },
  {
   "cell_type": "code",
   "execution_count": null,
   "metadata": {},
   "outputs": [],
   "source": [
    "# Try with selected higher energy events?"
   ]
  },
  {
   "cell_type": "code",
   "execution_count": null,
   "metadata": {},
   "outputs": [],
   "source": [
    "binning = np.logspace(-2,1,20)\n",
    "plt.hist(en,bins=binning,alpha=0.6,log=True)\n",
    "plt.hist(evt_sig['ENERGY'],bins=binning,alpha=0.6,log=True)\n",
    "plt.xlabel('Energy [TeV]')\n",
    "plt.ylabel('Counts')\n",
    "plt.title('Energy distribution')\n",
    "plt.xscale('log')"
   ]
  },
  {
   "cell_type": "code",
   "execution_count": null,
   "metadata": {},
   "outputs": [],
   "source": [
    "# From counts --> nimber of excesss --> flux"
   ]
  },
  {
   "cell_type": "code",
   "execution_count": null,
   "metadata": {},
   "outputs": [],
   "source": []
  }
 ],
 "metadata": {
  "kernelspec": {
   "display_name": "Python 3 (ipykernel)",
   "language": "python",
   "name": "python3"
  },
  "language_info": {
   "codemirror_mode": {
    "name": "ipython",
    "version": 3
   },
   "file_extension": ".py",
   "mimetype": "text/x-python",
   "name": "python",
   "nbconvert_exporter": "python",
   "pygments_lexer": "ipython3",
   "version": "3.8.13"
  }
 },
 "nbformat": 4,
 "nbformat_minor": 4
}
