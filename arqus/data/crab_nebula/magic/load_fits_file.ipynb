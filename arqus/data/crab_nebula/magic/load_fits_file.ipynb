{
 "cells": [
  {
   "cell_type": "code",
   "execution_count": 4,
   "id": "062256a0-6d92-403e-873e-a5a4ef832380",
   "metadata": {},
   "outputs": [],
   "source": [
    "from astropy.io import fits\n",
    "from astropy.table import Table"
   ]
  },
  {
   "cell_type": "code",
   "execution_count": 5,
   "id": "eda7f46b-adb9-407f-b701-1ae7527c5283",
   "metadata": {},
   "outputs": [
    {
     "data": {
      "text/html": [
       "<div><i>Table length=6310</i>\n",
       "<table id=\"table4578515072\" class=\"table-striped table-bordered table-condensed\">\n",
       "<thead><tr><th>EVENT_ID</th><th>TIME</th><th>RA</th><th>DEC</th><th>ENERGY</th></tr></thead>\n",
       "<thead><tr><th></th><th>s</th><th>deg</th><th>deg</th><th>TeV</th></tr></thead>\n",
       "<thead><tr><th>int64</th><th>float64</th><th>float32</th><th>float32</th><th>float32</th></tr></thead>\n",
       "<tr><td>42</td><td>333778849.5267153</td><td>444.21463</td><td>23.44914</td><td>0.08397394</td></tr>\n",
       "<tr><td>67</td><td>333778849.61315054</td><td>443.5247</td><td>22.725792</td><td>0.10596932</td></tr>\n",
       "<tr><td>80</td><td>333778849.6690142</td><td>443.76956</td><td>22.451006</td><td>0.19733498</td></tr>\n",
       "<tr><td>116</td><td>333778849.7778549</td><td>443.71518</td><td>21.985115</td><td>1.0020943</td></tr>\n",
       "<tr><td>179</td><td>333778849.9826064</td><td>443.64136</td><td>22.041315</td><td>0.10316629</td></tr>\n",
       "<tr><td>198</td><td>333778850.0339344</td><td>444.84238</td><td>22.175398</td><td>0.118843034</td></tr>\n",
       "<tr><td>...</td><td>...</td><td>...</td><td>...</td><td>...</td></tr>\n",
       "<tr><td>570</td><td>333780036.17792755</td><td>443.99866</td><td>22.431725</td><td>0.14909887</td></tr>\n",
       "<tr><td>599</td><td>333780036.2743846</td><td>444.22705</td><td>22.348415</td><td>0.19341666</td></tr>\n",
       "<tr><td>622</td><td>333780036.33778954</td><td>444.08524</td><td>22.571606</td><td>0.07879259</td></tr>\n",
       "<tr><td>660</td><td>333780036.47105366</td><td>443.41534</td><td>21.67344</td><td>0.2096362</td></tr>\n",
       "<tr><td>675</td><td>333780036.5179095</td><td>443.55164</td><td>22.772985</td><td>0.17672835</td></tr>\n",
       "<tr><td>924</td><td>333780037.3755159</td><td>444.85886</td><td>22.116222</td><td>0.123453744</td></tr>\n",
       "<tr><td>963</td><td>333780037.52476007</td><td>444.8693</td><td>21.290916</td><td>0.13630114</td></tr>\n",
       "</table></div>"
      ],
      "text/plain": [
       "<Table length=6310>\n",
       "EVENT_ID        TIME            RA       DEC       ENERGY  \n",
       "                 s             deg       deg        TeV    \n",
       " int64        float64        float32   float32    float32  \n",
       "-------- ------------------ --------- --------- -----------\n",
       "      42  333778849.5267153 444.21463  23.44914  0.08397394\n",
       "      67 333778849.61315054  443.5247 22.725792  0.10596932\n",
       "      80  333778849.6690142 443.76956 22.451006  0.19733498\n",
       "     116  333778849.7778549 443.71518 21.985115   1.0020943\n",
       "     179  333778849.9826064 443.64136 22.041315  0.10316629\n",
       "     198  333778850.0339344 444.84238 22.175398 0.118843034\n",
       "     ...                ...       ...       ...         ...\n",
       "     570 333780036.17792755 443.99866 22.431725  0.14909887\n",
       "     599  333780036.2743846 444.22705 22.348415  0.19341666\n",
       "     622 333780036.33778954 444.08524 22.571606  0.07879259\n",
       "     660 333780036.47105366 443.41534  21.67344   0.2096362\n",
       "     675  333780036.5179095 443.55164 22.772985  0.17672835\n",
       "     924  333780037.3755159 444.85886 22.116222 0.123453744\n",
       "     963 333780037.52476007  444.8693 21.290916  0.13630114"
      ]
     },
     "execution_count": 5,
     "metadata": {},
     "output_type": "execute_result"
    }
   ],
   "source": [
    "name_file = \"run_05029747_DL3.fits\"\n",
    "Table.read(name_file  ,hdu=1)"
   ]
  },
  {
   "cell_type": "code",
   "execution_count": 34,
   "id": "3ed9dc90-095d-4dcc-a68c-1f76c43d6f21",
   "metadata": {},
   "outputs": [
    {
     "data": {
      "text/html": [
       "<div><i>Table length=8</i>\n",
       "<table id=\"table4588612288\" class=\"table-striped table-bordered table-condensed\">\n",
       "<thead><tr><th>OBS_ID</th><th>HDU_TYPE</th><th>HDU_CLASS</th><th>FILE_DIR</th><th>FILE_NAME</th><th>HDU_NAME</th></tr></thead>\n",
       "<thead><tr><th>int64</th><th>bytes6</th><th>bytes10</th><th>bytes40</th><th>bytes54</th><th>bytes20</th></tr></thead>\n",
       "<tr><td>5029747</td><td>events</td><td>events</td><td>./</td><td>run_05029747_DL3.fits</td><td>EVENTS</td></tr>\n",
       "<tr><td>5029747</td><td>gti</td><td>gti</td><td>./</td><td>run_05029747_DL3.fits</td><td>GTI</td></tr>\n",
       "<tr><td>5029747</td><td>aeff</td><td>aeff_2d</td><td>./</td><td>run_05029747_DL3.fits</td><td>EFFECTIVE AREA</td></tr>\n",
       "<tr><td>5029747</td><td>edisp</td><td>edisp_2d</td><td>./</td><td>run_05029747_DL3.fits</td><td>ENERGY DISPERSION</td></tr>\n",
       "<tr><td>5029748</td><td>events</td><td>events</td><td>./</td><td>run_05029748_DL3.fits</td><td>EVENTS</td></tr>\n",
       "<tr><td>5029748</td><td>gti</td><td>gti</td><td>./</td><td>run_05029748_DL3.fits</td><td>GTI</td></tr>\n",
       "<tr><td>5029748</td><td>aeff</td><td>aeff_2d</td><td>./</td><td>run_05029748_DL3.fits</td><td>EFFECTIVE AREA</td></tr>\n",
       "<tr><td>5029748</td><td>edisp</td><td>edisp_2d</td><td>./</td><td>run_05029748_DL3.fits</td><td>ENERGY DISPERSION</td></tr>\n",
       "</table></div>"
      ],
      "text/plain": [
       "<Table length=8>\n",
       " OBS_ID HDU_TYPE HDU_CLASS FILE_DIR       FILE_NAME            HDU_NAME    \n",
       " int64   bytes6   bytes10  bytes40         bytes54             bytes20     \n",
       "------- -------- --------- -------- --------------------- -----------------\n",
       "5029747   events    events       ./ run_05029747_DL3.fits            EVENTS\n",
       "5029747      gti       gti       ./ run_05029747_DL3.fits               GTI\n",
       "5029747     aeff   aeff_2d       ./ run_05029747_DL3.fits    EFFECTIVE AREA\n",
       "5029747    edisp  edisp_2d       ./ run_05029747_DL3.fits ENERGY DISPERSION\n",
       "5029748   events    events       ./ run_05029748_DL3.fits            EVENTS\n",
       "5029748      gti       gti       ./ run_05029748_DL3.fits               GTI\n",
       "5029748     aeff   aeff_2d       ./ run_05029748_DL3.fits    EFFECTIVE AREA\n",
       "5029748    edisp  edisp_2d       ./ run_05029748_DL3.fits ENERGY DISPERSION"
      ]
     },
     "execution_count": 34,
     "metadata": {},
     "output_type": "execute_result"
    }
   ],
   "source": [
    "name_file = \"hdu-index.fits.gz\"\n",
    "Table.read(name_file  ,hdu=1)"
   ]
  },
  {
   "cell_type": "code",
   "execution_count": 35,
   "id": "0bb60ead-b5b6-4847-8640-ae8418220e0d",
   "metadata": {},
   "outputs": [
    {
     "data": {
      "text/html": [
       "<div><i>Table length=2</i>\n",
       "<table id=\"table4582452240\" class=\"table-striped table-bordered table-condensed\">\n",
       "<thead><tr><th>OBS_ID</th><th>RA_PNT</th><th>DEC_PNT</th><th>ZEN_PNT</th><th>ALT_PNT</th><th>AZ_PNT</th><th>ONTIME</th><th>LIVETIME</th><th>DEADC</th><th>TSTART</th><th>TSTOP</th><th>N_TELS</th><th>TELLIST</th></tr></thead>\n",
       "<thead><tr><th></th><th>deg</th><th>deg</th><th>deg</th><th>deg</th><th>deg</th><th>s</th><th>s</th><th></th><th>s</th><th>s</th><th></th><th></th></tr></thead>\n",
       "<thead><tr><th>int64</th><th>float32</th><th>float32</th><th>float32</th><th>float32</th><th>float32</th><th>float32</th><th>float32</th><th>float32</th><th>float32</th><th>float32</th><th>int64</th><th>bytes20</th></tr></thead>\n",
       "<tr><td>5029747</td><td>83.98333</td><td>22.243889</td><td>20.324099</td><td>69.6759</td><td>103.776855</td><td>1188.1118</td><td>1180.6985</td><td>0.99376047</td><td>333778850.0</td><td>333780030.0</td><td>2</td><td>MAGIC-I,MAGIC-II</td></tr>\n",
       "<tr><td>5029748</td><td>83.27917</td><td>21.78389</td><td>15.681404</td><td>74.318596</td><td>112.84246</td><td>1183.803</td><td>1176.4469</td><td>0.9937861</td><td>333780060.0</td><td>333781250.0</td><td>2</td><td>MAGIC-I,MAGIC-II</td></tr>\n",
       "</table></div>"
      ],
      "text/plain": [
       "<Table length=2>\n",
       " OBS_ID  RA_PNT   DEC_PNT   ZEN_PNT  ...    TSTOP    N_TELS     TELLIST     \n",
       "          deg       deg       deg    ...      s                             \n",
       " int64  float32   float32   float32  ...   float32   int64      bytes20     \n",
       "------- -------- --------- --------- ... ----------- ------ ----------------\n",
       "5029747 83.98333 22.243889 20.324099 ... 333780030.0      2 MAGIC-I,MAGIC-II\n",
       "5029748 83.27917  21.78389 15.681404 ... 333781250.0      2 MAGIC-I,MAGIC-II"
      ]
     },
     "execution_count": 35,
     "metadata": {},
     "output_type": "execute_result"
    }
   ],
   "source": [
    "name_file = \"obs-index.fits.gz\"\n",
    "Table.read(name_file  ,hdu=1)"
   ]
  },
  {
   "cell_type": "code",
   "execution_count": null,
   "id": "38be079e-7363-437b-ba25-6776bb292900",
   "metadata": {},
   "outputs": [],
   "source": []
  }
 ],
 "metadata": {
  "kernelspec": {
   "display_name": "Python 3 (ipykernel)",
   "language": "python",
   "name": "python3"
  },
  "language_info": {
   "codemirror_mode": {
    "name": "ipython",
    "version": 3
   },
   "file_extension": ".py",
   "mimetype": "text/x-python",
   "name": "python",
   "nbconvert_exporter": "python",
   "pygments_lexer": "ipython3",
   "version": "3.9.9"
  }
 },
 "nbformat": 4,
 "nbformat_minor": 5
}
